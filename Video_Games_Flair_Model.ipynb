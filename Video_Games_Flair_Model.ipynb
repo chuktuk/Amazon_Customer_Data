{
  "nbformat": 4,
  "nbformat_minor": 0,
  "metadata": {
    "colab": {
      "name": "Video_Games_Flair_Model.ipynb",
      "provenance": [],
      "collapsed_sections": [],
      "toc_visible": true,
      "machine_shape": "hm",
      "authorship_tag": "ABX9TyMAnC4tle5WHRPIxdJjdglb",
      "include_colab_link": true
    },
    "kernelspec": {
      "name": "python3",
      "display_name": "Python 3"
    },
    "accelerator": "GPU"
  },
  "cells": [
    {
      "cell_type": "markdown",
      "metadata": {
        "id": "view-in-github",
        "colab_type": "text"
      },
      "source": [
        "<a href=\"https://colab.research.google.com/github/chuktuk/Amazon_Customer_Data/blob/master/Video_Games_Flair_Model.ipynb\" target=\"_parent\"><img src=\"https://colab.research.google.com/assets/colab-badge.svg\" alt=\"Open In Colab\"/></a>"
      ]
    },
    {
      "cell_type": "markdown",
      "metadata": {
        "id": "_VycAs4GY9L2",
        "colab_type": "text"
      },
      "source": [
        "This notebook is designed to run on Google Colab Pro."
      ]
    },
    {
      "cell_type": "code",
      "metadata": {
        "id": "3PZvmQuWJ_ae",
        "colab_type": "code",
        "colab": {}
      },
      "source": [
        "# check gpu info on Google Colab\n",
        "gpu_info = !nvidia-smi\n",
        "gpu_info = '\\n'.join(gpu_info)\n",
        "if gpu_info.find('failed') >= 0:\n",
        "  print('Select the Runtime → \"Change runtime type\" menu to enable a GPU accelerator, ')\n",
        "  print('and then re-execute this cell.')\n",
        "else:\n",
        "  print(gpu_info)"
      ],
      "execution_count": 0,
      "outputs": []
    },
    {
      "cell_type": "code",
      "metadata": {
        "id": "YBQV7K2KKKvV",
        "colab_type": "code",
        "colab": {}
      },
      "source": [
        "# check RAM info on Google Colab\n",
        "from psutil import virtual_memory\n",
        "ram_gb = virtual_memory().total / 1e9\n",
        "print('Your runtime has {:.1f} gigabytes of available RAM\\n'.format(ram_gb))\n",
        "\n",
        "if ram_gb < 20:\n",
        "  print('To enable a high-RAM runtime, select the Runtime → \"Change runtime type\"')\n",
        "  print('menu, and then select High-RAM in the Runtime shape dropdown. Then, ')\n",
        "  print('re-execute this cell.')\n",
        "else:\n",
        "  print('You are using a high-RAM runtime!')"
      ],
      "execution_count": 0,
      "outputs": []
    },
    {
      "cell_type": "code",
      "metadata": {
        "id": "w22VQMc-V9jM",
        "colab_type": "code",
        "colab": {}
      },
      "source": [
        "# import packages\n",
        "import pandas as pd\n",
        "from collections import defaultdict, deque\n",
        "from sklearn.metrics import roc_curve, roc_auc_score, confusion_matrix, classification_report\n",
        "from sklearn.metrics import precision_recall_curve\n",
        "from sklearn.model_selection import train_test_split"
      ],
      "execution_count": 0,
      "outputs": []
    },
    {
      "cell_type": "code",
      "metadata": {
        "id": "PFdBDjs1WdPY",
        "colab_type": "code",
        "outputId": "34064cb7-1f79-4177-e8cc-8d1829cc3033",
        "colab": {
          "base_uri": "https://localhost:8080/",
          "height": 1000
        }
      },
      "source": [
        "!pip install flair"
      ],
      "execution_count": 0,
      "outputs": [
        {
          "output_type": "stream",
          "text": [
            "Collecting flair\n",
            "\u001b[?25l  Downloading https://files.pythonhosted.org/packages/03/29/81e3c9a829ec50857c23d82560941625f6b42ce76ee7c56ea9529e959d18/flair-0.4.5-py3-none-any.whl (136kB)\n",
            "\r\u001b[K     |██▍                             | 10kB 20.7MB/s eta 0:00:01\r\u001b[K     |████▉                           | 20kB 1.8MB/s eta 0:00:01\r\u001b[K     |███████▏                        | 30kB 2.6MB/s eta 0:00:01\r\u001b[K     |█████████▋                      | 40kB 3.4MB/s eta 0:00:01\r\u001b[K     |████████████                    | 51kB 2.1MB/s eta 0:00:01\r\u001b[K     |██████████████▍                 | 61kB 2.5MB/s eta 0:00:01\r\u001b[K     |████████████████▉               | 71kB 2.9MB/s eta 0:00:01\r\u001b[K     |███████████████████▏            | 81kB 3.2MB/s eta 0:00:01\r\u001b[K     |█████████████████████▋          | 92kB 3.6MB/s eta 0:00:01\r\u001b[K     |████████████████████████        | 102kB 2.8MB/s eta 0:00:01\r\u001b[K     |██████████████████████████▍     | 112kB 2.8MB/s eta 0:00:01\r\u001b[K     |████████████████████████████▊   | 122kB 2.8MB/s eta 0:00:01\r\u001b[K     |███████████████████████████████▏| 133kB 2.8MB/s eta 0:00:01\r\u001b[K     |████████████████████████████████| 143kB 2.8MB/s \n",
            "\u001b[?25hCollecting sqlitedict>=1.6.0\n",
            "  Downloading https://files.pythonhosted.org/packages/0f/1c/c757b93147a219cf1e25cef7e1ad9b595b7f802159493c45ce116521caff/sqlitedict-1.6.0.tar.gz\n",
            "Collecting transformers>=2.3.0\n",
            "\u001b[?25l  Downloading https://files.pythonhosted.org/packages/13/33/ffb67897a6985a7b7d8e5e7878c3628678f553634bd3836404fef06ef19b/transformers-2.5.1-py3-none-any.whl (499kB)\n",
            "\u001b[K     |████████████████████████████████| 501kB 30.0MB/s \n",
            "\u001b[?25hCollecting mpld3==0.3\n",
            "\u001b[?25l  Downloading https://files.pythonhosted.org/packages/91/95/a52d3a83d0a29ba0d6898f6727e9858fe7a43f6c2ce81a5fe7e05f0f4912/mpld3-0.3.tar.gz (788kB)\n",
            "\u001b[K     |████████████████████████████████| 798kB 40.3MB/s \n",
            "\u001b[?25hCollecting deprecated>=1.2.4\n",
            "  Downloading https://files.pythonhosted.org/packages/f6/89/62912e01f3cede11edcc0abf81298e3439d9c06c8dce644369380ed13f6d/Deprecated-1.2.7-py2.py3-none-any.whl\n",
            "Requirement already satisfied: python-dateutil>=2.6.1 in /usr/local/lib/python3.6/dist-packages (from flair) (2.6.1)\n",
            "Requirement already satisfied: regex in /usr/local/lib/python3.6/dist-packages (from flair) (2019.12.20)\n",
            "Requirement already satisfied: scikit-learn>=0.21.3 in /usr/local/lib/python3.6/dist-packages (from flair) (0.22.1)\n",
            "Requirement already satisfied: tabulate in /usr/local/lib/python3.6/dist-packages (from flair) (0.8.6)\n",
            "Requirement already satisfied: hyperopt>=0.1.1 in /usr/local/lib/python3.6/dist-packages (from flair) (0.1.2)\n",
            "Collecting bpemb>=0.2.9\n",
            "  Downloading https://files.pythonhosted.org/packages/bc/70/468a9652095b370f797ed37ff77e742b11565c6fd79eaeca5f2e50b164a7/bpemb-0.3.0-py3-none-any.whl\n",
            "Collecting pytest>=5.3.2\n",
            "\u001b[?25l  Downloading https://files.pythonhosted.org/packages/a5/c0/34033b2df7718b91c667bd259d5ce632ec3720198b7068c0ba6f6104ff89/pytest-5.3.5-py3-none-any.whl (235kB)\n",
            "\u001b[K     |████████████████████████████████| 235kB 40.0MB/s \n",
            "\u001b[?25hRequirement already satisfied: torch>=1.1.0 in /usr/local/lib/python3.6/dist-packages (from flair) (1.4.0)\n",
            "Collecting langdetect\n",
            "\u001b[?25l  Downloading https://files.pythonhosted.org/packages/59/59/4bc44158a767a6d66de18c4136c8aa90491d56cc951c10b74dd1e13213c9/langdetect-1.0.7.zip (998kB)\n",
            "\u001b[K     |████████████████████████████████| 1.0MB 34.3MB/s \n",
            "\u001b[?25hRequirement already satisfied: matplotlib>=2.2.3 in /usr/local/lib/python3.6/dist-packages (from flair) (3.1.3)\n",
            "Requirement already satisfied: tqdm>=4.26.0 in /usr/local/lib/python3.6/dist-packages (from flair) (4.28.1)\n",
            "Collecting segtok>=1.5.7\n",
            "  Downloading https://files.pythonhosted.org/packages/1d/59/6ed78856ab99d2da04084b59e7da797972baa0efecb71546b16d48e49d9b/segtok-1.5.7.tar.gz\n",
            "Requirement already satisfied: urllib3<1.25,>=1.20 in /usr/local/lib/python3.6/dist-packages (from flair) (1.24.3)\n",
            "Requirement already satisfied: gensim>=3.4.0 in /usr/local/lib/python3.6/dist-packages (from flair) (3.6.0)\n",
            "Requirement already satisfied: filelock in /usr/local/lib/python3.6/dist-packages (from transformers>=2.3.0->flair) (3.0.12)\n",
            "Requirement already satisfied: requests in /usr/local/lib/python3.6/dist-packages (from transformers>=2.3.0->flair) (2.21.0)\n",
            "Collecting sentencepiece\n",
            "\u001b[?25l  Downloading https://files.pythonhosted.org/packages/74/f4/2d5214cbf13d06e7cb2c20d84115ca25b53ea76fa1f0ade0e3c9749de214/sentencepiece-0.1.85-cp36-cp36m-manylinux1_x86_64.whl (1.0MB)\n",
            "\u001b[K     |████████████████████████████████| 1.0MB 37.0MB/s \n",
            "\u001b[?25hCollecting sacremoses\n",
            "\u001b[?25l  Downloading https://files.pythonhosted.org/packages/a6/b4/7a41d630547a4afd58143597d5a49e07bfd4c42914d8335b2a5657efc14b/sacremoses-0.0.38.tar.gz (860kB)\n",
            "\u001b[K     |████████████████████████████████| 870kB 38.7MB/s \n",
            "\u001b[?25hRequirement already satisfied: boto3 in /usr/local/lib/python3.6/dist-packages (from transformers>=2.3.0->flair) (1.11.15)\n",
            "Requirement already satisfied: numpy in /usr/local/lib/python3.6/dist-packages (from transformers>=2.3.0->flair) (1.17.5)\n",
            "Collecting tokenizers==0.5.2\n",
            "\u001b[?25l  Downloading https://files.pythonhosted.org/packages/d1/3f/73c881ea4723e43c1e9acf317cf407fab3a278daab3a69c98dcac511c04f/tokenizers-0.5.2-cp36-cp36m-manylinux1_x86_64.whl (3.7MB)\n",
            "\u001b[K     |████████████████████████████████| 3.7MB 35.6MB/s \n",
            "\u001b[?25hRequirement already satisfied: wrapt<2,>=1.10 in /usr/local/lib/python3.6/dist-packages (from deprecated>=1.2.4->flair) (1.11.2)\n",
            "Requirement already satisfied: six>=1.5 in /usr/local/lib/python3.6/dist-packages (from python-dateutil>=2.6.1->flair) (1.12.0)\n",
            "Requirement already satisfied: joblib>=0.11 in /usr/local/lib/python3.6/dist-packages (from scikit-learn>=0.21.3->flair) (0.14.1)\n",
            "Requirement already satisfied: scipy>=0.17.0 in /usr/local/lib/python3.6/dist-packages (from scikit-learn>=0.21.3->flair) (1.4.1)\n",
            "Requirement already satisfied: networkx in /usr/local/lib/python3.6/dist-packages (from hyperopt>=0.1.1->flair) (2.4)\n",
            "Requirement already satisfied: pymongo in /usr/local/lib/python3.6/dist-packages (from hyperopt>=0.1.1->flair) (3.10.1)\n",
            "Requirement already satisfied: future in /usr/local/lib/python3.6/dist-packages (from hyperopt>=0.1.1->flair) (0.16.0)\n",
            "Requirement already satisfied: attrs>=17.4.0 in /usr/local/lib/python3.6/dist-packages (from pytest>=5.3.2->flair) (19.3.0)\n",
            "Collecting pluggy<1.0,>=0.12\n",
            "  Downloading https://files.pythonhosted.org/packages/a0/28/85c7aa31b80d150b772fbe4a229487bc6644da9ccb7e427dd8cc60cb8a62/pluggy-0.13.1-py2.py3-none-any.whl\n",
            "Requirement already satisfied: importlib-metadata>=0.12; python_version < \"3.8\" in /usr/local/lib/python3.6/dist-packages (from pytest>=5.3.2->flair) (1.5.0)\n",
            "Requirement already satisfied: more-itertools>=4.0.0 in /usr/local/lib/python3.6/dist-packages (from pytest>=5.3.2->flair) (8.2.0)\n",
            "Requirement already satisfied: wcwidth in /usr/local/lib/python3.6/dist-packages (from pytest>=5.3.2->flair) (0.1.8)\n",
            "Requirement already satisfied: packaging in /usr/local/lib/python3.6/dist-packages (from pytest>=5.3.2->flair) (20.1)\n",
            "Requirement already satisfied: py>=1.5.0 in /usr/local/lib/python3.6/dist-packages (from pytest>=5.3.2->flair) (1.8.1)\n",
            "Requirement already satisfied: cycler>=0.10 in /usr/local/lib/python3.6/dist-packages (from matplotlib>=2.2.3->flair) (0.10.0)\n",
            "Requirement already satisfied: pyparsing!=2.0.4,!=2.1.2,!=2.1.6,>=2.0.1 in /usr/local/lib/python3.6/dist-packages (from matplotlib>=2.2.3->flair) (2.4.6)\n",
            "Requirement already satisfied: kiwisolver>=1.0.1 in /usr/local/lib/python3.6/dist-packages (from matplotlib>=2.2.3->flair) (1.1.0)\n",
            "Requirement already satisfied: smart-open>=1.2.1 in /usr/local/lib/python3.6/dist-packages (from gensim>=3.4.0->flair) (1.9.0)\n",
            "Requirement already satisfied: chardet<3.1.0,>=3.0.2 in /usr/local/lib/python3.6/dist-packages (from requests->transformers>=2.3.0->flair) (3.0.4)\n",
            "Requirement already satisfied: idna<2.9,>=2.5 in /usr/local/lib/python3.6/dist-packages (from requests->transformers>=2.3.0->flair) (2.8)\n",
            "Requirement already satisfied: certifi>=2017.4.17 in /usr/local/lib/python3.6/dist-packages (from requests->transformers>=2.3.0->flair) (2019.11.28)\n",
            "Requirement already satisfied: click in /usr/local/lib/python3.6/dist-packages (from sacremoses->transformers>=2.3.0->flair) (7.0)\n",
            "Requirement already satisfied: s3transfer<0.4.0,>=0.3.0 in /usr/local/lib/python3.6/dist-packages (from boto3->transformers>=2.3.0->flair) (0.3.3)\n",
            "Requirement already satisfied: jmespath<1.0.0,>=0.7.1 in /usr/local/lib/python3.6/dist-packages (from boto3->transformers>=2.3.0->flair) (0.9.4)\n",
            "Requirement already satisfied: botocore<1.15.0,>=1.14.15 in /usr/local/lib/python3.6/dist-packages (from boto3->transformers>=2.3.0->flair) (1.14.15)\n",
            "Requirement already satisfied: decorator>=4.3.0 in /usr/local/lib/python3.6/dist-packages (from networkx->hyperopt>=0.1.1->flair) (4.4.1)\n",
            "Requirement already satisfied: zipp>=0.5 in /usr/local/lib/python3.6/dist-packages (from importlib-metadata>=0.12; python_version < \"3.8\"->pytest>=5.3.2->flair) (3.0.0)\n",
            "Requirement already satisfied: setuptools in /usr/local/lib/python3.6/dist-packages (from kiwisolver>=1.0.1->matplotlib>=2.2.3->flair) (45.1.0)\n",
            "Requirement already satisfied: boto>=2.32 in /usr/local/lib/python3.6/dist-packages (from smart-open>=1.2.1->gensim>=3.4.0->flair) (2.49.0)\n",
            "Requirement already satisfied: docutils<0.16,>=0.10 in /usr/local/lib/python3.6/dist-packages (from botocore<1.15.0,>=1.14.15->boto3->transformers>=2.3.0->flair) (0.15.2)\n",
            "Building wheels for collected packages: sqlitedict, mpld3, langdetect, segtok, sacremoses\n",
            "  Building wheel for sqlitedict (setup.py) ... \u001b[?25l\u001b[?25hdone\n",
            "  Created wheel for sqlitedict: filename=sqlitedict-1.6.0-cp36-none-any.whl size=14689 sha256=966536a017d90699a6fd0868ed14ec10abd8d95702115dc9b3036d9d68156e35\n",
            "  Stored in directory: /root/.cache/pip/wheels/bd/57/d3/907c3ee02d35e66f674ad0106e61f06eeeb98f6ee66a6cc3fe\n",
            "  Building wheel for mpld3 (setup.py) ... \u001b[?25l\u001b[?25hdone\n",
            "  Created wheel for mpld3: filename=mpld3-0.3-cp36-none-any.whl size=116679 sha256=bdba39417c84158fabf453eb7d2f29d3d654e323c41e264f3f28cd4b05a228fe\n",
            "  Stored in directory: /root/.cache/pip/wheels/c0/47/fb/8a64f89aecfe0059830479308ad42d62e898a3e3cefdf6ba28\n",
            "  Building wheel for langdetect (setup.py) ... \u001b[?25l\u001b[?25hdone\n",
            "  Created wheel for langdetect: filename=langdetect-1.0.7-cp36-none-any.whl size=993459 sha256=aff7abba4957260fca3a61eb5008a5df0c9f0d71d1b280f90e28a6b912b834c6\n",
            "  Stored in directory: /root/.cache/pip/wheels/ec/0c/a9/1647275e7ef5014e7b83ff30105180e332867d65e7617ddafe\n",
            "  Building wheel for segtok (setup.py) ... \u001b[?25l\u001b[?25hdone\n",
            "  Created wheel for segtok: filename=segtok-1.5.7-cp36-none-any.whl size=23258 sha256=8624a2eb165e624e2e7d8412dc49f8b84e0f1fcb4fc089f38cc3e217abff02b3\n",
            "  Stored in directory: /root/.cache/pip/wheels/15/ee/a8/6112173f1386d33eebedb3f73429cfa41a4c3084556bcee254\n",
            "  Building wheel for sacremoses (setup.py) ... \u001b[?25l\u001b[?25hdone\n",
            "  Created wheel for sacremoses: filename=sacremoses-0.0.38-cp36-none-any.whl size=884628 sha256=82e7edd05bb674a7ee5747312b740a89458352ba0464749bce68f0032695a1b7\n",
            "  Stored in directory: /root/.cache/pip/wheels/6d/ec/1a/21b8912e35e02741306f35f66c785f3afe94de754a0eaf1422\n",
            "Successfully built sqlitedict mpld3 langdetect segtok sacremoses\n",
            "\u001b[31mERROR: datascience 0.10.6 has requirement folium==0.2.1, but you'll have folium 0.8.3 which is incompatible.\u001b[0m\n",
            "Installing collected packages: sqlitedict, sentencepiece, sacremoses, tokenizers, transformers, mpld3, deprecated, bpemb, pluggy, pytest, langdetect, segtok, flair\n",
            "  Found existing installation: pluggy 0.7.1\n",
            "    Uninstalling pluggy-0.7.1:\n",
            "      Successfully uninstalled pluggy-0.7.1\n",
            "  Found existing installation: pytest 3.6.4\n",
            "    Uninstalling pytest-3.6.4:\n",
            "      Successfully uninstalled pytest-3.6.4\n",
            "Successfully installed bpemb-0.3.0 deprecated-1.2.7 flair-0.4.5 langdetect-1.0.7 mpld3-0.3 pluggy-0.13.1 pytest-5.3.5 sacremoses-0.0.38 segtok-1.5.7 sentencepiece-0.1.85 sqlitedict-1.6.0 tokenizers-0.5.2 transformers-2.5.1\n"
          ],
          "name": "stdout"
        }
      ]
    },
    {
      "cell_type": "code",
      "metadata": {
        "id": "e21SkqIDWQCY",
        "colab_type": "code",
        "outputId": "561922de-8509-48f6-a8e9-e9a4ecb996e6",
        "colab": {
          "base_uri": "https://localhost:8080/",
          "height": 81
        }
      },
      "source": [
        "# import flair\n",
        "from flair.models import TextClassifier\n",
        "#classifier = TextClassifier.load('en-sentiment')\n",
        "from flair.data import Sentence"
      ],
      "execution_count": 0,
      "outputs": [
        {
          "output_type": "display_data",
          "data": {
            "text/html": [
              "<p style=\"color: red;\">\n",
              "The default version of TensorFlow in Colab will soon switch to TensorFlow 2.x.<br>\n",
              "We recommend you <a href=\"https://www.tensorflow.org/guide/migrate\" target=\"_blank\">upgrade</a> now \n",
              "or ensure your notebook will continue to use TensorFlow 1.x via the <code>%tensorflow_version 1.x</code> magic:\n",
              "<a href=\"https://colab.research.google.com/notebooks/tensorflow_version.ipynb\" target=\"_blank\">more info</a>.</p>\n"
            ],
            "text/plain": [
              "<IPython.core.display.HTML object>"
            ]
          },
          "metadata": {
            "tags": []
          }
        }
      ]
    },
    {
      "cell_type": "code",
      "metadata": {
        "id": "7Q0FBh6LWZoz",
        "colab_type": "code",
        "outputId": "b7249035-aeae-4e6e-ede1-84ea4169399f",
        "colab": {
          "base_uri": "https://localhost:8080/",
          "height": 208
        }
      },
      "source": [
        "!wget http://deepyeti.ucsd.edu/jianmo/amazon/categoryFilesSmall/Video_Games_5.json.gz"
      ],
      "execution_count": 0,
      "outputs": [
        {
          "output_type": "stream",
          "text": [
            "--2020-02-27 01:24:11--  http://deepyeti.ucsd.edu/jianmo/amazon/categoryFilesSmall/Video_Games_5.json.gz\n",
            "Resolving deepyeti.ucsd.edu (deepyeti.ucsd.edu)... 169.228.63.50\n",
            "Connecting to deepyeti.ucsd.edu (deepyeti.ucsd.edu)|169.228.63.50|:80... connected.\n",
            "HTTP request sent, awaiting response... 200 OK\n",
            "Length: 154050105 (147M) [application/octet-stream]\n",
            "Saving to: ‘Video_Games_5.json.gz’\n",
            "\n",
            "Video_Games_5.json. 100%[===================>] 146.91M  10.7MB/s    in 14s     \n",
            "\n",
            "2020-02-27 01:24:25 (10.5 MB/s) - ‘Video_Games_5.json.gz’ saved [154050105/154050105]\n",
            "\n"
          ],
          "name": "stdout"
        }
      ]
    },
    {
      "cell_type": "code",
      "metadata": {
        "id": "B1_mzBaIXN-9",
        "colab_type": "code",
        "colab": {}
      },
      "source": [
        "# read in the data\n",
        "vg = pd.read_json('Video_Games_5.json.gz', lines=True, compression='gzip')"
      ],
      "execution_count": 0,
      "outputs": []
    },
    {
      "cell_type": "code",
      "metadata": {
        "id": "x6mMEU8ZXbG5",
        "colab_type": "code",
        "outputId": "d8d7ed54-6cac-47ba-eaec-0451409f0b0a",
        "colab": {
          "base_uri": "https://localhost:8080/",
          "height": 499
        }
      },
      "source": [
        "vg.head()"
      ],
      "execution_count": 0,
      "outputs": [
        {
          "output_type": "execute_result",
          "data": {
            "text/html": [
              "<div>\n",
              "<style scoped>\n",
              "    .dataframe tbody tr th:only-of-type {\n",
              "        vertical-align: middle;\n",
              "    }\n",
              "\n",
              "    .dataframe tbody tr th {\n",
              "        vertical-align: top;\n",
              "    }\n",
              "\n",
              "    .dataframe thead th {\n",
              "        text-align: right;\n",
              "    }\n",
              "</style>\n",
              "<table border=\"1\" class=\"dataframe\">\n",
              "  <thead>\n",
              "    <tr style=\"text-align: right;\">\n",
              "      <th></th>\n",
              "      <th>overall</th>\n",
              "      <th>verified</th>\n",
              "      <th>reviewTime</th>\n",
              "      <th>reviewerID</th>\n",
              "      <th>asin</th>\n",
              "      <th>reviewerName</th>\n",
              "      <th>reviewText</th>\n",
              "      <th>summary</th>\n",
              "      <th>unixReviewTime</th>\n",
              "      <th>vote</th>\n",
              "      <th>style</th>\n",
              "      <th>image</th>\n",
              "    </tr>\n",
              "  </thead>\n",
              "  <tbody>\n",
              "    <tr>\n",
              "      <th>0</th>\n",
              "      <td>5</td>\n",
              "      <td>True</td>\n",
              "      <td>10 17, 2015</td>\n",
              "      <td>A1HP7NVNPFMA4N</td>\n",
              "      <td>0700026657</td>\n",
              "      <td>Ambrosia075</td>\n",
              "      <td>This game is a bit hard to get the hang of, bu...</td>\n",
              "      <td>but when you do it's great.</td>\n",
              "      <td>1445040000</td>\n",
              "      <td>NaN</td>\n",
              "      <td>NaN</td>\n",
              "      <td>NaN</td>\n",
              "    </tr>\n",
              "    <tr>\n",
              "      <th>1</th>\n",
              "      <td>4</td>\n",
              "      <td>False</td>\n",
              "      <td>07 27, 2015</td>\n",
              "      <td>A1JGAP0185YJI6</td>\n",
              "      <td>0700026657</td>\n",
              "      <td>travis</td>\n",
              "      <td>I played it a while but it was alright. The st...</td>\n",
              "      <td>But in spite of that it was fun, I liked it</td>\n",
              "      <td>1437955200</td>\n",
              "      <td>NaN</td>\n",
              "      <td>NaN</td>\n",
              "      <td>NaN</td>\n",
              "    </tr>\n",
              "    <tr>\n",
              "      <th>2</th>\n",
              "      <td>3</td>\n",
              "      <td>True</td>\n",
              "      <td>02 23, 2015</td>\n",
              "      <td>A1YJWEXHQBWK2B</td>\n",
              "      <td>0700026657</td>\n",
              "      <td>Vincent G. Mezera</td>\n",
              "      <td>ok game.</td>\n",
              "      <td>Three Stars</td>\n",
              "      <td>1424649600</td>\n",
              "      <td>NaN</td>\n",
              "      <td>NaN</td>\n",
              "      <td>NaN</td>\n",
              "    </tr>\n",
              "    <tr>\n",
              "      <th>3</th>\n",
              "      <td>2</td>\n",
              "      <td>True</td>\n",
              "      <td>02 20, 2015</td>\n",
              "      <td>A2204E1TH211HT</td>\n",
              "      <td>0700026657</td>\n",
              "      <td>Grandma KR</td>\n",
              "      <td>found the game a bit too complicated, not what...</td>\n",
              "      <td>Two Stars</td>\n",
              "      <td>1424390400</td>\n",
              "      <td>NaN</td>\n",
              "      <td>NaN</td>\n",
              "      <td>NaN</td>\n",
              "    </tr>\n",
              "    <tr>\n",
              "      <th>4</th>\n",
              "      <td>5</td>\n",
              "      <td>True</td>\n",
              "      <td>12 25, 2014</td>\n",
              "      <td>A2RF5B5H74JLPE</td>\n",
              "      <td>0700026657</td>\n",
              "      <td>jon</td>\n",
              "      <td>great game, I love it and have played it since...</td>\n",
              "      <td>love this game</td>\n",
              "      <td>1419465600</td>\n",
              "      <td>NaN</td>\n",
              "      <td>NaN</td>\n",
              "      <td>NaN</td>\n",
              "    </tr>\n",
              "  </tbody>\n",
              "</table>\n",
              "</div>"
            ],
            "text/plain": [
              "   overall  verified   reviewTime  ... vote style image\n",
              "0        5      True  10 17, 2015  ...  NaN   NaN   NaN\n",
              "1        4     False  07 27, 2015  ...  NaN   NaN   NaN\n",
              "2        3      True  02 23, 2015  ...  NaN   NaN   NaN\n",
              "3        2      True  02 20, 2015  ...  NaN   NaN   NaN\n",
              "4        5      True  12 25, 2014  ...  NaN   NaN   NaN\n",
              "\n",
              "[5 rows x 12 columns]"
            ]
          },
          "metadata": {
            "tags": []
          },
          "execution_count": 6
        }
      ]
    },
    {
      "cell_type": "code",
      "metadata": {
        "id": "O1xpWVz6XhM5",
        "colab_type": "code",
        "colab": {}
      },
      "source": [
        "# slice the appropriate columns\n",
        "vg = vg.loc[:,['overall', 'reviewText']]"
      ],
      "execution_count": 0,
      "outputs": []
    },
    {
      "cell_type": "code",
      "metadata": {
        "id": "NNWBfu3FXn5_",
        "colab_type": "code",
        "colab": {}
      },
      "source": [
        "# clean up nan values and change datatype\n",
        "vg = vg.dropna(how='any')\n",
        "vg.loc[:,'overall'] = vg.overall.astype('int16')"
      ],
      "execution_count": 0,
      "outputs": []
    },
    {
      "cell_type": "code",
      "metadata": {
        "id": "JZB1HRYWXrnv",
        "colab_type": "code",
        "colab": {}
      },
      "source": [
        "# map sentiment for two-class pretrained model\n",
        "vg.loc[:,'pt_sentiment'] = vg.overall.map({1: 0, 2: 0, 3: 1, 4: 1, 5: 1}).astype('int16')"
      ],
      "execution_count": 0,
      "outputs": []
    },
    {
      "cell_type": "code",
      "metadata": {
        "id": "Te4cU36oX4Gz",
        "colab_type": "code",
        "outputId": "b2b75b9a-3c81-41cb-fd22-191619a03d2e",
        "colab": {
          "base_uri": "https://localhost:8080/",
          "height": 156
        }
      },
      "source": [
        "# inspect the df info\n",
        "vg.info()"
      ],
      "execution_count": 0,
      "outputs": [
        {
          "output_type": "stream",
          "text": [
            "<class 'pandas.core.frame.DataFrame'>\n",
            "Int64Index: 497419 entries, 0 to 497576\n",
            "Data columns (total 3 columns):\n",
            "overall         497419 non-null int16\n",
            "reviewText      497419 non-null object\n",
            "pt_sentiment    497419 non-null int16\n",
            "dtypes: int16(2), object(1)\n",
            "memory usage: 9.5+ MB\n"
          ],
          "name": "stdout"
        }
      ]
    },
    {
      "cell_type": "code",
      "metadata": {
        "id": "lFqtjP64X87p",
        "colab_type": "code",
        "outputId": "9e3a3991-0383-46aa-995f-78292ba96321",
        "colab": {
          "base_uri": "https://localhost:8080/",
          "height": 52
        }
      },
      "source": [
        "# get sentiment counts\n",
        "class1_counts = vg.pt_sentiment.value_counts()[1]\n",
        "class0_counts = vg.pt_sentiment.value_counts()[0]\n",
        "print('Positive counts {}'.format(class1_counts))\n",
        "print('Negative counts {}'.format(class0_counts))"
      ],
      "execution_count": 0,
      "outputs": [
        {
          "output_type": "stream",
          "text": [
            "Positive counts 442407\n",
            "Negative counts 55012\n"
          ],
          "name": "stdout"
        }
      ]
    },
    {
      "cell_type": "code",
      "metadata": {
        "id": "1gkLoV3pOTqR",
        "colab_type": "code",
        "colab": {}
      },
      "source": [
        "# import resample\n",
        "from sklearn.utils import resample\n",
        "\n",
        "# down-sample to balance classes\n",
        "vg_class1 = vg[vg.pt_sentiment == 1]\n",
        "vg_class0 = vg[vg.pt_sentiment == 0]\n",
        "\n",
        "# downsample majority class\n",
        "vg_class1_down = resample(vg_class1, replace=False, n_samples=vg_class0.shape[0], random_state=42)"
      ],
      "execution_count": 0,
      "outputs": []
    },
    {
      "cell_type": "code",
      "metadata": {
        "id": "dygdNkWLRKoj",
        "colab_type": "code",
        "outputId": "2cc77753-bb96-4c29-f122-0f714d88809a",
        "colab": {
          "base_uri": "https://localhost:8080/",
          "height": 69
        }
      },
      "source": [
        "# concat the dfs back together\n",
        "vg_down = pd.concat([vg_class1_down, vg_class0])\n",
        "vg_down.pt_sentiment.value_counts()"
      ],
      "execution_count": 0,
      "outputs": [
        {
          "output_type": "execute_result",
          "data": {
            "text/plain": [
              "1    55012\n",
              "0    55012\n",
              "Name: pt_sentiment, dtype: int64"
            ]
          },
          "metadata": {
            "tags": []
          },
          "execution_count": 13
        }
      ]
    },
    {
      "cell_type": "code",
      "metadata": {
        "id": "8G4a8iLUUvXM",
        "colab_type": "code",
        "colab": {}
      },
      "source": [
        "# define remove chars function\n",
        "import re\n",
        "\n",
        "def rmv_spec_chars(sentence):\n",
        "    sentence = re.sub(\"[\\\\\\[\\]@_!#$%^&*()<>?/\\|}{~:']\", '', sentence)\n",
        "    sentence = re.sub('-', ' ', sentence)\n",
        "    return sentence"
      ],
      "execution_count": 0,
      "outputs": []
    },
    {
      "cell_type": "code",
      "metadata": {
        "id": "7oHi_MVyYEUG",
        "colab_type": "code",
        "colab": {}
      },
      "source": [
        "# split the data into train/test\n",
        "train_text, test_text, train_labels, test_labels = train_test_split(vg_down.reviewText, \n",
        "                                                                    vg_down.pt_sentiment, \n",
        "                                                                    test_size=0.20,\n",
        "                                                                    random_state=42, \n",
        "                                                                    stratify=vg_down.pt_sentiment)"
      ],
      "execution_count": 0,
      "outputs": []
    },
    {
      "cell_type": "code",
      "metadata": {
        "id": "RuYATGB-nUrL",
        "colab_type": "code",
        "colab": {}
      },
      "source": [
        "# split the test data into test/valid\n",
        "valid_text, test_text, valid_labels, test_labels = train_test_split(test_text, test_labels, \n",
        "                                                                      test_size=0.50,\n",
        "                                                                      random_state=42, \n",
        "                                                                      stratify=test_labels)"
      ],
      "execution_count": 0,
      "outputs": []
    },
    {
      "cell_type": "code",
      "metadata": {
        "id": "_9-2hRhI_ACw",
        "colab_type": "code",
        "colab": {}
      },
      "source": [
        ""
      ],
      "execution_count": 0,
      "outputs": []
    },
    {
      "cell_type": "code",
      "metadata": {
        "id": "_4VLXMie_AN_",
        "colab_type": "code",
        "colab": {}
      },
      "source": [
        ""
      ],
      "execution_count": 0,
      "outputs": []
    },
    {
      "cell_type": "code",
      "metadata": {
        "id": "A8qSvcsj_AU1",
        "colab_type": "code",
        "colab": {}
      },
      "source": [
        "# testing pretrained model"
      ],
      "execution_count": 0,
      "outputs": []
    },
    {
      "cell_type": "code",
      "metadata": {
        "id": "phMTtwLWYJzi",
        "colab_type": "code",
        "outputId": "37408e2c-c1c8-4b58-9608-49cc913d48c5",
        "colab": {
          "base_uri": "https://localhost:8080/",
          "height": 52
        }
      },
      "source": [
        "# split the data into smaller chunks\n",
        "# a list of your sentences\n",
        "# sentences = [Sentence(text) for text in test_text]\n",
        "sentences1 = deque()\n",
        "sentences2 = deque()\n",
        "sentences3 = deque()\n",
        "sentences4 = deque()\n",
        "sentences5 = deque()\n",
        "test_text1 = test_text[:25000] # trying smaller size to save memory\n",
        "test_text2 = test_text[25000:50000]\n",
        "test_text3 = test_text[50000:75000]\n",
        "test_text4 = test_text[75000:100000]\n",
        "test_text5 = test_text[100000:]\n",
        "print(len(test_text1) + len(test_text2) + len(test_text3) + len(test_text4) + len(test_text5))\n",
        "print(len(test_text))"
      ],
      "execution_count": 0,
      "outputs": [
        {
          "output_type": "stream",
          "text": [
            "124355\n",
            "124355\n"
          ],
          "name": "stdout"
        }
      ]
    },
    {
      "cell_type": "code",
      "metadata": {
        "id": "jKGHrCSVYTo2",
        "colab_type": "code",
        "colab": {}
      },
      "source": [
        "# extract the first chunk\n",
        "for text in test_text1:\n",
        "    sentences1.append(Sentence(rmv_spec_chars(text)))"
      ],
      "execution_count": 0,
      "outputs": []
    },
    {
      "cell_type": "code",
      "metadata": {
        "id": "rwurPCuLYedE",
        "colab_type": "code",
        "colab": {}
      },
      "source": [
        "def get_pretrained_preds(sentences):\n",
        "    \n",
        "    # initialize values for loop\n",
        "    scores = defaultdict(float)\n",
        "    values = defaultdict(str)\n",
        "    i = 0\n",
        "    \n",
        "    # predict for all sentences\n",
        "    classifier.predict(sentences, mini_batch_size=32)\n",
        "    \n",
        "    # loop and store predictions\n",
        "    # for sentence in sentences:\n",
        "    #     scores[i] = sentence.labels[0].score\n",
        "    #     values[i] = sentence.labels[0].value\n",
        "    #     i+=1\n",
        "    while len(sentences) > 0:\n",
        "        sentence = sentences.popleft()\n",
        "        scores[i] = sentence.labels[0].score\n",
        "        values[i] = sentence.labels[0].value\n",
        "        i+=1\n",
        "        \n",
        "    \n",
        "    # create and return a dataframe\n",
        "    df = pd.DataFrame({'probability': scores, 'prediction': values})\n",
        "    return(df)"
      ],
      "execution_count": 0,
      "outputs": []
    },
    {
      "cell_type": "code",
      "metadata": {
        "id": "hunjM-B6aStg",
        "colab_type": "code",
        "colab": {}
      },
      "source": [
        "df_pred1 = get_pretrained_preds(sentences1)"
      ],
      "execution_count": 0,
      "outputs": []
    },
    {
      "cell_type": "code",
      "metadata": {
        "id": "Z3BeXbmGaXRn",
        "colab_type": "code",
        "outputId": "394bddd8-ace1-4af9-f184-b9b2235f334c",
        "colab": {
          "base_uri": "https://localhost:8080/",
          "height": 202
        }
      },
      "source": [
        "df_pred1.head()"
      ],
      "execution_count": 0,
      "outputs": [
        {
          "output_type": "execute_result",
          "data": {
            "text/html": [
              "<div>\n",
              "<style scoped>\n",
              "    .dataframe tbody tr th:only-of-type {\n",
              "        vertical-align: middle;\n",
              "    }\n",
              "\n",
              "    .dataframe tbody tr th {\n",
              "        vertical-align: top;\n",
              "    }\n",
              "\n",
              "    .dataframe thead th {\n",
              "        text-align: right;\n",
              "    }\n",
              "</style>\n",
              "<table border=\"1\" class=\"dataframe\">\n",
              "  <thead>\n",
              "    <tr style=\"text-align: right;\">\n",
              "      <th></th>\n",
              "      <th>probability</th>\n",
              "      <th>prediction</th>\n",
              "    </tr>\n",
              "  </thead>\n",
              "  <tbody>\n",
              "    <tr>\n",
              "      <th>0</th>\n",
              "      <td>0.996104</td>\n",
              "      <td>POSITIVE</td>\n",
              "    </tr>\n",
              "    <tr>\n",
              "      <th>1</th>\n",
              "      <td>0.863034</td>\n",
              "      <td>POSITIVE</td>\n",
              "    </tr>\n",
              "    <tr>\n",
              "      <th>2</th>\n",
              "      <td>0.999872</td>\n",
              "      <td>POSITIVE</td>\n",
              "    </tr>\n",
              "    <tr>\n",
              "      <th>3</th>\n",
              "      <td>0.674651</td>\n",
              "      <td>POSITIVE</td>\n",
              "    </tr>\n",
              "    <tr>\n",
              "      <th>4</th>\n",
              "      <td>0.999235</td>\n",
              "      <td>NEGATIVE</td>\n",
              "    </tr>\n",
              "  </tbody>\n",
              "</table>\n",
              "</div>"
            ],
            "text/plain": [
              "   probability prediction\n",
              "0     0.996104   POSITIVE\n",
              "1     0.863034   POSITIVE\n",
              "2     0.999872   POSITIVE\n",
              "3     0.674651   POSITIVE\n",
              "4     0.999235   NEGATIVE"
            ]
          },
          "metadata": {
            "tags": []
          },
          "execution_count": 22
        }
      ]
    },
    {
      "cell_type": "code",
      "metadata": {
        "id": "tUP7v-qM4kiW",
        "colab_type": "code",
        "outputId": "1a1bdcc9-a0d7-42d4-b179-8d783b22f795",
        "colab": {
          "base_uri": "https://localhost:8080/",
          "height": 35
        }
      },
      "source": [
        "df_pred1.shape"
      ],
      "execution_count": 0,
      "outputs": [
        {
          "output_type": "execute_result",
          "data": {
            "text/plain": [
              "(25000, 2)"
            ]
          },
          "metadata": {
            "tags": []
          },
          "execution_count": 23
        }
      ]
    },
    {
      "cell_type": "code",
      "metadata": {
        "id": "Myo0WClaYgcc",
        "colab_type": "code",
        "colab": {}
      },
      "source": [
        "df_pred1.loc[:, 'pred'] = df_pred1.prediction.map({'POSITIVE': 1, 'NEGATIVE': 0})"
      ],
      "execution_count": 0,
      "outputs": []
    },
    {
      "cell_type": "code",
      "metadata": {
        "id": "jq77z6KLYzDi",
        "colab_type": "code",
        "outputId": "0f019d1b-8854-4ad0-89bf-c8b1e8d84613",
        "colab": {
          "base_uri": "https://localhost:8080/",
          "height": 202
        }
      },
      "source": [
        "df_pred1.head()"
      ],
      "execution_count": 0,
      "outputs": [
        {
          "output_type": "execute_result",
          "data": {
            "text/html": [
              "<div>\n",
              "<style scoped>\n",
              "    .dataframe tbody tr th:only-of-type {\n",
              "        vertical-align: middle;\n",
              "    }\n",
              "\n",
              "    .dataframe tbody tr th {\n",
              "        vertical-align: top;\n",
              "    }\n",
              "\n",
              "    .dataframe thead th {\n",
              "        text-align: right;\n",
              "    }\n",
              "</style>\n",
              "<table border=\"1\" class=\"dataframe\">\n",
              "  <thead>\n",
              "    <tr style=\"text-align: right;\">\n",
              "      <th></th>\n",
              "      <th>probability</th>\n",
              "      <th>prediction</th>\n",
              "      <th>pred</th>\n",
              "    </tr>\n",
              "  </thead>\n",
              "  <tbody>\n",
              "    <tr>\n",
              "      <th>0</th>\n",
              "      <td>0.996104</td>\n",
              "      <td>POSITIVE</td>\n",
              "      <td>1</td>\n",
              "    </tr>\n",
              "    <tr>\n",
              "      <th>1</th>\n",
              "      <td>0.863034</td>\n",
              "      <td>POSITIVE</td>\n",
              "      <td>1</td>\n",
              "    </tr>\n",
              "    <tr>\n",
              "      <th>2</th>\n",
              "      <td>0.999872</td>\n",
              "      <td>POSITIVE</td>\n",
              "      <td>1</td>\n",
              "    </tr>\n",
              "    <tr>\n",
              "      <th>3</th>\n",
              "      <td>0.674651</td>\n",
              "      <td>POSITIVE</td>\n",
              "      <td>1</td>\n",
              "    </tr>\n",
              "    <tr>\n",
              "      <th>4</th>\n",
              "      <td>0.999235</td>\n",
              "      <td>NEGATIVE</td>\n",
              "      <td>0</td>\n",
              "    </tr>\n",
              "  </tbody>\n",
              "</table>\n",
              "</div>"
            ],
            "text/plain": [
              "   probability prediction  pred\n",
              "0     0.996104   POSITIVE     1\n",
              "1     0.863034   POSITIVE     1\n",
              "2     0.999872   POSITIVE     1\n",
              "3     0.674651   POSITIVE     1\n",
              "4     0.999235   NEGATIVE     0"
            ]
          },
          "metadata": {
            "tags": []
          },
          "execution_count": 26
        }
      ]
    },
    {
      "cell_type": "code",
      "metadata": {
        "id": "fCRYcgtkZJrM",
        "colab_type": "code",
        "outputId": "c109ba85-e087-4711-8fab-15613c139cc3",
        "colab": {
          "base_uri": "https://localhost:8080/",
          "height": 52
        }
      },
      "source": [
        "# get variables to test the accuracy\n",
        "y_true1 = test_labels[:25000,]\n",
        "y_pred1 = df_pred1.loc[:25000, 'pred']\n",
        "print(y_true1.shape)\n",
        "print(y_pred1.shape)"
      ],
      "execution_count": 0,
      "outputs": [
        {
          "output_type": "stream",
          "text": [
            "(25000,)\n",
            "(25000,)\n"
          ],
          "name": "stdout"
        }
      ]
    },
    {
      "cell_type": "code",
      "metadata": {
        "id": "OjSqxmybZvfX",
        "colab_type": "code",
        "outputId": "63bbbbe2-076c-419c-eeaf-a0c248ccee87",
        "colab": {
          "base_uri": "https://localhost:8080/",
          "height": 156
        }
      },
      "source": [
        "# print the confusion matrix\n",
        "print(confusion_matrix(y_true1, y_pred1))\n",
        "tn, fp, fn, tp = confusion_matrix(y_true1, y_pred1).ravel()\n",
        "dr = tp / (tp + fn)\n",
        "fpr = fp / (fp + tn)\n",
        "print('True Negatives: {}'.format(tn))\n",
        "print('False Positives: {}'.format(fp))\n",
        "print('False Negatives: {}'.format(fn))\n",
        "print('True Positives: {}'.format(tp))\n",
        "print('Detection Rate: {}'.format(dr))\n",
        "print('False Positive Rate: {}'.format(fpr))"
      ],
      "execution_count": 0,
      "outputs": [
        {
          "output_type": "stream",
          "text": [
            "[[ 2060   681]\n",
            " [ 5285 16974]]\n",
            "True Negatives: 2060\n",
            "False Positives: 681\n",
            "False Negatives: 5285\n",
            "True Positives: 16974\n",
            "Detection Rate: 0.7625679500426794\n",
            "False Positive Rate: 0.24844947099598685\n"
          ],
          "name": "stdout"
        }
      ]
    },
    {
      "cell_type": "code",
      "metadata": {
        "id": "JjsG1h8Ga15K",
        "colab_type": "code",
        "outputId": "6b350e9e-b98a-4f4b-9367-d2fd9d214e16",
        "colab": {
          "base_uri": "https://localhost:8080/",
          "height": 173
        }
      },
      "source": [
        "print(classification_report(y_true1, y_pred1))"
      ],
      "execution_count": 0,
      "outputs": [
        {
          "output_type": "stream",
          "text": [
            "              precision    recall  f1-score   support\n",
            "\n",
            "           0       0.28      0.75      0.41      2741\n",
            "           1       0.96      0.76      0.85     22259\n",
            "\n",
            "    accuracy                           0.76     25000\n",
            "   macro avg       0.62      0.76      0.63     25000\n",
            "weighted avg       0.89      0.76      0.80     25000\n",
            "\n"
          ],
          "name": "stdout"
        }
      ]
    },
    {
      "cell_type": "code",
      "metadata": {
        "id": "fdcn-2xQbibE",
        "colab_type": "code",
        "colab": {}
      },
      "source": [
        "import matplotlib.pyplot as plt"
      ],
      "execution_count": 0,
      "outputs": []
    },
    {
      "cell_type": "code",
      "metadata": {
        "id": "4zWc9dGjbfzk",
        "colab_type": "code",
        "outputId": "bbacae0d-444c-4969-f45c-05b1c65f2064",
        "colab": {
          "base_uri": "https://localhost:8080/",
          "height": 295
        }
      },
      "source": [
        "y_pred_prob = df_pred1.probability\n",
        "\n",
        "# unpack into false positive rate, true positive rate, and thresholds\n",
        "fpr, tpr, thresholds = roc_curve(y_true1, df_pred1.probability)\n",
        "\n",
        "_ = plt.plot([0,1], [0,1], 'k--')\n",
        "_ = plt.plot(fpr, tpr, label='test_set_1')\n",
        "_ = plt.xlabel('False Positive Rate')\n",
        "_ = plt.ylabel('True Positive Rate')\n",
        "_ = plt.title('Test Set 1 ROC Curve')"
      ],
      "execution_count": 0,
      "outputs": [
        {
          "output_type": "display_data",
          "data": {
            "image/png": "[encoded data removed]",
            "text/plain": [
              "<Figure size 432x288 with 1 Axes>"
            ]
          },
          "metadata": {
            "tags": []
          }
        }
      ]
    },
    {
      "cell_type": "code",
      "metadata": {
        "id": "tXE70qRWcROo",
        "colab_type": "code",
        "outputId": "1f73cd3a-4f37-4dc9-9718-1fc981f731bc",
        "colab": {
          "base_uri": "https://localhost:8080/",
          "height": 35
        }
      },
      "source": [
        "# compute the AUC\n",
        "print(roc_auc_score(y_true1, y_pred_prob))"
      ],
      "execution_count": 0,
      "outputs": [
        {
          "output_type": "stream",
          "text": [
            "0.49359414510466393\n"
          ],
          "name": "stdout"
        }
      ]
    },
    {
      "cell_type": "code",
      "metadata": {
        "id": "cmdp5glJc_Am",
        "colab_type": "code",
        "outputId": "fadb66ae-7889-44d0-8d85-eea1d234413d",
        "colab": {
          "base_uri": "https://localhost:8080/",
          "height": 295
        }
      },
      "source": [
        "# plot the precision/recall curve\n",
        "precision, recall, thresholds = precision_recall_curve(y_true1, y_pred_prob)\n",
        "\n",
        "_ = plt.plot(recall, precision)\n",
        "_ = plt.plot([1,0], [0,1], 'k--')\n",
        "_ = plt.xlabel('Recall')\n",
        "_ = plt.ylabel('Precision')\n",
        "_ = plt.title('Precision/Recall Curve')"
      ],
      "execution_count": 0,
      "outputs": [
        {
          "output_type": "display_data",
          "data": {
            "image/png": "[encoded data removed]",
            "text/plain": [
              "<Figure size 432x288 with 1 Axes>"
            ]
          },
          "metadata": {
            "tags": []
          }
        }
      ]
    },
    {
      "cell_type": "code",
      "metadata": {
        "id": "6ETSogt8XJZK",
        "colab_type": "code",
        "colab": {}
      },
      "source": [
        "df_pred1.to_csv('predictions.txt', sep=',', columns=['probability', 'prediction', 'pred'], \n",
        "                header=True, index=True, mode='w')"
      ],
      "execution_count": 0,
      "outputs": []
    },
    {
      "cell_type": "code",
      "metadata": {
        "id": "hfmq9OnGYBRi",
        "colab_type": "code",
        "colab": {}
      },
      "source": [
        "# extract the next chunk\n",
        "for text in test_text2:\n",
        "    sentences2.append(Sentence(rmv_spec_chars(text)))"
      ],
      "execution_count": 0,
      "outputs": []
    },
    {
      "cell_type": "code",
      "metadata": {
        "id": "yg4Pp9RhYPfS",
        "colab_type": "code",
        "colab": {}
      },
      "source": [
        "df_pred2 = get_pretrained_preds(sentences2)"
      ],
      "execution_count": 0,
      "outputs": []
    },
    {
      "cell_type": "code",
      "metadata": {
        "id": "SzaM6e5VYWHg",
        "colab_type": "code",
        "colab": {}
      },
      "source": [
        "df_pred2.to_csv('predictions.txt', sep=',', columns=['probability', 'prediction'], header=False, index=True, mode='a')"
      ],
      "execution_count": 0,
      "outputs": []
    },
    {
      "cell_type": "code",
      "metadata": {
        "id": "UeuXjOs8bMuO",
        "colab_type": "code",
        "colab": {}
      },
      "source": [
        ""
      ],
      "execution_count": 0,
      "outputs": []
    },
    {
      "cell_type": "code",
      "metadata": {
        "id": "94_J4tBMbM8d",
        "colab_type": "code",
        "outputId": "349d18c5-7d06-4dcf-b060-62bd5b3eafd2",
        "colab": {
          "base_uri": "https://localhost:8080/",
          "height": 69
        }
      },
      "source": [
        "train_text.index[:10]"
      ],
      "execution_count": 0,
      "outputs": [
        {
          "output_type": "execute_result",
          "data": {
            "text/plain": [
              "Int64Index([67189, 409345, 200528, 285828, 432542, 409749, 475246, 406743,\n",
              "            17662, 183961],\n",
              "           dtype='int64')"
            ]
          },
          "metadata": {
            "tags": []
          },
          "execution_count": 56
        }
      ]
    },
    {
      "cell_type": "code",
      "metadata": {
        "id": "8451YukUfAS9",
        "colab_type": "code",
        "outputId": "e4e8a9fb-3aea-4b15-c9b6-21ec9af79996",
        "colab": {
          "base_uri": "https://localhost:8080/",
          "height": 69
        }
      },
      "source": [
        "train_labels.index[:10]"
      ],
      "execution_count": 0,
      "outputs": [
        {
          "output_type": "execute_result",
          "data": {
            "text/plain": [
              "Int64Index([67189, 409345, 200528, 285828, 432542, 409749, 475246, 406743,\n",
              "            17662, 183961],\n",
              "           dtype='int64')"
            ]
          },
          "metadata": {
            "tags": []
          },
          "execution_count": 57
        }
      ]
    },
    {
      "cell_type": "code",
      "metadata": {
        "id": "z1jIfIYEfjth",
        "colab_type": "code",
        "outputId": "4939e204-45d8-4ab9-d33f-9240592bc1d3",
        "colab": {
          "base_uri": "https://localhost:8080/",
          "height": 35
        }
      },
      "source": [
        "train_text[67189]"
      ],
      "execution_count": 0,
      "outputs": [
        {
          "output_type": "execute_result",
          "data": {
            "text/plain": [
              "'This is such a great game and I love having it back.  Works perfectly and I have no complaint.'"
            ]
          },
          "metadata": {
            "tags": []
          },
          "execution_count": 61
        }
      ]
    },
    {
      "cell_type": "code",
      "metadata": {
        "id": "ZMigrOcOfmgN",
        "colab_type": "code",
        "outputId": "7052c7f9-3ed2-46f2-98e4-43dde294d7f4",
        "colab": {
          "base_uri": "https://localhost:8080/",
          "height": 35
        }
      },
      "source": [
        "train_labels[67189]"
      ],
      "execution_count": 0,
      "outputs": [
        {
          "output_type": "execute_result",
          "data": {
            "text/plain": [
              "1"
            ]
          },
          "metadata": {
            "tags": []
          },
          "execution_count": 62
        }
      ]
    },
    {
      "cell_type": "code",
      "metadata": {
        "id": "8CxQr-uAjG6i",
        "colab_type": "code",
        "outputId": "6fc1dbc8-f00e-432a-f127-50f0db496b6c",
        "colab": {
          "base_uri": "https://localhost:8080/",
          "height": 191
        }
      },
      "source": [
        "for idx in train_text.index.values[:10]:\n",
        "    print(idx)"
      ],
      "execution_count": 0,
      "outputs": [
        {
          "output_type": "stream",
          "text": [
            "67189\n",
            "409345\n",
            "200528\n",
            "285828\n",
            "432542\n",
            "409749\n",
            "475246\n",
            "406743\n",
            "17662\n",
            "183961\n"
          ],
          "name": "stdout"
        }
      ]
    },
    {
      "cell_type": "code",
      "metadata": {
        "id": "1_cZbeRR_F0D",
        "colab_type": "code",
        "colab": {}
      },
      "source": [
        ""
      ],
      "execution_count": 0,
      "outputs": []
    },
    {
      "cell_type": "code",
      "metadata": {
        "id": "VdTVuftT_F4d",
        "colab_type": "code",
        "colab": {}
      },
      "source": [
        ""
      ],
      "execution_count": 0,
      "outputs": []
    },
    {
      "cell_type": "code",
      "metadata": {
        "id": "LLtSVNw3_F8S",
        "colab_type": "code",
        "colab": {}
      },
      "source": [
        ""
      ],
      "execution_count": 0,
      "outputs": []
    },
    {
      "cell_type": "code",
      "metadata": {
        "id": "uQPZBUb6dQ9T",
        "colab_type": "code",
        "colab": {}
      },
      "source": [
        "# manual model training"
      ],
      "execution_count": 0,
      "outputs": []
    },
    {
      "cell_type": "code",
      "metadata": {
        "id": "V179PtJZdQ64",
        "colab_type": "code",
        "colab": {}
      },
      "source": [
        "# write to file instead of to long text string\n",
        "import os.path\n",
        "\n",
        "idxs = train_text.index.values\n",
        "max_idx = max(idxs)\n",
        "\n",
        "if os.path.isfile('train.txt'):\n",
        "    print (\"File already created.\")\n",
        "else:\n",
        "    with open('train.txt', 'w') as file:\n",
        "        for idx in idxs:\n",
        "            line = '__label__'\n",
        "            line += str(train_labels[idx]) + ' '\n",
        "            line += rmv_spec_chars(str.replace(train_text[idx], '\\n', ' '))\n",
        "            line += '\\n'\n",
        "            file.write(line)"
      ],
      "execution_count": 0,
      "outputs": []
    },
    {
      "cell_type": "code",
      "metadata": {
        "id": "G4AOGzDnempD",
        "colab_type": "code",
        "colab": {}
      },
      "source": [
        "# write dev.txt\n",
        "max_idx = max(valid_text.index.values)\n",
        "\n",
        "if os.path.isfile('dev.txt'):\n",
        "    print (\"File already created.\")\n",
        "else:\n",
        "    with open('dev.txt', 'w') as file:\n",
        "        for idx in valid_text.index.values:\n",
        "            line = '__label__'\n",
        "            line += str(valid_labels[idx]) + ' '\n",
        "            line += rmv_spec_chars(str.replace(valid_text[idx], '\\n', ' '))\n",
        "            line += '\\n'\n",
        "            file.write(line)"
      ],
      "execution_count": 0,
      "outputs": []
    },
    {
      "cell_type": "code",
      "metadata": {
        "id": "zzYWvHfPduhj",
        "colab_type": "code",
        "colab": {}
      },
      "source": [
        "# write test.txt\n",
        "import os.path\n",
        "\n",
        "max_idx = max(test_text.index.values)\n",
        "\n",
        "if os.path.isfile('test.txt'):\n",
        "    print (\"File already created.\")\n",
        "else:\n",
        "    with open('test.txt', 'w') as file:\n",
        "        for idx in test_text.index.values:\n",
        "            line = '__label__'\n",
        "            line += str(test_labels[idx]) + ' '\n",
        "            line += rmv_spec_chars(str.replace(test_text[idx], '\\n', ' '))\n",
        "            line += '\\n'\n",
        "            file.write(line)"
      ],
      "execution_count": 0,
      "outputs": []
    },
    {
      "cell_type": "code",
      "metadata": {
        "id": "8zs1wk8GkbOb",
        "colab_type": "code",
        "colab": {}
      },
      "source": [
        "from flair.data import Corpus\n",
        "from flair.datasets import ClassificationCorpus\n",
        "from flair.trainers import ModelTrainer\n",
        "from pathlib import Path"
      ],
      "execution_count": 0,
      "outputs": []
    },
    {
      "cell_type": "code",
      "metadata": {
        "id": "EJoxUVFTQTtP",
        "colab_type": "code",
        "outputId": "08655f07-216f-40de-8a45-803f76d8bd14",
        "colab": {
          "base_uri": "https://localhost:8080/",
          "height": 35
        }
      },
      "source": [
        "import torch\n",
        "torch.cuda.is_available()"
      ],
      "execution_count": 0,
      "outputs": [
        {
          "output_type": "execute_result",
          "data": {
            "text/plain": [
              "True"
            ]
          },
          "metadata": {
            "tags": []
          },
          "execution_count": 22
        }
      ]
    },
    {
      "cell_type": "code",
      "metadata": {
        "id": "Yx_H5-TWQAR0",
        "colab_type": "code",
        "colab": {}
      },
      "source": [
        "# works on my laptop\n",
        "import flair\n",
        "device = torch.device('cuda:0')\n",
        "map_location=lambda storage, loc: storage.cuda()"
      ],
      "execution_count": 0,
      "outputs": []
    },
    {
      "cell_type": "code",
      "metadata": {
        "id": "1kFH0vcdkiSZ",
        "colab_type": "code",
        "outputId": "201b712c-b477-40bc-c0f0-64dd79fe2e6d",
        "colab": {
          "base_uri": "https://localhost:8080/",
          "height": 87
        }
      },
      "source": [
        "# load corpus containing training, test and dev data\n",
        "corpus: Corpus = ClassificationCorpus('./',\n",
        "                                      test_file='test.txt',\n",
        "                                      dev_file='dev.txt',\n",
        "                                      train_file='train.txt')"
      ],
      "execution_count": 0,
      "outputs": [
        {
          "output_type": "stream",
          "text": [
            "2020-02-27 01:28:04,232 Reading data from .\n",
            "2020-02-27 01:28:04,234 Train: train.txt\n",
            "2020-02-27 01:28:04,235 Dev: dev.txt\n",
            "2020-02-27 01:28:04,236 Test: test.txt\n"
          ],
          "name": "stdout"
        }
      ]
    },
    {
      "cell_type": "code",
      "metadata": {
        "id": "MAp1sAmSkxB3",
        "colab_type": "code",
        "colab": {}
      },
      "source": [
        "from flair.embeddings import TokenEmbeddings, WordEmbeddings, StackedEmbeddings\n",
        "from flair.embeddings import FlairEmbeddings, DocumentRNNEmbeddings\n",
        "from typing import List"
      ],
      "execution_count": 0,
      "outputs": []
    },
    {
      "cell_type": "code",
      "metadata": {
        "id": "41HWFz33k85h",
        "colab_type": "code",
        "outputId": "008f98bb-dd32-492b-b44c-b5935e1f5b7f",
        "colab": {
          "base_uri": "https://localhost:8080/",
          "height": 349
        }
      },
      "source": [
        "word_embeddings = [WordEmbeddings('glove'), FlairEmbeddings('news-forward-fast'), \n",
        "                   FlairEmbeddings('news-backward-fast')]"
      ],
      "execution_count": 0,
      "outputs": [
        {
          "output_type": "stream",
          "text": [
            "2020-02-27 01:28:11,415 https://s3.eu-central-1.amazonaws.com/alan-nlp/resources/embeddings/glove.gensim.vectors.npy not found in cache, downloading to /tmp/tmpjdmrvsmt\n"
          ],
          "name": "stdout"
        },
        {
          "output_type": "stream",
          "text": [
            "100%|██████████| 160000128/160000128 [00:07<00:00, 21226035.62B/s]"
          ],
          "name": "stderr"
        },
        {
          "output_type": "stream",
          "text": [
            "2020-02-27 01:28:19,455 copying /tmp/tmpjdmrvsmt to cache at /root/.flair/embeddings/glove.gensim.vectors.npy\n"
          ],
          "name": "stdout"
        },
        {
          "output_type": "stream",
          "text": [
            "\n"
          ],
          "name": "stderr"
        },
        {
          "output_type": "stream",
          "text": [
            "2020-02-27 01:28:19,659 removing temp file /tmp/tmpjdmrvsmt\n",
            "2020-02-27 01:28:22,798 https://s3.eu-central-1.amazonaws.com/alan-nlp/resources/embeddings/glove.gensim not found in cache, downloading to /tmp/tmprxpsxzhv\n"
          ],
          "name": "stdout"
        },
        {
          "output_type": "stream",
          "text": [
            "100%|██████████| 21494764/21494764 [00:01<00:00, 11808614.90B/s]"
          ],
          "name": "stderr"
        },
        {
          "output_type": "stream",
          "text": [
            "2020-02-27 01:28:25,123 copying /tmp/tmprxpsxzhv to cache at /root/.flair/embeddings/glove.gensim\n",
            "2020-02-27 01:28:25,146 removing temp file /tmp/tmprxpsxzhv\n"
          ],
          "name": "stdout"
        },
        {
          "output_type": "stream",
          "text": [
            "\n",
            "/usr/local/lib/python3.6/dist-packages/smart_open/smart_open_lib.py:402: UserWarning: This function is deprecated, use smart_open.open instead. See the migration notes for details: https://github.com/RaRe-Technologies/smart_open/blob/master/README.rst#migrating-to-the-new-open-function\n",
            "  'See the migration notes for details: %s' % _MIGRATION_NOTES_URL\n"
          ],
          "name": "stderr"
        },
        {
          "output_type": "stream",
          "text": [
            "2020-02-27 01:28:27,348 https://s3.eu-central-1.amazonaws.com/alan-nlp/resources/embeddings/lm-news-english-forward-1024-v0.2rc.pt not found in cache, downloading to /tmp/tmpg4_ixznr\n"
          ],
          "name": "stdout"
        },
        {
          "output_type": "stream",
          "text": [
            "100%|██████████| 19689779/19689779 [00:01<00:00, 13149943.39B/s]"
          ],
          "name": "stderr"
        },
        {
          "output_type": "stream",
          "text": [
            "2020-02-27 01:28:29,417 copying /tmp/tmpg4_ixznr to cache at /root/.flair/embeddings/lm-news-english-forward-1024-v0.2rc.pt\n"
          ],
          "name": "stdout"
        },
        {
          "output_type": "stream",
          "text": [
            "\n"
          ],
          "name": "stderr"
        },
        {
          "output_type": "stream",
          "text": [
            "2020-02-27 01:28:29,440 removing temp file /tmp/tmpg4_ixznr\n",
            "2020-02-27 01:28:39,602 https://s3.eu-central-1.amazonaws.com/alan-nlp/resources/embeddings/lm-news-english-backward-1024-v0.2rc.pt not found in cache, downloading to /tmp/tmpiuolmvwc\n"
          ],
          "name": "stdout"
        },
        {
          "output_type": "stream",
          "text": [
            "100%|██████████| 19689779/19689779 [00:01<00:00, 11409765.20B/s]"
          ],
          "name": "stderr"
        },
        {
          "output_type": "stream",
          "text": [
            "2020-02-27 01:28:41,832 copying /tmp/tmpiuolmvwc to cache at /root/.flair/embeddings/lm-news-english-backward-1024-v0.2rc.pt\n",
            "2020-02-27 01:28:41,854 removing temp file /tmp/tmpiuolmvwc\n"
          ],
          "name": "stdout"
        },
        {
          "output_type": "stream",
          "text": [
            "\n"
          ],
          "name": "stderr"
        }
      ]
    },
    {
      "cell_type": "code",
      "metadata": {
        "id": "08e0-1TglAoi",
        "colab_type": "code",
        "colab": {}
      },
      "source": [
        "document_embeddings = DocumentRNNEmbeddings(word_embeddings, hidden_size=512, \n",
        "                                             reproject_words=True, reproject_words_dimension=256)"
      ],
      "execution_count": 0,
      "outputs": []
    },
    {
      "cell_type": "code",
      "metadata": {
        "id": "hrMGol1-lHBz",
        "colab_type": "code",
        "outputId": "afc11da5-423e-4c40-b63f-e2c085f4f717",
        "colab": {
          "base_uri": "https://localhost:8080/",
          "height": 69
        }
      },
      "source": [
        "classifier = TextClassifier(document_embeddings, \n",
        "                            label_dictionary=corpus.make_label_dictionary(), \n",
        "                            multi_label=False)"
      ],
      "execution_count": 0,
      "outputs": [
        {
          "output_type": "stream",
          "text": [
            "2020-02-27 01:29:12,154 Computing label dictionary. Progress:\n"
          ],
          "name": "stdout"
        },
        {
          "output_type": "stream",
          "text": [
            "100%|██████████| 88019/88019 [02:31<00:00, 582.01it/s]"
          ],
          "name": "stderr"
        },
        {
          "output_type": "stream",
          "text": [
            "2020-02-27 01:31:43,734 [b'0', b'1']\n"
          ],
          "name": "stdout"
        },
        {
          "output_type": "stream",
          "text": [
            "\n"
          ],
          "name": "stderr"
        }
      ]
    },
    {
      "cell_type": "code",
      "metadata": {
        "id": "GLKUNdNSlLBQ",
        "colab_type": "code",
        "colab": {}
      },
      "source": [
        "# running on TPU appears not to save the file\n",
        "# run on GPU\n",
        "trainer = ModelTrainer(classifier, corpus)"
      ],
      "execution_count": 0,
      "outputs": []
    },
    {
      "cell_type": "code",
      "metadata": {
        "id": "AkaWGTe7lO9w",
        "colab_type": "code",
        "outputId": "9ece7719-e5a8-4786-9750-b32d003cef4d",
        "colab": {
          "base_uri": "https://localhost:8080/",
          "height": 1000
        }
      },
      "source": [
        "trainer.train('./', max_epochs=10, monitor_test=True, embeddings_storage_mode='gpu')"
      ],
      "execution_count": 0,
      "outputs": [
        {
          "output_type": "stream",
          "text": [
            "2020-02-27 01:32:11,947 ----------------------------------------------------------------------------------------------------\n",
            "2020-02-27 01:32:11,949 Model: \"TextClassifier(\n",
            "  (document_embeddings): DocumentRNNEmbeddings(\n",
            "    (embeddings): StackedEmbeddings(\n",
            "      (list_embedding_0): WordEmbeddings('glove')\n",
            "      (list_embedding_1): FlairEmbeddings(\n",
            "        (lm): LanguageModel(\n",
            "          (drop): Dropout(p=0.25, inplace=False)\n",
            "          (encoder): Embedding(275, 100)\n",
            "          (rnn): LSTM(100, 1024)\n",
            "          (decoder): Linear(in_features=1024, out_features=275, bias=True)\n",
            "        )\n",
            "      )\n",
            "      (list_embedding_2): FlairEmbeddings(\n",
            "        (lm): LanguageModel(\n",
            "          (drop): Dropout(p=0.25, inplace=False)\n",
            "          (encoder): Embedding(275, 100)\n",
            "          (rnn): LSTM(100, 1024)\n",
            "          (decoder): Linear(in_features=1024, out_features=275, bias=True)\n",
            "        )\n",
            "      )\n",
            "    )\n",
            "    (word_reprojection_map): Linear(in_features=2148, out_features=256, bias=True)\n",
            "    (rnn): GRU(256, 512, batch_first=True)\n",
            "    (dropout): Dropout(p=0.5, inplace=False)\n",
            "  )\n",
            "  (decoder): Linear(in_features=512, out_features=2, bias=True)\n",
            "  (loss_function): CrossEntropyLoss()\n",
            "  (beta): 1.0\n",
            "  (weights): None\n",
            "  (weight_tensor) None\n",
            ")\"\n",
            "2020-02-27 01:32:11,951 ----------------------------------------------------------------------------------------------------\n",
            "2020-02-27 01:32:11,953 Corpus: \"Corpus: 88019 train + 11002 dev + 11003 test sentences\"\n",
            "2020-02-27 01:32:11,955 ----------------------------------------------------------------------------------------------------\n",
            "2020-02-27 01:32:11,957 Parameters:\n",
            "2020-02-27 01:32:11,958  - learning_rate: \"0.1\"\n",
            "2020-02-27 01:32:11,959  - mini_batch_size: \"32\"\n",
            "2020-02-27 01:32:11,961  - patience: \"3\"\n",
            "2020-02-27 01:32:11,963  - anneal_factor: \"0.5\"\n",
            "2020-02-27 01:32:11,964  - max_epochs: \"10\"\n",
            "2020-02-27 01:32:11,965  - shuffle: \"True\"\n",
            "2020-02-27 01:32:11,967  - train_with_dev: \"False\"\n",
            "2020-02-27 01:32:11,968  - batch_growth_annealing: \"False\"\n",
            "2020-02-27 01:32:11,969 ----------------------------------------------------------------------------------------------------\n",
            "2020-02-27 01:32:11,970 Model training base path: \".\"\n",
            "2020-02-27 01:32:11,972 ----------------------------------------------------------------------------------------------------\n",
            "2020-02-27 01:32:11,974 Device: cuda:0\n",
            "2020-02-27 01:32:11,975 ----------------------------------------------------------------------------------------------------\n",
            "2020-02-27 01:32:11,977 Embeddings storage mode: gpu\n",
            "2020-02-27 01:32:11,980 ----------------------------------------------------------------------------------------------------\n",
            "2020-02-27 01:38:48,884 epoch 1 - iter 275/2751 - loss 0.66320608 - samples/sec: 23.06\n",
            "2020-02-27 01:45:35,618 epoch 1 - iter 550/2751 - loss 0.64967667 - samples/sec: 22.41\n",
            "2020-02-27 01:52:17,407 epoch 1 - iter 825/2751 - loss 0.64192676 - samples/sec: 22.87\n",
            "2020-02-27 01:59:09,765 epoch 1 - iter 1100/2751 - loss 0.63521425 - samples/sec: 22.23\n",
            "2020-02-27 02:05:38,544 epoch 1 - iter 1375/2751 - loss 0.63020508 - samples/sec: 23.66\n",
            "2020-02-27 02:13:03,001 epoch 1 - iter 1650/2751 - loss 0.62698729 - samples/sec: 20.51\n",
            "2020-02-27 02:19:42,131 epoch 1 - iter 1925/2751 - loss 0.62286327 - samples/sec: 23.06\n",
            "2020-02-27 02:26:58,308 epoch 1 - iter 2200/2751 - loss 0.62022548 - samples/sec: 21.01\n",
            "2020-02-27 02:33:46,888 epoch 1 - iter 2475/2751 - loss 0.61657793 - samples/sec: 22.34\n",
            "2020-02-27 02:40:43,482 epoch 1 - iter 2750/2751 - loss 0.61475761 - samples/sec: 21.97\n",
            "2020-02-27 02:40:44,789 ----------------------------------------------------------------------------------------------------\n",
            "2020-02-27 02:40:44,791 EPOCH 1 done: loss 0.6147 - lr 0.1000\n",
            "2020-02-27 02:48:53,965 DEV : loss 0.5500847697257996 - score 0.7257\n",
            "2020-02-27 02:57:16,866 TEST : loss 0.5588852167129517 - score 0.7168\n",
            "2020-02-27 02:57:26,464 BAD EPOCHS (no improvement): 0\n",
            "2020-02-27 02:57:29,708 ----------------------------------------------------------------------------------------------------\n",
            "2020-02-27 03:04:19,044 epoch 2 - iter 275/2751 - loss 0.58329602 - samples/sec: 22.43\n",
            "2020-02-27 03:11:16,217 epoch 2 - iter 550/2751 - loss 0.58452724 - samples/sec: 22.00\n",
            "2020-02-27 03:18:29,878 epoch 2 - iter 825/2751 - loss 0.57809632 - samples/sec: 21.14\n",
            "2020-02-27 03:25:17,827 epoch 2 - iter 1100/2751 - loss 0.57533170 - samples/sec: 22.44\n",
            "2020-02-27 03:32:09,662 epoch 2 - iter 1375/2751 - loss 0.57164042 - samples/sec: 22.26\n",
            "2020-02-27 03:38:36,903 epoch 2 - iter 1650/2751 - loss 0.56820051 - samples/sec: 23.78\n",
            "2020-02-27 03:45:36,181 epoch 2 - iter 1925/2751 - loss 0.56325819 - samples/sec: 21.84\n",
            "2020-02-27 03:52:29,404 epoch 2 - iter 2200/2751 - loss 0.55797672 - samples/sec: 22.21\n",
            "2020-02-27 03:59:39,984 epoch 2 - iter 2475/2751 - loss 0.55249454 - samples/sec: 21.37\n",
            "2020-02-27 04:06:13,750 epoch 2 - iter 2750/2751 - loss 0.54670252 - samples/sec: 23.28\n",
            "2020-02-27 04:06:15,198 ----------------------------------------------------------------------------------------------------\n",
            "2020-02-27 04:06:15,199 EPOCH 2 done: loss 0.5467 - lr 0.1000\n",
            "2020-02-27 04:14:25,140 DEV : loss 0.424172967672348 - score 0.8081\n",
            "2020-02-27 04:22:50,062 TEST : loss 0.430404394865036 - score 0.8082\n",
            "2020-02-27 04:22:58,904 BAD EPOCHS (no improvement): 0\n",
            "2020-02-27 04:23:02,107 ----------------------------------------------------------------------------------------------------\n",
            "2020-02-27 04:29:53,988 epoch 3 - iter 275/2751 - loss 0.47179131 - samples/sec: 22.30\n",
            "2020-02-27 04:37:06,396 epoch 3 - iter 550/2751 - loss 0.47687315 - samples/sec: 21.19\n",
            "2020-02-27 04:43:58,338 epoch 3 - iter 825/2751 - loss 0.47097152 - samples/sec: 22.30\n",
            "2020-02-27 04:50:43,247 epoch 3 - iter 1100/2751 - loss 0.46489240 - samples/sec: 22.50\n",
            "2020-02-27 04:57:06,352 epoch 3 - iter 1375/2751 - loss 0.46121674 - samples/sec: 24.12\n",
            "2020-02-27 05:04:09,759 epoch 3 - iter 1650/2751 - loss 0.45993041 - samples/sec: 21.73\n",
            "2020-02-27 05:10:29,764 epoch 3 - iter 1925/2751 - loss 0.45914980 - samples/sec: 24.20\n",
            "2020-02-27 05:17:25,855 epoch 3 - iter 2200/2751 - loss 0.45742905 - samples/sec: 21.98\n",
            "2020-02-27 05:24:37,794 epoch 3 - iter 2475/2751 - loss 0.45434636 - samples/sec: 21.09\n",
            "2020-02-27 05:31:40,308 epoch 3 - iter 2750/2751 - loss 0.45266158 - samples/sec: 21.62\n",
            "2020-02-27 05:31:41,251 ----------------------------------------------------------------------------------------------------\n",
            "2020-02-27 05:31:41,253 EPOCH 3 done: loss 0.4527 - lr 0.1000\n",
            "2020-02-27 05:39:47,622 DEV : loss 0.3828447759151459 - score 0.8311\n",
            "2020-02-27 05:48:17,208 TEST : loss 0.3896544277667999 - score 0.8237\n",
            "2020-02-27 05:48:26,219 BAD EPOCHS (no improvement): 0\n",
            "2020-02-27 05:48:29,413 ----------------------------------------------------------------------------------------------------\n",
            "2020-02-27 05:55:37,638 epoch 4 - iter 275/2751 - loss 0.42440589 - samples/sec: 21.28\n",
            "2020-02-27 06:02:31,000 epoch 4 - iter 550/2751 - loss 0.42971873 - samples/sec: 22.16\n",
            "2020-02-27 06:09:22,292 epoch 4 - iter 825/2751 - loss 0.42808812 - samples/sec: 22.28\n",
            "2020-02-27 06:16:09,134 epoch 4 - iter 1100/2751 - loss 0.42422690 - samples/sec: 22.41\n",
            "2020-02-27 06:22:41,378 epoch 4 - iter 1375/2751 - loss 0.42239746 - samples/sec: 23.46\n",
            "2020-02-27 06:29:26,371 epoch 4 - iter 1650/2751 - loss 0.42223490 - samples/sec: 22.57\n",
            "2020-02-27 06:36:06,982 epoch 4 - iter 1925/2751 - loss 0.41975875 - samples/sec: 22.93\n",
            "2020-02-27 06:43:06,364 epoch 4 - iter 2200/2751 - loss 0.41961945 - samples/sec: 21.85\n",
            "2020-02-27 06:50:05,775 epoch 4 - iter 2475/2751 - loss 0.41920616 - samples/sec: 21.82\n",
            "2020-02-27 06:56:59,859 epoch 4 - iter 2750/2751 - loss 0.41821321 - samples/sec: 21.91\n",
            "2020-02-27 06:57:01,326 ----------------------------------------------------------------------------------------------------\n",
            "2020-02-27 06:57:01,329 EPOCH 4 done: loss 0.4182 - lr 0.1000\n",
            "2020-02-27 07:05:07,268 DEV : loss 0.35668331384658813 - score 0.8468\n",
            "2020-02-27 07:13:36,914 TEST : loss 0.3603779673576355 - score 0.8439\n",
            "2020-02-27 07:13:46,891 BAD EPOCHS (no improvement): 0\n",
            "2020-02-27 07:13:50,293 ----------------------------------------------------------------------------------------------------\n",
            "2020-02-27 07:20:56,754 epoch 5 - iter 275/2751 - loss 0.40029631 - samples/sec: 21.55\n",
            "2020-02-27 07:27:54,205 epoch 5 - iter 550/2751 - loss 0.40250722 - samples/sec: 21.86\n",
            "2020-02-27 07:34:31,237 epoch 5 - iter 825/2751 - loss 0.40506446 - samples/sec: 23.08\n",
            "2020-02-27 07:41:16,833 epoch 5 - iter 1100/2751 - loss 0.40255046 - samples/sec: 22.50\n",
            "2020-02-27 07:48:30,145 epoch 5 - iter 1375/2751 - loss 0.40291225 - samples/sec: 21.23\n",
            "2020-02-27 07:55:12,145 epoch 5 - iter 1650/2751 - loss 0.40128798 - samples/sec: 22.97\n",
            "2020-02-27 08:02:11,185 epoch 5 - iter 1925/2751 - loss 0.39972899 - samples/sec: 21.94\n",
            "2020-02-27 08:08:59,339 epoch 5 - iter 2200/2751 - loss 0.39901829 - samples/sec: 22.47\n",
            "2020-02-27 08:15:33,623 epoch 5 - iter 2475/2751 - loss 0.39855764 - samples/sec: 23.21\n",
            "2020-02-27 08:22:34,218 epoch 5 - iter 2750/2751 - loss 0.39761549 - samples/sec: 21.84\n",
            "2020-02-27 08:22:35,548 ----------------------------------------------------------------------------------------------------\n",
            "2020-02-27 08:22:35,551 EPOCH 5 done: loss 0.3976 - lr 0.1000\n",
            "2020-02-27 08:30:46,618 DEV : loss 0.3451071083545685 - score 0.8518\n",
            "2020-02-27 08:39:14,881 TEST : loss 0.3488759398460388 - score 0.848\n",
            "2020-02-27 08:39:23,901 BAD EPOCHS (no improvement): 0\n",
            "2020-02-27 08:39:27,141 ----------------------------------------------------------------------------------------------------\n",
            "2020-02-27 08:46:36,751 epoch 6 - iter 275/2751 - loss 0.39053386 - samples/sec: 21.44\n",
            "2020-02-27 08:53:13,713 epoch 6 - iter 550/2751 - loss 0.39093928 - samples/sec: 22.96\n",
            "2020-02-27 09:00:14,011 epoch 6 - iter 825/2751 - loss 0.38797854 - samples/sec: 21.81\n",
            "2020-02-27 09:07:11,808 epoch 6 - iter 1100/2751 - loss 0.38688145 - samples/sec: 22.01\n",
            "2020-02-27 09:14:12,811 epoch 6 - iter 1375/2751 - loss 0.38628941 - samples/sec: 21.88\n",
            "2020-02-27 09:21:07,392 epoch 6 - iter 1650/2751 - loss 0.38455703 - samples/sec: 22.04\n",
            "2020-02-27 09:27:49,762 epoch 6 - iter 1925/2751 - loss 0.38468628 - samples/sec: 22.95\n",
            "2020-02-27 09:35:07,256 epoch 6 - iter 2200/2751 - loss 0.38422524 - samples/sec: 21.07\n",
            "2020-02-27 09:41:56,402 epoch 6 - iter 2475/2751 - loss 0.38348738 - samples/sec: 22.54\n",
            "2020-02-27 09:49:03,068 epoch 6 - iter 2750/2751 - loss 0.38313473 - samples/sec: 21.45\n",
            "2020-02-27 09:49:03,953 ----------------------------------------------------------------------------------------------------\n",
            "2020-02-27 09:49:03,955 EPOCH 6 done: loss 0.3831 - lr 0.1000\n",
            "2020-02-27 09:57:18,081 DEV : loss 0.35195329785346985 - score 0.8464\n",
            "2020-02-27 10:05:49,645 TEST : loss 0.3518913984298706 - score 0.8419\n",
            "2020-02-27 10:05:58,924 BAD EPOCHS (no improvement): 1\n",
            "2020-02-27 10:05:58,925 ----------------------------------------------------------------------------------------------------\n",
            "2020-02-27 10:12:42,385 epoch 7 - iter 275/2751 - loss 0.36764286 - samples/sec: 22.95\n",
            "2020-02-27 10:20:20,149 epoch 7 - iter 550/2751 - loss 0.37431497 - samples/sec: 19.93\n",
            "2020-02-27 10:27:14,082 epoch 7 - iter 825/2751 - loss 0.37347888 - samples/sec: 22.07\n",
            "2020-02-27 10:34:22,250 epoch 7 - iter 1100/2751 - loss 0.37031748 - samples/sec: 21.33\n",
            "2020-02-27 10:41:03,091 epoch 7 - iter 1375/2751 - loss 0.37080604 - samples/sec: 22.86\n",
            "2020-02-27 10:47:54,471 epoch 7 - iter 1650/2751 - loss 0.37144358 - samples/sec: 22.39\n",
            "2020-02-27 10:54:46,734 epoch 7 - iter 1925/2751 - loss 0.37073687 - samples/sec: 22.26\n"
          ],
          "name": "stdout"
        }
      ]
    },
    {
      "cell_type": "code",
      "metadata": {
        "id": "Tbbvxz_A3fUD",
        "colab_type": "code",
        "colab": {}
      },
      "source": [
        ""
      ],
      "execution_count": 0,
      "outputs": []
    },
    {
      "cell_type": "code",
      "metadata": {
        "id": "zUSVDpEOLFQp",
        "colab_type": "code",
        "colab": {}
      },
      "source": [
        "# load the best model\n",
        "classifier = TextClassifier.load_from_file('./best-model.pt')"
      ],
      "execution_count": 0,
      "outputs": []
    },
    {
      "cell_type": "code",
      "metadata": {
        "id": "ycc4abS9Me1J",
        "colab_type": "code",
        "colab": {}
      },
      "source": [
        ""
      ],
      "execution_count": 0,
      "outputs": []
    },
    {
      "cell_type": "code",
      "metadata": {
        "id": "PbddlU_9LISJ",
        "colab_type": "code",
        "colab": {}
      },
      "source": [
        "# create empty deque\n",
        "sentences = deque()"
      ],
      "execution_count": 0,
      "outputs": []
    },
    {
      "cell_type": "code",
      "metadata": {
        "id": "y-EQ1l81LIds",
        "colab_type": "code",
        "colab": {}
      },
      "source": [
        "# get deque of sentences\n",
        "for text in test_text:\n",
        "    sentences.append(Sentence(rmv_spec_chars(text)))"
      ],
      "execution_count": 0,
      "outputs": []
    },
    {
      "cell_type": "code",
      "metadata": {
        "id": "F04YKejVOstM",
        "colab_type": "code",
        "colab": {}
      },
      "source": [
        "# initialize values for loop\n",
        "scores = defaultdict(float)\n",
        "values = defaultdict(str)\n",
        "i = 0"
      ],
      "execution_count": 0,
      "outputs": []
    },
    {
      "cell_type": "code",
      "metadata": {
        "id": "NtESxeyhOw8p",
        "colab_type": "code",
        "colab": {}
      },
      "source": [
        "# predict for all sentences\n",
        "classifier.predict(sentences, mini_batch_size=32)"
      ],
      "execution_count": 0,
      "outputs": []
    },
    {
      "cell_type": "code",
      "metadata": {
        "id": "iNQOK8fQLIoK",
        "colab_type": "code",
        "colab": {}
      },
      "source": [
        "# deque version to generate test predictions\n",
        "while len(sentences) > 0:\n",
        "    sentence = sentences.popleft()\n",
        "    scores[i] = sentence.labels[0].score\n",
        "    values[i] = sentence.labels[0].value\n",
        "    i+=1"
      ],
      "execution_count": 0,
      "outputs": []
    },
    {
      "cell_type": "code",
      "metadata": {
        "id": "pYH6sxxYO4QI",
        "colab_type": "code",
        "colab": {}
      },
      "source": [
        "# convert to dataframe\n",
        "df1 = pd.DataFrame({'probability': scores, 'prediction': values})"
      ],
      "execution_count": 0,
      "outputs": []
    },
    {
      "cell_type": "code",
      "metadata": {
        "id": "210-kkw0O4bT",
        "colab_type": "code",
        "colab": {}
      },
      "source": [
        ""
      ],
      "execution_count": 0,
      "outputs": []
    },
    {
      "cell_type": "code",
      "metadata": {
        "id": "X7B6S6jTLI0n",
        "colab_type": "code",
        "colab": {}
      },
      "source": [
        ""
      ],
      "execution_count": 0,
      "outputs": []
    },
    {
      "cell_type": "code",
      "metadata": {
        "id": "4b64jJD1LFgt",
        "colab_type": "code",
        "colab": {}
      },
      "source": [
        ""
      ],
      "execution_count": 0,
      "outputs": []
    },
    {
      "cell_type": "code",
      "metadata": {
        "id": "IQ62YgKrCZCl",
        "colab_type": "code",
        "outputId": "60e2a73a-70cb-4691-d742-cc8ae62be3c4",
        "colab": {
          "base_uri": "https://localhost:8080/",
          "height": 163
        }
      },
      "source": [
        "# char_lm_embeddings = FlairEmbeddings('resources/taggers/language_model/best-lm.pt')"
      ],
      "execution_count": 0,
      "outputs": [
        {
          "output_type": "error",
          "ename": "NameError",
          "evalue": "ignored",
          "traceback": [
            "\u001b[0;31m---------------------------------------------------------------------------\u001b[0m",
            "\u001b[0;31mNameError\u001b[0m                                 Traceback (most recent call last)",
            "\u001b[0;32m<ipython-input-1-280da9ee603b>\u001b[0m in \u001b[0;36m<module>\u001b[0;34m()\u001b[0m\n\u001b[0;32m----> 1\u001b[0;31m \u001b[0mchar_lm_embeddings\u001b[0m \u001b[0;34m=\u001b[0m \u001b[0mFlairEmbeddings\u001b[0m\u001b[0;34m(\u001b[0m\u001b[0;34m'resources/taggers/language_model/best-lm.pt'\u001b[0m\u001b[0;34m)\u001b[0m\u001b[0;34m\u001b[0m\u001b[0;34m\u001b[0m\u001b[0m\n\u001b[0m",
            "\u001b[0;31mNameError\u001b[0m: name 'FlairEmbeddings' is not defined"
          ]
        }
      ]
    },
    {
      "cell_type": "code",
      "metadata": {
        "id": "mex7n-J_KOZA",
        "colab_type": "code",
        "colab": {}
      },
      "source": [
        ""
      ],
      "execution_count": 0,
      "outputs": []
    }
  ]
}