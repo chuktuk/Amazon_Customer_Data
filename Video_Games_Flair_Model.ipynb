{
  "nbformat": 4,
  "nbformat_minor": 0,
  "metadata": {
    "colab": {
      "name": "Video_Games_Flair_Model.ipynb",
      "provenance": [],
      "collapsed_sections": [],
      "machine_shape": "hm",
      "authorship_tag": "ABX9TyMf1o/+hOXjCN7+RqjfEPFM",
      "include_colab_link": true
    },
    "kernelspec": {
      "name": "python3",
      "display_name": "Python 3"
    },
    "accelerator": "TPU"
  },
  "cells": [
    {
      "cell_type": "markdown",
      "metadata": {
        "id": "view-in-github",
        "colab_type": "text"
      },
      "source": [
        "<a href=\"https://colab.research.google.com/github/chuktuk/Amazon_Customer_Data/blob/master/Video_Games_Flair_Model.ipynb\" target=\"_parent\"><img src=\"https://colab.research.google.com/assets/colab-badge.svg\" alt=\"Open In Colab\"/></a>"
      ]
    },
    {
      "cell_type": "markdown",
      "metadata": {
        "id": "_VycAs4GY9L2",
        "colab_type": "text"
      },
      "source": [
        "Switch to TPU and high RAM before running."
      ]
    },
    {
      "cell_type": "code",
      "metadata": {
        "id": "w22VQMc-V9jM",
        "colab_type": "code",
        "colab": {}
      },
      "source": [
        "# import packages\n",
        "import pandas as pd\n",
        "from collections import defaultdict, deque\n",
        "from sklearn.metrics import roc_curve, roc_auc_score, confusion_matrix, classification_report\n",
        "from sklearn.metrics import precision_recall_curve\n",
        "from sklearn.model_selection import train_test_split"
      ],
      "execution_count": 0,
      "outputs": []
    },
    {
      "cell_type": "code",
      "metadata": {
        "id": "PFdBDjs1WdPY",
        "colab_type": "code",
        "colab": {
          "base_uri": "https://localhost:8080/",
          "height": 1000
        },
        "outputId": "08f6021a-daa8-425a-9680-6c3934f6bdfa"
      },
      "source": [
        "!pip install flair"
      ],
      "execution_count": 2,
      "outputs": [
        {
          "output_type": "stream",
          "text": [
            "Requirement already satisfied: flair in /usr/local/lib/python3.6/dist-packages (0.4.5)\n",
            "Requirement already satisfied: langdetect in /usr/local/lib/python3.6/dist-packages (from flair) (1.0.7)\n",
            "Requirement already satisfied: torch>=1.1.0 in /usr/local/lib/python3.6/dist-packages (from flair) (1.4.0)\n",
            "Requirement already satisfied: sqlitedict>=1.6.0 in /usr/local/lib/python3.6/dist-packages (from flair) (1.6.0)\n",
            "Requirement already satisfied: tqdm>=4.26.0 in /usr/local/lib/python3.6/dist-packages (from flair) (4.28.1)\n",
            "Requirement already satisfied: regex in /usr/local/lib/python3.6/dist-packages (from flair) (2019.12.20)\n",
            "Requirement already satisfied: python-dateutil>=2.6.1 in /usr/local/lib/python3.6/dist-packages (from flair) (2.6.1)\n",
            "Requirement already satisfied: segtok>=1.5.7 in /usr/local/lib/python3.6/dist-packages (from flair) (1.5.7)\n",
            "Requirement already satisfied: hyperopt>=0.1.1 in /usr/local/lib/python3.6/dist-packages (from flair) (0.1.2)\n",
            "Requirement already satisfied: gensim>=3.4.0 in /usr/local/lib/python3.6/dist-packages (from flair) (3.6.0)\n",
            "Requirement already satisfied: urllib3<1.25,>=1.20 in /usr/local/lib/python3.6/dist-packages (from flair) (1.24.3)\n",
            "Requirement already satisfied: matplotlib>=2.2.3 in /usr/local/lib/python3.6/dist-packages (from flair) (3.1.3)\n",
            "Requirement already satisfied: deprecated>=1.2.4 in /usr/local/lib/python3.6/dist-packages (from flair) (1.2.7)\n",
            "Requirement already satisfied: mpld3==0.3 in /usr/local/lib/python3.6/dist-packages (from flair) (0.3)\n",
            "Requirement already satisfied: scikit-learn>=0.21.3 in /usr/local/lib/python3.6/dist-packages (from flair) (0.22.1)\n",
            "Requirement already satisfied: bpemb>=0.2.9 in /usr/local/lib/python3.6/dist-packages (from flair) (0.3.0)\n",
            "Requirement already satisfied: tabulate in /usr/local/lib/python3.6/dist-packages (from flair) (0.8.6)\n",
            "Requirement already satisfied: transformers>=2.3.0 in /usr/local/lib/python3.6/dist-packages (from flair) (2.5.1)\n",
            "Requirement already satisfied: pytest>=5.3.2 in /usr/local/lib/python3.6/dist-packages (from flair) (5.3.5)\n",
            "Requirement already satisfied: six in /usr/local/lib/python3.6/dist-packages (from langdetect->flair) (1.12.0)\n",
            "Requirement already satisfied: future in /usr/local/lib/python3.6/dist-packages (from hyperopt>=0.1.1->flair) (0.16.0)\n",
            "Requirement already satisfied: pymongo in /usr/local/lib/python3.6/dist-packages (from hyperopt>=0.1.1->flair) (3.10.1)\n",
            "Requirement already satisfied: numpy in /usr/local/lib/python3.6/dist-packages (from hyperopt>=0.1.1->flair) (1.17.5)\n",
            "Requirement already satisfied: scipy in /usr/local/lib/python3.6/dist-packages (from hyperopt>=0.1.1->flair) (1.4.1)\n",
            "Requirement already satisfied: networkx in /usr/local/lib/python3.6/dist-packages (from hyperopt>=0.1.1->flair) (2.4)\n",
            "Requirement already satisfied: smart-open>=1.2.1 in /usr/local/lib/python3.6/dist-packages (from gensim>=3.4.0->flair) (1.9.0)\n",
            "Requirement already satisfied: kiwisolver>=1.0.1 in /usr/local/lib/python3.6/dist-packages (from matplotlib>=2.2.3->flair) (1.1.0)\n",
            "Requirement already satisfied: pyparsing!=2.0.4,!=2.1.2,!=2.1.6,>=2.0.1 in /usr/local/lib/python3.6/dist-packages (from matplotlib>=2.2.3->flair) (2.4.6)\n",
            "Requirement already satisfied: cycler>=0.10 in /usr/local/lib/python3.6/dist-packages (from matplotlib>=2.2.3->flair) (0.10.0)\n",
            "Requirement already satisfied: wrapt<2,>=1.10 in /usr/local/lib/python3.6/dist-packages (from deprecated>=1.2.4->flair) (1.11.2)\n",
            "Requirement already satisfied: joblib>=0.11 in /usr/local/lib/python3.6/dist-packages (from scikit-learn>=0.21.3->flair) (0.14.1)\n",
            "Requirement already satisfied: sentencepiece in /usr/local/lib/python3.6/dist-packages (from bpemb>=0.2.9->flair) (0.1.85)\n",
            "Requirement already satisfied: requests in /usr/local/lib/python3.6/dist-packages (from bpemb>=0.2.9->flair) (2.21.0)\n",
            "Requirement already satisfied: filelock in /usr/local/lib/python3.6/dist-packages (from transformers>=2.3.0->flair) (3.0.12)\n",
            "Requirement already satisfied: tokenizers==0.5.2 in /usr/local/lib/python3.6/dist-packages (from transformers>=2.3.0->flair) (0.5.2)\n",
            "Requirement already satisfied: boto3 in /usr/local/lib/python3.6/dist-packages (from transformers>=2.3.0->flair) (1.11.15)\n",
            "Requirement already satisfied: sacremoses in /usr/local/lib/python3.6/dist-packages (from transformers>=2.3.0->flair) (0.0.38)\n",
            "Requirement already satisfied: attrs>=17.4.0 in /usr/local/lib/python3.6/dist-packages (from pytest>=5.3.2->flair) (19.3.0)\n",
            "Requirement already satisfied: packaging in /usr/local/lib/python3.6/dist-packages (from pytest>=5.3.2->flair) (20.1)\n",
            "Requirement already satisfied: pluggy<1.0,>=0.12 in /usr/local/lib/python3.6/dist-packages (from pytest>=5.3.2->flair) (0.13.1)\n",
            "Requirement already satisfied: wcwidth in /usr/local/lib/python3.6/dist-packages (from pytest>=5.3.2->flair) (0.1.8)\n",
            "Requirement already satisfied: more-itertools>=4.0.0 in /usr/local/lib/python3.6/dist-packages (from pytest>=5.3.2->flair) (8.2.0)\n",
            "Requirement already satisfied: py>=1.5.0 in /usr/local/lib/python3.6/dist-packages (from pytest>=5.3.2->flair) (1.8.1)\n",
            "Requirement already satisfied: importlib-metadata>=0.12; python_version < \"3.8\" in /usr/local/lib/python3.6/dist-packages (from pytest>=5.3.2->flair) (1.5.0)\n",
            "Requirement already satisfied: decorator>=4.3.0 in /usr/local/lib/python3.6/dist-packages (from networkx->hyperopt>=0.1.1->flair) (4.4.1)\n",
            "Requirement already satisfied: boto>=2.32 in /usr/local/lib/python3.6/dist-packages (from smart-open>=1.2.1->gensim>=3.4.0->flair) (2.49.0)\n",
            "Requirement already satisfied: setuptools in /usr/local/lib/python3.6/dist-packages (from kiwisolver>=1.0.1->matplotlib>=2.2.3->flair) (45.1.0)\n",
            "Requirement already satisfied: chardet<3.1.0,>=3.0.2 in /usr/local/lib/python3.6/dist-packages (from requests->bpemb>=0.2.9->flair) (3.0.4)\n",
            "Requirement already satisfied: idna<2.9,>=2.5 in /usr/local/lib/python3.6/dist-packages (from requests->bpemb>=0.2.9->flair) (2.8)\n",
            "Requirement already satisfied: certifi>=2017.4.17 in /usr/local/lib/python3.6/dist-packages (from requests->bpemb>=0.2.9->flair) (2019.11.28)\n",
            "Requirement already satisfied: jmespath<1.0.0,>=0.7.1 in /usr/local/lib/python3.6/dist-packages (from boto3->transformers>=2.3.0->flair) (0.9.4)\n",
            "Requirement already satisfied: s3transfer<0.4.0,>=0.3.0 in /usr/local/lib/python3.6/dist-packages (from boto3->transformers>=2.3.0->flair) (0.3.3)\n",
            "Requirement already satisfied: botocore<1.15.0,>=1.14.15 in /usr/local/lib/python3.6/dist-packages (from boto3->transformers>=2.3.0->flair) (1.14.15)\n",
            "Requirement already satisfied: click in /usr/local/lib/python3.6/dist-packages (from sacremoses->transformers>=2.3.0->flair) (7.0)\n",
            "Requirement already satisfied: zipp>=0.5 in /usr/local/lib/python3.6/dist-packages (from importlib-metadata>=0.12; python_version < \"3.8\"->pytest>=5.3.2->flair) (3.0.0)\n",
            "Requirement already satisfied: docutils<0.16,>=0.10 in /usr/local/lib/python3.6/dist-packages (from botocore<1.15.0,>=1.14.15->boto3->transformers>=2.3.0->flair) (0.15.2)\n"
          ],
          "name": "stdout"
        }
      ]
    },
    {
      "cell_type": "code",
      "metadata": {
        "id": "e21SkqIDWQCY",
        "colab_type": "code",
        "colab": {
          "base_uri": "https://localhost:8080/",
          "height": 99
        },
        "outputId": "9ecb250b-ceeb-44ee-9fa5-a99af1499d39"
      },
      "source": [
        "# import flair\n",
        "from flair.models import TextClassifier\n",
        "classifier = TextClassifier.load('en-sentiment')\n",
        "from flair.data import Sentence"
      ],
      "execution_count": 3,
      "outputs": [
        {
          "output_type": "display_data",
          "data": {
            "text/html": [
              "<p style=\"color: red;\">\n",
              "The default version of TensorFlow in Colab will soon switch to TensorFlow 2.x.<br>\n",
              "We recommend you <a href=\"https://www.tensorflow.org/guide/migrate\" target=\"_blank\">upgrade</a> now \n",
              "or ensure your notebook will continue to use TensorFlow 1.x via the <code>%tensorflow_version 1.x</code> magic:\n",
              "<a href=\"https://colab.research.google.com/notebooks/tensorflow_version.ipynb\" target=\"_blank\">more info</a>.</p>\n"
            ],
            "text/plain": [
              "<IPython.core.display.HTML object>"
            ]
          },
          "metadata": {
            "tags": []
          }
        },
        {
          "output_type": "stream",
          "text": [
            "2020-02-25 00:59:27,176 loading file /root/.flair/models/imdb-v0.4.pt\n"
          ],
          "name": "stdout"
        }
      ]
    },
    {
      "cell_type": "code",
      "metadata": {
        "id": "7Q0FBh6LWZoz",
        "colab_type": "code",
        "colab": {
          "base_uri": "https://localhost:8080/",
          "height": 208
        },
        "outputId": "d617b5b7-c71b-43b8-ccdb-2bdf66e7b039"
      },
      "source": [
        "!wget http://deepyeti.ucsd.edu/jianmo/amazon/categoryFilesSmall/Video_Games_5.json.gz"
      ],
      "execution_count": 5,
      "outputs": [
        {
          "output_type": "stream",
          "text": [
            "--2020-02-24 23:56:49--  http://deepyeti.ucsd.edu/jianmo/amazon/categoryFilesSmall/Video_Games_5.json.gz\n",
            "Resolving deepyeti.ucsd.edu (deepyeti.ucsd.edu)... 169.228.63.50\n",
            "Connecting to deepyeti.ucsd.edu (deepyeti.ucsd.edu)|169.228.63.50|:80... connected.\n",
            "HTTP request sent, awaiting response... 200 OK\n",
            "Length: 154050105 (147M) [application/octet-stream]\n",
            "Saving to: ‘Video_Games_5.json.gz’\n",
            "\n",
            "Video_Games_5.json. 100%[===================>] 146.91M  11.2MB/s    in 13s     \n",
            "\n",
            "2020-02-24 23:57:02 (11.1 MB/s) - ‘Video_Games_5.json.gz’ saved [154050105/154050105]\n",
            "\n"
          ],
          "name": "stdout"
        }
      ]
    },
    {
      "cell_type": "code",
      "metadata": {
        "id": "B1_mzBaIXN-9",
        "colab_type": "code",
        "colab": {}
      },
      "source": [
        "# read in the data\n",
        "vg = pd.read_json('Video_Games_5.json.gz', lines=True, compression='gzip')"
      ],
      "execution_count": 0,
      "outputs": []
    },
    {
      "cell_type": "code",
      "metadata": {
        "id": "x6mMEU8ZXbG5",
        "colab_type": "code",
        "colab": {
          "base_uri": "https://localhost:8080/",
          "height": 499
        },
        "outputId": "cb1abb0f-1129-4f2c-9f73-808cb50f44ca"
      },
      "source": [
        "vg.head()"
      ],
      "execution_count": 5,
      "outputs": [
        {
          "output_type": "execute_result",
          "data": {
            "text/html": [
              "<div>\n",
              "<style scoped>\n",
              "    .dataframe tbody tr th:only-of-type {\n",
              "        vertical-align: middle;\n",
              "    }\n",
              "\n",
              "    .dataframe tbody tr th {\n",
              "        vertical-align: top;\n",
              "    }\n",
              "\n",
              "    .dataframe thead th {\n",
              "        text-align: right;\n",
              "    }\n",
              "</style>\n",
              "<table border=\"1\" class=\"dataframe\">\n",
              "  <thead>\n",
              "    <tr style=\"text-align: right;\">\n",
              "      <th></th>\n",
              "      <th>overall</th>\n",
              "      <th>verified</th>\n",
              "      <th>reviewTime</th>\n",
              "      <th>reviewerID</th>\n",
              "      <th>asin</th>\n",
              "      <th>reviewerName</th>\n",
              "      <th>reviewText</th>\n",
              "      <th>summary</th>\n",
              "      <th>unixReviewTime</th>\n",
              "      <th>vote</th>\n",
              "      <th>style</th>\n",
              "      <th>image</th>\n",
              "    </tr>\n",
              "  </thead>\n",
              "  <tbody>\n",
              "    <tr>\n",
              "      <th>0</th>\n",
              "      <td>5</td>\n",
              "      <td>True</td>\n",
              "      <td>10 17, 2015</td>\n",
              "      <td>A1HP7NVNPFMA4N</td>\n",
              "      <td>0700026657</td>\n",
              "      <td>Ambrosia075</td>\n",
              "      <td>This game is a bit hard to get the hang of, bu...</td>\n",
              "      <td>but when you do it's great.</td>\n",
              "      <td>1445040000</td>\n",
              "      <td>NaN</td>\n",
              "      <td>NaN</td>\n",
              "      <td>NaN</td>\n",
              "    </tr>\n",
              "    <tr>\n",
              "      <th>1</th>\n",
              "      <td>4</td>\n",
              "      <td>False</td>\n",
              "      <td>07 27, 2015</td>\n",
              "      <td>A1JGAP0185YJI6</td>\n",
              "      <td>0700026657</td>\n",
              "      <td>travis</td>\n",
              "      <td>I played it a while but it was alright. The st...</td>\n",
              "      <td>But in spite of that it was fun, I liked it</td>\n",
              "      <td>1437955200</td>\n",
              "      <td>NaN</td>\n",
              "      <td>NaN</td>\n",
              "      <td>NaN</td>\n",
              "    </tr>\n",
              "    <tr>\n",
              "      <th>2</th>\n",
              "      <td>3</td>\n",
              "      <td>True</td>\n",
              "      <td>02 23, 2015</td>\n",
              "      <td>A1YJWEXHQBWK2B</td>\n",
              "      <td>0700026657</td>\n",
              "      <td>Vincent G. Mezera</td>\n",
              "      <td>ok game.</td>\n",
              "      <td>Three Stars</td>\n",
              "      <td>1424649600</td>\n",
              "      <td>NaN</td>\n",
              "      <td>NaN</td>\n",
              "      <td>NaN</td>\n",
              "    </tr>\n",
              "    <tr>\n",
              "      <th>3</th>\n",
              "      <td>2</td>\n",
              "      <td>True</td>\n",
              "      <td>02 20, 2015</td>\n",
              "      <td>A2204E1TH211HT</td>\n",
              "      <td>0700026657</td>\n",
              "      <td>Grandma KR</td>\n",
              "      <td>found the game a bit too complicated, not what...</td>\n",
              "      <td>Two Stars</td>\n",
              "      <td>1424390400</td>\n",
              "      <td>NaN</td>\n",
              "      <td>NaN</td>\n",
              "      <td>NaN</td>\n",
              "    </tr>\n",
              "    <tr>\n",
              "      <th>4</th>\n",
              "      <td>5</td>\n",
              "      <td>True</td>\n",
              "      <td>12 25, 2014</td>\n",
              "      <td>A2RF5B5H74JLPE</td>\n",
              "      <td>0700026657</td>\n",
              "      <td>jon</td>\n",
              "      <td>great game, I love it and have played it since...</td>\n",
              "      <td>love this game</td>\n",
              "      <td>1419465600</td>\n",
              "      <td>NaN</td>\n",
              "      <td>NaN</td>\n",
              "      <td>NaN</td>\n",
              "    </tr>\n",
              "  </tbody>\n",
              "</table>\n",
              "</div>"
            ],
            "text/plain": [
              "   overall  verified   reviewTime  ... vote style image\n",
              "0        5      True  10 17, 2015  ...  NaN   NaN   NaN\n",
              "1        4     False  07 27, 2015  ...  NaN   NaN   NaN\n",
              "2        3      True  02 23, 2015  ...  NaN   NaN   NaN\n",
              "3        2      True  02 20, 2015  ...  NaN   NaN   NaN\n",
              "4        5      True  12 25, 2014  ...  NaN   NaN   NaN\n",
              "\n",
              "[5 rows x 12 columns]"
            ]
          },
          "metadata": {
            "tags": []
          },
          "execution_count": 5
        }
      ]
    },
    {
      "cell_type": "code",
      "metadata": {
        "id": "O1xpWVz6XhM5",
        "colab_type": "code",
        "colab": {}
      },
      "source": [
        "# slice the appropriate columns\n",
        "vg = vg.loc[:,['overall', 'reviewText']]"
      ],
      "execution_count": 0,
      "outputs": []
    },
    {
      "cell_type": "code",
      "metadata": {
        "id": "NNWBfu3FXn5_",
        "colab_type": "code",
        "colab": {}
      },
      "source": [
        "# clean up nan values and change datatype\n",
        "vg = vg.dropna(how='any')\n",
        "vg.loc[:,'overall'] = vg.overall.astype('int16')"
      ],
      "execution_count": 0,
      "outputs": []
    },
    {
      "cell_type": "code",
      "metadata": {
        "id": "JZB1HRYWXrnv",
        "colab_type": "code",
        "colab": {}
      },
      "source": [
        "# map sentiment for two-class pretrained model\n",
        "vg.loc[:,'pt_sentiment'] = vg.overall.map({1: 0, 2: 0, 3: 1, 4: 1, 5: 1}).astype('int16')"
      ],
      "execution_count": 0,
      "outputs": []
    },
    {
      "cell_type": "code",
      "metadata": {
        "id": "Te4cU36oX4Gz",
        "colab_type": "code",
        "colab": {
          "base_uri": "https://localhost:8080/",
          "height": 156
        },
        "outputId": "c8b8f2f8-8bfb-49a7-d8d2-08a2a6ffa4c9"
      },
      "source": [
        "# inspect the df info\n",
        "vg.info()"
      ],
      "execution_count": 9,
      "outputs": [
        {
          "output_type": "stream",
          "text": [
            "<class 'pandas.core.frame.DataFrame'>\n",
            "Int64Index: 497419 entries, 0 to 497576\n",
            "Data columns (total 3 columns):\n",
            "overall         497419 non-null int16\n",
            "reviewText      497419 non-null object\n",
            "pt_sentiment    497419 non-null int16\n",
            "dtypes: int16(2), object(1)\n",
            "memory usage: 9.5+ MB\n"
          ],
          "name": "stdout"
        }
      ]
    },
    {
      "cell_type": "code",
      "metadata": {
        "id": "lFqtjP64X87p",
        "colab_type": "code",
        "colab": {
          "base_uri": "https://localhost:8080/",
          "height": 69
        },
        "outputId": "a78124c7-31c3-4cb6-f914-9f4cc84de3bf"
      },
      "source": [
        "# get sentiment counts\n",
        "vg.pt_sentiment.value_counts()"
      ],
      "execution_count": 10,
      "outputs": [
        {
          "output_type": "execute_result",
          "data": {
            "text/plain": [
              "1    442407\n",
              "0     55012\n",
              "Name: pt_sentiment, dtype: int64"
            ]
          },
          "metadata": {
            "tags": []
          },
          "execution_count": 10
        }
      ]
    },
    {
      "cell_type": "code",
      "metadata": {
        "id": "7oHi_MVyYEUG",
        "colab_type": "code",
        "colab": {}
      },
      "source": [
        "# split the data into train/test\n",
        "train_text, test_text, train_labels, test_labels = train_test_split(vg.reviewText, \n",
        "                                                                    vg.pt_sentiment, \n",
        "                                                                    test_size=0.25,\n",
        "                                                                    random_state=42, \n",
        "                                                                    stratify=vg.pt_sentiment)"
      ],
      "execution_count": 0,
      "outputs": []
    },
    {
      "cell_type": "code",
      "metadata": {
        "id": "RuYATGB-nUrL",
        "colab_type": "code",
        "colab": {}
      },
      "source": [
        "# split the train data into train/valid\n",
        "train_text, valid_text, train_labels, valid_labels = train_test_split(train_text, train_labels, \n",
        "                                                                      test_size=0.25,\n",
        "                                                                      random_state=42, \n",
        "                                                                      stratify=train_labels)"
      ],
      "execution_count": 0,
      "outputs": []
    },
    {
      "cell_type": "code",
      "metadata": {
        "id": "phMTtwLWYJzi",
        "colab_type": "code",
        "colab": {
          "base_uri": "https://localhost:8080/",
          "height": 52
        },
        "outputId": "37408e2c-c1c8-4b58-9608-49cc913d48c5"
      },
      "source": [
        "# split the data into smaller chunks\n",
        "# a list of your sentences\n",
        "# sentences = [Sentence(text) for text in test_text]\n",
        "sentences1 = deque()\n",
        "sentences2 = deque()\n",
        "sentences3 = deque()\n",
        "sentences4 = deque()\n",
        "sentences5 = deque()\n",
        "test_text1 = test_text[:25000] # trying smaller size to save memory\n",
        "test_text2 = test_text[25000:50000]\n",
        "test_text3 = test_text[50000:75000]\n",
        "test_text4 = test_text[75000:100000]\n",
        "test_text5 = test_text[100000:]\n",
        "print(len(test_text1) + len(test_text2) + len(test_text3) + len(test_text4) + len(test_text5))\n",
        "print(len(test_text))"
      ],
      "execution_count": 18,
      "outputs": [
        {
          "output_type": "stream",
          "text": [
            "124355\n",
            "124355\n"
          ],
          "name": "stdout"
        }
      ]
    },
    {
      "cell_type": "code",
      "metadata": {
        "id": "jKGHrCSVYTo2",
        "colab_type": "code",
        "colab": {}
      },
      "source": [
        "# extract the first chunk\n",
        "for text in test_text1:\n",
        "    sentences1.append(Sentence(text))"
      ],
      "execution_count": 0,
      "outputs": []
    },
    {
      "cell_type": "code",
      "metadata": {
        "id": "rwurPCuLYedE",
        "colab_type": "code",
        "colab": {}
      },
      "source": [
        "def get_pretrained_preds(sentences):\n",
        "    \n",
        "    # initialize values for loop\n",
        "    scores = defaultdict(float)\n",
        "    values = defaultdict(str)\n",
        "    i = 0\n",
        "    \n",
        "    # predict for all sentences\n",
        "    classifier.predict(sentences, mini_batch_size=32)\n",
        "    \n",
        "    # loop and store predictions\n",
        "    # for sentence in sentences:\n",
        "    #     scores[i] = sentence.labels[0].score\n",
        "    #     values[i] = sentence.labels[0].value\n",
        "    #     i+=1\n",
        "    while len(sentences) > 0:\n",
        "        sentence = sentences.popleft()\n",
        "        scores[i] = sentence.labels[0].score\n",
        "        values[i] = sentence.labels[0].value\n",
        "        i+=1\n",
        "        \n",
        "    \n",
        "    # create and return a dataframe\n",
        "    df = pd.DataFrame({'probability': scores, 'prediction': values})\n",
        "    return(df)"
      ],
      "execution_count": 0,
      "outputs": []
    },
    {
      "cell_type": "code",
      "metadata": {
        "id": "hunjM-B6aStg",
        "colab_type": "code",
        "colab": {}
      },
      "source": [
        "df_pred1 = get_pretrained_preds(sentences1)"
      ],
      "execution_count": 0,
      "outputs": []
    },
    {
      "cell_type": "code",
      "metadata": {
        "id": "Z3BeXbmGaXRn",
        "colab_type": "code",
        "colab": {
          "base_uri": "https://localhost:8080/",
          "height": 202
        },
        "outputId": "394bddd8-ace1-4af9-f184-b9b2235f334c"
      },
      "source": [
        "df_pred1.head()"
      ],
      "execution_count": 22,
      "outputs": [
        {
          "output_type": "execute_result",
          "data": {
            "text/html": [
              "<div>\n",
              "<style scoped>\n",
              "    .dataframe tbody tr th:only-of-type {\n",
              "        vertical-align: middle;\n",
              "    }\n",
              "\n",
              "    .dataframe tbody tr th {\n",
              "        vertical-align: top;\n",
              "    }\n",
              "\n",
              "    .dataframe thead th {\n",
              "        text-align: right;\n",
              "    }\n",
              "</style>\n",
              "<table border=\"1\" class=\"dataframe\">\n",
              "  <thead>\n",
              "    <tr style=\"text-align: right;\">\n",
              "      <th></th>\n",
              "      <th>probability</th>\n",
              "      <th>prediction</th>\n",
              "    </tr>\n",
              "  </thead>\n",
              "  <tbody>\n",
              "    <tr>\n",
              "      <th>0</th>\n",
              "      <td>0.996104</td>\n",
              "      <td>POSITIVE</td>\n",
              "    </tr>\n",
              "    <tr>\n",
              "      <th>1</th>\n",
              "      <td>0.863034</td>\n",
              "      <td>POSITIVE</td>\n",
              "    </tr>\n",
              "    <tr>\n",
              "      <th>2</th>\n",
              "      <td>0.999872</td>\n",
              "      <td>POSITIVE</td>\n",
              "    </tr>\n",
              "    <tr>\n",
              "      <th>3</th>\n",
              "      <td>0.674651</td>\n",
              "      <td>POSITIVE</td>\n",
              "    </tr>\n",
              "    <tr>\n",
              "      <th>4</th>\n",
              "      <td>0.999235</td>\n",
              "      <td>NEGATIVE</td>\n",
              "    </tr>\n",
              "  </tbody>\n",
              "</table>\n",
              "</div>"
            ],
            "text/plain": [
              "   probability prediction\n",
              "0     0.996104   POSITIVE\n",
              "1     0.863034   POSITIVE\n",
              "2     0.999872   POSITIVE\n",
              "3     0.674651   POSITIVE\n",
              "4     0.999235   NEGATIVE"
            ]
          },
          "metadata": {
            "tags": []
          },
          "execution_count": 22
        }
      ]
    },
    {
      "cell_type": "code",
      "metadata": {
        "id": "tUP7v-qM4kiW",
        "colab_type": "code",
        "colab": {
          "base_uri": "https://localhost:8080/",
          "height": 35
        },
        "outputId": "1a1bdcc9-a0d7-42d4-b179-8d783b22f795"
      },
      "source": [
        "df_pred1.shape"
      ],
      "execution_count": 23,
      "outputs": [
        {
          "output_type": "execute_result",
          "data": {
            "text/plain": [
              "(25000, 2)"
            ]
          },
          "metadata": {
            "tags": []
          },
          "execution_count": 23
        }
      ]
    },
    {
      "cell_type": "code",
      "metadata": {
        "id": "Myo0WClaYgcc",
        "colab_type": "code",
        "colab": {}
      },
      "source": [
        "df_pred1.loc[:, 'pred'] = df_pred1.prediction.map({'POSITIVE': 1, 'NEGATIVE': 0})"
      ],
      "execution_count": 0,
      "outputs": []
    },
    {
      "cell_type": "code",
      "metadata": {
        "id": "jq77z6KLYzDi",
        "colab_type": "code",
        "colab": {
          "base_uri": "https://localhost:8080/",
          "height": 202
        },
        "outputId": "0f019d1b-8854-4ad0-89bf-c8b1e8d84613"
      },
      "source": [
        "df_pred1.head()"
      ],
      "execution_count": 26,
      "outputs": [
        {
          "output_type": "execute_result",
          "data": {
            "text/html": [
              "<div>\n",
              "<style scoped>\n",
              "    .dataframe tbody tr th:only-of-type {\n",
              "        vertical-align: middle;\n",
              "    }\n",
              "\n",
              "    .dataframe tbody tr th {\n",
              "        vertical-align: top;\n",
              "    }\n",
              "\n",
              "    .dataframe thead th {\n",
              "        text-align: right;\n",
              "    }\n",
              "</style>\n",
              "<table border=\"1\" class=\"dataframe\">\n",
              "  <thead>\n",
              "    <tr style=\"text-align: right;\">\n",
              "      <th></th>\n",
              "      <th>probability</th>\n",
              "      <th>prediction</th>\n",
              "      <th>pred</th>\n",
              "    </tr>\n",
              "  </thead>\n",
              "  <tbody>\n",
              "    <tr>\n",
              "      <th>0</th>\n",
              "      <td>0.996104</td>\n",
              "      <td>POSITIVE</td>\n",
              "      <td>1</td>\n",
              "    </tr>\n",
              "    <tr>\n",
              "      <th>1</th>\n",
              "      <td>0.863034</td>\n",
              "      <td>POSITIVE</td>\n",
              "      <td>1</td>\n",
              "    </tr>\n",
              "    <tr>\n",
              "      <th>2</th>\n",
              "      <td>0.999872</td>\n",
              "      <td>POSITIVE</td>\n",
              "      <td>1</td>\n",
              "    </tr>\n",
              "    <tr>\n",
              "      <th>3</th>\n",
              "      <td>0.674651</td>\n",
              "      <td>POSITIVE</td>\n",
              "      <td>1</td>\n",
              "    </tr>\n",
              "    <tr>\n",
              "      <th>4</th>\n",
              "      <td>0.999235</td>\n",
              "      <td>NEGATIVE</td>\n",
              "      <td>0</td>\n",
              "    </tr>\n",
              "  </tbody>\n",
              "</table>\n",
              "</div>"
            ],
            "text/plain": [
              "   probability prediction  pred\n",
              "0     0.996104   POSITIVE     1\n",
              "1     0.863034   POSITIVE     1\n",
              "2     0.999872   POSITIVE     1\n",
              "3     0.674651   POSITIVE     1\n",
              "4     0.999235   NEGATIVE     0"
            ]
          },
          "metadata": {
            "tags": []
          },
          "execution_count": 26
        }
      ]
    },
    {
      "cell_type": "code",
      "metadata": {
        "id": "fCRYcgtkZJrM",
        "colab_type": "code",
        "colab": {
          "base_uri": "https://localhost:8080/",
          "height": 52
        },
        "outputId": "c109ba85-e087-4711-8fab-15613c139cc3"
      },
      "source": [
        "# get variables to test the accuracy\n",
        "y_true1 = test_labels[:25000,]\n",
        "y_pred1 = df_pred1.loc[:25000, 'pred']\n",
        "print(y_true1.shape)\n",
        "print(y_pred1.shape)"
      ],
      "execution_count": 32,
      "outputs": [
        {
          "output_type": "stream",
          "text": [
            "(25000,)\n",
            "(25000,)\n"
          ],
          "name": "stdout"
        }
      ]
    },
    {
      "cell_type": "code",
      "metadata": {
        "id": "OjSqxmybZvfX",
        "colab_type": "code",
        "colab": {
          "base_uri": "https://localhost:8080/",
          "height": 156
        },
        "outputId": "63bbbbe2-076c-419c-eeaf-a0c248ccee87"
      },
      "source": [
        "# print the confusion matrix\n",
        "print(confusion_matrix(y_true1, y_pred1))\n",
        "tn, fp, fn, tp = confusion_matrix(y_true1, y_pred1).ravel()\n",
        "dr = tp / (tp + fn)\n",
        "fpr = fp / (fp + tn)\n",
        "print('True Negatives: {}'.format(tn))\n",
        "print('False Positives: {}'.format(fp))\n",
        "print('False Negatives: {}'.format(fn))\n",
        "print('True Positives: {}'.format(tp))\n",
        "print('Detection Rate: {}'.format(dr))\n",
        "print('False Positive Rate: {}'.format(fpr))"
      ],
      "execution_count": 33,
      "outputs": [
        {
          "output_type": "stream",
          "text": [
            "[[ 2060   681]\n",
            " [ 5285 16974]]\n",
            "True Negatives: 2060\n",
            "False Positives: 681\n",
            "False Negatives: 5285\n",
            "True Positives: 16974\n",
            "Detection Rate: 0.7625679500426794\n",
            "False Positive Rate: 0.24844947099598685\n"
          ],
          "name": "stdout"
        }
      ]
    },
    {
      "cell_type": "code",
      "metadata": {
        "id": "JjsG1h8Ga15K",
        "colab_type": "code",
        "colab": {
          "base_uri": "https://localhost:8080/",
          "height": 173
        },
        "outputId": "6b350e9e-b98a-4f4b-9367-d2fd9d214e16"
      },
      "source": [
        "print(classification_report(y_true1, y_pred1))"
      ],
      "execution_count": 34,
      "outputs": [
        {
          "output_type": "stream",
          "text": [
            "              precision    recall  f1-score   support\n",
            "\n",
            "           0       0.28      0.75      0.41      2741\n",
            "           1       0.96      0.76      0.85     22259\n",
            "\n",
            "    accuracy                           0.76     25000\n",
            "   macro avg       0.62      0.76      0.63     25000\n",
            "weighted avg       0.89      0.76      0.80     25000\n",
            "\n"
          ],
          "name": "stdout"
        }
      ]
    },
    {
      "cell_type": "code",
      "metadata": {
        "id": "fdcn-2xQbibE",
        "colab_type": "code",
        "colab": {}
      },
      "source": [
        "import matplotlib.pyplot as plt"
      ],
      "execution_count": 0,
      "outputs": []
    },
    {
      "cell_type": "code",
      "metadata": {
        "id": "4zWc9dGjbfzk",
        "colab_type": "code",
        "colab": {
          "base_uri": "https://localhost:8080/",
          "height": 295
        },
        "outputId": "bbacae0d-444c-4969-f45c-05b1c65f2064"
      },
      "source": [
        "y_pred_prob = df_pred1.probability\n",
        "\n",
        "# unpack into false positive rate, true positive rate, and thresholds\n",
        "fpr, tpr, thresholds = roc_curve(y_true1, df_pred1.probability)\n",
        "\n",
        "_ = plt.plot([0,1], [0,1], 'k--')\n",
        "_ = plt.plot(fpr, tpr, label='test_set_1')\n",
        "_ = plt.xlabel('False Positive Rate')\n",
        "_ = plt.ylabel('True Positive Rate')\n",
        "_ = plt.title('Test Set 1 ROC Curve')"
      ],
      "execution_count": 39,
      "outputs": [
        {
          "output_type": "display_data",
          "data": {
            "image/png": "[encoded data removed]",
            "text/plain": [
              "<Figure size 432x288 with 1 Axes>"
            ]
          },
          "metadata": {
            "tags": []
          }
        }
      ]
    },
    {
      "cell_type": "code",
      "metadata": {
        "id": "tXE70qRWcROo",
        "colab_type": "code",
        "colab": {
          "base_uri": "https://localhost:8080/",
          "height": 35
        },
        "outputId": "1f73cd3a-4f37-4dc9-9718-1fc981f731bc"
      },
      "source": [
        "# compute the AUC\n",
        "print(roc_auc_score(y_true1, y_pred_prob))"
      ],
      "execution_count": 40,
      "outputs": [
        {
          "output_type": "stream",
          "text": [
            "0.49359414510466393\n"
          ],
          "name": "stdout"
        }
      ]
    },
    {
      "cell_type": "code",
      "metadata": {
        "id": "cmdp5glJc_Am",
        "colab_type": "code",
        "colab": {
          "base_uri": "https://localhost:8080/",
          "height": 295
        },
        "outputId": "fadb66ae-7889-44d0-8d85-eea1d234413d"
      },
      "source": [
        "# plot the precision/recall curve\n",
        "precision, recall, thresholds = precision_recall_curve(y_true1, y_pred_prob)\n",
        "\n",
        "_ = plt.plot(recall, precision)\n",
        "_ = plt.plot([1,0], [0,1], 'k--')\n",
        "_ = plt.xlabel('Recall')\n",
        "_ = plt.ylabel('Precision')\n",
        "_ = plt.title('Precision/Recall Curve')"
      ],
      "execution_count": 41,
      "outputs": [
        {
          "output_type": "display_data",
          "data": {
            "image/png": "[encoded data removed]",
            "text/plain": [
              "<Figure size 432x288 with 1 Axes>"
            ]
          },
          "metadata": {
            "tags": []
          }
        }
      ]
    },
    {
      "cell_type": "code",
      "metadata": {
        "id": "6ETSogt8XJZK",
        "colab_type": "code",
        "colab": {}
      },
      "source": [
        "df_pred1.to_csv('predictions.txt', sep=',', columns=['probability', 'prediction', 'pred'], \n",
        "                header=True, index=True, mode='w')"
      ],
      "execution_count": 0,
      "outputs": []
    },
    {
      "cell_type": "code",
      "metadata": {
        "id": "hfmq9OnGYBRi",
        "colab_type": "code",
        "colab": {}
      },
      "source": [
        "# extract the next chunk\n",
        "for text in test_text2:\n",
        "    sentences2.append(Sentence(text))"
      ],
      "execution_count": 0,
      "outputs": []
    },
    {
      "cell_type": "code",
      "metadata": {
        "id": "yg4Pp9RhYPfS",
        "colab_type": "code",
        "colab": {}
      },
      "source": [
        "df_pred2 = get_pretrained_preds(sentences2)"
      ],
      "execution_count": 0,
      "outputs": []
    },
    {
      "cell_type": "code",
      "metadata": {
        "id": "SzaM6e5VYWHg",
        "colab_type": "code",
        "colab": {}
      },
      "source": [
        "df_pred2.to_csv('predictions.txt', sep=',', columns=['probability', 'prediction'], header=False, index=True, mode='a')"
      ],
      "execution_count": 0,
      "outputs": []
    },
    {
      "cell_type": "code",
      "metadata": {
        "id": "UeuXjOs8bMuO",
        "colab_type": "code",
        "colab": {}
      },
      "source": [
        ""
      ],
      "execution_count": 0,
      "outputs": []
    },
    {
      "cell_type": "code",
      "metadata": {
        "id": "94_J4tBMbM8d",
        "colab_type": "code",
        "colab": {
          "base_uri": "https://localhost:8080/",
          "height": 69
        },
        "outputId": "349d18c5-7d06-4dcf-b060-62bd5b3eafd2"
      },
      "source": [
        "train_text.index[:10]"
      ],
      "execution_count": 56,
      "outputs": [
        {
          "output_type": "execute_result",
          "data": {
            "text/plain": [
              "Int64Index([67189, 409345, 200528, 285828, 432542, 409749, 475246, 406743,\n",
              "            17662, 183961],\n",
              "           dtype='int64')"
            ]
          },
          "metadata": {
            "tags": []
          },
          "execution_count": 56
        }
      ]
    },
    {
      "cell_type": "code",
      "metadata": {
        "id": "8451YukUfAS9",
        "colab_type": "code",
        "colab": {
          "base_uri": "https://localhost:8080/",
          "height": 69
        },
        "outputId": "e4e8a9fb-3aea-4b15-c9b6-21ec9af79996"
      },
      "source": [
        "train_labels.index[:10]"
      ],
      "execution_count": 57,
      "outputs": [
        {
          "output_type": "execute_result",
          "data": {
            "text/plain": [
              "Int64Index([67189, 409345, 200528, 285828, 432542, 409749, 475246, 406743,\n",
              "            17662, 183961],\n",
              "           dtype='int64')"
            ]
          },
          "metadata": {
            "tags": []
          },
          "execution_count": 57
        }
      ]
    },
    {
      "cell_type": "code",
      "metadata": {
        "id": "z1jIfIYEfjth",
        "colab_type": "code",
        "colab": {
          "base_uri": "https://localhost:8080/",
          "height": 35
        },
        "outputId": "4939e204-45d8-4ab9-d33f-9240592bc1d3"
      },
      "source": [
        "train_text[67189]"
      ],
      "execution_count": 61,
      "outputs": [
        {
          "output_type": "execute_result",
          "data": {
            "text/plain": [
              "'This is such a great game and I love having it back.  Works perfectly and I have no complaint.'"
            ]
          },
          "metadata": {
            "tags": []
          },
          "execution_count": 61
        }
      ]
    },
    {
      "cell_type": "code",
      "metadata": {
        "id": "ZMigrOcOfmgN",
        "colab_type": "code",
        "colab": {
          "base_uri": "https://localhost:8080/",
          "height": 35
        },
        "outputId": "7052c7f9-3ed2-46f2-98e4-43dde294d7f4"
      },
      "source": [
        "train_labels[67189]"
      ],
      "execution_count": 62,
      "outputs": [
        {
          "output_type": "execute_result",
          "data": {
            "text/plain": [
              "1"
            ]
          },
          "metadata": {
            "tags": []
          },
          "execution_count": 62
        }
      ]
    },
    {
      "cell_type": "code",
      "metadata": {
        "id": "8CxQr-uAjG6i",
        "colab_type": "code",
        "colab": {
          "base_uri": "https://localhost:8080/",
          "height": 191
        },
        "outputId": "6fc1dbc8-f00e-432a-f127-50f0db496b6c"
      },
      "source": [
        "for idx in train_text.index.values[:10]:\n",
        "    print(idx)"
      ],
      "execution_count": 64,
      "outputs": [
        {
          "output_type": "stream",
          "text": [
            "67189\n",
            "409345\n",
            "200528\n",
            "285828\n",
            "432542\n",
            "409749\n",
            "475246\n",
            "406743\n",
            "17662\n",
            "183961\n"
          ],
          "name": "stdout"
        }
      ]
    },
    {
      "cell_type": "code",
      "metadata": {
        "id": "uQPZBUb6dQ9T",
        "colab_type": "code",
        "colab": {}
      },
      "source": [
        "# manual model training"
      ],
      "execution_count": 0,
      "outputs": []
    },
    {
      "cell_type": "code",
      "metadata": {
        "id": "V179PtJZdQ64",
        "colab_type": "code",
        "colab": {}
      },
      "source": [
        "# write to file instead of to long text string\n",
        "import os.path\n",
        "\n",
        "idxs = train_text.index.values\n",
        "max_idx = max(idxs)\n",
        "\n",
        "if os.path.isfile('train.txt'):\n",
        "    print (\"File already created.\")\n",
        "else:\n",
        "    with open('train.txt', 'w') as file:\n",
        "        for idx in idxs:\n",
        "            line = '__label__'\n",
        "            line += str(train_labels[idx]) + ' '\n",
        "            line += str.replace(train_text[idx], '\\n', ' ')\n",
        "            line += '\\n'\n",
        "            file.write(line)"
      ],
      "execution_count": 0,
      "outputs": []
    },
    {
      "cell_type": "code",
      "metadata": {
        "id": "G4AOGzDnempD",
        "colab_type": "code",
        "colab": {}
      },
      "source": [
        "# write dev.txt\n",
        "max_idx = max(valid_text.index.values)\n",
        "\n",
        "if os.path.isfile('dev.txt'):\n",
        "    print (\"File already created.\")\n",
        "else:\n",
        "    with open('dev.txt', 'w') as file:\n",
        "        for idx in valid_text.index.values:\n",
        "            line = '__label__'\n",
        "            line += str(valid_labels[idx]) + ' '\n",
        "            line += str.replace(valid_text[idx], '\\n', ' ')\n",
        "            line += '\\n'\n",
        "            file.write(line)"
      ],
      "execution_count": 0,
      "outputs": []
    },
    {
      "cell_type": "code",
      "metadata": {
        "id": "zzYWvHfPduhj",
        "colab_type": "code",
        "colab": {}
      },
      "source": [
        "# write to file instead of to long text string\n",
        "import os.path\n",
        "\n",
        "max_idx = max(test_text.index.values)\n",
        "\n",
        "if os.path.isfile('test.txt'):\n",
        "    print (\"File already created.\")\n",
        "else:\n",
        "    with open('test.txt', 'w') as file:\n",
        "        for idx in test_text.index.values:\n",
        "            line = '__label__'\n",
        "            line += str(test_labels[idx]) + ' '\n",
        "            line += str.replace(test_text[idx], '\\n', ' ')\n",
        "            line += '\\n'\n",
        "            file.write(line)"
      ],
      "execution_count": 0,
      "outputs": []
    },
    {
      "cell_type": "code",
      "metadata": {
        "id": "8zs1wk8GkbOb",
        "colab_type": "code",
        "colab": {}
      },
      "source": [
        "from flair.data import Corpus\n",
        "from flair.datasets import ClassificationCorpus\n",
        "from flair.trainers import ModelTrainer\n",
        "from pathlib import Path"
      ],
      "execution_count": 0,
      "outputs": []
    },
    {
      "cell_type": "code",
      "metadata": {
        "id": "1kFH0vcdkiSZ",
        "colab_type": "code",
        "colab": {
          "base_uri": "https://localhost:8080/",
          "height": 87
        },
        "outputId": "1f880dae-0344-49db-dabb-9f4e69f210ed"
      },
      "source": [
        "# load corpus containing training, test and dev data\n",
        "corpus: Corpus = ClassificationCorpus('./',\n",
        "                                      test_file='test.txt',\n",
        "                                      dev_file='dev.txt',\n",
        "                                      train_file='train.txt')"
      ],
      "execution_count": 72,
      "outputs": [
        {
          "output_type": "stream",
          "text": [
            "2020-02-25 04:20:23,794 Reading data from .\n",
            "2020-02-25 04:20:23,796 Train: train.txt\n",
            "2020-02-25 04:20:23,797 Dev: dev.txt\n",
            "2020-02-25 04:20:23,798 Test: test.txt\n"
          ],
          "name": "stdout"
        }
      ]
    },
    {
      "cell_type": "code",
      "metadata": {
        "id": "MAp1sAmSkxB3",
        "colab_type": "code",
        "colab": {}
      },
      "source": [
        "from flair.embeddings import TokenEmbeddings, WordEmbeddings, StackedEmbeddings\n",
        "from flair.embeddings import FlairEmbeddings, DocumentRNNEmbeddings\n",
        "from typing import List"
      ],
      "execution_count": 0,
      "outputs": []
    },
    {
      "cell_type": "code",
      "metadata": {
        "id": "41HWFz33k85h",
        "colab_type": "code",
        "colab": {
          "base_uri": "https://localhost:8080/",
          "height": 349
        },
        "outputId": "75ca8791-b828-4b9a-d182-9f1d42c1c337"
      },
      "source": [
        "word_embeddings = [WordEmbeddings('glove'), FlairEmbeddings('news-forward-fast'), \n",
        "                   FlairEmbeddings('news-backward-fast')]"
      ],
      "execution_count": 74,
      "outputs": [
        {
          "output_type": "stream",
          "text": [
            "2020-02-25 04:21:28,176 https://s3.eu-central-1.amazonaws.com/alan-nlp/resources/embeddings/glove.gensim.vectors.npy not found in cache, downloading to /tmp/tmp191l1hro\n"
          ],
          "name": "stdout"
        },
        {
          "output_type": "stream",
          "text": [
            "100%|██████████| 160000128/160000128 [00:08<00:00, 18748517.45B/s]"
          ],
          "name": "stderr"
        },
        {
          "output_type": "stream",
          "text": [
            "2020-02-25 04:21:37,405 copying /tmp/tmp191l1hro to cache at /root/.flair/embeddings/glove.gensim.vectors.npy\n"
          ],
          "name": "stdout"
        },
        {
          "output_type": "stream",
          "text": [
            "\n"
          ],
          "name": "stderr"
        },
        {
          "output_type": "stream",
          "text": [
            "2020-02-25 04:21:37,709 removing temp file /tmp/tmp191l1hro\n",
            "2020-02-25 04:21:39,501 https://s3.eu-central-1.amazonaws.com/alan-nlp/resources/embeddings/glove.gensim not found in cache, downloading to /tmp/tmpwimu89tt\n"
          ],
          "name": "stdout"
        },
        {
          "output_type": "stream",
          "text": [
            "100%|██████████| 21494764/21494764 [00:01<00:00, 13379789.12B/s]"
          ],
          "name": "stderr"
        },
        {
          "output_type": "stream",
          "text": [
            "2020-02-25 04:21:41,645 copying /tmp/tmpwimu89tt to cache at /root/.flair/embeddings/glove.gensim\n",
            "2020-02-25 04:21:41,673 removing temp file /tmp/tmpwimu89tt\n"
          ],
          "name": "stdout"
        },
        {
          "output_type": "stream",
          "text": [
            "\n",
            "/usr/local/lib/python3.6/dist-packages/smart_open/smart_open_lib.py:402: UserWarning: This function is deprecated, use smart_open.open instead. See the migration notes for details: https://github.com/RaRe-Technologies/smart_open/blob/master/README.rst#migrating-to-the-new-open-function\n",
            "  'See the migration notes for details: %s' % _MIGRATION_NOTES_URL\n"
          ],
          "name": "stderr"
        },
        {
          "output_type": "stream",
          "text": [
            "2020-02-25 04:21:43,338 https://s3.eu-central-1.amazonaws.com/alan-nlp/resources/embeddings/lm-news-english-forward-1024-v0.2rc.pt not found in cache, downloading to /tmp/tmpp3a863t4\n"
          ],
          "name": "stdout"
        },
        {
          "output_type": "stream",
          "text": [
            "100%|██████████| 19689779/19689779 [00:01<00:00, 11843548.11B/s]"
          ],
          "name": "stderr"
        },
        {
          "output_type": "stream",
          "text": [
            "2020-02-25 04:21:45,568 copying /tmp/tmpp3a863t4 to cache at /root/.flair/embeddings/lm-news-english-forward-1024-v0.2rc.pt\n",
            "2020-02-25 04:21:45,607 removing temp file /tmp/tmpp3a863t4\n"
          ],
          "name": "stdout"
        },
        {
          "output_type": "stream",
          "text": [
            "\n"
          ],
          "name": "stderr"
        },
        {
          "output_type": "stream",
          "text": [
            "2020-02-25 04:21:46,399 https://s3.eu-central-1.amazonaws.com/alan-nlp/resources/embeddings/lm-news-english-backward-1024-v0.2rc.pt not found in cache, downloading to /tmp/tmp82vfokyo\n"
          ],
          "name": "stdout"
        },
        {
          "output_type": "stream",
          "text": [
            "100%|██████████| 19689779/19689779 [00:01<00:00, 11387038.61B/s]"
          ],
          "name": "stderr"
        },
        {
          "output_type": "stream",
          "text": [
            "2020-02-25 04:21:48,663 copying /tmp/tmp82vfokyo to cache at /root/.flair/embeddings/lm-news-english-backward-1024-v0.2rc.pt\n",
            "2020-02-25 04:21:48,689 removing temp file /tmp/tmp82vfokyo\n"
          ],
          "name": "stdout"
        },
        {
          "output_type": "stream",
          "text": [
            "\n"
          ],
          "name": "stderr"
        }
      ]
    },
    {
      "cell_type": "code",
      "metadata": {
        "id": "08e0-1TglAoi",
        "colab_type": "code",
        "colab": {}
      },
      "source": [
        "document_embeddings = DocumentRNNEmbeddings(word_embeddings, hidden_size=512, \n",
        "                                             reproject_words=True, reproject_words_dimension=256)"
      ],
      "execution_count": 0,
      "outputs": []
    },
    {
      "cell_type": "code",
      "metadata": {
        "id": "hrMGol1-lHBz",
        "colab_type": "code",
        "colab": {
          "base_uri": "https://localhost:8080/",
          "height": 1000
        },
        "outputId": "f48429b9-c214-4879-f889-4d2dd1aef7a5"
      },
      "source": [
        "classifier = TextClassifier(document_embeddings, \n",
        "                            label_dictionary=corpus.make_label_dictionary(), \n",
        "                            multi_label=False)"
      ],
      "execution_count": 0,
      "outputs": [
        {
          "output_type": "stream",
          "text": [
            "2020-02-25 04:26:50,415 Computing label dictionary. Progress:\n"
          ],
          "name": "stdout"
        },
        {
          "output_type": "stream",
          "text": [
            "\n",
            "\n",
            "  0%|          | 0/279798 [00:00<?, ?it/s]\u001b[A\u001b[A\n",
            "\n",
            "  0%|          | 97/279798 [00:00<04:49, 964.81it/s]\u001b[A\u001b[A\n",
            "\n",
            "  0%|          | 219/279798 [00:00<04:35, 1015.62it/s]\u001b[A\u001b[A\n",
            "\n",
            "  0%|          | 350/279798 [00:00<04:16, 1088.22it/s]\u001b[A\u001b[A\n",
            "\n",
            "  0%|          | 460/279798 [00:00<04:24, 1055.17it/s]\u001b[A\u001b[A\n",
            "\n",
            "  0%|          | 562/279798 [00:00<04:29, 1036.02it/s]\u001b[A\u001b[A\n",
            "\n",
            "  0%|          | 699/279798 [00:00<04:10, 1116.27it/s]\u001b[A\u001b[A\n",
            "\n",
            "  0%|          | 849/279798 [00:00<03:51, 1205.95it/s]\u001b[A\u001b[A\n",
            "\n",
            "  0%|          | 975/279798 [00:00<03:49, 1213.16it/s]\u001b[A\u001b[A\n",
            "\n",
            "  0%|          | 1094/279798 [00:00<03:59, 1163.31it/s]\u001b[A\u001b[A\n",
            "\n",
            "  0%|          | 1252/279798 [00:01<03:40, 1261.43it/s]\u001b[A\u001b[A\n",
            "\n",
            "  1%|          | 1402/279798 [00:01<03:30, 1323.85it/s]\u001b[A\u001b[A\n",
            "\n",
            "  1%|          | 1549/279798 [00:01<03:24, 1362.51it/s]\u001b[A\u001b[A\n",
            "\n",
            "  1%|          | 1709/279798 [00:01<03:15, 1424.56it/s]\u001b[A\u001b[A\n",
            "\n",
            "  1%|          | 1854/279798 [00:01<03:21, 1379.56it/s]\u001b[A\u001b[A\n",
            "\n",
            "  1%|          | 2019/279798 [00:01<03:11, 1450.29it/s]\u001b[A\u001b[A\n",
            "\n",
            "  1%|          | 2167/279798 [00:01<03:18, 1401.66it/s]\u001b[A\u001b[A\n",
            "\n",
            "  1%|          | 2309/279798 [00:01<03:28, 1329.12it/s]\u001b[A\u001b[A\n",
            "\n",
            "  1%|          | 2444/279798 [00:01<03:40, 1258.91it/s]\u001b[A\u001b[A\n",
            "\n",
            "  1%|          | 2595/279798 [00:02<03:29, 1321.13it/s]\u001b[A\u001b[A\n",
            "\n",
            "  1%|          | 2730/279798 [00:02<03:28, 1327.64it/s]\u001b[A\u001b[A\n",
            "\n",
            "  1%|          | 2867/279798 [00:02<03:27, 1332.96it/s]\u001b[A\u001b[A\n",
            "\n",
            "  1%|          | 3014/279798 [00:02<03:22, 1369.53it/s]\u001b[A\u001b[A\n",
            "\n",
            "  1%|          | 3153/279798 [00:02<03:30, 1311.93it/s]\u001b[A\u001b[A\n",
            "\n",
            "  1%|          | 3312/279798 [00:02<03:19, 1383.85it/s]\u001b[A\u001b[A\n",
            "\n",
            "  1%|          | 3453/279798 [00:02<03:23, 1358.77it/s]\u001b[A\u001b[A\n",
            "\n",
            "  1%|▏         | 3594/279798 [00:02<03:21, 1370.60it/s]\u001b[A\u001b[A\n",
            "\n",
            "  1%|▏         | 3752/279798 [00:02<03:14, 1421.77it/s]\u001b[A\u001b[A\n",
            "\n",
            "  1%|▏         | 3896/279798 [00:02<03:19, 1383.62it/s]\u001b[A\u001b[A\n",
            "\n",
            "  1%|▏         | 4053/279798 [00:03<03:12, 1434.04it/s]\u001b[A\u001b[A\n",
            "\n",
            "  2%|▏         | 4222/279798 [00:03<03:03, 1502.03it/s]\u001b[A\u001b[A\n",
            "\n",
            "  2%|▏         | 4375/279798 [00:03<03:02, 1510.19it/s]\u001b[A\u001b[A\n",
            "\n",
            "  2%|▏         | 4528/279798 [00:03<03:11, 1439.69it/s]\u001b[A\u001b[A\n",
            "\n",
            "  2%|▏         | 4676/279798 [00:03<03:09, 1449.91it/s]\u001b[A\u001b[A\n",
            "\n",
            "  2%|▏         | 4852/279798 [00:03<03:01, 1516.07it/s]\u001b[A\u001b[A\n",
            "\n",
            "  2%|▏         | 5006/279798 [00:03<03:01, 1517.50it/s]\u001b[A\u001b[A\n",
            "\n",
            "  2%|▏         | 5164/279798 [00:03<02:58, 1535.38it/s]\u001b[A\u001b[A\n",
            "\n",
            "  2%|▏         | 5319/279798 [00:03<03:13, 1419.90it/s]\u001b[A\u001b[A\n",
            "\n",
            "  2%|▏         | 5483/279798 [00:04<03:06, 1470.70it/s]\u001b[A\u001b[A\n",
            "\n",
            "  2%|▏         | 5653/279798 [00:04<02:59, 1524.63it/s]\u001b[A\u001b[A\n",
            "\n",
            "  2%|▏         | 5823/279798 [00:04<02:54, 1572.89it/s]\u001b[A\u001b[A\n",
            "\n",
            "  2%|▏         | 5983/279798 [00:04<02:55, 1555.79it/s]\u001b[A\u001b[A\n",
            "\n",
            "  2%|▏         | 6157/279798 [00:04<02:50, 1603.03it/s]\u001b[A\u001b[A\n",
            "\n",
            "  2%|▏         | 6319/279798 [00:04<02:51, 1596.34it/s]\u001b[A\u001b[A\n",
            "\n",
            "  2%|▏         | 6480/279798 [00:04<03:00, 1512.32it/s]\u001b[A\u001b[A\n",
            "\n",
            "  2%|▏         | 6641/279798 [00:04<02:57, 1539.01it/s]\u001b[A\u001b[A"
          ],
          "name": "stderr"
        }
      ]
    },
    {
      "cell_type": "code",
      "metadata": {
        "id": "GLKUNdNSlLBQ",
        "colab_type": "code",
        "colab": {}
      },
      "source": [
        "trainer = ModelTrainer(classifier, corpus)"
      ],
      "execution_count": 0,
      "outputs": []
    },
    {
      "cell_type": "code",
      "metadata": {
        "id": "AkaWGTe7lO9w",
        "colab_type": "code",
        "colab": {}
      },
      "source": [
        "trainer.train('./', max_epochs=10)"
      ],
      "execution_count": 0,
      "outputs": []
    }
  ]
}