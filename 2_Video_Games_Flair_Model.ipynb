{
  "nbformat": 4,
  "nbformat_minor": 0,
  "metadata": {
    "colab": {
      "name": "Video_Games_Flair_Model.ipynb",
      "provenance": [],
      "collapsed_sections": [],
      "toc_visible": true,
      "machine_shape": "hm",
      "authorship_tag": "ABX9TyO6sDbezOB5ekpOCinDa6ti",
      "include_colab_link": true
    },
    "kernelspec": {
      "name": "python3",
      "display_name": "Python 3"
    },
    "accelerator": "GPU"
  },
  "cells": [
    {
      "cell_type": "markdown",
      "metadata": {
        "id": "view-in-github",
        "colab_type": "text"
      },
      "source": [
        "<a href=\"https://colab.research.google.com/github/chuktuk/Amazon_Customer_Data/blob/master/Video_Games_Flair_Model.ipynb\" target=\"_parent\"><img src=\"https://colab.research.google.com/assets/colab-badge.svg\" alt=\"Open In Colab\"/></a>"
      ]
    },
    {
      "cell_type": "markdown",
      "metadata": {
        "id": "XNITLBx8Zjce",
        "colab_type": "text"
      },
      "source": [
        "# Sentiment Analysis of Video Game Review from Amazon\n",
        "Chuck Tucker"
      ]
    },
    {
      "cell_type": "markdown",
      "metadata": {
        "id": "eI5-VWMtZtfT",
        "colab_type": "text"
      },
      "source": [
        "Data from\n",
        "> Justifying recommendations using distantly-labeled reviews and fined-grained aspects Jianmo Ni, Jiacheng Li, Julian McAuley Empirical Methods in Natural Language Processing (EMNLP), 2019\n",
        "[https://nijianmo.github.io/amazon/index.html#files](https://nijianmo.github.io/amazon/index.html#files)"
      ]
    },
    {
      "cell_type": "markdown",
      "metadata": {
        "id": "_VycAs4GY9L2",
        "colab_type": "text"
      },
      "source": [
        "This notebook is designed to run on Google Colab Pro."
      ]
    },
    {
      "cell_type": "markdown",
      "metadata": {
        "id": "fherDXSXaQF7",
        "colab_type": "text"
      },
      "source": [
        "### Goal for this analysis\n",
        "\n",
        "The primary purpose of this analysis is to obtain a model that is capable of predicting positive or negative sentiment from analysis of text entries for video game reviews. \n",
        "\n",
        "The reviews were collected by Amazon.com by users after purchasing certain video games. More details on the data set can be obtained by visiting the link above in the 'Data from' section."
      ]
    },
    {
      "cell_type": "markdown",
      "metadata": {
        "id": "kxauZov5bFRd",
        "colab_type": "text"
      },
      "source": [
        "### Methods and tools\n",
        "\n",
        "The primary text analysis tool displayed here is Flair. First, a model built-in to flair that was pretrained on IMDB reviews was assessed for accuracy on a subset of the video games data.\n",
        "\n",
        "The result of this analysis was unsatisfactory, with extremely low precision on the negative class and an AUC of right around 0.5 (coin flip). \n",
        "\n",
        "Because of the poor performance of the pretrained model, a model was trained on the video games data, which produced much better results."
      ]
    },
    {
      "cell_type": "markdown",
      "metadata": {
        "id": "jBfkOwdnb7RJ",
        "colab_type": "text"
      },
      "source": [
        "### Analysis"
      ]
    },
    {
      "cell_type": "code",
      "metadata": {
        "id": "3PZvmQuWJ_ae",
        "colab_type": "code",
        "outputId": "6010e593-d4dd-4747-a8de-685c33a38417",
        "colab": {
          "base_uri": "https://localhost:8080/",
          "height": 306
        }
      },
      "source": [
        "# check gpu info on Google Colab\n",
        "gpu_info = !nvidia-smi\n",
        "gpu_info = '\\n'.join(gpu_info)\n",
        "if gpu_info.find('failed') >= 0:\n",
        "  print('Select the Runtime → \"Change runtime type\" menu to enable a GPU accelerator, ')\n",
        "  print('and then re-execute this cell.')\n",
        "else:\n",
        "  print(gpu_info)"
      ],
      "execution_count": 0,
      "outputs": [
        {
          "output_type": "stream",
          "text": [
            "Fri Mar  6 12:02:41 2020       \n",
            "+-----------------------------------------------------------------------------+\n",
            "| NVIDIA-SMI 440.59       Driver Version: 418.67       CUDA Version: 10.1     |\n",
            "|-------------------------------+----------------------+----------------------+\n",
            "| GPU  Name        Persistence-M| Bus-Id        Disp.A | Volatile Uncorr. ECC |\n",
            "| Fan  Temp  Perf  Pwr:Usage/Cap|         Memory-Usage | GPU-Util  Compute M. |\n",
            "|===============================+======================+======================|\n",
            "|   0  Tesla P100-PCIE...  Off  | 00000000:00:04.0 Off |                    0 |\n",
            "| N/A   39C    P0    26W / 250W |      0MiB / 16280MiB |      0%      Default |\n",
            "+-------------------------------+----------------------+----------------------+\n",
            "                                                                               \n",
            "+-----------------------------------------------------------------------------+\n",
            "| Processes:                                                       GPU Memory |\n",
            "|  GPU       PID   Type   Process name                             Usage      |\n",
            "|=============================================================================|\n",
            "|  No running processes found                                                 |\n",
            "+-----------------------------------------------------------------------------+\n"
          ],
          "name": "stdout"
        }
      ]
    },
    {
      "cell_type": "code",
      "metadata": {
        "id": "YBQV7K2KKKvV",
        "colab_type": "code",
        "outputId": "3fb15ae8-375a-4876-b500-db08131f7f70",
        "colab": {
          "base_uri": "https://localhost:8080/",
          "height": 68
        }
      },
      "source": [
        "# check RAM info on Google Colab\n",
        "from psutil import virtual_memory\n",
        "ram_gb = virtual_memory().total / 1e9\n",
        "print('Your runtime has {:.1f} gigabytes of available RAM\\n'.format(ram_gb))\n",
        "\n",
        "if ram_gb < 20:\n",
        "  print('To enable a high-RAM runtime, select the Runtime → \"Change runtime type\"')\n",
        "  print('menu, and then select High-RAM in the Runtime shape dropdown. Then, ')\n",
        "  print('re-execute this cell.')\n",
        "else:\n",
        "  print('You are using a high-RAM runtime!')"
      ],
      "execution_count": 0,
      "outputs": [
        {
          "output_type": "stream",
          "text": [
            "Your runtime has 27.4 gigabytes of available RAM\n",
            "\n",
            "You are using a high-RAM runtime!\n"
          ],
          "name": "stdout"
        }
      ]
    },
    {
      "cell_type": "code",
      "metadata": {
        "id": "w22VQMc-V9jM",
        "colab_type": "code",
        "colab": {}
      },
      "source": [
        "# import packages\n",
        "import pandas as pd\n",
        "from collections import defaultdict, deque\n",
        "from sklearn.metrics import roc_curve, roc_auc_score, confusion_matrix, classification_report\n",
        "from sklearn.metrics import precision_recall_curve\n",
        "from sklearn.model_selection import train_test_split"
      ],
      "execution_count": 0,
      "outputs": []
    },
    {
      "cell_type": "code",
      "metadata": {
        "id": "PFdBDjs1WdPY",
        "colab_type": "code",
        "outputId": "5bbec00d-f71e-450f-afb3-c47ace837a5c",
        "colab": {
          "base_uri": "https://localhost:8080/",
          "height": 989
        }
      },
      "source": [
        "# install flair\n",
        "!pip install flair"
      ],
      "execution_count": 0,
      "outputs": [
        {
          "output_type": "stream",
          "text": [
            "Requirement already satisfied: flair in /usr/local/lib/python3.6/dist-packages (0.4.5)\n",
            "Requirement already satisfied: torch>=1.1.0 in /usr/local/lib/python3.6/dist-packages (from flair) (1.4.0)\n",
            "Requirement already satisfied: tqdm>=4.26.0 in /usr/local/lib/python3.6/dist-packages (from flair) (4.28.1)\n",
            "Requirement already satisfied: gensim>=3.4.0 in /usr/local/lib/python3.6/dist-packages (from flair) (3.6.0)\n",
            "Requirement already satisfied: scikit-learn>=0.21.3 in /usr/local/lib/python3.6/dist-packages (from flair) (0.22.1)\n",
            "Requirement already satisfied: deprecated>=1.2.4 in /usr/local/lib/python3.6/dist-packages (from flair) (1.2.7)\n",
            "Requirement already satisfied: pytest>=5.3.2 in /usr/local/lib/python3.6/dist-packages (from flair) (5.3.5)\n",
            "Requirement already satisfied: segtok>=1.5.7 in /usr/local/lib/python3.6/dist-packages (from flair) (1.5.7)\n",
            "Requirement already satisfied: sqlitedict>=1.6.0 in /usr/local/lib/python3.6/dist-packages (from flair) (1.6.0)\n",
            "Requirement already satisfied: hyperopt>=0.1.1 in /usr/local/lib/python3.6/dist-packages (from flair) (0.1.2)\n",
            "Requirement already satisfied: transformers>=2.3.0 in /usr/local/lib/python3.6/dist-packages (from flair) (2.5.1)\n",
            "Requirement already satisfied: mpld3==0.3 in /usr/local/lib/python3.6/dist-packages (from flair) (0.3)\n",
            "Requirement already satisfied: langdetect in /usr/local/lib/python3.6/dist-packages (from flair) (1.0.8)\n",
            "Requirement already satisfied: matplotlib>=2.2.3 in /usr/local/lib/python3.6/dist-packages (from flair) (3.1.3)\n",
            "Requirement already satisfied: urllib3<1.25,>=1.20 in /usr/local/lib/python3.6/dist-packages (from flair) (1.24.3)\n",
            "Requirement already satisfied: regex in /usr/local/lib/python3.6/dist-packages (from flair) (2019.12.20)\n",
            "Requirement already satisfied: tabulate in /usr/local/lib/python3.6/dist-packages (from flair) (0.8.6)\n",
            "Requirement already satisfied: python-dateutil>=2.6.1 in /usr/local/lib/python3.6/dist-packages (from flair) (2.6.1)\n",
            "Requirement already satisfied: bpemb>=0.2.9 in /usr/local/lib/python3.6/dist-packages (from flair) (0.3.0)\n",
            "Requirement already satisfied: smart-open>=1.2.1 in /usr/local/lib/python3.6/dist-packages (from gensim>=3.4.0->flair) (1.9.0)\n",
            "Requirement already satisfied: six>=1.5.0 in /usr/local/lib/python3.6/dist-packages (from gensim>=3.4.0->flair) (1.12.0)\n",
            "Requirement already satisfied: numpy>=1.11.3 in /usr/local/lib/python3.6/dist-packages (from gensim>=3.4.0->flair) (1.17.5)\n",
            "Requirement already satisfied: scipy>=0.18.1 in /usr/local/lib/python3.6/dist-packages (from gensim>=3.4.0->flair) (1.4.1)\n",
            "Requirement already satisfied: joblib>=0.11 in /usr/local/lib/python3.6/dist-packages (from scikit-learn>=0.21.3->flair) (0.14.1)\n",
            "Requirement already satisfied: wrapt<2,>=1.10 in /usr/local/lib/python3.6/dist-packages (from deprecated>=1.2.4->flair) (1.11.2)\n",
            "Requirement already satisfied: importlib-metadata>=0.12; python_version < \"3.8\" in /usr/local/lib/python3.6/dist-packages (from pytest>=5.3.2->flair) (1.5.0)\n",
            "Requirement already satisfied: more-itertools>=4.0.0 in /usr/local/lib/python3.6/dist-packages (from pytest>=5.3.2->flair) (8.2.0)\n",
            "Requirement already satisfied: attrs>=17.4.0 in /usr/local/lib/python3.6/dist-packages (from pytest>=5.3.2->flair) (19.3.0)\n",
            "Requirement already satisfied: py>=1.5.0 in /usr/local/lib/python3.6/dist-packages (from pytest>=5.3.2->flair) (1.8.1)\n",
            "Requirement already satisfied: pluggy<1.0,>=0.12 in /usr/local/lib/python3.6/dist-packages (from pytest>=5.3.2->flair) (0.13.1)\n",
            "Requirement already satisfied: wcwidth in /usr/local/lib/python3.6/dist-packages (from pytest>=5.3.2->flair) (0.1.8)\n",
            "Requirement already satisfied: packaging in /usr/local/lib/python3.6/dist-packages (from pytest>=5.3.2->flair) (20.1)\n",
            "Requirement already satisfied: pymongo in /usr/local/lib/python3.6/dist-packages (from hyperopt>=0.1.1->flair) (3.10.1)\n",
            "Requirement already satisfied: networkx in /usr/local/lib/python3.6/dist-packages (from hyperopt>=0.1.1->flair) (2.4)\n",
            "Requirement already satisfied: future in /usr/local/lib/python3.6/dist-packages (from hyperopt>=0.1.1->flair) (0.16.0)\n",
            "Requirement already satisfied: tokenizers==0.5.2 in /usr/local/lib/python3.6/dist-packages (from transformers>=2.3.0->flair) (0.5.2)\n",
            "Requirement already satisfied: sentencepiece in /usr/local/lib/python3.6/dist-packages (from transformers>=2.3.0->flair) (0.1.85)\n",
            "Requirement already satisfied: sacremoses in /usr/local/lib/python3.6/dist-packages (from transformers>=2.3.0->flair) (0.0.38)\n",
            "Requirement already satisfied: boto3 in /usr/local/lib/python3.6/dist-packages (from transformers>=2.3.0->flair) (1.11.15)\n",
            "Requirement already satisfied: filelock in /usr/local/lib/python3.6/dist-packages (from transformers>=2.3.0->flair) (3.0.12)\n",
            "Requirement already satisfied: requests in /usr/local/lib/python3.6/dist-packages (from transformers>=2.3.0->flair) (2.21.0)\n",
            "Requirement already satisfied: pyparsing!=2.0.4,!=2.1.2,!=2.1.6,>=2.0.1 in /usr/local/lib/python3.6/dist-packages (from matplotlib>=2.2.3->flair) (2.4.6)\n",
            "Requirement already satisfied: kiwisolver>=1.0.1 in /usr/local/lib/python3.6/dist-packages (from matplotlib>=2.2.3->flair) (1.1.0)\n",
            "Requirement already satisfied: cycler>=0.10 in /usr/local/lib/python3.6/dist-packages (from matplotlib>=2.2.3->flair) (0.10.0)\n",
            "Requirement already satisfied: boto>=2.32 in /usr/local/lib/python3.6/dist-packages (from smart-open>=1.2.1->gensim>=3.4.0->flair) (2.49.0)\n",
            "Requirement already satisfied: zipp>=0.5 in /usr/local/lib/python3.6/dist-packages (from importlib-metadata>=0.12; python_version < \"3.8\"->pytest>=5.3.2->flair) (3.1.0)\n",
            "Requirement already satisfied: decorator>=4.3.0 in /usr/local/lib/python3.6/dist-packages (from networkx->hyperopt>=0.1.1->flair) (4.4.1)\n",
            "Requirement already satisfied: click in /usr/local/lib/python3.6/dist-packages (from sacremoses->transformers>=2.3.0->flair) (7.0)\n",
            "Requirement already satisfied: s3transfer<0.4.0,>=0.3.0 in /usr/local/lib/python3.6/dist-packages (from boto3->transformers>=2.3.0->flair) (0.3.3)\n",
            "Requirement already satisfied: botocore<1.15.0,>=1.14.15 in /usr/local/lib/python3.6/dist-packages (from boto3->transformers>=2.3.0->flair) (1.14.15)\n",
            "Requirement already satisfied: jmespath<1.0.0,>=0.7.1 in /usr/local/lib/python3.6/dist-packages (from boto3->transformers>=2.3.0->flair) (0.9.4)\n",
            "Requirement already satisfied: certifi>=2017.4.17 in /usr/local/lib/python3.6/dist-packages (from requests->transformers>=2.3.0->flair) (2019.11.28)\n",
            "Requirement already satisfied: idna<2.9,>=2.5 in /usr/local/lib/python3.6/dist-packages (from requests->transformers>=2.3.0->flair) (2.8)\n",
            "Requirement already satisfied: chardet<3.1.0,>=3.0.2 in /usr/local/lib/python3.6/dist-packages (from requests->transformers>=2.3.0->flair) (3.0.4)\n",
            "Requirement already satisfied: setuptools in /usr/local/lib/python3.6/dist-packages (from kiwisolver>=1.0.1->matplotlib>=2.2.3->flair) (45.2.0)\n",
            "Requirement already satisfied: docutils<0.16,>=0.10 in /usr/local/lib/python3.6/dist-packages (from botocore<1.15.0,>=1.14.15->boto3->transformers>=2.3.0->flair) (0.15.2)\n"
          ],
          "name": "stdout"
        }
      ]
    },
    {
      "cell_type": "code",
      "metadata": {
        "id": "e21SkqIDWQCY",
        "colab_type": "code",
        "outputId": "492d1ee7-3386-450f-85df-ff9d63bae72d",
        "colab": {
          "base_uri": "https://localhost:8080/",
          "height": 80
        }
      },
      "source": [
        "# import flair\n",
        "from flair.models import TextClassifier\n",
        "classifier = TextClassifier.load('en-sentiment')\n",
        "from flair.data import Sentence"
      ],
      "execution_count": 0,
      "outputs": [
        {
          "output_type": "display_data",
          "data": {
            "text/html": [
              "<p style=\"color: red;\">\n",
              "The default version of TensorFlow in Colab will soon switch to TensorFlow 2.x.<br>\n",
              "We recommend you <a href=\"https://www.tensorflow.org/guide/migrate\" target=\"_blank\">upgrade</a> now \n",
              "or ensure your notebook will continue to use TensorFlow 1.x via the <code>%tensorflow_version 1.x</code> magic:\n",
              "<a href=\"https://colab.research.google.com/notebooks/tensorflow_version.ipynb\" target=\"_blank\">more info</a>.</p>\n"
            ],
            "text/plain": [
              "<IPython.core.display.HTML object>"
            ]
          },
          "metadata": {
            "tags": []
          }
        }
      ]
    },
    {
      "cell_type": "code",
      "metadata": {
        "id": "7Q0FBh6LWZoz",
        "colab_type": "code",
        "outputId": "32a3bab5-d56d-4a90-98d1-42e9fd54a447",
        "colab": {
          "base_uri": "https://localhost:8080/",
          "height": 204
        }
      },
      "source": [
        "# load the video games dataset\n",
        "!wget http://deepyeti.ucsd.edu/jianmo/amazon/categoryFilesSmall/Video_Games_5.json.gz"
      ],
      "execution_count": 0,
      "outputs": [
        {
          "output_type": "stream",
          "text": [
            "--2020-03-06 11:37:01--  http://deepyeti.ucsd.edu/jianmo/amazon/categoryFilesSmall/Video_Games_5.json.gz\n",
            "Resolving deepyeti.ucsd.edu (deepyeti.ucsd.edu)... 169.228.63.50\n",
            "Connecting to deepyeti.ucsd.edu (deepyeti.ucsd.edu)|169.228.63.50|:80... connected.\n",
            "HTTP request sent, awaiting response... 200 OK\n",
            "Length: 154050105 (147M) [application/octet-stream]\n",
            "Saving to: ‘Video_Games_5.json.gz’\n",
            "\n",
            "Video_Games_5.json. 100%[===================>] 146.91M  10.3MB/s    in 31s     \n",
            "\n",
            "2020-03-06 11:37:33 (4.75 MB/s) - ‘Video_Games_5.json.gz’ saved [154050105/154050105]\n",
            "\n"
          ],
          "name": "stdout"
        }
      ]
    },
    {
      "cell_type": "code",
      "metadata": {
        "id": "B1_mzBaIXN-9",
        "colab_type": "code",
        "colab": {}
      },
      "source": [
        "# read in the data\n",
        "vg = pd.read_json('Video_Games_5.json.gz', lines=True, compression='gzip')"
      ],
      "execution_count": 0,
      "outputs": []
    },
    {
      "cell_type": "code",
      "metadata": {
        "id": "x6mMEU8ZXbG5",
        "colab_type": "code",
        "outputId": "97f72aae-8f55-4f02-edbe-d13d00c1f08f",
        "colab": {
          "base_uri": "https://localhost:8080/",
          "height": 496
        }
      },
      "source": [
        "# inspect the structure\n",
        "vg.head()"
      ],
      "execution_count": 0,
      "outputs": [
        {
          "output_type": "execute_result",
          "data": {
            "text/html": [
              "<div>\n",
              "<style scoped>\n",
              "    .dataframe tbody tr th:only-of-type {\n",
              "        vertical-align: middle;\n",
              "    }\n",
              "\n",
              "    .dataframe tbody tr th {\n",
              "        vertical-align: top;\n",
              "    }\n",
              "\n",
              "    .dataframe thead th {\n",
              "        text-align: right;\n",
              "    }\n",
              "</style>\n",
              "<table border=\"1\" class=\"dataframe\">\n",
              "  <thead>\n",
              "    <tr style=\"text-align: right;\">\n",
              "      <th></th>\n",
              "      <th>overall</th>\n",
              "      <th>verified</th>\n",
              "      <th>reviewTime</th>\n",
              "      <th>reviewerID</th>\n",
              "      <th>asin</th>\n",
              "      <th>reviewerName</th>\n",
              "      <th>reviewText</th>\n",
              "      <th>summary</th>\n",
              "      <th>unixReviewTime</th>\n",
              "      <th>vote</th>\n",
              "      <th>style</th>\n",
              "      <th>image</th>\n",
              "    </tr>\n",
              "  </thead>\n",
              "  <tbody>\n",
              "    <tr>\n",
              "      <th>0</th>\n",
              "      <td>5</td>\n",
              "      <td>True</td>\n",
              "      <td>10 17, 2015</td>\n",
              "      <td>A1HP7NVNPFMA4N</td>\n",
              "      <td>0700026657</td>\n",
              "      <td>Ambrosia075</td>\n",
              "      <td>This game is a bit hard to get the hang of, bu...</td>\n",
              "      <td>but when you do it's great.</td>\n",
              "      <td>1445040000</td>\n",
              "      <td>NaN</td>\n",
              "      <td>NaN</td>\n",
              "      <td>NaN</td>\n",
              "    </tr>\n",
              "    <tr>\n",
              "      <th>1</th>\n",
              "      <td>4</td>\n",
              "      <td>False</td>\n",
              "      <td>07 27, 2015</td>\n",
              "      <td>A1JGAP0185YJI6</td>\n",
              "      <td>0700026657</td>\n",
              "      <td>travis</td>\n",
              "      <td>I played it a while but it was alright. The st...</td>\n",
              "      <td>But in spite of that it was fun, I liked it</td>\n",
              "      <td>1437955200</td>\n",
              "      <td>NaN</td>\n",
              "      <td>NaN</td>\n",
              "      <td>NaN</td>\n",
              "    </tr>\n",
              "    <tr>\n",
              "      <th>2</th>\n",
              "      <td>3</td>\n",
              "      <td>True</td>\n",
              "      <td>02 23, 2015</td>\n",
              "      <td>A1YJWEXHQBWK2B</td>\n",
              "      <td>0700026657</td>\n",
              "      <td>Vincent G. Mezera</td>\n",
              "      <td>ok game.</td>\n",
              "      <td>Three Stars</td>\n",
              "      <td>1424649600</td>\n",
              "      <td>NaN</td>\n",
              "      <td>NaN</td>\n",
              "      <td>NaN</td>\n",
              "    </tr>\n",
              "    <tr>\n",
              "      <th>3</th>\n",
              "      <td>2</td>\n",
              "      <td>True</td>\n",
              "      <td>02 20, 2015</td>\n",
              "      <td>A2204E1TH211HT</td>\n",
              "      <td>0700026657</td>\n",
              "      <td>Grandma KR</td>\n",
              "      <td>found the game a bit too complicated, not what...</td>\n",
              "      <td>Two Stars</td>\n",
              "      <td>1424390400</td>\n",
              "      <td>NaN</td>\n",
              "      <td>NaN</td>\n",
              "      <td>NaN</td>\n",
              "    </tr>\n",
              "    <tr>\n",
              "      <th>4</th>\n",
              "      <td>5</td>\n",
              "      <td>True</td>\n",
              "      <td>12 25, 2014</td>\n",
              "      <td>A2RF5B5H74JLPE</td>\n",
              "      <td>0700026657</td>\n",
              "      <td>jon</td>\n",
              "      <td>great game, I love it and have played it since...</td>\n",
              "      <td>love this game</td>\n",
              "      <td>1419465600</td>\n",
              "      <td>NaN</td>\n",
              "      <td>NaN</td>\n",
              "      <td>NaN</td>\n",
              "    </tr>\n",
              "  </tbody>\n",
              "</table>\n",
              "</div>"
            ],
            "text/plain": [
              "   overall  verified   reviewTime  ... vote style image\n",
              "0        5      True  10 17, 2015  ...  NaN   NaN   NaN\n",
              "1        4     False  07 27, 2015  ...  NaN   NaN   NaN\n",
              "2        3      True  02 23, 2015  ...  NaN   NaN   NaN\n",
              "3        2      True  02 20, 2015  ...  NaN   NaN   NaN\n",
              "4        5      True  12 25, 2014  ...  NaN   NaN   NaN\n",
              "\n",
              "[5 rows x 12 columns]"
            ]
          },
          "metadata": {
            "tags": []
          },
          "execution_count": 7
        }
      ]
    },
    {
      "cell_type": "code",
      "metadata": {
        "id": "O1xpWVz6XhM5",
        "colab_type": "code",
        "colab": {}
      },
      "source": [
        "# slice the appropriate columns\n",
        "vg = vg.loc[:,['overall', 'reviewText']]"
      ],
      "execution_count": 0,
      "outputs": []
    },
    {
      "cell_type": "code",
      "metadata": {
        "id": "NNWBfu3FXn5_",
        "colab_type": "code",
        "colab": {}
      },
      "source": [
        "# clean up nan values and change datatype for memory efficiency\n",
        "vg = vg.dropna(how='any')\n",
        "vg.loc[:,'overall'] = vg.overall.astype('int16')"
      ],
      "execution_count": 0,
      "outputs": []
    },
    {
      "cell_type": "code",
      "metadata": {
        "id": "JZB1HRYWXrnv",
        "colab_type": "code",
        "colab": {}
      },
      "source": [
        "# map sentiment for two-class model\n",
        "vg.loc[:,'pt_sentiment'] = vg.overall.map({1: 0, 2: 0, 3: 1, 4: 1, 5: 1}).astype('int16')"
      ],
      "execution_count": 0,
      "outputs": []
    },
    {
      "cell_type": "code",
      "metadata": {
        "id": "Te4cU36oX4Gz",
        "colab_type": "code",
        "outputId": "df02d972-dcdb-488b-9107-acb19b73d9b6",
        "colab": {
          "base_uri": "https://localhost:8080/",
          "height": 153
        }
      },
      "source": [
        "# inspect the df info\n",
        "vg.info()"
      ],
      "execution_count": 0,
      "outputs": [
        {
          "output_type": "stream",
          "text": [
            "<class 'pandas.core.frame.DataFrame'>\n",
            "Int64Index: 497419 entries, 0 to 497576\n",
            "Data columns (total 3 columns):\n",
            "overall         497419 non-null int16\n",
            "reviewText      497419 non-null object\n",
            "pt_sentiment    497419 non-null int16\n",
            "dtypes: int16(2), object(1)\n",
            "memory usage: 9.5+ MB\n"
          ],
          "name": "stdout"
        }
      ]
    },
    {
      "cell_type": "code",
      "metadata": {
        "id": "lFqtjP64X87p",
        "colab_type": "code",
        "outputId": "8538ae68-bae7-48a4-a2f6-cdf8a6243617",
        "colab": {
          "base_uri": "https://localhost:8080/",
          "height": 51
        }
      },
      "source": [
        "# get sentiment counts\n",
        "class1_counts = vg.pt_sentiment.value_counts()[1]\n",
        "class0_counts = vg.pt_sentiment.value_counts()[0]\n",
        "print('Positive counts {}'.format(class1_counts))\n",
        "print('Negative counts {}'.format(class0_counts))"
      ],
      "execution_count": 0,
      "outputs": [
        {
          "output_type": "stream",
          "text": [
            "Positive counts 442407\n",
            "Negative counts 55012\n"
          ],
          "name": "stdout"
        }
      ]
    },
    {
      "cell_type": "markdown",
      "metadata": {
        "id": "BRUqFQgmcTu5",
        "colab_type": "text"
      },
      "source": [
        "Because the samples were imbalanced, the majority class was downsampled to even out the classes and improve performance of model training."
      ]
    },
    {
      "cell_type": "code",
      "metadata": {
        "id": "1gkLoV3pOTqR",
        "colab_type": "code",
        "colab": {}
      },
      "source": [
        "# import resample\n",
        "from sklearn.utils import resample\n",
        "\n",
        "# down-sample to balance classes\n",
        "vg_class1 = vg[vg.pt_sentiment == 1]\n",
        "vg_class0 = vg[vg.pt_sentiment == 0]\n",
        "\n",
        "# downsample majority class\n",
        "vg_class1_down = resample(vg_class1, replace=False, n_samples=vg_class0.shape[0], random_state=42)"
      ],
      "execution_count": 0,
      "outputs": []
    },
    {
      "cell_type": "code",
      "metadata": {
        "id": "dygdNkWLRKoj",
        "colab_type": "code",
        "outputId": "fb02c2d4-4470-4d12-e62e-95f8f00c1651",
        "colab": {
          "base_uri": "https://localhost:8080/",
          "height": 68
        }
      },
      "source": [
        "# concat the dfs back together\n",
        "vg_down = pd.concat([vg_class1_down, vg_class0])\n",
        "vg_down.pt_sentiment.value_counts()"
      ],
      "execution_count": 0,
      "outputs": [
        {
          "output_type": "execute_result",
          "data": {
            "text/plain": [
              "1    55012\n",
              "0    55012\n",
              "Name: pt_sentiment, dtype: int64"
            ]
          },
          "metadata": {
            "tags": []
          },
          "execution_count": 14
        }
      ]
    },
    {
      "cell_type": "markdown",
      "metadata": {
        "id": "MYtY2iuLceJF",
        "colab_type": "text"
      },
      "source": [
        "Previous exploratory analysis revealed the presence of many special characters. These will be removed from the text prior to training."
      ]
    },
    {
      "cell_type": "code",
      "metadata": {
        "id": "8G4a8iLUUvXM",
        "colab_type": "code",
        "colab": {}
      },
      "source": [
        "# define remove chars function\n",
        "import re\n",
        "\n",
        "def rmv_spec_chars(sentence):\n",
        "    sentence = re.sub(\"[\\\\\\[\\]@_!#$%^&*()<>?/\\|}{~:']\", '', sentence)\n",
        "    sentence = re.sub('-', ' ', sentence)\n",
        "    return sentence"
      ],
      "execution_count": 0,
      "outputs": []
    },
    {
      "cell_type": "code",
      "metadata": {
        "id": "8FCZaeCAp1g4",
        "colab_type": "code",
        "colab": {}
      },
      "source": [
        "# clean the text\n",
        "vg_down.loc[:,'clean_text'] = vg_down.reviewText.apply(rmv_spec_chars)"
      ],
      "execution_count": 0,
      "outputs": []
    },
    {
      "cell_type": "code",
      "metadata": {
        "id": "265oJjOYqGK8",
        "colab_type": "code",
        "outputId": "78d21918-2247-492c-f94e-1bedb9ac2640",
        "colab": {
          "base_uri": "https://localhost:8080/",
          "height": 170
        }
      },
      "source": [
        "# inspect the result\n",
        "vg_down.info()"
      ],
      "execution_count": 0,
      "outputs": [
        {
          "output_type": "stream",
          "text": [
            "<class 'pandas.core.frame.DataFrame'>\n",
            "Int64Index: 110024 entries, 388138 to 497576\n",
            "Data columns (total 4 columns):\n",
            "overall         110024 non-null int16\n",
            "reviewText      110024 non-null object\n",
            "pt_sentiment    110024 non-null int16\n",
            "clean_text      110024 non-null object\n",
            "dtypes: int16(2), object(2)\n",
            "memory usage: 2.9+ MB\n"
          ],
          "name": "stdout"
        }
      ]
    },
    {
      "cell_type": "code",
      "metadata": {
        "id": "m1V4Jy0lqKol",
        "colab_type": "code",
        "outputId": "68100d71-f45e-486c-9c70-a6e2434501bb",
        "colab": {
          "base_uri": "https://localhost:8080/",
          "height": 68
        }
      },
      "source": [
        "# indicate which text fields are now invalid due to entries that only contain\n",
        "# white space after removal of special characters\n",
        "vg_down.loc[:,'invalid'] = vg_down.clean_text.apply(lambda x: bool(re.match('^\\s+$', x)))\n",
        "vg_down.invalid.value_counts()"
      ],
      "execution_count": 0,
      "outputs": [
        {
          "output_type": "execute_result",
          "data": {
            "text/plain": [
              "False    110020\n",
              "True          4\n",
              "Name: invalid, dtype: int64"
            ]
          },
          "metadata": {
            "tags": []
          },
          "execution_count": 18
        }
      ]
    },
    {
      "cell_type": "code",
      "metadata": {
        "id": "IG17vF6MlxBw",
        "colab_type": "code",
        "colab": {}
      },
      "source": [
        "# remove these from the dataset\n",
        "vg_down = vg_down[vg_down.invalid == False]"
      ],
      "execution_count": 0,
      "outputs": []
    },
    {
      "cell_type": "code",
      "metadata": {
        "id": "CFBtUFOWtwYR",
        "colab_type": "code",
        "colab": {}
      },
      "source": [
        "# identify additional invalid entries that have had every character removed\n",
        "# by the cleaning function (entry was entirely special characters)\n",
        "vg_down.loc[:,'invalid'] = vg_down.clean_text.apply(lambda x: len(x) == 0)"
      ],
      "execution_count": 0,
      "outputs": []
    },
    {
      "cell_type": "code",
      "metadata": {
        "id": "5kXb9pAKuMF1",
        "colab_type": "code",
        "outputId": "6c763de7-01cc-400f-c9b7-08900d69c61f",
        "colab": {
          "base_uri": "https://localhost:8080/",
          "height": 68
        }
      },
      "source": [
        "# inspect the number of invalid entries that are empty\n",
        "vg_down.invalid.value_counts()"
      ],
      "execution_count": 0,
      "outputs": [
        {
          "output_type": "execute_result",
          "data": {
            "text/plain": [
              "False    109987\n",
              "True         33\n",
              "Name: invalid, dtype: int64"
            ]
          },
          "metadata": {
            "tags": []
          },
          "execution_count": 21
        }
      ]
    },
    {
      "cell_type": "code",
      "metadata": {
        "id": "zaqK7A9JuUvF",
        "colab_type": "code",
        "colab": {}
      },
      "source": [
        "# remove additional invalid text entries\n",
        "vg_down = vg_down[vg_down.invalid == False]"
      ],
      "execution_count": 0,
      "outputs": []
    },
    {
      "cell_type": "code",
      "metadata": {
        "id": "LLiwIhAIlxGw",
        "colab_type": "code",
        "outputId": "b50eebc7-bc04-498f-eecf-d2f40998a442",
        "colab": {
          "base_uri": "https://localhost:8080/",
          "height": 68
        }
      },
      "source": [
        "# classes are still approximately balanced\n",
        "vg_down.pt_sentiment.value_counts()"
      ],
      "execution_count": 0,
      "outputs": [
        {
          "output_type": "execute_result",
          "data": {
            "text/plain": [
              "0    55003\n",
              "1    54984\n",
              "Name: pt_sentiment, dtype: int64"
            ]
          },
          "metadata": {
            "tags": []
          },
          "execution_count": 23
        }
      ]
    },
    {
      "cell_type": "code",
      "metadata": {
        "id": "7oHi_MVyYEUG",
        "colab_type": "code",
        "colab": {}
      },
      "source": [
        "# split the data into train/validation\n",
        "train_text, test_text, train_labels, test_labels = train_test_split(vg_down.clean_text, \n",
        "                                                                    vg_down.pt_sentiment, \n",
        "                                                                    test_size=0.20,\n",
        "                                                                    random_state=42, \n",
        "                                                                    stratify=vg_down.pt_sentiment)"
      ],
      "execution_count": 0,
      "outputs": []
    },
    {
      "cell_type": "code",
      "metadata": {
        "id": "RuYATGB-nUrL",
        "colab_type": "code",
        "colab": {}
      },
      "source": [
        "# split the test data into test/valid\n",
        "valid_text, test_text, valid_labels, test_labels = train_test_split(test_text, test_labels, \n",
        "                                                                      test_size=0.50,\n",
        "                                                                      random_state=42, \n",
        "                                                                      stratify=test_labels)"
      ],
      "execution_count": 0,
      "outputs": []
    },
    {
      "cell_type": "code",
      "metadata": {
        "id": "_9-2hRhI_ACw",
        "colab_type": "code",
        "colab": {}
      },
      "source": [
        ""
      ],
      "execution_count": 0,
      "outputs": []
    },
    {
      "cell_type": "code",
      "metadata": {
        "id": "_4VLXMie_AN_",
        "colab_type": "code",
        "colab": {}
      },
      "source": [
        ""
      ],
      "execution_count": 0,
      "outputs": []
    },
    {
      "cell_type": "markdown",
      "metadata": {
        "id": "mEFeal4rdrM_",
        "colab_type": "text"
      },
      "source": [
        "The original plan was to test many different chunks if the pretrained model performance was satisfactory at each stage. \n",
        "\n",
        "High performance types from collections were used. Once the first chunk failed, subsequent evaluations were abandoned in interest of training a new model."
      ]
    },
    {
      "cell_type": "code",
      "metadata": {
        "id": "A8qSvcsj_AU1",
        "colab_type": "code",
        "colab": {}
      },
      "source": [
        "# testing pretrained model"
      ],
      "execution_count": 0,
      "outputs": []
    },
    {
      "cell_type": "code",
      "metadata": {
        "id": "phMTtwLWYJzi",
        "colab_type": "code",
        "outputId": "37408e2c-c1c8-4b58-9608-49cc913d48c5",
        "colab": {
          "base_uri": "https://localhost:8080/",
          "height": 52
        }
      },
      "source": [
        "# split the data into smaller chunks\n",
        "\n",
        "sentences1 = deque()\n",
        "sentences2 = deque()\n",
        "sentences3 = deque()\n",
        "sentences4 = deque()\n",
        "sentences5 = deque()\n",
        "test_text1 = test_text[:25000] # trying smaller size to save memory\n",
        "test_text2 = test_text[25000:50000]\n",
        "test_text3 = test_text[50000:75000]\n",
        "test_text4 = test_text[75000:100000]\n",
        "test_text5 = test_text[100000:]\n",
        "print(len(test_text1) + len(test_text2) + len(test_text3) + len(test_text4) + len(test_text5))\n",
        "print(len(test_text))"
      ],
      "execution_count": 0,
      "outputs": [
        {
          "output_type": "stream",
          "text": [
            "124355\n",
            "124355\n"
          ],
          "name": "stdout"
        }
      ]
    },
    {
      "cell_type": "code",
      "metadata": {
        "id": "jKGHrCSVYTo2",
        "colab_type": "code",
        "colab": {}
      },
      "source": [
        "# extract the first chunk\n",
        "for text in test_text1:\n",
        "    sentences1.append(Sentence(text))"
      ],
      "execution_count": 0,
      "outputs": []
    },
    {
      "cell_type": "code",
      "metadata": {
        "id": "rwurPCuLYedE",
        "colab_type": "code",
        "colab": {}
      },
      "source": [
        "def get_pretrained_preds(sentences):\n",
        "    \n",
        "    # initialize values for loop\n",
        "    scores = defaultdict(float)\n",
        "    values = defaultdict(str)\n",
        "    i = 0\n",
        "    \n",
        "    # predict for all sentences\n",
        "    classifier.predict(sentences, mini_batch_size=32)\n",
        "    \n",
        "    # generate a list of predictions for each text entry\n",
        "    while len(sentences) > 0:\n",
        "        sentence = sentences.popleft()\n",
        "        scores[i] = sentence.labels[0].score\n",
        "        values[i] = sentence.labels[0].value\n",
        "        i+=1\n",
        "        \n",
        "    \n",
        "    # create and return a dataframe from the lists of probabilities and preditions\n",
        "    df = pd.DataFrame({'probability': scores, 'prediction': values})\n",
        "    return(df)"
      ],
      "execution_count": 0,
      "outputs": []
    },
    {
      "cell_type": "code",
      "metadata": {
        "id": "hunjM-B6aStg",
        "colab_type": "code",
        "colab": {}
      },
      "source": [
        "# create predictions for the first chunk\n",
        "df_pred1 = get_pretrained_preds(sentences1)"
      ],
      "execution_count": 0,
      "outputs": []
    },
    {
      "cell_type": "code",
      "metadata": {
        "id": "Z3BeXbmGaXRn",
        "colab_type": "code",
        "outputId": "394bddd8-ace1-4af9-f184-b9b2235f334c",
        "colab": {
          "base_uri": "https://localhost:8080/",
          "height": 202
        }
      },
      "source": [
        "# inspect the results of the pretrained model's predictions\n",
        "df_pred1.head()"
      ],
      "execution_count": 0,
      "outputs": [
        {
          "output_type": "execute_result",
          "data": {
            "text/html": [
              "<div>\n",
              "<style scoped>\n",
              "    .dataframe tbody tr th:only-of-type {\n",
              "        vertical-align: middle;\n",
              "    }\n",
              "\n",
              "    .dataframe tbody tr th {\n",
              "        vertical-align: top;\n",
              "    }\n",
              "\n",
              "    .dataframe thead th {\n",
              "        text-align: right;\n",
              "    }\n",
              "</style>\n",
              "<table border=\"1\" class=\"dataframe\">\n",
              "  <thead>\n",
              "    <tr style=\"text-align: right;\">\n",
              "      <th></th>\n",
              "      <th>probability</th>\n",
              "      <th>prediction</th>\n",
              "    </tr>\n",
              "  </thead>\n",
              "  <tbody>\n",
              "    <tr>\n",
              "      <th>0</th>\n",
              "      <td>0.996104</td>\n",
              "      <td>POSITIVE</td>\n",
              "    </tr>\n",
              "    <tr>\n",
              "      <th>1</th>\n",
              "      <td>0.863034</td>\n",
              "      <td>POSITIVE</td>\n",
              "    </tr>\n",
              "    <tr>\n",
              "      <th>2</th>\n",
              "      <td>0.999872</td>\n",
              "      <td>POSITIVE</td>\n",
              "    </tr>\n",
              "    <tr>\n",
              "      <th>3</th>\n",
              "      <td>0.674651</td>\n",
              "      <td>POSITIVE</td>\n",
              "    </tr>\n",
              "    <tr>\n",
              "      <th>4</th>\n",
              "      <td>0.999235</td>\n",
              "      <td>NEGATIVE</td>\n",
              "    </tr>\n",
              "  </tbody>\n",
              "</table>\n",
              "</div>"
            ],
            "text/plain": [
              "   probability prediction\n",
              "0     0.996104   POSITIVE\n",
              "1     0.863034   POSITIVE\n",
              "2     0.999872   POSITIVE\n",
              "3     0.674651   POSITIVE\n",
              "4     0.999235   NEGATIVE"
            ]
          },
          "metadata": {
            "tags": []
          },
          "execution_count": 22
        }
      ]
    },
    {
      "cell_type": "code",
      "metadata": {
        "id": "tUP7v-qM4kiW",
        "colab_type": "code",
        "outputId": "1a1bdcc9-a0d7-42d4-b179-8d783b22f795",
        "colab": {
          "base_uri": "https://localhost:8080/",
          "height": 35
        }
      },
      "source": [
        "# there are 25000 predictions here\n",
        "df_pred1.shape"
      ],
      "execution_count": 0,
      "outputs": [
        {
          "output_type": "execute_result",
          "data": {
            "text/plain": [
              "(25000, 2)"
            ]
          },
          "metadata": {
            "tags": []
          },
          "execution_count": 23
        }
      ]
    },
    {
      "cell_type": "code",
      "metadata": {
        "id": "Myo0WClaYgcc",
        "colab_type": "code",
        "colab": {}
      },
      "source": [
        "# map the text prediction output from the model to 0/1 for comparison to labels\n",
        "df_pred1.loc[:, 'pred'] = df_pred1.prediction.map({'POSITIVE': 1, 'NEGATIVE': 0})"
      ],
      "execution_count": 0,
      "outputs": []
    },
    {
      "cell_type": "code",
      "metadata": {
        "id": "jq77z6KLYzDi",
        "colab_type": "code",
        "outputId": "0f019d1b-8854-4ad0-89bf-c8b1e8d84613",
        "colab": {
          "base_uri": "https://localhost:8080/",
          "height": 202
        }
      },
      "source": [
        "# inspect\n",
        "df_pred1.head()"
      ],
      "execution_count": 0,
      "outputs": [
        {
          "output_type": "execute_result",
          "data": {
            "text/html": [
              "<div>\n",
              "<style scoped>\n",
              "    .dataframe tbody tr th:only-of-type {\n",
              "        vertical-align: middle;\n",
              "    }\n",
              "\n",
              "    .dataframe tbody tr th {\n",
              "        vertical-align: top;\n",
              "    }\n",
              "\n",
              "    .dataframe thead th {\n",
              "        text-align: right;\n",
              "    }\n",
              "</style>\n",
              "<table border=\"1\" class=\"dataframe\">\n",
              "  <thead>\n",
              "    <tr style=\"text-align: right;\">\n",
              "      <th></th>\n",
              "      <th>probability</th>\n",
              "      <th>prediction</th>\n",
              "      <th>pred</th>\n",
              "    </tr>\n",
              "  </thead>\n",
              "  <tbody>\n",
              "    <tr>\n",
              "      <th>0</th>\n",
              "      <td>0.996104</td>\n",
              "      <td>POSITIVE</td>\n",
              "      <td>1</td>\n",
              "    </tr>\n",
              "    <tr>\n",
              "      <th>1</th>\n",
              "      <td>0.863034</td>\n",
              "      <td>POSITIVE</td>\n",
              "      <td>1</td>\n",
              "    </tr>\n",
              "    <tr>\n",
              "      <th>2</th>\n",
              "      <td>0.999872</td>\n",
              "      <td>POSITIVE</td>\n",
              "      <td>1</td>\n",
              "    </tr>\n",
              "    <tr>\n",
              "      <th>3</th>\n",
              "      <td>0.674651</td>\n",
              "      <td>POSITIVE</td>\n",
              "      <td>1</td>\n",
              "    </tr>\n",
              "    <tr>\n",
              "      <th>4</th>\n",
              "      <td>0.999235</td>\n",
              "      <td>NEGATIVE</td>\n",
              "      <td>0</td>\n",
              "    </tr>\n",
              "  </tbody>\n",
              "</table>\n",
              "</div>"
            ],
            "text/plain": [
              "   probability prediction  pred\n",
              "0     0.996104   POSITIVE     1\n",
              "1     0.863034   POSITIVE     1\n",
              "2     0.999872   POSITIVE     1\n",
              "3     0.674651   POSITIVE     1\n",
              "4     0.999235   NEGATIVE     0"
            ]
          },
          "metadata": {
            "tags": []
          },
          "execution_count": 26
        }
      ]
    },
    {
      "cell_type": "code",
      "metadata": {
        "id": "fCRYcgtkZJrM",
        "colab_type": "code",
        "outputId": "c109ba85-e087-4711-8fab-15613c139cc3",
        "colab": {
          "base_uri": "https://localhost:8080/",
          "height": 52
        }
      },
      "source": [
        "# get labels to test the accuracy\n",
        "y_true1 = test_labels[:25000,]\n",
        "y_pred1 = df_pred1.loc[:25000, 'pred']\n",
        "print(y_true1.shape)\n",
        "print(y_pred1.shape)"
      ],
      "execution_count": 0,
      "outputs": [
        {
          "output_type": "stream",
          "text": [
            "(25000,)\n",
            "(25000,)\n"
          ],
          "name": "stdout"
        }
      ]
    },
    {
      "cell_type": "code",
      "metadata": {
        "id": "OjSqxmybZvfX",
        "colab_type": "code",
        "outputId": "63bbbbe2-076c-419c-eeaf-a0c248ccee87",
        "colab": {
          "base_uri": "https://localhost:8080/",
          "height": 156
        }
      },
      "source": [
        "# print the confusion matrix\n",
        "print(confusion_matrix(y_true1, y_pred1))\n",
        "tn, fp, fn, tp = confusion_matrix(y_true1, y_pred1).ravel()\n",
        "dr = tp / (tp + fn)\n",
        "fpr = fp / (fp + tn)\n",
        "print('True Negatives: {}'.format(tn))\n",
        "print('False Positives: {}'.format(fp))\n",
        "print('False Negatives: {}'.format(fn))\n",
        "print('True Positives: {}'.format(tp))\n",
        "print('Detection Rate: {}'.format(dr))\n",
        "print('False Positive Rate: {}'.format(fpr))"
      ],
      "execution_count": 0,
      "outputs": [
        {
          "output_type": "stream",
          "text": [
            "[[ 2060   681]\n",
            " [ 5285 16974]]\n",
            "True Negatives: 2060\n",
            "False Positives: 681\n",
            "False Negatives: 5285\n",
            "True Positives: 16974\n",
            "Detection Rate: 0.7625679500426794\n",
            "False Positive Rate: 0.24844947099598685\n"
          ],
          "name": "stdout"
        }
      ]
    },
    {
      "cell_type": "markdown",
      "metadata": {
        "id": "_7Y8E8Joevy8",
        "colab_type": "text"
      },
      "source": [
        "Over 20% of the predictions were false negatives (5285/25000). While true positives seemed to perform well, the negative predictions were very poor."
      ]
    },
    {
      "cell_type": "code",
      "metadata": {
        "id": "JjsG1h8Ga15K",
        "colab_type": "code",
        "outputId": "6b350e9e-b98a-4f4b-9367-d2fd9d214e16",
        "colab": {
          "base_uri": "https://localhost:8080/",
          "height": 173
        }
      },
      "source": [
        "print(classification_report(y_true1, y_pred1))"
      ],
      "execution_count": 0,
      "outputs": [
        {
          "output_type": "stream",
          "text": [
            "              precision    recall  f1-score   support\n",
            "\n",
            "           0       0.28      0.75      0.41      2741\n",
            "           1       0.96      0.76      0.85     22259\n",
            "\n",
            "    accuracy                           0.76     25000\n",
            "   macro avg       0.62      0.76      0.63     25000\n",
            "weighted avg       0.89      0.76      0.80     25000\n",
            "\n"
          ],
          "name": "stdout"
        }
      ]
    },
    {
      "cell_type": "markdown",
      "metadata": {
        "id": "9Ygt5lU4fCXP",
        "colab_type": "text"
      },
      "source": [
        "The classification report illustrates the poor performance of the IMDB pretrained model on the video game reviews with a precision of 0.28 for the negative class and an F1 score of just 0.41."
      ]
    },
    {
      "cell_type": "code",
      "metadata": {
        "id": "fdcn-2xQbibE",
        "colab_type": "code",
        "colab": {}
      },
      "source": [
        "import matplotlib.pyplot as plt"
      ],
      "execution_count": 0,
      "outputs": []
    },
    {
      "cell_type": "code",
      "metadata": {
        "id": "4zWc9dGjbfzk",
        "colab_type": "code",
        "outputId": "bbacae0d-444c-4969-f45c-05b1c65f2064",
        "colab": {
          "base_uri": "https://localhost:8080/",
          "height": 295
        }
      },
      "source": [
        "# generate ROC/AUC curve\n",
        "y_pred_prob = df_pred1.probability\n",
        "\n",
        "# unpack into false positive rate, true positive rate, and thresholds\n",
        "fpr, tpr, thresholds = roc_curve(y_true1, df_pred1.probability)\n",
        "\n",
        "_ = plt.plot([0,1], [0,1], 'k--')\n",
        "_ = plt.plot(fpr, tpr, label='test_set_1')\n",
        "_ = plt.xlabel('False Positive Rate')\n",
        "_ = plt.ylabel('True Positive Rate')\n",
        "_ = plt.title('Test Set 1 ROC Curve')"
      ],
      "execution_count": 0,
      "outputs": [
        {
          "output_type": "display_data",
          "data": {
            "image/png": "[encoded data removed]",
            "text/plain": [
              "<Figure size 432x288 with 1 Axes>"
            ]
          },
          "metadata": {
            "tags": []
          }
        }
      ]
    },
    {
      "cell_type": "markdown",
      "metadata": {
        "id": "GSU_KH8qfT4W",
        "colab_type": "text"
      },
      "source": [
        "Yeah, so this is bad. You want to see the line going way up into the top left of this plot. Generating the integral for the area under the curve shows an AUC of right around 0.50, which is pretty horrible. "
      ]
    },
    {
      "cell_type": "code",
      "metadata": {
        "id": "tXE70qRWcROo",
        "colab_type": "code",
        "outputId": "1f73cd3a-4f37-4dc9-9718-1fc981f731bc",
        "colab": {
          "base_uri": "https://localhost:8080/",
          "height": 35
        }
      },
      "source": [
        "# compute the AUC\n",
        "print(roc_auc_score(y_true1, y_pred_prob))"
      ],
      "execution_count": 0,
      "outputs": [
        {
          "output_type": "stream",
          "text": [
            "0.49359414510466393\n"
          ],
          "name": "stdout"
        }
      ]
    },
    {
      "cell_type": "code",
      "metadata": {
        "id": "cmdp5glJc_Am",
        "colab_type": "code",
        "outputId": "fadb66ae-7889-44d0-8d85-eea1d234413d",
        "colab": {
          "base_uri": "https://localhost:8080/",
          "height": 295
        }
      },
      "source": [
        "# plot the precision/recall curve\n",
        "precision, recall, thresholds = precision_recall_curve(y_true1, y_pred_prob)\n",
        "\n",
        "_ = plt.plot(recall, precision)\n",
        "_ = plt.plot([1,0], [0,1], 'k--')\n",
        "_ = plt.xlabel('Recall')\n",
        "_ = plt.ylabel('Precision')\n",
        "_ = plt.title('Precision/Recall Curve')"
      ],
      "execution_count": 0,
      "outputs": [
        {
          "output_type": "display_data",
          "data": {
            "image/png": "[encoded data removed]",
            "text/plain": [
              "<Figure size 432x288 with 1 Axes>"
            ]
          },
          "metadata": {
            "tags": []
          }
        }
      ]
    },
    {
      "cell_type": "markdown",
      "metadata": {
        "id": "L1O4ufzffm3a",
        "colab_type": "text"
      },
      "source": [
        "Precision/recall is very odd, and appears to show no major decrease in precision as the recall increases. "
      ]
    },
    {
      "cell_type": "code",
      "metadata": {
        "id": "6ETSogt8XJZK",
        "colab_type": "code",
        "colab": {}
      },
      "source": [
        "# predictions were saved in a file due to the length of time it takes to generate these predictions\n",
        "df_pred1.to_csv('predictions.txt', sep=',', columns=['probability', 'prediction', 'pred'], \n",
        "                header=True, index=True, mode='w')"
      ],
      "execution_count": 0,
      "outputs": []
    },
    {
      "cell_type": "code",
      "metadata": {
        "id": "UeuXjOs8bMuO",
        "colab_type": "code",
        "colab": {}
      },
      "source": [
        ""
      ],
      "execution_count": 0,
      "outputs": []
    },
    {
      "cell_type": "code",
      "metadata": {
        "id": "1_cZbeRR_F0D",
        "colab_type": "code",
        "colab": {}
      },
      "source": [
        ""
      ],
      "execution_count": 0,
      "outputs": []
    },
    {
      "cell_type": "code",
      "metadata": {
        "id": "VdTVuftT_F4d",
        "colab_type": "code",
        "colab": {}
      },
      "source": [
        ""
      ],
      "execution_count": 0,
      "outputs": []
    },
    {
      "cell_type": "code",
      "metadata": {
        "id": "LLtSVNw3_F8S",
        "colab_type": "code",
        "colab": {}
      },
      "source": [
        ""
      ],
      "execution_count": 0,
      "outputs": []
    },
    {
      "cell_type": "markdown",
      "metadata": {
        "id": "T2fKmBvpgb1N",
        "colab_type": "text"
      },
      "source": [
        "### Manual model training\n",
        "\n",
        "A model was trained using the video games data to try and increase model effectiveness."
      ]
    },
    {
      "cell_type": "code",
      "metadata": {
        "id": "uQPZBUb6dQ9T",
        "colab_type": "code",
        "colab": {}
      },
      "source": [
        "# manual model training"
      ],
      "execution_count": 0,
      "outputs": []
    },
    {
      "cell_type": "code",
      "metadata": {
        "id": "V179PtJZdQ64",
        "colab_type": "code",
        "colab": {}
      },
      "source": [
        "# write trianing data to file\n",
        "# format for flair is below\n",
        "# '__label__X Here is the text for the review'\n",
        "# where 'X' is the label for the review (0 is negative, 1 is positive)\n",
        "import os.path\n",
        "\n",
        "idxs = train_text.index.values\n",
        "max_idx = max(idxs)\n",
        "\n",
        "if os.path.isfile('train.txt'):\n",
        "    print (\"File already created.\")\n",
        "else:\n",
        "    with open('train.txt', 'w') as file:\n",
        "        for idx in idxs:\n",
        "            line = '__label__'\n",
        "            line += str(train_labels[idx]) + ' '\n",
        "            line += str.replace(train_text[idx], '\\n', ' ')\n",
        "            line += '\\n'\n",
        "            file.write(line)"
      ],
      "execution_count": 0,
      "outputs": []
    },
    {
      "cell_type": "code",
      "metadata": {
        "id": "G4AOGzDnempD",
        "colab_type": "code",
        "colab": {}
      },
      "source": [
        "# write dev.txt\n",
        "max_idx = max(valid_text.index.values)\n",
        "\n",
        "if os.path.isfile('dev.txt'):\n",
        "    print (\"File already created.\")\n",
        "else:\n",
        "    with open('dev.txt', 'w') as file:\n",
        "        for idx in valid_text.index.values:\n",
        "            line = '__label__'\n",
        "            line += str(valid_labels[idx]) + ' '\n",
        "            line += str.replace(valid_text[idx], '\\n', ' ')\n",
        "            line += '\\n'\n",
        "            file.write(line)"
      ],
      "execution_count": 0,
      "outputs": []
    },
    {
      "cell_type": "code",
      "metadata": {
        "id": "zzYWvHfPduhj",
        "colab_type": "code",
        "colab": {}
      },
      "source": [
        "# write test.txt\n",
        "import os.path\n",
        "\n",
        "max_idx = max(test_text.index.values)\n",
        "\n",
        "if os.path.isfile('test.txt'):\n",
        "    print (\"File already created.\")\n",
        "else:\n",
        "    with open('test.txt', 'w') as file:\n",
        "        for idx in test_text.index.values:\n",
        "            line = '__label__'\n",
        "            line += str(test_labels[idx]) + ' '\n",
        "            line += str.replace(test_text[idx], '\\n', ' ')\n",
        "            line += '\\n'\n",
        "            file.write(line)"
      ],
      "execution_count": 0,
      "outputs": []
    },
    {
      "cell_type": "code",
      "metadata": {
        "id": "8zs1wk8GkbOb",
        "colab_type": "code",
        "colab": {}
      },
      "source": [
        "# import necessary packages\n",
        "from flair.data import Corpus\n",
        "from flair.datasets import ClassificationCorpus\n",
        "from flair.trainers import ModelTrainer\n",
        "from pathlib import Path"
      ],
      "execution_count": 0,
      "outputs": []
    },
    {
      "cell_type": "code",
      "metadata": {
        "id": "EJoxUVFTQTtP",
        "colab_type": "code",
        "outputId": "79747810-7ac7-490f-9438-5afe3d9609e6",
        "colab": {
          "base_uri": "https://localhost:8080/",
          "height": 34
        }
      },
      "source": [
        "# check for GPU availability\n",
        "import torch\n",
        "torch.cuda.is_available()"
      ],
      "execution_count": 0,
      "outputs": [
        {
          "output_type": "execute_result",
          "data": {
            "text/plain": [
              "True"
            ]
          },
          "metadata": {
            "tags": []
          },
          "execution_count": 30
        }
      ]
    },
    {
      "cell_type": "code",
      "metadata": {
        "id": "Yx_H5-TWQAR0",
        "colab_type": "code",
        "colab": {}
      },
      "source": [
        "# set storage and GPU usage\n",
        "import flair\n",
        "device = torch.device('cuda:0')\n",
        "map_location=lambda storage, loc: storage.cuda()"
      ],
      "execution_count": 0,
      "outputs": []
    },
    {
      "cell_type": "code",
      "metadata": {
        "id": "1kFH0vcdkiSZ",
        "colab_type": "code",
        "outputId": "e2c800e9-cd15-4153-fb1c-3c13f240ba7b",
        "colab": {
          "base_uri": "https://localhost:8080/",
          "height": 85
        }
      },
      "source": [
        "# create corpus containing training, test and dev data\n",
        "corpus: Corpus = ClassificationCorpus('./',\n",
        "                                      test_file='test.txt',\n",
        "                                      dev_file='dev.txt',\n",
        "                                      train_file='train.txt')"
      ],
      "execution_count": 0,
      "outputs": [
        {
          "output_type": "stream",
          "text": [
            "2020-03-06 12:04:04,963 Reading data from .\n",
            "2020-03-06 12:04:04,964 Train: train.txt\n",
            "2020-03-06 12:04:04,965 Dev: dev.txt\n",
            "2020-03-06 12:04:04,966 Test: test.txt\n"
          ],
          "name": "stdout"
        }
      ]
    },
    {
      "cell_type": "code",
      "metadata": {
        "id": "JbH84dyYoaf4",
        "colab_type": "code",
        "outputId": "f36f8a28-415a-41fa-e540-4d61139d61fa",
        "colab": {
          "base_uri": "https://localhost:8080/",
          "height": 34
        }
      },
      "source": [
        "type(corpus)"
      ],
      "execution_count": 0,
      "outputs": [
        {
          "output_type": "execute_result",
          "data": {
            "text/plain": [
              "flair.datasets.ClassificationCorpus"
            ]
          },
          "metadata": {
            "tags": []
          },
          "execution_count": 33
        }
      ]
    },
    {
      "cell_type": "code",
      "metadata": {
        "id": "B58JDz5LodEa",
        "colab_type": "code",
        "colab": {}
      },
      "source": [
        ""
      ],
      "execution_count": 0,
      "outputs": []
    },
    {
      "cell_type": "code",
      "metadata": {
        "id": "ouF7bUX3oieE",
        "colab_type": "code",
        "outputId": "55738b51-7b26-4910-fc85-70a5f79474af",
        "colab": {
          "base_uri": "https://localhost:8080/",
          "height": 68
        }
      },
      "source": [
        "# generate label dictionary\n",
        "# fails if there are text entries that are invalid\n",
        "# (see removal of invalid entries above)\n",
        "label_dictionary=corpus.make_label_dictionary()"
      ],
      "execution_count": 0,
      "outputs": [
        {
          "output_type": "stream",
          "text": [
            "2020-03-06 12:04:08,825 Computing label dictionary. Progress:\n"
          ],
          "name": "stdout"
        },
        {
          "output_type": "stream",
          "text": [
            "100%|██████████| 87989/87989 [02:00<00:00, 728.54it/s]"
          ],
          "name": "stderr"
        },
        {
          "output_type": "stream",
          "text": [
            "2020-03-06 12:06:09,856 [b'0', b'1']\n"
          ],
          "name": "stdout"
        },
        {
          "output_type": "stream",
          "text": [
            "\n"
          ],
          "name": "stderr"
        }
      ]
    },
    {
      "cell_type": "code",
      "metadata": {
        "id": "MAp1sAmSkxB3",
        "colab_type": "code",
        "colab": {}
      },
      "source": [
        "# import embeddings\n",
        "from flair.embeddings import TokenEmbeddings, WordEmbeddings, StackedEmbeddings\n",
        "from flair.embeddings import FlairEmbeddings, DocumentRNNEmbeddings\n",
        "from typing import List"
      ],
      "execution_count": 0,
      "outputs": []
    },
    {
      "cell_type": "code",
      "metadata": {
        "id": "41HWFz33k85h",
        "colab_type": "code",
        "outputId": "e5c2b8d5-8050-443c-e877-3c66953adc29",
        "colab": {
          "base_uri": "https://localhost:8080/",
          "height": 343
        }
      },
      "source": [
        "# create word embeddings\n",
        "word_embeddings = [WordEmbeddings('glove'), FlairEmbeddings('news-forward-fast'), \n",
        "                   FlairEmbeddings('news-backward-fast')]"
      ],
      "execution_count": 0,
      "outputs": [
        {
          "output_type": "stream",
          "text": [
            "2020-03-06 12:06:42,392 https://s3.eu-central-1.amazonaws.com/alan-nlp/resources/embeddings/glove.gensim.vectors.npy not found in cache, downloading to /tmp/tmps22mmdnm\n"
          ],
          "name": "stdout"
        },
        {
          "output_type": "stream",
          "text": [
            "100%|██████████| 160000128/160000128 [00:07<00:00, 21643320.42B/s]"
          ],
          "name": "stderr"
        },
        {
          "output_type": "stream",
          "text": [
            "2020-03-06 12:06:50,340 copying /tmp/tmps22mmdnm to cache at /root/.flair/embeddings/glove.gensim.vectors.npy\n"
          ],
          "name": "stdout"
        },
        {
          "output_type": "stream",
          "text": [
            "\n"
          ],
          "name": "stderr"
        },
        {
          "output_type": "stream",
          "text": [
            "2020-03-06 12:06:50,474 removing temp file /tmp/tmps22mmdnm\n",
            "2020-03-06 12:06:53,690 https://s3.eu-central-1.amazonaws.com/alan-nlp/resources/embeddings/glove.gensim not found in cache, downloading to /tmp/tmpocvo3o07\n"
          ],
          "name": "stdout"
        },
        {
          "output_type": "stream",
          "text": [
            "100%|██████████| 21494764/21494764 [00:01<00:00, 13293235.60B/s]"
          ],
          "name": "stderr"
        },
        {
          "output_type": "stream",
          "text": [
            "2020-03-06 12:06:55,850 copying /tmp/tmpocvo3o07 to cache at /root/.flair/embeddings/glove.gensim\n",
            "2020-03-06 12:06:55,876 removing temp file /tmp/tmpocvo3o07\n"
          ],
          "name": "stdout"
        },
        {
          "output_type": "stream",
          "text": [
            "\n",
            "/usr/local/lib/python3.6/dist-packages/smart_open/smart_open_lib.py:402: UserWarning: This function is deprecated, use smart_open.open instead. See the migration notes for details: https://github.com/RaRe-Technologies/smart_open/blob/master/README.rst#migrating-to-the-new-open-function\n",
            "  'See the migration notes for details: %s' % _MIGRATION_NOTES_URL\n"
          ],
          "name": "stderr"
        },
        {
          "output_type": "stream",
          "text": [
            "2020-03-06 12:06:58,037 https://s3.eu-central-1.amazonaws.com/alan-nlp/resources/embeddings/lm-news-english-forward-1024-v0.2rc.pt not found in cache, downloading to /tmp/tmpb0n2u7n5\n"
          ],
          "name": "stdout"
        },
        {
          "output_type": "stream",
          "text": [
            "100%|██████████| 19689779/19689779 [00:01<00:00, 13768414.46B/s]"
          ],
          "name": "stderr"
        },
        {
          "output_type": "stream",
          "text": [
            "2020-03-06 12:07:00,036 copying /tmp/tmpb0n2u7n5 to cache at /root/.flair/embeddings/lm-news-english-forward-1024-v0.2rc.pt\n",
            "2020-03-06 12:07:00,053 removing temp file /tmp/tmpb0n2u7n5\n"
          ],
          "name": "stdout"
        },
        {
          "output_type": "stream",
          "text": [
            "\n"
          ],
          "name": "stderr"
        },
        {
          "output_type": "stream",
          "text": [
            "2020-03-06 12:07:10,278 https://s3.eu-central-1.amazonaws.com/alan-nlp/resources/embeddings/lm-news-english-backward-1024-v0.2rc.pt not found in cache, downloading to /tmp/tmp5or7bv9h\n"
          ],
          "name": "stdout"
        },
        {
          "output_type": "stream",
          "text": [
            "100%|██████████| 19689779/19689779 [00:01<00:00, 12988348.27B/s]"
          ],
          "name": "stderr"
        },
        {
          "output_type": "stream",
          "text": [
            "2020-03-06 12:07:12,300 copying /tmp/tmp5or7bv9h to cache at /root/.flair/embeddings/lm-news-english-backward-1024-v0.2rc.pt\n",
            "2020-03-06 12:07:12,320 removing temp file /tmp/tmp5or7bv9h\n"
          ],
          "name": "stdout"
        },
        {
          "output_type": "stream",
          "text": [
            "\n"
          ],
          "name": "stderr"
        }
      ]
    },
    {
      "cell_type": "code",
      "metadata": {
        "id": "08e0-1TglAoi",
        "colab_type": "code",
        "colab": {}
      },
      "source": [
        "# build the RNN document embeddings\n",
        "document_embeddings = DocumentRNNEmbeddings(word_embeddings, hidden_size=512, \n",
        "                                            reproject_words=True, reproject_words_dimension=256,\n",
        "                                            rnn_type='LSTM')"
      ],
      "execution_count": 0,
      "outputs": []
    },
    {
      "cell_type": "code",
      "metadata": {
        "id": "hrMGol1-lHBz",
        "colab_type": "code",
        "colab": {}
      },
      "source": [
        "# create the classifier\n",
        "classifier = TextClassifier(document_embeddings, \n",
        "                            label_dictionary=label_dictionary, \n",
        "                            multi_label=False)"
      ],
      "execution_count": 0,
      "outputs": []
    },
    {
      "cell_type": "code",
      "metadata": {
        "id": "GLKUNdNSlLBQ",
        "colab_type": "code",
        "colab": {}
      },
      "source": [
        "# create a model trainer\n",
        "trainer = ModelTrainer(classifier, corpus)"
      ],
      "execution_count": 0,
      "outputs": []
    },
    {
      "cell_type": "code",
      "metadata": {
        "id": "AkaWGTe7lO9w",
        "colab_type": "code",
        "outputId": "d4af82b9-fc03-40c9-b2a5-4be57587ab1c",
        "colab": {
          "base_uri": "https://localhost:8080/",
          "height": 1000
        }
      },
      "source": [
        "# train the model\n",
        "# takes approx 12.5 hours to train on Google Colab using Pro GPU\n",
        "trainer.train('./', max_epochs=10, monitor_test=True, embeddings_storage_mode='gpu')"
      ],
      "execution_count": 0,
      "outputs": [
        {
          "output_type": "stream",
          "text": [
            "2020-03-06 12:07:23,458 ----------------------------------------------------------------------------------------------------\n",
            "2020-03-06 12:07:23,459 Model: \"TextClassifier(\n",
            "  (document_embeddings): DocumentRNNEmbeddings(\n",
            "    (embeddings): StackedEmbeddings(\n",
            "      (list_embedding_0): WordEmbeddings('glove')\n",
            "      (list_embedding_1): FlairEmbeddings(\n",
            "        (lm): LanguageModel(\n",
            "          (drop): Dropout(p=0.25, inplace=False)\n",
            "          (encoder): Embedding(275, 100)\n",
            "          (rnn): LSTM(100, 1024)\n",
            "          (decoder): Linear(in_features=1024, out_features=275, bias=True)\n",
            "        )\n",
            "      )\n",
            "      (list_embedding_2): FlairEmbeddings(\n",
            "        (lm): LanguageModel(\n",
            "          (drop): Dropout(p=0.25, inplace=False)\n",
            "          (encoder): Embedding(275, 100)\n",
            "          (rnn): LSTM(100, 1024)\n",
            "          (decoder): Linear(in_features=1024, out_features=275, bias=True)\n",
            "        )\n",
            "      )\n",
            "    )\n",
            "    (word_reprojection_map): Linear(in_features=2148, out_features=256, bias=True)\n",
            "    (rnn): LSTM(256, 512, batch_first=True)\n",
            "    (dropout): Dropout(p=0.5, inplace=False)\n",
            "  )\n",
            "  (decoder): Linear(in_features=512, out_features=2, bias=True)\n",
            "  (loss_function): CrossEntropyLoss()\n",
            "  (beta): 1.0\n",
            "  (weights): None\n",
            "  (weight_tensor) None\n",
            ")\"\n",
            "2020-03-06 12:07:23,462 ----------------------------------------------------------------------------------------------------\n",
            "2020-03-06 12:07:23,463 Corpus: \"Corpus: 87989 train + 10999 dev + 10999 test sentences\"\n",
            "2020-03-06 12:07:23,464 ----------------------------------------------------------------------------------------------------\n",
            "2020-03-06 12:07:23,465 Parameters:\n",
            "2020-03-06 12:07:23,465  - learning_rate: \"0.1\"\n",
            "2020-03-06 12:07:23,466  - mini_batch_size: \"32\"\n",
            "2020-03-06 12:07:23,467  - patience: \"3\"\n",
            "2020-03-06 12:07:23,468  - anneal_factor: \"0.5\"\n",
            "2020-03-06 12:07:23,469  - max_epochs: \"10\"\n",
            "2020-03-06 12:07:23,470  - shuffle: \"True\"\n",
            "2020-03-06 12:07:23,471  - train_with_dev: \"False\"\n",
            "2020-03-06 12:07:23,472  - batch_growth_annealing: \"False\"\n",
            "2020-03-06 12:07:23,472 ----------------------------------------------------------------------------------------------------\n",
            "2020-03-06 12:07:23,473 Model training base path: \".\"\n",
            "2020-03-06 12:07:23,474 ----------------------------------------------------------------------------------------------------\n",
            "2020-03-06 12:07:23,474 Device: cuda:0\n",
            "2020-03-06 12:07:23,475 ----------------------------------------------------------------------------------------------------\n",
            "2020-03-06 12:07:23,476 Embeddings storage mode: gpu\n",
            "2020-03-06 12:07:23,477 ----------------------------------------------------------------------------------------------------\n",
            "2020-03-06 12:13:44,190 epoch 1 - iter 275/2750 - loss 0.66566965 - samples/sec: 23.96\n",
            "2020-03-06 12:20:30,629 epoch 1 - iter 550/2750 - loss 0.65452393 - samples/sec: 22.36\n",
            "2020-03-06 12:27:07,126 epoch 1 - iter 825/2750 - loss 0.64385663 - samples/sec: 22.99\n",
            "2020-03-06 12:33:28,559 epoch 1 - iter 1100/2750 - loss 0.63625566 - samples/sec: 23.90\n",
            "2020-03-06 12:39:38,366 epoch 1 - iter 1375/2750 - loss 0.62994053 - samples/sec: 24.75\n",
            "2020-03-06 12:45:43,649 epoch 1 - iter 1650/2750 - loss 0.62482286 - samples/sec: 25.00\n",
            "2020-03-06 12:51:46,546 epoch 1 - iter 1925/2750 - loss 0.61980767 - samples/sec: 25.21\n",
            "2020-03-06 12:58:07,475 epoch 1 - iter 2200/2750 - loss 0.61622284 - samples/sec: 24.01\n",
            "2020-03-06 13:04:25,410 epoch 1 - iter 2475/2750 - loss 0.61324672 - samples/sec: 24.12\n",
            "2020-03-06 13:10:42,196 epoch 1 - iter 2750/2750 - loss 0.60989976 - samples/sec: 24.11\n",
            "2020-03-06 13:10:42,337 ----------------------------------------------------------------------------------------------------\n",
            "2020-03-06 13:10:42,338 EPOCH 1 done: loss 0.6099 - lr 0.1000\n",
            "2020-03-06 13:18:31,287 DEV : loss 0.5848524570465088 - score 0.7052\n",
            "2020-03-06 13:25:57,318 TEST : loss 0.5844477415084839 - score 0.7115\n",
            "2020-03-06 13:26:04,701 BAD EPOCHS (no improvement): 0\n",
            "2020-03-06 13:26:07,481 ----------------------------------------------------------------------------------------------------\n",
            "2020-03-06 13:32:21,394 epoch 2 - iter 275/2750 - loss 0.57263743 - samples/sec: 24.35\n",
            "2020-03-06 13:38:54,499 epoch 2 - iter 550/2750 - loss 0.57209893 - samples/sec: 23.18\n",
            "2020-03-06 13:45:02,111 epoch 2 - iter 825/2750 - loss 0.56993982 - samples/sec: 24.66\n",
            "2020-03-06 13:51:49,999 epoch 2 - iter 1100/2750 - loss 0.56610347 - samples/sec: 22.38\n",
            "2020-03-06 13:58:10,677 epoch 2 - iter 1375/2750 - loss 0.56562912 - samples/sec: 23.94\n",
            "2020-03-06 14:04:26,170 epoch 2 - iter 1650/2750 - loss 0.56145454 - samples/sec: 24.30\n",
            "2020-03-06 14:10:42,591 epoch 2 - iter 1925/2750 - loss 0.55970724 - samples/sec: 24.21\n",
            "2020-03-06 14:17:09,330 epoch 2 - iter 2200/2750 - loss 0.56047132 - samples/sec: 23.57\n",
            "2020-03-06 14:23:44,258 epoch 2 - iter 2475/2750 - loss 0.55787197 - samples/sec: 23.18\n",
            "2020-03-06 14:30:21,029 epoch 2 - iter 2750/2750 - loss 0.55767002 - samples/sec: 22.98\n",
            "2020-03-06 14:30:21,216 ----------------------------------------------------------------------------------------------------\n",
            "2020-03-06 14:30:21,217 EPOCH 2 done: loss 0.5577 - lr 0.1000\n",
            "2020-03-06 14:38:17,699 DEV : loss 0.4969259202480316 - score 0.7824\n",
            "2020-03-06 14:45:45,318 TEST : loss 0.4989779591560364 - score 0.7786\n",
            "2020-03-06 14:45:52,705 BAD EPOCHS (no improvement): 0\n",
            "2020-03-06 14:45:55,478 ----------------------------------------------------------------------------------------------------\n",
            "2020-03-06 14:52:17,300 epoch 3 - iter 275/2750 - loss 0.52962901 - samples/sec: 23.89\n",
            "2020-03-06 14:58:46,376 epoch 3 - iter 550/2750 - loss 0.53025690 - samples/sec: 23.61\n",
            "2020-03-06 15:05:36,433 epoch 3 - iter 825/2750 - loss 0.52949374 - samples/sec: 22.13\n",
            "2020-03-06 15:12:05,092 epoch 3 - iter 1100/2750 - loss 0.53032441 - samples/sec: 23.38\n",
            "2020-03-06 15:18:32,259 epoch 3 - iter 1375/2750 - loss 0.52912843 - samples/sec: 23.50\n",
            "2020-03-06 15:24:59,395 epoch 3 - iter 1650/2750 - loss 0.52387075 - samples/sec: 23.59\n",
            "2020-03-06 15:31:33,602 epoch 3 - iter 1925/2750 - loss 0.52210276 - samples/sec: 23.11\n",
            "2020-03-06 15:37:51,316 epoch 3 - iter 2200/2750 - loss 0.52088904 - samples/sec: 24.19\n",
            "2020-03-06 15:43:59,444 epoch 3 - iter 2475/2750 - loss 0.51851891 - samples/sec: 24.82\n",
            "2020-03-06 15:50:19,993 epoch 3 - iter 2750/2750 - loss 0.51868849 - samples/sec: 24.05\n",
            "2020-03-06 15:50:20,169 ----------------------------------------------------------------------------------------------------\n",
            "2020-03-06 15:50:20,170 EPOCH 3 done: loss 0.5187 - lr 0.1000\n",
            "2020-03-06 15:58:14,473 DEV : loss 0.47617119550704956 - score 0.7925\n",
            "2020-03-06 16:05:44,632 TEST : loss 0.48619160056114197 - score 0.7887\n",
            "2020-03-06 16:05:52,227 BAD EPOCHS (no improvement): 0\n",
            "2020-03-06 16:05:55,093 ----------------------------------------------------------------------------------------------------\n",
            "2020-03-06 16:12:23,345 epoch 4 - iter 275/2750 - loss 0.49113322 - samples/sec: 23.47\n",
            "2020-03-06 16:19:20,952 epoch 4 - iter 550/2750 - loss 0.48562555 - samples/sec: 21.90\n",
            "2020-03-06 16:25:40,508 epoch 4 - iter 825/2750 - loss 0.48821102 - samples/sec: 24.01\n",
            "2020-03-06 16:31:53,642 epoch 4 - iter 1100/2750 - loss 0.49131934 - samples/sec: 24.54\n",
            "2020-03-06 16:38:18,512 epoch 4 - iter 1375/2750 - loss 0.49443614 - samples/sec: 23.87\n",
            "2020-03-06 16:44:39,742 epoch 4 - iter 1650/2750 - loss 0.49269107 - samples/sec: 24.03\n",
            "2020-03-06 16:50:59,496 epoch 4 - iter 1925/2750 - loss 0.49037990 - samples/sec: 24.11\n",
            "2020-03-06 16:57:48,166 epoch 4 - iter 2200/2750 - loss 0.48799069 - samples/sec: 22.28\n",
            "2020-03-06 17:04:09,589 epoch 4 - iter 2475/2750 - loss 0.48651532 - samples/sec: 23.82\n",
            "2020-03-06 17:10:10,989 epoch 4 - iter 2750/2750 - loss 0.48364262 - samples/sec: 25.30\n",
            "2020-03-06 17:10:11,172 ----------------------------------------------------------------------------------------------------\n",
            "2020-03-06 17:10:11,173 EPOCH 4 done: loss 0.4836 - lr 0.1000\n",
            "2020-03-06 17:18:00,497 DEV : loss 0.3954060971736908 - score 0.8242\n",
            "2020-03-06 17:25:27,184 TEST : loss 0.4098884165287018 - score 0.8175\n",
            "2020-03-06 17:25:34,458 BAD EPOCHS (no improvement): 0\n",
            "2020-03-06 17:25:37,215 ----------------------------------------------------------------------------------------------------\n",
            "2020-03-06 17:31:44,354 epoch 5 - iter 275/2750 - loss 0.45379276 - samples/sec: 24.93\n",
            "2020-03-06 17:38:27,272 epoch 5 - iter 550/2750 - loss 0.44910069 - samples/sec: 22.75\n",
            "2020-03-06 17:44:36,580 epoch 5 - iter 825/2750 - loss 0.44836385 - samples/sec: 24.76\n",
            "2020-03-06 17:50:59,816 epoch 5 - iter 1100/2750 - loss 0.44470936 - samples/sec: 23.86\n",
            "2020-03-06 17:57:31,259 epoch 5 - iter 1375/2750 - loss 0.44365263 - samples/sec: 23.33\n",
            "2020-03-06 18:04:08,303 epoch 5 - iter 1650/2750 - loss 0.43905195 - samples/sec: 22.96\n",
            "2020-03-06 18:10:30,231 epoch 5 - iter 1925/2750 - loss 0.43653536 - samples/sec: 23.85\n",
            "2020-03-06 18:17:02,456 epoch 5 - iter 2200/2750 - loss 0.43439710 - samples/sec: 23.34\n",
            "2020-03-06 18:23:13,845 epoch 5 - iter 2475/2750 - loss 0.43411271 - samples/sec: 24.69\n",
            "2020-03-06 18:29:28,164 epoch 5 - iter 2750/2750 - loss 0.43293249 - samples/sec: 24.28\n",
            "2020-03-06 18:29:28,349 ----------------------------------------------------------------------------------------------------\n",
            "2020-03-06 18:29:28,350 EPOCH 5 done: loss 0.4329 - lr 0.1000\n",
            "2020-03-06 18:37:16,905 DEV : loss 0.3654356300830841 - score 0.8434\n",
            "2020-03-06 18:44:42,063 TEST : loss 0.3764975368976593 - score 0.8358\n",
            "2020-03-06 18:44:49,402 BAD EPOCHS (no improvement): 0\n",
            "2020-03-06 18:44:52,121 ----------------------------------------------------------------------------------------------------\n",
            "2020-03-06 18:51:13,446 epoch 6 - iter 275/2750 - loss 0.41669655 - samples/sec: 23.96\n",
            "2020-03-06 18:57:47,009 epoch 6 - iter 550/2750 - loss 0.41830936 - samples/sec: 23.14\n",
            "2020-03-06 19:03:59,276 epoch 6 - iter 825/2750 - loss 0.41443238 - samples/sec: 24.56\n",
            "2020-03-06 19:10:27,858 epoch 6 - iter 1100/2750 - loss 0.41480508 - samples/sec: 23.43\n",
            "2020-03-06 19:16:51,211 epoch 6 - iter 1375/2750 - loss 0.41327860 - samples/sec: 23.67\n",
            "2020-03-06 19:23:15,915 epoch 6 - iter 1650/2750 - loss 0.41087509 - samples/sec: 23.69\n",
            "2020-03-06 19:29:21,858 epoch 6 - iter 1925/2750 - loss 0.40883910 - samples/sec: 24.88\n",
            "2020-03-06 19:35:39,124 epoch 6 - iter 2200/2750 - loss 0.40843446 - samples/sec: 24.08\n",
            "2020-03-06 19:42:01,973 epoch 6 - iter 2475/2750 - loss 0.40746684 - samples/sec: 23.80\n",
            "2020-03-06 19:48:12,709 epoch 6 - iter 2750/2750 - loss 0.40748177 - samples/sec: 24.78\n",
            "2020-03-06 19:48:12,896 ----------------------------------------------------------------------------------------------------\n",
            "2020-03-06 19:48:12,898 EPOCH 6 done: loss 0.4075 - lr 0.1000\n",
            "2020-03-06 19:56:00,566 DEV : loss 0.36571887135505676 - score 0.8413\n",
            "2020-03-06 20:03:26,202 TEST : loss 0.37518227100372314 - score 0.8321\n",
            "2020-03-06 20:03:33,140 BAD EPOCHS (no improvement): 1\n",
            "2020-03-06 20:03:33,141 ----------------------------------------------------------------------------------------------------\n",
            "2020-03-06 20:10:02,589 epoch 7 - iter 275/2750 - loss 0.39887658 - samples/sec: 23.60\n",
            "2020-03-06 20:16:30,874 epoch 7 - iter 550/2750 - loss 0.39608066 - samples/sec: 23.44\n",
            "2020-03-06 20:23:01,229 epoch 7 - iter 825/2750 - loss 0.39570045 - samples/sec: 23.36\n",
            "2020-03-06 20:29:33,166 epoch 7 - iter 1100/2750 - loss 0.39543992 - samples/sec: 23.15\n",
            "2020-03-06 20:35:45,491 epoch 7 - iter 1375/2750 - loss 0.39489273 - samples/sec: 24.61\n",
            "2020-03-06 20:42:03,756 epoch 7 - iter 1650/2750 - loss 0.39517156 - samples/sec: 24.28\n",
            "2020-03-06 20:48:21,325 epoch 7 - iter 1925/2750 - loss 0.39458086 - samples/sec: 24.38\n",
            "2020-03-06 20:54:32,258 epoch 7 - iter 2200/2750 - loss 0.39499466 - samples/sec: 24.58\n",
            "2020-03-06 21:00:51,616 epoch 7 - iter 2475/2750 - loss 0.39348681 - samples/sec: 24.05\n",
            "2020-03-06 21:07:12,684 epoch 7 - iter 2750/2750 - loss 0.39356247 - samples/sec: 23.97\n",
            "2020-03-06 21:07:12,879 ----------------------------------------------------------------------------------------------------\n",
            "2020-03-06 21:07:12,881 EPOCH 7 done: loss 0.3936 - lr 0.1000\n",
            "2020-03-06 21:15:02,901 DEV : loss 0.3485885262489319 - score 0.8472\n",
            "2020-03-06 21:22:28,930 TEST : loss 0.3561328947544098 - score 0.8418\n",
            "2020-03-06 21:22:36,300 BAD EPOCHS (no improvement): 0\n",
            "2020-03-06 21:22:39,039 ----------------------------------------------------------------------------------------------------\n",
            "2020-03-06 21:28:54,244 epoch 8 - iter 275/2750 - loss 0.38214110 - samples/sec: 24.38\n",
            "2020-03-06 21:35:11,437 epoch 8 - iter 550/2750 - loss 0.37953768 - samples/sec: 24.14\n",
            "2020-03-06 21:41:33,153 epoch 8 - iter 825/2750 - loss 0.38233982 - samples/sec: 23.77\n",
            "2020-03-06 21:47:53,397 epoch 8 - iter 1100/2750 - loss 0.38349245 - samples/sec: 24.01\n",
            "2020-03-06 21:54:19,094 epoch 8 - iter 1375/2750 - loss 0.38440107 - samples/sec: 23.59\n",
            "2020-03-06 22:00:31,794 epoch 8 - iter 1650/2750 - loss 0.38365548 - samples/sec: 24.47\n",
            "2020-03-06 22:07:04,823 epoch 8 - iter 1925/2750 - loss 0.38309529 - samples/sec: 23.13\n",
            "2020-03-06 22:13:20,362 epoch 8 - iter 2200/2750 - loss 0.38212403 - samples/sec: 24.38\n",
            "2020-03-06 22:19:41,362 epoch 8 - iter 2475/2750 - loss 0.38131225 - samples/sec: 24.06\n",
            "2020-03-06 22:26:18,059 epoch 8 - iter 2750/2750 - loss 0.38131629 - samples/sec: 22.97\n",
            "2020-03-06 22:26:18,252 ----------------------------------------------------------------------------------------------------\n",
            "2020-03-06 22:26:18,254 EPOCH 8 done: loss 0.3813 - lr 0.1000\n",
            "2020-03-06 22:34:06,269 DEV : loss 0.34102949500083923 - score 0.8493\n",
            "2020-03-06 22:41:30,837 TEST : loss 0.3550140857696533 - score 0.8404\n",
            "2020-03-06 22:41:38,192 BAD EPOCHS (no improvement): 0\n",
            "2020-03-06 22:41:40,956 ----------------------------------------------------------------------------------------------------\n",
            "2020-03-06 22:47:54,098 epoch 9 - iter 275/2750 - loss 0.37412553 - samples/sec: 24.53\n",
            "2020-03-06 22:54:31,641 epoch 9 - iter 550/2750 - loss 0.37228632 - samples/sec: 22.92\n",
            "2020-03-06 23:00:59,206 epoch 9 - iter 825/2750 - loss 0.37254596 - samples/sec: 23.64\n",
            "2020-03-06 23:07:07,273 epoch 9 - iter 1100/2750 - loss 0.37281096 - samples/sec: 24.88\n",
            "2020-03-06 23:13:21,990 epoch 9 - iter 1375/2750 - loss 0.37452904 - samples/sec: 24.42\n",
            "2020-03-06 23:20:09,137 epoch 9 - iter 1650/2750 - loss 0.37435261 - samples/sec: 22.35\n",
            "2020-03-06 23:26:12,781 epoch 9 - iter 1925/2750 - loss 0.37471364 - samples/sec: 25.10\n",
            "2020-03-06 23:32:23,146 epoch 9 - iter 2200/2750 - loss 0.37479148 - samples/sec: 24.62\n",
            "2020-03-06 23:39:03,531 epoch 9 - iter 2475/2750 - loss 0.37406010 - samples/sec: 22.74\n",
            "2020-03-06 23:45:13,502 epoch 9 - iter 2750/2750 - loss 0.37357333 - samples/sec: 24.73\n",
            "2020-03-06 23:45:13,679 ----------------------------------------------------------------------------------------------------\n",
            "2020-03-06 23:45:13,682 EPOCH 9 done: loss 0.3736 - lr 0.1000\n",
            "2020-03-06 23:53:01,542 DEV : loss 0.31357282400131226 - score 0.8677\n",
            "2020-03-07 00:00:25,667 TEST : loss 0.32247284054756165 - score 0.8611\n",
            "2020-03-07 00:00:32,896 BAD EPOCHS (no improvement): 0\n",
            "2020-03-07 00:00:35,589 ----------------------------------------------------------------------------------------------------\n",
            "2020-03-07 00:06:40,404 epoch 10 - iter 275/2750 - loss 0.37292337 - samples/sec: 25.08\n",
            "2020-03-07 00:13:18,859 epoch 10 - iter 550/2750 - loss 0.36621408 - samples/sec: 22.85\n",
            "2020-03-07 00:19:31,256 epoch 10 - iter 825/2750 - loss 0.36060549 - samples/sec: 24.50\n",
            "2020-03-07 00:26:00,221 epoch 10 - iter 1100/2750 - loss 0.36270235 - samples/sec: 23.39\n",
            "2020-03-07 00:32:32,852 epoch 10 - iter 1375/2750 - loss 0.36135359 - samples/sec: 23.21\n",
            "2020-03-07 00:39:06,420 epoch 10 - iter 1650/2750 - loss 0.36142052 - samples/sec: 23.16\n",
            "2020-03-07 00:45:20,522 epoch 10 - iter 1925/2750 - loss 0.36372587 - samples/sec: 24.39\n",
            "2020-03-07 00:51:43,098 epoch 10 - iter 2200/2750 - loss 0.36492146 - samples/sec: 23.94\n",
            "2020-03-07 00:58:10,637 epoch 10 - iter 2475/2750 - loss 0.36354161 - samples/sec: 23.50\n",
            "2020-03-07 01:04:25,226 epoch 10 - iter 2750/2750 - loss 0.36221177 - samples/sec: 24.33\n",
            "2020-03-07 01:04:25,411 ----------------------------------------------------------------------------------------------------\n",
            "2020-03-07 01:04:25,412 EPOCH 10 done: loss 0.3622 - lr 0.1000\n",
            "2020-03-07 01:12:14,425 DEV : loss 0.30910471081733704 - score 0.8698\n",
            "2020-03-07 01:19:41,438 TEST : loss 0.32370784878730774 - score 0.8612\n",
            "2020-03-07 01:19:48,363 BAD EPOCHS (no improvement): 0\n",
            "2020-03-07 01:19:53,911 ----------------------------------------------------------------------------------------------------\n",
            "2020-03-07 01:19:53,912 Testing using best model ...\n",
            "2020-03-07 01:19:53,918 loading file best-model.pt\n",
            "2020-03-07 01:26:04,030 0.8612\t0.8612\t0.8612\n",
            "2020-03-07 01:26:04,032 \n",
            "MICRO_AVG: acc 0.7562 - f1-score 0.8612\n",
            "MACRO_AVG: acc 0.7562 - f1-score 0.8611500000000001\n",
            "0          tp: 4746 - fp: 772 - fn: 755 - tn: 4726 - precision: 0.8601 - recall: 0.8628 - accuracy: 0.7566 - f1-score: 0.8614\n",
            "1          tp: 4726 - fp: 755 - fn: 772 - tn: 4746 - precision: 0.8623 - recall: 0.8596 - accuracy: 0.7558 - f1-score: 0.8609\n",
            "2020-03-07 01:26:04,032 ----------------------------------------------------------------------------------------------------\n"
          ],
          "name": "stdout"
        },
        {
          "output_type": "execute_result",
          "data": {
            "text/plain": [
              "{'dev_loss_history': [tensor(0.5849, device='cuda:0'),\n",
              "  tensor(0.4969, device='cuda:0'),\n",
              "  tensor(0.4762, device='cuda:0'),\n",
              "  tensor(0.3954, device='cuda:0'),\n",
              "  tensor(0.3654, device='cuda:0'),\n",
              "  tensor(0.3657, device='cuda:0'),\n",
              "  tensor(0.3486, device='cuda:0'),\n",
              "  tensor(0.3410, device='cuda:0'),\n",
              "  tensor(0.3136, device='cuda:0'),\n",
              "  tensor(0.3091, device='cuda:0')],\n",
              " 'dev_score_history': [0.7052,\n",
              "  0.7824,\n",
              "  0.7925,\n",
              "  0.8242,\n",
              "  0.8434,\n",
              "  0.8413,\n",
              "  0.8472,\n",
              "  0.8493,\n",
              "  0.8677,\n",
              "  0.8698],\n",
              " 'test_score': 0.8612,\n",
              " 'train_loss_history': [0.6098997605605558,\n",
              "  0.5576700229536403,\n",
              "  0.5186884905262427,\n",
              "  0.48364262035218153,\n",
              "  0.43293248575925825,\n",
              "  0.407481773996895,\n",
              "  0.39356247357346796,\n",
              "  0.38131629062782635,\n",
              "  0.37357332828099077,\n",
              "  0.3622117653489113]}"
            ]
          },
          "metadata": {
            "tags": []
          },
          "execution_count": 40
        }
      ]
    },
    {
      "cell_type": "markdown",
      "metadata": {
        "id": "2WP2ZAnYh4M9",
        "colab_type": "text"
      },
      "source": [
        "### Results of model training\n",
        "\n",
        "There are several files created during model training, which will need to be saved/downloaded. The most important is 'best-model.pt' which actually contained the trained model.\n",
        "\n",
        "The final model f1 scores were around 86% for both classes on the dev and test data, which is much better than using the pretrained model. \n",
        "\n",
        "The next steps are to evaluate the trained model on subsequent data, and a template for this has been laid out below.\n",
        "\n",
        "This information will be appended to this notebook."
      ]
    },
    {
      "cell_type": "code",
      "metadata": {
        "id": "Tbbvxz_A3fUD",
        "colab_type": "code",
        "colab": {}
      },
      "source": [
        ""
      ],
      "execution_count": 0,
      "outputs": []
    },
    {
      "cell_type": "code",
      "metadata": {
        "id": "zUSVDpEOLFQp",
        "colab_type": "code",
        "colab": {}
      },
      "source": [
        "# load the best model\n",
        "classifier = TextClassifier.load_from_file('./best-model.pt')"
      ],
      "execution_count": 0,
      "outputs": []
    },
    {
      "cell_type": "code",
      "metadata": {
        "id": "ycc4abS9Me1J",
        "colab_type": "code",
        "colab": {}
      },
      "source": [
        ""
      ],
      "execution_count": 0,
      "outputs": []
    },
    {
      "cell_type": "code",
      "metadata": {
        "id": "PbddlU_9LISJ",
        "colab_type": "code",
        "colab": {}
      },
      "source": [
        "# create empty deque\n",
        "sentences = deque()"
      ],
      "execution_count": 0,
      "outputs": []
    },
    {
      "cell_type": "code",
      "metadata": {
        "id": "y-EQ1l81LIds",
        "colab_type": "code",
        "colab": {}
      },
      "source": [
        "# get deque of sentences\n",
        "for text in test_text:\n",
        "    sentences.append(Sentence(text))"
      ],
      "execution_count": 0,
      "outputs": []
    },
    {
      "cell_type": "code",
      "metadata": {
        "id": "F04YKejVOstM",
        "colab_type": "code",
        "colab": {}
      },
      "source": [
        "# initialize values for loop\n",
        "scores = defaultdict(float)\n",
        "values = defaultdict(str)\n",
        "i = 0"
      ],
      "execution_count": 0,
      "outputs": []
    },
    {
      "cell_type": "code",
      "metadata": {
        "id": "NtESxeyhOw8p",
        "colab_type": "code",
        "colab": {}
      },
      "source": [
        "# predict for all sentences\n",
        "classifier.predict(sentences, mini_batch_size=32)"
      ],
      "execution_count": 0,
      "outputs": []
    },
    {
      "cell_type": "code",
      "metadata": {
        "id": "iNQOK8fQLIoK",
        "colab_type": "code",
        "colab": {}
      },
      "source": [
        "# deque version to generate test predictions\n",
        "while len(sentences) > 0:\n",
        "    sentence = sentences.popleft()\n",
        "    scores[i] = sentence.labels[0].score\n",
        "    values[i] = sentence.labels[0].value\n",
        "    i+=1"
      ],
      "execution_count": 0,
      "outputs": []
    },
    {
      "cell_type": "code",
      "metadata": {
        "id": "pYH6sxxYO4QI",
        "colab_type": "code",
        "colab": {}
      },
      "source": [
        "# convert to dataframe\n",
        "df1 = pd.DataFrame({'probability': scores, 'prediction': values})"
      ],
      "execution_count": 0,
      "outputs": []
    },
    {
      "cell_type": "code",
      "metadata": {
        "id": "210-kkw0O4bT",
        "colab_type": "code",
        "colab": {}
      },
      "source": [
        ""
      ],
      "execution_count": 0,
      "outputs": []
    },
    {
      "cell_type": "code",
      "metadata": {
        "id": "X7B6S6jTLI0n",
        "colab_type": "code",
        "colab": {}
      },
      "source": [
        ""
      ],
      "execution_count": 0,
      "outputs": []
    },
    {
      "cell_type": "code",
      "metadata": {
        "id": "4b64jJD1LFgt",
        "colab_type": "code",
        "colab": {}
      },
      "source": [
        ""
      ],
      "execution_count": 0,
      "outputs": []
    },
    {
      "cell_type": "code",
      "metadata": {
        "id": "IQ62YgKrCZCl",
        "colab_type": "code",
        "colab": {}
      },
      "source": [
        ""
      ],
      "execution_count": 0,
      "outputs": []
    },
    {
      "cell_type": "code",
      "metadata": {
        "id": "mex7n-J_KOZA",
        "colab_type": "code",
        "colab": {}
      },
      "source": [
        ""
      ],
      "execution_count": 0,
      "outputs": []
    }
  ]
}