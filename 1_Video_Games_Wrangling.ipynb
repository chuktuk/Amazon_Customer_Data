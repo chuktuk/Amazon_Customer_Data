{
 "cells": [
  {
   "cell_type": "markdown",
   "metadata": {},
   "source": [
    "# Amazon Video Game Data Wrangling"
   ]
  },
  {
   "cell_type": "markdown",
   "metadata": {},
   "source": [
    "Data from\n",
    "> Justifying recommendations using distantly-labeled reviews and fined-grained aspects\n",
    "Jianmo Ni, Jiacheng Li, Julian McAuley\n",
    "Empirical Methods in Natural Language Processing (EMNLP), 2019"
   ]
  },
  {
   "cell_type": "code",
   "execution_count": 1,
   "metadata": {},
   "outputs": [],
   "source": [
    "# import packages\n",
    "import re\n",
    "import spacy\n",
    "import numpy as np\n",
    "import pandas as pd\n",
    "import matplotlib.pyplot as plt\n",
    "import seaborn as sns\n",
    "from collections import Counter, defaultdict, deque\n",
    "from sklearn.model_selection import train_test_split\n",
    "from sklearn.feature_extraction.text import CountVectorizer,TfidfVectorizer\n",
    "%matplotlib inline\n",
    "\n",
    "# load English tokenizer, tagger, parser, NER, and word vectors\n",
    "nlp = spacy.load('en_core_web_sm')\n",
    "import string\n",
    "punctuations = string.punctuation\n",
    "from  spacy.lang.en.stop_words import STOP_WORDS\n",
    "# Creating a Spacy Parser\n",
    "from spacy.lang.en import English\n",
    "from stemming.porter2 import stem\n",
    "from html import unescape\n",
    "import fasttext\n",
    "import emoji"
   ]
  },
  {
   "cell_type": "code",
   "execution_count": 2,
   "metadata": {},
   "outputs": [],
   "source": [
    "# initialize spark and koalas\n",
    "# import findspark\n",
    "# findspark.init()\n",
    "# import pyspark\n",
    "# import databricks.koalas as ks"
   ]
  },
  {
   "cell_type": "code",
   "execution_count": 3,
   "metadata": {},
   "outputs": [],
   "source": [
    "# from pyspark import SparkConf, SparkContext\n",
    "# from pyspark.sql import SQLContext\n",
    "# # set the app and number of cores to use (work comp 2 cores)\n",
    "# # conf = SparkConf().setMaster('local[2]').setAppName('VideoGamesWrangle') # 2 for BB comp\n",
    "# conf = SparkConf().setMaster('local[4]').setAppName('VideoGamesWrangle') # 4 for my laptop\n",
    "# # set the sparkcontext\n",
    "# sc = SparkContext.getOrCreate(conf = conf)\n",
    "# sqlContext = SQLContext(sc)"
   ]
  },
  {
   "cell_type": "code",
   "execution_count": 4,
   "metadata": {},
   "outputs": [],
   "source": [
    "vg = pd.read_json('../Amazon_Data/Video_Games_5.json.gz', lines=True, compression='gzip')"
   ]
  },
  {
   "cell_type": "code",
   "execution_count": 5,
   "metadata": {},
   "outputs": [
    {
     "data": {
      "text/html": [
       "<div>\n",
       "<style scoped>\n",
       "    .dataframe tbody tr th:only-of-type {\n",
       "        vertical-align: middle;\n",
       "    }\n",
       "\n",
       "    .dataframe tbody tr th {\n",
       "        vertical-align: top;\n",
       "    }\n",
       "\n",
       "    .dataframe thead th {\n",
       "        text-align: right;\n",
       "    }\n",
       "</style>\n",
       "<table border=\"1\" class=\"dataframe\">\n",
       "  <thead>\n",
       "    <tr style=\"text-align: right;\">\n",
       "      <th></th>\n",
       "      <th>overall</th>\n",
       "      <th>verified</th>\n",
       "      <th>reviewTime</th>\n",
       "      <th>reviewerID</th>\n",
       "      <th>asin</th>\n",
       "      <th>reviewerName</th>\n",
       "      <th>reviewText</th>\n",
       "      <th>summary</th>\n",
       "      <th>unixReviewTime</th>\n",
       "      <th>vote</th>\n",
       "      <th>style</th>\n",
       "      <th>image</th>\n",
       "    </tr>\n",
       "  </thead>\n",
       "  <tbody>\n",
       "    <tr>\n",
       "      <th>0</th>\n",
       "      <td>5</td>\n",
       "      <td>True</td>\n",
       "      <td>10 17, 2015</td>\n",
       "      <td>A1HP7NVNPFMA4N</td>\n",
       "      <td>0700026657</td>\n",
       "      <td>Ambrosia075</td>\n",
       "      <td>This game is a bit hard to get the hang of, bu...</td>\n",
       "      <td>but when you do it's great.</td>\n",
       "      <td>1445040000</td>\n",
       "      <td>NaN</td>\n",
       "      <td>NaN</td>\n",
       "      <td>NaN</td>\n",
       "    </tr>\n",
       "    <tr>\n",
       "      <th>1</th>\n",
       "      <td>4</td>\n",
       "      <td>False</td>\n",
       "      <td>07 27, 2015</td>\n",
       "      <td>A1JGAP0185YJI6</td>\n",
       "      <td>0700026657</td>\n",
       "      <td>travis</td>\n",
       "      <td>I played it a while but it was alright. The st...</td>\n",
       "      <td>But in spite of that it was fun, I liked it</td>\n",
       "      <td>1437955200</td>\n",
       "      <td>NaN</td>\n",
       "      <td>NaN</td>\n",
       "      <td>NaN</td>\n",
       "    </tr>\n",
       "    <tr>\n",
       "      <th>2</th>\n",
       "      <td>3</td>\n",
       "      <td>True</td>\n",
       "      <td>02 23, 2015</td>\n",
       "      <td>A1YJWEXHQBWK2B</td>\n",
       "      <td>0700026657</td>\n",
       "      <td>Vincent G. Mezera</td>\n",
       "      <td>ok game.</td>\n",
       "      <td>Three Stars</td>\n",
       "      <td>1424649600</td>\n",
       "      <td>NaN</td>\n",
       "      <td>NaN</td>\n",
       "      <td>NaN</td>\n",
       "    </tr>\n",
       "    <tr>\n",
       "      <th>3</th>\n",
       "      <td>2</td>\n",
       "      <td>True</td>\n",
       "      <td>02 20, 2015</td>\n",
       "      <td>A2204E1TH211HT</td>\n",
       "      <td>0700026657</td>\n",
       "      <td>Grandma KR</td>\n",
       "      <td>found the game a bit too complicated, not what...</td>\n",
       "      <td>Two Stars</td>\n",
       "      <td>1424390400</td>\n",
       "      <td>NaN</td>\n",
       "      <td>NaN</td>\n",
       "      <td>NaN</td>\n",
       "    </tr>\n",
       "    <tr>\n",
       "      <th>4</th>\n",
       "      <td>5</td>\n",
       "      <td>True</td>\n",
       "      <td>12 25, 2014</td>\n",
       "      <td>A2RF5B5H74JLPE</td>\n",
       "      <td>0700026657</td>\n",
       "      <td>jon</td>\n",
       "      <td>great game, I love it and have played it since...</td>\n",
       "      <td>love this game</td>\n",
       "      <td>1419465600</td>\n",
       "      <td>NaN</td>\n",
       "      <td>NaN</td>\n",
       "      <td>NaN</td>\n",
       "    </tr>\n",
       "  </tbody>\n",
       "</table>\n",
       "</div>"
      ],
      "text/plain": [
       "   overall  verified   reviewTime      reviewerID        asin  \\\n",
       "0        5      True  10 17, 2015  A1HP7NVNPFMA4N  0700026657   \n",
       "1        4     False  07 27, 2015  A1JGAP0185YJI6  0700026657   \n",
       "2        3      True  02 23, 2015  A1YJWEXHQBWK2B  0700026657   \n",
       "3        2      True  02 20, 2015  A2204E1TH211HT  0700026657   \n",
       "4        5      True  12 25, 2014  A2RF5B5H74JLPE  0700026657   \n",
       "\n",
       "        reviewerName                                         reviewText  \\\n",
       "0        Ambrosia075  This game is a bit hard to get the hang of, bu...   \n",
       "1             travis  I played it a while but it was alright. The st...   \n",
       "2  Vincent G. Mezera                                           ok game.   \n",
       "3         Grandma KR  found the game a bit too complicated, not what...   \n",
       "4                jon  great game, I love it and have played it since...   \n",
       "\n",
       "                                       summary  unixReviewTime vote style  \\\n",
       "0                  but when you do it's great.      1445040000  NaN   NaN   \n",
       "1  But in spite of that it was fun, I liked it      1437955200  NaN   NaN   \n",
       "2                                  Three Stars      1424649600  NaN   NaN   \n",
       "3                                    Two Stars      1424390400  NaN   NaN   \n",
       "4                               love this game      1419465600  NaN   NaN   \n",
       "\n",
       "  image  \n",
       "0   NaN  \n",
       "1   NaN  \n",
       "2   NaN  \n",
       "3   NaN  \n",
       "4   NaN  "
      ]
     },
     "execution_count": 5,
     "metadata": {},
     "output_type": "execute_result"
    }
   ],
   "source": [
    "vg.head()"
   ]
  },
  {
   "cell_type": "code",
   "execution_count": 6,
   "metadata": {},
   "outputs": [],
   "source": [
    "vg = vg.loc[:,['overall', 'reviewText']]"
   ]
  },
  {
   "cell_type": "code",
   "execution_count": null,
   "metadata": {},
   "outputs": [],
   "source": []
  },
  {
   "cell_type": "markdown",
   "metadata": {},
   "source": [
    "## Notes\n",
    "- 'asin' = product ID\n",
    "- 'reviewText' = the review text\n",
    "- 'overall' = the star rating"
   ]
  },
  {
   "cell_type": "code",
   "execution_count": 7,
   "metadata": {},
   "outputs": [
    {
     "name": "stdout",
     "output_type": "stream",
     "text": [
      "<class 'pandas.core.frame.DataFrame'>\n",
      "RangeIndex: 497577 entries, 0 to 497576\n",
      "Data columns (total 2 columns):\n",
      "overall       497577 non-null int64\n",
      "reviewText    497419 non-null object\n",
      "dtypes: int64(1), object(1)\n",
      "memory usage: 7.6+ MB\n"
     ]
    }
   ],
   "source": [
    "vg.info()"
   ]
  },
  {
   "cell_type": "code",
   "execution_count": 8,
   "metadata": {},
   "outputs": [],
   "source": [
    "# clean up nan values and change datatype\n",
    "vg = vg.dropna(how='any')\n",
    "vg.loc[:,'overall'] = vg.overall.astype('int16')"
   ]
  },
  {
   "cell_type": "code",
   "execution_count": 9,
   "metadata": {},
   "outputs": [
    {
     "name": "stdout",
     "output_type": "stream",
     "text": [
      "<class 'pandas.core.frame.DataFrame'>\n",
      "Int64Index: 497419 entries, 0 to 497576\n",
      "Data columns (total 2 columns):\n",
      "overall       497419 non-null int16\n",
      "reviewText    497419 non-null object\n",
      "dtypes: int16(1), object(1)\n",
      "memory usage: 8.5+ MB\n"
     ]
    }
   ],
   "source": [
    "vg.info()"
   ]
  },
  {
   "cell_type": "code",
   "execution_count": null,
   "metadata": {},
   "outputs": [],
   "source": []
  },
  {
   "cell_type": "code",
   "execution_count": 10,
   "metadata": {},
   "outputs": [
    {
     "data": {
      "text/plain": [
       "(497419, 2)"
      ]
     },
     "execution_count": 10,
     "metadata": {},
     "output_type": "execute_result"
    }
   ],
   "source": [
    "vg.shape"
   ]
  },
  {
   "cell_type": "code",
   "execution_count": 11,
   "metadata": {},
   "outputs": [
    {
     "data": {
      "text/plain": [
       "5    299623\n",
       "4     93644\n",
       "3     49140\n",
       "1     30879\n",
       "2     24133\n",
       "Name: overall, dtype: int64"
      ]
     },
     "execution_count": 11,
     "metadata": {},
     "output_type": "execute_result"
    }
   ],
   "source": [
    "vg.overall.value_counts()"
   ]
  },
  {
   "cell_type": "code",
   "execution_count": null,
   "metadata": {},
   "outputs": [],
   "source": []
  },
  {
   "cell_type": "code",
   "execution_count": null,
   "metadata": {},
   "outputs": [],
   "source": []
  },
  {
   "cell_type": "code",
   "execution_count": null,
   "metadata": {},
   "outputs": [],
   "source": []
  },
  {
   "cell_type": "code",
   "execution_count": null,
   "metadata": {},
   "outputs": [],
   "source": []
  },
  {
   "cell_type": "code",
   "execution_count": 12,
   "metadata": {},
   "outputs": [],
   "source": [
    "# create a dataframe from the word matrix\n",
    "# def wm2df(wm, feat_names):\n",
    "    \n",
    "#     # create an index for each row\n",
    "#     doc_names = ['Doc{:d}'.format(idx) for idx, _ in enumerate(wm)]\n",
    "#     df = pd.DataFrame(data=wm.toarray(), index=doc_names,\n",
    "#                       columns=feat_names)\n",
    "#     return(df)"
   ]
  },
  {
   "cell_type": "code",
   "execution_count": null,
   "metadata": {},
   "outputs": [],
   "source": []
  },
  {
   "cell_type": "code",
   "execution_count": 13,
   "metadata": {},
   "outputs": [
    {
     "name": "stdout",
     "output_type": "stream",
     "text": [
      "['put', 'each', 'eight', '‘ll', 'at', 'across', \"'d\", 'becomes', 'i', 'the', 'never', 'own', 'somewhere', 'nor', 'but', 'see', 'further', 'whereafter', 'of', 'everywhere', 'as', 'are', 'regarding', 'enough', 'beyond', 'such', 'latter', 'you', 'being', 'was', 'thru', 'latterly', '‘s', 'after', 'if', 'others', 'full', 'already', \"n't\", 'however', 'throughout', 'nothing', 'namely', 'besides', 'forty', 'except', 'hereby', 'ourselves', 'whole', 'itself', 'meanwhile', 'out', 'about', 'with', 'up', 'within', 'no', 'first', 'what', 'their', 'themselves', 'just', 'via', 'part', 'hereafter', 'becoming', '’ll', 'indeed', 'moreover', 'bottom', 'might', 'ten', 'herein', 'myself', 'former', \"'re\", 'beside', 'than', 'amongst', 'very', 'over', 'twenty', '’s', 'may', 'still', 'should', 'does', 'anyone', 'back', 'between', 'five', 'by', 'it', 'hereupon', 'an', 'from', 'then', 'its', 'hers', 'will', 'our', 'many', 'whence', 'elsewhere', 'had', 'us', 'this', 'whom', 'even', 'seems', 'whereby', 'could', 'is', 'empty', 'until', 'wherever', 'any', 'toward', 'thus', 'she', 'more', 'be', 'in', 'twelve', 'most', 'least', \"'ll\", 'off', 'always', 'nine', 'none', '‘re', 'thereafter', 'yet', 'me', 'my', 'top', 'therefore', 'therein', 'whereupon', 'other', 'anywhere', 'thence', 'ours', 'go', 'yourself', 'into', \"'s\", 'afterwards', 'formerly', 'yourselves', 'him', 'someone', 'several', 'down', '‘ve', 'ever', 'before', 'else', 'n‘t', 'not', 'along', 'above', 'using', 'they', 'call', 'last', 'under', 'thereupon', 'well', 'where', 'did', 'became', 'per', 'really', 'anyway', 'much', 'everyone', 'must', 'though', 'together', 'whoever', 'am', 'something', 'noone', 'himself', 'few', 'for', 'below', 'less', 'give', 'four', 're', 'a', 'he', 'whither', 'six', 'have', 'hundred', 'made', 'say', 'sometime', 'next', 'upon', 'these', 'around', 'her', 'has', 'we', 'all', 'nevertheless', 'both', 'hence', 'sixty', 'those', 'been', 'whereas', 'on', 'thereby', 'since', 'would', \"'ve\", 'mine', 'during', 'which', 'through', 'there', 'everything', 'nowhere', 'amount', 'how', 'nobody', 'serious', \"'m\", 'rather', 'fifteen', 'against', 'front', '’m', 'herself', 'mostly', 'third', 'fifty', 'get', 'side', 'whose', 'them', 'quite', 'also', 'used', 'often', 'yours', 'due', 'to', 'do', 'who', '’ve', 'keep', 'again', 'here', '’d', 'when', 'now', 'his', 'anyhow', 'onto', 'every', 'seeming', 'otherwise', 'done', 'can', 'although', 'that', 'beforehand', 'seem', 'towards', 'whenever', 'some', 'ca', 'among', 'because', 'another', 'so', 'name', 'show', 'take', 'three', 'please', 'only', 'either', 'become', 'too', '’re', 'almost', 'sometimes', 'alone', 'your', 'one', 'doing', 'wherein', 'n’t', 'whether', 'various', 'cannot', 'anything', 'somehow', '‘d', 'move', 'behind', 'two', 'make', 'same', 'and', 'were', '‘m', 'while', 'perhaps', 'once', 'without', 'unless', 'seemed', 'whatever', 'why', 'or', 'eleven', 'neither']\n"
     ]
    }
   ],
   "source": [
    "# generate and edit stop words\n",
    "stops = list(STOP_WORDS)\n",
    "print(stops)"
   ]
  },
  {
   "cell_type": "code",
   "execution_count": 14,
   "metadata": {},
   "outputs": [],
   "source": [
    "stop_words = []\n",
    "for word in stops:\n",
    "    if word not in ['not', 'no', 'cannot', 'nothing', 'well', 'never', 'whatever']:\n",
    "        stop_words.append(word)\n",
    "# add additional stopwords\n",
    "issue_words = ['\\ufeff1', '\\x16', '...', '\\x10once']\n",
    "for word in issue_words:\n",
    "    stop_words.append(word)"
   ]
  },
  {
   "cell_type": "code",
   "execution_count": 15,
   "metadata": {},
   "outputs": [
    {
     "name": "stdout",
     "output_type": "stream",
     "text": [
      "['put', 'each', 'eight', '‘ll', 'at', 'across', \"'d\", 'becomes', 'i', 'the', 'own', 'somewhere', 'nor', 'but', 'see', 'further', 'whereafter', 'of', 'everywhere', 'as', 'are', 'regarding', 'enough', 'beyond', 'such', 'latter', 'you', 'being', 'was', 'thru', 'latterly', '‘s', 'after', 'if', 'others', 'full', 'already', \"n't\", 'however', 'throughout', 'namely', 'besides', 'forty', 'except', 'hereby', 'ourselves', 'whole', 'itself', 'meanwhile', 'out', 'about', 'with', 'up', 'within', 'first', 'what', 'their', 'themselves', 'just', 'via', 'part', 'hereafter', 'becoming', '’ll', 'indeed', 'moreover', 'bottom', 'might', 'ten', 'herein', 'myself', 'former', \"'re\", 'beside', 'than', 'amongst', 'very', 'over', 'twenty', '’s', 'may', 'still', 'should', 'does', 'anyone', 'back', 'between', 'five', 'by', 'it', 'hereupon', 'an', 'from', 'then', 'its', 'hers', 'will', 'our', 'many', 'whence', 'elsewhere', 'had', 'us', 'this', 'whom', 'even', 'seems', 'whereby', 'could', 'is', 'empty', 'until', 'wherever', 'any', 'toward', 'thus', 'she', 'more', 'be', 'in', 'twelve', 'most', 'least', \"'ll\", 'off', 'always', 'nine', 'none', '‘re', 'thereafter', 'yet', 'me', 'my', 'top', 'therefore', 'therein', 'whereupon', 'other', 'anywhere', 'thence', 'ours', 'go', 'yourself', 'into', \"'s\", 'afterwards', 'formerly', 'yourselves', 'him', 'someone', 'several', 'down', '‘ve', 'ever', 'before', 'else', 'n‘t', 'along', 'above', 'using', 'they', 'call', 'last', 'under', 'thereupon', 'where', 'did', 'became', 'per', 'really', 'anyway', 'much', 'everyone', 'must', 'though', 'together', 'whoever', 'am', 'something', 'noone', 'himself', 'few', 'for', 'below', 'less', 'give', 'four', 're', 'a', 'he', 'whither', 'six', 'have', 'hundred', 'made', 'say', 'sometime', 'next', 'upon', 'these', 'around', 'her', 'has', 'we', 'all', 'nevertheless', 'both', 'hence', 'sixty', 'those', 'been', 'whereas', 'on', 'thereby', 'since', 'would', \"'ve\", 'mine', 'during', 'which', 'through', 'there', 'everything', 'nowhere', 'amount', 'how', 'nobody', 'serious', \"'m\", 'rather', 'fifteen', 'against', 'front', '’m', 'herself', 'mostly', 'third', 'fifty', 'get', 'side', 'whose', 'them', 'quite', 'also', 'used', 'often', 'yours', 'due', 'to', 'do', 'who', '’ve', 'keep', 'again', 'here', '’d', 'when', 'now', 'his', 'anyhow', 'onto', 'every', 'seeming', 'otherwise', 'done', 'can', 'although', 'that', 'beforehand', 'seem', 'towards', 'whenever', 'some', 'ca', 'among', 'because', 'another', 'so', 'name', 'show', 'take', 'three', 'please', 'only', 'either', 'become', 'too', '’re', 'almost', 'sometimes', 'alone', 'your', 'one', 'doing', 'wherein', 'n’t', 'whether', 'various', 'anything', 'somehow', '‘d', 'move', 'behind', 'two', 'make', 'same', 'and', 'were', '‘m', 'while', 'perhaps', 'once', 'without', 'unless', 'seemed', 'why', 'or', 'eleven', 'neither', '\\ufeff1', '\\x16', '...', '\\x10once']\n"
     ]
    }
   ],
   "source": [
    "print(stop_words)"
   ]
  },
  {
   "cell_type": "code",
   "execution_count": 16,
   "metadata": {},
   "outputs": [],
   "source": [
    "# remove html entities from docs and\n",
    "# set everything to lowercase\n",
    "def my_preprocessor(doc):\n",
    "    return(unescape(doc).lower())"
   ]
  },
  {
   "cell_type": "code",
   "execution_count": 17,
   "metadata": {},
   "outputs": [],
   "source": [
    "# define custom tokenizers\n",
    "# parser = English()\n",
    "# def my_tokenizer(sentence):\n",
    "#     mytokens = parser(sentence)\n",
    "#     mytokens = [word.lemma_.lower().strip() if word.lemma_ != \"-PRON-\" \n",
    "#                 else word.lower_ for word in mytokens]\n",
    "#     mytokens = [word for word in mytokens if word not in stop_words and word not in punctuations]\n",
    "#     return mytokens"
   ]
  },
  {
   "cell_type": "code",
   "execution_count": 18,
   "metadata": {},
   "outputs": [],
   "source": [
    "# # alternate tokenizer using stemming\n",
    "# takes too long\n",
    "\n",
    "parser = English()\n",
    "def my_tokenizer(sentence):\n",
    "    mytokens = parser(sentence)\n",
    "    mytokens = [stem(str(word)).lower().strip() for word in mytokens]\n",
    "    mytokens = [word for word in mytokens if word not in stop_words and word not in punctuations]\n",
    "    return mytokens"
   ]
  },
  {
   "cell_type": "code",
   "execution_count": 19,
   "metadata": {},
   "outputs": [],
   "source": [
    "# my_tokenizer(vg.reviewText[33])"
   ]
  },
  {
   "cell_type": "code",
   "execution_count": null,
   "metadata": {},
   "outputs": [],
   "source": [
    "# create word_list function\n",
    "def get_word_list(text):\n",
    "    word_list = []\n",
    "    for sentence in text:\n",
    "        for word in my_tokenizer(sentence):\n",
    "            word_list.append(word)"
   ]
  },
  {
   "cell_type": "code",
   "execution_count": 20,
   "metadata": {},
   "outputs": [],
   "source": [
    "# get a list of all words each time they occur in the reviews\n",
    "word_list = []\n",
    "for text in vg.reviewText:\n",
    "    for word in my_tokenizer(text):\n",
    "        word_list.append(word)"
   ]
  },
  {
   "cell_type": "code",
   "execution_count": null,
   "metadata": {},
   "outputs": [],
   "source": [
    "# try using deque\n",
    "word_deque = deque()\n",
    "for text in vg.reviewText:\n",
    "    for word in my_tokenizer(text):\n",
    "        word_deque.append(word)"
   ]
  },
  {
   "cell_type": "code",
   "execution_count": null,
   "metadata": {},
   "outputs": [],
   "source": [
    "# try using np array\n",
    "# %%timeit\n",
    "# word_array = np.array()\n",
    "# for text in vg.reviewText:\n",
    "#     for word in my_tokenizer(text):\n",
    "#         word_array = np.append(word_array, word)"
   ]
  },
  {
   "cell_type": "code",
   "execution_count": 21,
   "metadata": {},
   "outputs": [
    {
     "data": {
      "text/plain": [
       "['game',\n",
       " 'bit',\n",
       " 'hard',\n",
       " 'hang',\n",
       " 'great',\n",
       " 'play',\n",
       " 'alright',\n",
       " 'steam',\n",
       " 'bit',\n",
       " 'troubl',\n",
       " 'game',\n",
       " 'steam',\n",
       " 'hard',\n",
       " 'time',\n",
       " 'activ',\n",
       " 'play',\n",
       " 'game',\n",
       " 'spite',\n",
       " 'fun',\n",
       " 'like']"
      ]
     },
     "execution_count": 21,
     "metadata": {},
     "output_type": "execute_result"
    }
   ],
   "source": [
    "# inspect the results\n",
    "word_list[:20]"
   ]
  },
  {
   "cell_type": "code",
   "execution_count": 22,
   "metadata": {},
   "outputs": [
    {
     "name": "stdout",
     "output_type": "stream",
     "text": [
      "\\/+b\n",
      "\\/+b\n",
      "\\\"water\n",
      "\\/\n",
      "\\\"water\n",
      "\\control\n",
      "\\jameson\n",
      "\\save_gam\n",
      "\\save_gam\n",
      "\\load_gam\n",
      "\\save_gam\n",
      "\\the\n",
      "\\/\\/ords\n",
      "\\(^u^)/\n",
      "\\/\n",
      "\\/\n",
      "\\now\n",
      "\\have\n",
      "\\mi\n",
      "\\\\\\\n",
      "\\(^0^)/\n",
      "\\|;;|\n",
      "\\and\n",
      "\\|;;|\n",
      "\\and\n",
      "\\program\n",
      "\\.\n",
      "\\much\n",
      "\\.\n",
      "\\m/\n",
      "\\ps3\\update\n",
      "\\ps3\\savedata\n",
      "\\ps3\\export\\psv\n",
      "\\m/\n",
      "\\m/(>_<)\\m/\n",
      "\\m/\\m/\n",
      "\\/.\\/\n",
      "\\so\n",
      "\\\\=()=//\n",
      "\\m/\n",
      "\\m/\n",
      "\\t/\n",
      "\\[t]/\n",
      "\\best\n",
      "\\_()_/.\n",
      "\\o/\n",
      "\\\"water\n",
      "\\\\\n",
      "\\(^u^)/\n"
     ]
    }
   ],
   "source": [
    "# check for anomalous words that start with a randomly chosen special character\n",
    "for word in word_list:\n",
    "    if word.startswith('\\\\'):\n",
    "        print(word)"
   ]
  },
  {
   "cell_type": "code",
   "execution_count": 23,
   "metadata": {},
   "outputs": [
    {
     "name": "stdout",
     "output_type": "stream",
     "text": [
      "\\/+b\n",
      "\\/+b\n",
      "\\\"water\n",
      "\\/\n",
      "\\\"water\n",
      "\\control\n",
      "\\jameson\n",
      "\\save_gam\n",
      "\\save_gam\n",
      "\\load_gam\n",
      "\\save_gam\n",
      "\\the\n",
      "\\/\\/ords\n",
      "\\(^u^)/\n",
      "\\/\n",
      "\\/\n",
      "\\now\n",
      "\\have\n",
      "\\mi\n",
      "\\\\\\\n",
      "\\(^0^)/\n",
      "\\|;;|\n",
      "\\and\n",
      "\\|;;|\n",
      "\\and\n",
      "\\program\n",
      "\\.\n",
      "\\much\n",
      "\\.\n",
      "\\m/\n",
      "\\ps3\\update\n",
      "\\ps3\\savedata\n",
      "\\ps3\\export\\psv\n",
      "\\m/\n",
      "\\m/(>_<)\\m/\n",
      "\\m/\\m/\n",
      "\\/.\\/\n",
      "\\so\n",
      "\\\\=()=//\n",
      "\\m/\n",
      "\\m/\n",
      "\\t/\n",
      "\\[t]/\n",
      "\\best\n",
      "\\_()_/.\n",
      "\\o/\n",
      "\\\"water\n",
      "\\\\\n",
      "\\(^u^)/\n"
     ]
    }
   ],
   "source": [
    "# check for anomalous words that start with a randomly chosen special character\n",
    "for word in word_list:\n",
    "    if word.startswith('\\\\'):\n",
    "        print(emoji.demojize(word, use_aliases=True))"
   ]
  },
  {
   "cell_type": "code",
   "execution_count": 21,
   "metadata": {},
   "outputs": [],
   "source": [
    "# create function to replace special chars\n",
    "# def strip_spec_chars(word):\n",
    "#     regex = re.compile('[\\\\\\[\\]@_!#$%^&*()<>?/\\|}{~:]')\n",
    "#     if regex.search(word) == None:\n",
    "#         return word\n",
    "#     else:\n",
    "#         word = word.replace('[', '')\n",
    "#         word = word.replace(']', '')\n",
    "#         word = word.replace('@', '')\n",
    "#         word = word.replace('_', '')\n",
    "#         word = word.replace('!', '')\n",
    "#         word = word.replace('#', '')\n",
    "#         word = word.replace('$', '')\n",
    "#         word = word.replace('%', '')\n",
    "#         word = word.replace('^', '')\n",
    "#         word = word.replace('&', '')\n",
    "#         word = word.replace('*', '')\n",
    "#         word = word.replace('(', '')\n",
    "#         word = word.replace(')', '')\n",
    "#         word = word.replace('<', '')\n",
    "#         word = word.replace('>', '')\n",
    "#         word = word.replace('?', '')\n",
    "#         word = word.replace('/', '')\n",
    "#         word = word.replace('\\\\', '')\n",
    "#         word = word.replace('|', '')\n",
    "#         word = word.replace('}', '')\n",
    "#         word = word.replace('{', '')\n",
    "#         word = word.replace('~', '')\n",
    "#         word = word.replace(':', '')\n",
    "#     if word != '':\n",
    "#         return word"
   ]
  },
  {
   "cell_type": "code",
   "execution_count": 24,
   "metadata": {},
   "outputs": [],
   "source": [
    "# alternate remove chars function\n",
    "def rmv_spec_chars(sentence):\n",
    "    sentence = re.sub(\"[\\\\\\[\\]@_!#$%^&*()<>?/\\|}{~:']\", '', sentence)\n",
    "    sentence = re.sub('-', ' ', sentence)\n",
    "    return sentence"
   ]
  },
  {
   "cell_type": "code",
   "execution_count": 25,
   "metadata": {},
   "outputs": [
    {
     "data": {
      "text/plain": [
       "'This is going  to be a test    train test split'"
      ]
     },
     "execution_count": 25,
     "metadata": {},
     "output_type": "execute_result"
    }
   ],
   "source": [
    "rmv_spec_chars(\"This 'is' going * to be! a test \\/(--)\\/ train-test-split\")"
   ]
  },
  {
   "cell_type": "code",
   "execution_count": 22,
   "metadata": {},
   "outputs": [],
   "source": [
    "#[strip_spec_chars(word) for word in vg.reviewText[20]]"
   ]
  },
  {
   "cell_type": "code",
   "execution_count": 23,
   "metadata": {},
   "outputs": [],
   "source": [
    "# edit tokenizer to deal with tokens with special characters\n",
    "# def my_tokenizer(sentence):\n",
    "#     mytokens = parser(sentence)\n",
    "#     mytokens = [word.lemma_.lower().strip() if word.lemma_ != \"-PRON-\" \n",
    "#                 else word.lower_ for word in mytokens]\n",
    "#     mytokens = [emoji.demojize(word, use_aliases=True) for word in mytokens \n",
    "#                 if word not in stop_words and word not in punctuations]\n",
    "#     #mytokens = [word for word in mytokens if(regex.search(word) == None)]\n",
    "#     mytokens = [strip_spec_chars(word) for word in mytokens if strip_spec_chars(word) != None]\n",
    "#     #mytokens = [word for word in mytokens if word != None]#filter(lambda x: x != None, mytokens)\n",
    "#     return mytokens"
   ]
  },
  {
   "cell_type": "code",
   "execution_count": 26,
   "metadata": {},
   "outputs": [],
   "source": [
    "# modified alternate tokenizer using stemming\n",
    "def my_tokenizer(sentence):\n",
    "    sentence = rmv_spec_chars(sentence)\n",
    "    mytokens = parser(sentence)\n",
    "    mytokens = [stem(str(word)).lower().strip() for word in mytokens]\n",
    "    mytokens = [emoji.demojize(word, use_aliases=True) for word in mytokens \n",
    "                if word not in stop_words and word not in punctuations]\n",
    "    #mytokens = [word for word in mytokens if(regex.search(word) == None)]\n",
    "    #mytokens = [strip_spec_chars(word) for word in mytokens if strip_spec_chars(word) != None]\n",
    "    #mytokens = [word for word in mytokens if word != None]#filter(lambda x: x != None, mytokens)\n",
    "    return mytokens"
   ]
  },
  {
   "cell_type": "code",
   "execution_count": 30,
   "metadata": {},
   "outputs": [],
   "source": [
    "# get a list of all words each time they occur in the reviews\n",
    "word_list = []\n",
    "for text in vg.reviewText:\n",
    "    for word in my_tokenizer(text):\n",
    "        word_list.append(word)"
   ]
  },
  {
   "cell_type": "code",
   "execution_count": 31,
   "metadata": {},
   "outputs": [
    {
     "data": {
      "text/plain": [
       "['game',\n",
       " 'bit',\n",
       " 'hard',\n",
       " 'hang',\n",
       " 'great',\n",
       " 'play',\n",
       " 'alright',\n",
       " 'steam',\n",
       " 'bit',\n",
       " 'troubl',\n",
       " 'game',\n",
       " 'steam',\n",
       " 'hard',\n",
       " 'time',\n",
       " 'activ',\n",
       " 'play',\n",
       " 'game',\n",
       " 'spite',\n",
       " 'fun',\n",
       " 'like']"
      ]
     },
     "execution_count": 31,
     "metadata": {},
     "output_type": "execute_result"
    }
   ],
   "source": [
    "# inspect the results\n",
    "word_list[:20]"
   ]
  },
  {
   "cell_type": "code",
   "execution_count": null,
   "metadata": {},
   "outputs": [],
   "source": []
  },
  {
   "cell_type": "code",
   "execution_count": null,
   "metadata": {},
   "outputs": [],
   "source": []
  },
  {
   "cell_type": "code",
   "execution_count": 32,
   "metadata": {},
   "outputs": [
    {
     "name": "stdout",
     "output_type": "stream",
     "text": [
      "No words fitting regular expression \"regex\"\n"
     ]
    }
   ],
   "source": [
    "# search for any anomalous words\n",
    "regex = re.compile('[\\\\\\[\\]@_!#$%^&*()<>?/\\|}{~:]')\n",
    "for word in word_list:\n",
    "    if regex.search(word) != None:\n",
    "        print('Found at least one anomalous word: ' + word)\n",
    "        break\n",
    "else:\n",
    "    print('No words fitting regular expression \"regex\"')"
   ]
  },
  {
   "cell_type": "code",
   "execution_count": 33,
   "metadata": {},
   "outputs": [],
   "source": [
    "# check for anomalous words that start with a randomly chosen special character\n",
    "for word in word_list:\n",
    "    if word.startswith('\\\\'):\n",
    "        print(word)"
   ]
  },
  {
   "cell_type": "code",
   "execution_count": 34,
   "metadata": {},
   "outputs": [
    {
     "name": "stdout",
     "output_type": "stream",
     "text": [
      "The number of words in the vocabulary is 29763658\n"
     ]
    }
   ],
   "source": [
    "# display the total number of words included in the vocabulary\n",
    "print('The number of words in the reviews is {}'.format(len(word_list)))"
   ]
  },
  {
   "cell_type": "code",
   "execution_count": 35,
   "metadata": {},
   "outputs": [],
   "source": [
    "# get a count of every word\n",
    "token_counts = Counter(word_list)"
   ]
  },
  {
   "cell_type": "code",
   "execution_count": 36,
   "metadata": {},
   "outputs": [
    {
     "data": {
      "text/plain": [
       "collections.Counter"
      ]
     },
     "execution_count": 36,
     "metadata": {},
     "output_type": "execute_result"
    }
   ],
   "source": [
    "type(token_counts)"
   ]
  },
  {
   "cell_type": "code",
   "execution_count": 37,
   "metadata": {},
   "outputs": [
    {
     "data": {
      "text/plain": [
       "0"
      ]
     },
     "execution_count": 37,
     "metadata": {},
     "output_type": "execute_result"
    }
   ],
   "source": [
    "token_counts['\\x10once']"
   ]
  },
  {
   "cell_type": "code",
   "execution_count": 38,
   "metadata": {},
   "outputs": [
    {
     "data": {
      "text/plain": [
       "[('game', 1293615),\n",
       " ('nt', 424999),\n",
       " ('play', 395358),\n",
       " ('not', 354141),\n",
       " ('like', 318804),\n",
       " ('time', 211249),\n",
       " ('great', 200224),\n",
       " ('good', 190821),\n",
       " ('veri', 178442),\n",
       " ('use', 168430),\n",
       " ('realli', 161182),\n",
       " ('fun', 157672),\n",
       " ('no', 137086),\n",
       " ('onli', 136435),\n",
       " ('control', 135347),\n",
       " ('well', 125847),\n",
       " ('charact', 121435),\n",
       " ('look', 115255),\n",
       " ('love', 111237),\n",
       " ('graphic', 110678)]"
      ]
     },
     "execution_count": 38,
     "metadata": {},
     "output_type": "execute_result"
    }
   ],
   "source": [
    "token_counts.most_common(20)"
   ]
  },
  {
   "cell_type": "code",
   "execution_count": 47,
   "metadata": {},
   "outputs": [
    {
     "name": "stdout",
     "output_type": "stream",
     "text": [
      "The total number of unique words is 218844\n"
     ]
    }
   ],
   "source": [
    "print('The total number of unique words is {}'.format(len(token_counts)))"
   ]
  },
  {
   "cell_type": "code",
   "execution_count": 39,
   "metadata": {},
   "outputs": [
    {
     "data": {
      "image/png": "[encoded data removed]",
      "text/plain": [
       "<Figure size 432x288 with 1 Axes>"
      ]
     },
     "metadata": {
      "needs_background": "light"
     },
     "output_type": "display_data"
    }
   ],
   "source": [
    "# create histogram of word appearances\n",
    "# most words occur infrequently, so threshold for num influences this plot greatly\n",
    "values = []\n",
    "for tup in token_counts.most_common():\n",
    "    word, num = tup\n",
    "    if num > 10000:\n",
    "        values.append(num)\n",
    "_ = plt.hist(values, bins=100)"
   ]
  },
  {
   "cell_type": "code",
   "execution_count": 31,
   "metadata": {},
   "outputs": [],
   "source": [
    "# most words appear very infrequently"
   ]
  },
  {
   "cell_type": "code",
   "execution_count": 40,
   "metadata": {},
   "outputs": [
    {
     "data": {
      "image/png": "[encoded data removed]",
      "text/plain": [
       "<Figure size 432x288 with 1 Axes>"
      ]
     },
     "metadata": {
      "needs_background": "light"
     },
     "output_type": "display_data"
    }
   ],
   "source": [
    "# plot the 20 most common words\n",
    "words = []\n",
    "values = []\n",
    "for tup in token_counts.most_common(20):\n",
    "    word, num = tup\n",
    "    words.append(word)\n",
    "    values.append(num)\n",
    "_ = sns.barplot(words, values, palette='muted')\n",
    "_ = plt.xticks(rotation=90)\n",
    "_ = plt.title('20 Most Common Words')\n",
    "_ = plt.xlabel('Word')\n",
    "_ = plt.ylabel('Occurrences')"
   ]
  },
  {
   "cell_type": "code",
   "execution_count": 41,
   "metadata": {},
   "outputs": [
    {
     "name": "stdout",
     "output_type": "stream",
     "text": [
      "['bought', 'age', 'wonder', 'came', 'game', 'opinion', 'best', 'comput', 'fantasi', 'war', 'game', 'option', 'twelv', 'differ', 'race', 'seven', 'differ', 'sphere', 'magic', 'definit', 'plenti', 'divers', 'replay', 'valu', 'game', 'spell', 'effect', 'charm', 'music', 'score', 'beauti', 'singl', 'player', 'campaign', 'great', 'stori', 'line', 'multi', 'player', 'aspect', 'singl', 'scenario', 'well', 'develop', 'hero', 'veri', 'customiz', 'choos', 'actual', 'hero', 'repres', 'play', 'field', 'well', 'die', 'lose', 'onli', 'thing', 'chang', 'game', 'unit', 'icon', 'honest', 'artwork', 'icon', 'littl', 'lack', 'like', 'rush', 'product', 'gate', 'age', 'wonder', 'awesom', 'game', 'definit', 'look', 'forward', 'age', 'wonder', '2']\n"
     ]
    }
   ],
   "source": [
    "# character decoding issues?\n",
    "# seems to be solved using regex\n",
    "print(my_tokenizer(vg.reviewText[6541]))"
   ]
  },
  {
   "cell_type": "code",
   "execution_count": 42,
   "metadata": {},
   "outputs": [],
   "source": [
    "# add game to stop_words\n",
    "stop_words.append('game')"
   ]
  },
  {
   "cell_type": "code",
   "execution_count": 43,
   "metadata": {},
   "outputs": [],
   "source": [
    "# get a count of the number of reviews where a word appears\n",
    "num_docs = defaultdict(int)\n",
    "for text in vg.reviewText:\n",
    "    ls = []\n",
    "    for word in my_tokenizer(text):\n",
    "        if word not in ls:\n",
    "            ls.append(word)\n",
    "    for x in ls:\n",
    "        num_docs[x] += 1"
   ]
  },
  {
   "cell_type": "code",
   "execution_count": null,
   "metadata": {},
   "outputs": [],
   "source": []
  },
  {
   "cell_type": "code",
   "execution_count": 44,
   "metadata": {},
   "outputs": [],
   "source": [
    "# store a list of the number of appearances for each word\n",
    "apps = []\n",
    "for key, val in num_docs.items():\n",
    "    apps.append(val)"
   ]
  },
  {
   "cell_type": "code",
   "execution_count": 45,
   "metadata": {},
   "outputs": [
    {
     "data": {
      "image/png": "[encoded data removed]",
      "text/plain": [
       "<Figure size 432x288 with 1 Axes>"
      ]
     },
     "metadata": {
      "needs_background": "light"
     },
     "output_type": "display_data"
    }
   ],
   "source": [
    "# plot the cdf for the number of reviews where each word appears\n",
    "_ = plt.hist(apps, cumulative=True, histtype='step', density=True, bins=np.arange(100))\n",
    "_ = plt.xlim(0,25)\n",
    "_ = plt.xlabel('Number of Docs')\n",
    "_ = plt.ylabel('Cumulative Density')\n",
    "_ = plt.title('Density of Words Appearing \\nin at Least X Reviews')"
   ]
  },
  {
   "cell_type": "code",
   "execution_count": null,
   "metadata": {},
   "outputs": [],
   "source": [
    "# choosing 2 for min_df\n",
    "# even though only about 40% of the non-stop words appear in two or more reviews"
   ]
  },
  {
   "cell_type": "code",
   "execution_count": null,
   "metadata": {},
   "outputs": [],
   "source": []
  },
  {
   "cell_type": "code",
   "execution_count": null,
   "metadata": {},
   "outputs": [],
   "source": [
    "# process using fasttext\n"
   ]
  },
  {
   "cell_type": "code",
   "execution_count": null,
   "metadata": {},
   "outputs": [],
   "source": []
  },
  {
   "cell_type": "code",
   "execution_count": null,
   "metadata": {},
   "outputs": [],
   "source": []
  },
  {
   "cell_type": "code",
   "execution_count": null,
   "metadata": {},
   "outputs": [],
   "source": []
  },
  {
   "cell_type": "code",
   "execution_count": 71,
   "metadata": {},
   "outputs": [],
   "source": [
    "# create vectorizer\n",
    "vectorizer = CountVectorizer(min_df=2, analyzer='word', decode_error='replace', \n",
    "                             preprocessor=my_preprocessor, tokenizer=my_tokenizer)"
   ]
  },
  {
   "cell_type": "code",
   "execution_count": 72,
   "metadata": {},
   "outputs": [],
   "source": [
    "# fit_transform the data\n",
    "# vectorizer.fit(vg.reviewText.values)\n",
    "# X_vec = vectorizer.transform(vg.reviewText.values)\n",
    "X_vec = vectorizer.fit_transform(vg.reviewText.values)\n",
    "X_vec = X_vec.tocsc()"
   ]
  },
  {
   "cell_type": "code",
   "execution_count": 73,
   "metadata": {},
   "outputs": [
    {
     "name": "stdout",
     "output_type": "stream",
     "text": [
      "The number of words meeting selection criteria in the text data is 95064\n"
     ]
    }
   ],
   "source": [
    "# show the number of words meeting selection criteria\n",
    "print('The number of words meeting selection criteria in the text data is {}'.format(X_vec.shape[1]))"
   ]
  },
  {
   "cell_type": "code",
   "execution_count": 74,
   "metadata": {},
   "outputs": [
    {
     "data": {
      "text/plain": [
       "(497419, 95064)"
      ]
     },
     "execution_count": 74,
     "metadata": {},
     "output_type": "execute_result"
    }
   ],
   "source": [
    "X_vec.shape"
   ]
  },
  {
   "cell_type": "code",
   "execution_count": 75,
   "metadata": {},
   "outputs": [],
   "source": [
    "# get the words from the vocabulary\n",
    "words = np.array(vectorizer.get_feature_names())"
   ]
  },
  {
   "cell_type": "code",
   "execution_count": 76,
   "metadata": {},
   "outputs": [
    {
     "data": {
      "text/plain": [
       "95064"
      ]
     },
     "execution_count": 76,
     "metadata": {},
     "output_type": "execute_result"
    }
   ],
   "source": [
    "len(words)"
   ]
  },
  {
   "cell_type": "code",
   "execution_count": 86,
   "metadata": {},
   "outputs": [
    {
     "name": "stdout",
     "output_type": "stream",
     "text": [
      "\"----nope\n",
      "3-lap\n",
      "majot\n",
      "hovertanks\n",
      "maybeless\n",
      "sinister\n"
     ]
    }
   ],
   "source": [
    "# still some misspellings, but they show up at least twice!\n",
    "print(words[4])\n",
    "print(words[5465])\n",
    "print(words[54545])\n",
    "print(words[44599])\n",
    "print(words[55465])\n",
    "print(words[77121])"
   ]
  },
  {
   "cell_type": "code",
   "execution_count": 81,
   "metadata": {},
   "outputs": [
    {
     "data": {
      "text/plain": [
       "'\\x10once'"
      ]
     },
     "execution_count": 81,
     "metadata": {},
     "output_type": "execute_result"
    }
   ],
   "source": [
    "words[0]"
   ]
  },
  {
   "cell_type": "code",
   "execution_count": 24,
   "metadata": {},
   "outputs": [],
   "source": [
    "# create a dataframe from the X array for summary stats\n",
    "# memory error\n",
    "#df = ks.DataFrame(X_vec.toarray())"
   ]
  },
  {
   "cell_type": "code",
   "execution_count": 25,
   "metadata": {},
   "outputs": [],
   "source": [
    "# create a dataframe to hold the number of reviews a word appears in\n",
    "# num_appear = []\n",
    "# tot = X_vec.shape[0]\n",
    "# for i in range(X_vec.shape[1]):\n",
    "#     num_appear.append(np.sum(X_vec!=0))\n",
    "#     apps = np.array(num_appear)\n",
    "#counts_df = pd.DataFrame({'apps': apps})"
   ]
  },
  {
   "cell_type": "code",
   "execution_count": 37,
   "metadata": {},
   "outputs": [
    {
     "data": {
      "text/plain": [
       "dtype('<U2625')"
      ]
     },
     "execution_count": 37,
     "metadata": {},
     "output_type": "execute_result"
    }
   ],
   "source": [
    "# what is this dtype??\n",
    "words.dtype"
   ]
  },
  {
   "cell_type": "code",
   "execution_count": 26,
   "metadata": {},
   "outputs": [],
   "source": [
    "# I think this will give me the vector I want (the sum of all columns)\n",
    "apps = np.sum(X_vec!=0, axis=0)"
   ]
  },
  {
   "cell_type": "code",
   "execution_count": 27,
   "metadata": {},
   "outputs": [
    {
     "data": {
      "text/plain": [
       "(1, 228890)"
      ]
     },
     "execution_count": 27,
     "metadata": {},
     "output_type": "execute_result"
    }
   ],
   "source": [
    "apps.shape"
   ]
  },
  {
   "cell_type": "code",
   "execution_count": 28,
   "metadata": {},
   "outputs": [
    {
     "data": {
      "text/plain": [
       "matrix([[    1,     2,     1, ...,     1,     3, 75225]])"
      ]
     },
     "execution_count": 28,
     "metadata": {},
     "output_type": "execute_result"
    }
   ],
   "source": [
    "apps[0]"
   ]
  },
  {
   "cell_type": "code",
   "execution_count": null,
   "metadata": {},
   "outputs": [],
   "source": [
    "# testing some np functions below"
   ]
  },
  {
   "cell_type": "code",
   "execution_count": 181,
   "metadata": {},
   "outputs": [],
   "source": [
    "d = np.array([1, 0, 0, 4, 5, 0])"
   ]
  },
  {
   "cell_type": "code",
   "execution_count": null,
   "metadata": {},
   "outputs": [],
   "source": [
    "d!=0"
   ]
  },
  {
   "cell_type": "code",
   "execution_count": null,
   "metadata": {},
   "outputs": [],
   "source": []
  },
  {
   "cell_type": "code",
   "execution_count": 106,
   "metadata": {},
   "outputs": [],
   "source": [
    "# return the indices for the most common words\n",
    "# get the total number of appearances of each word\n",
    "#x = np.eye(X_vec.shape[1])\n",
    "count_vec=X_vec.sum(axis=0)[0, :]\n",
    "idxs = np.argsort(count_vec)"
   ]
  },
  {
   "cell_type": "code",
   "execution_count": null,
   "metadata": {},
   "outputs": [],
   "source": []
  },
  {
   "cell_type": "code",
   "execution_count": null,
   "metadata": {},
   "outputs": [],
   "source": []
  },
  {
   "cell_type": "code",
   "execution_count": null,
   "metadata": {},
   "outputs": [],
   "source": []
  },
  {
   "cell_type": "code",
   "execution_count": null,
   "metadata": {},
   "outputs": [],
   "source": []
  },
  {
   "cell_type": "code",
   "execution_count": null,
   "metadata": {},
   "outputs": [],
   "source": []
  },
  {
   "cell_type": "code",
   "execution_count": 20,
   "metadata": {},
   "outputs": [],
   "source": [
    "# get the total number of appearances of each word\n",
    "count_vec=X_vec.sum(axis=0)"
   ]
  },
  {
   "cell_type": "code",
   "execution_count": 21,
   "metadata": {},
   "outputs": [
    {
     "data": {
      "text/plain": [
       "(1, 231626)"
      ]
     },
     "execution_count": 21,
     "metadata": {},
     "output_type": "execute_result"
    }
   ],
   "source": [
    "count_vec.shape"
   ]
  },
  {
   "cell_type": "code",
   "execution_count": 54,
   "metadata": {},
   "outputs": [
    {
     "data": {
      "text/plain": [
       "231626"
      ]
     },
     "execution_count": 54,
     "metadata": {},
     "output_type": "execute_result"
    }
   ],
   "source": [
    "for key, value in vectorizer.vocabulary_.items():\n",
    "    for i in range(count_vec.shape[1]):\n",
    "        "
   ]
  },
  {
   "cell_type": "code",
   "execution_count": null,
   "metadata": {},
   "outputs": [],
   "source": []
  },
  {
   "cell_type": "code",
   "execution_count": null,
   "metadata": {},
   "outputs": [],
   "source": []
  },
  {
   "cell_type": "code",
   "execution_count": null,
   "metadata": {},
   "outputs": [],
   "source": []
  },
  {
   "cell_type": "code",
   "execution_count": null,
   "metadata": {},
   "outputs": [],
   "source": []
  },
  {
   "cell_type": "code",
   "execution_count": null,
   "metadata": {},
   "outputs": [],
   "source": []
  },
  {
   "cell_type": "code",
   "execution_count": null,
   "metadata": {},
   "outputs": [],
   "source": [
    "# create tfidf vectorizer\n",
    "tfvectorizer = TfidfVectorizer(tokenizer = my_tokenizer)"
   ]
  },
  {
   "cell_type": "code",
   "execution_count": 14,
   "metadata": {},
   "outputs": [],
   "source": [
    "# process the text from the tfidf vectorizer\n",
    "# .vocabulary_ contains the dictionary of indices and words\n",
    "# get_feature_names() also contains vocabulary\n",
    "X_tfvec = tfvectorizer.fit_transform(vg.reviewText)\n",
    "X_tfvec = X_tfvec.tocsc()"
   ]
  },
  {
   "cell_type": "code",
   "execution_count": null,
   "metadata": {},
   "outputs": [],
   "source": []
  },
  {
   "cell_type": "code",
   "execution_count": null,
   "metadata": {},
   "outputs": [],
   "source": []
  },
  {
   "cell_type": "code",
   "execution_count": null,
   "metadata": {},
   "outputs": [],
   "source": []
  },
  {
   "cell_type": "code",
   "execution_count": null,
   "metadata": {},
   "outputs": [],
   "source": []
  },
  {
   "cell_type": "code",
   "execution_count": 20,
   "metadata": {},
   "outputs": [],
   "source": [
    "# split the data into features and target and train/test split\n",
    "# X = vg.reviewText.values\n",
    "y = vg.overall.values\n",
    "X_train, X_test, y_train, y_test = train_test_split(X_tfvec, y, test_size=0.25, \n",
    "                                                    random_state=42, stratify=y)"
   ]
  },
  {
   "cell_type": "code",
   "execution_count": 21,
   "metadata": {},
   "outputs": [],
   "source": [
    "# upsample the training data\n",
    "train = pd.DataFrame({'overall': y_train, 'review_vector': X_train})"
   ]
  },
  {
   "cell_type": "code",
   "execution_count": 22,
   "metadata": {},
   "outputs": [
    {
     "data": {
      "text/plain": [
       "5    224717\n",
       "4     70233\n",
       "3     36855\n",
       "1     23159\n",
       "2     18100\n",
       "Name: overall, dtype: int64"
      ]
     },
     "execution_count": 22,
     "metadata": {},
     "output_type": "execute_result"
    }
   ],
   "source": [
    "train.overall.value_counts()"
   ]
  },
  {
   "cell_type": "code",
   "execution_count": 23,
   "metadata": {},
   "outputs": [],
   "source": [
    "# keep all of the indexes with a review of 5\n",
    "# generate random samples of the other indexes to equal the value counts of 5\n",
    "# break into pos (4,5), neutral (3), negative (1, 2)\n",
    "train5 = train[train.overall == 5]\n",
    "train4_idxs = np.random.choice(train[train.overall == 4].index, 225000, replace=True)\n",
    "train3_idxs = np.random.choice(train[train.overall == 3].index, 550000, replace=True)\n",
    "train2_idxs = np.random.choice(train[train.overall == 2].index, 225000, replace=True)\n",
    "train1_idxs = np.random.choice(train[train.overall == 1].index, 225000, replace=True)"
   ]
  },
  {
   "cell_type": "code",
   "execution_count": 24,
   "metadata": {},
   "outputs": [
    {
     "data": {
      "text/plain": [
       "5    224717\n",
       "Name: overall, dtype: int64"
      ]
     },
     "execution_count": 24,
     "metadata": {},
     "output_type": "execute_result"
    }
   ],
   "source": [
    "train5.overall.value_counts()"
   ]
  },
  {
   "cell_type": "code",
   "execution_count": 25,
   "metadata": {},
   "outputs": [],
   "source": [
    "# upsample the data\n",
    "train = pd.concat([train5, train.iloc[train1_idxs,:], train.iloc[train2_idxs,:], \n",
    "                   train.iloc[train3_idxs,:], train.iloc[train4_idxs,:]])"
   ]
  },
  {
   "cell_type": "code",
   "execution_count": 26,
   "metadata": {},
   "outputs": [
    {
     "data": {
      "text/plain": [
       "4    225000\n",
       "3    225000\n",
       "2    225000\n",
       "1    225000\n",
       "5    224717\n",
       "Name: overall, dtype: int64"
      ]
     },
     "execution_count": 26,
     "metadata": {},
     "output_type": "execute_result"
    }
   ],
   "source": [
    "train.overall.value_counts()"
   ]
  },
  {
   "cell_type": "code",
   "execution_count": 36,
   "metadata": {},
   "outputs": [
    {
     "data": {
      "text/html": [
       "<div>\n",
       "<style scoped>\n",
       "    .dataframe tbody tr th:only-of-type {\n",
       "        vertical-align: middle;\n",
       "    }\n",
       "\n",
       "    .dataframe tbody tr th {\n",
       "        vertical-align: top;\n",
       "    }\n",
       "\n",
       "    .dataframe thead th {\n",
       "        text-align: right;\n",
       "    }\n",
       "</style>\n",
       "<table border=\"1\" class=\"dataframe\">\n",
       "  <thead>\n",
       "    <tr style=\"text-align: right;\">\n",
       "      <th></th>\n",
       "      <th>overall</th>\n",
       "      <th>review_vector</th>\n",
       "    </tr>\n",
       "  </thead>\n",
       "  <tbody>\n",
       "    <tr>\n",
       "      <th>1</th>\n",
       "      <td>5</td>\n",
       "      <td>(0, 6421)\\t0.04689702090419594\\n  (0, 13519)...</td>\n",
       "    </tr>\n",
       "    <tr>\n",
       "      <th>2</th>\n",
       "      <td>5</td>\n",
       "      <td>(0, 6421)\\t0.04689702090419594\\n  (0, 13519)...</td>\n",
       "    </tr>\n",
       "    <tr>\n",
       "      <th>3</th>\n",
       "      <td>5</td>\n",
       "      <td>(0, 6421)\\t0.04689702090419594\\n  (0, 13519)...</td>\n",
       "    </tr>\n",
       "    <tr>\n",
       "      <th>4</th>\n",
       "      <td>5</td>\n",
       "      <td>(0, 6421)\\t0.04689702090419594\\n  (0, 13519)...</td>\n",
       "    </tr>\n",
       "    <tr>\n",
       "      <th>6</th>\n",
       "      <td>5</td>\n",
       "      <td>(0, 6421)\\t0.04689702090419594\\n  (0, 13519)...</td>\n",
       "    </tr>\n",
       "  </tbody>\n",
       "</table>\n",
       "</div>"
      ],
      "text/plain": [
       "   overall                                      review_vector\n",
       "1        5    (0, 6421)\\t0.04689702090419594\\n  (0, 13519)...\n",
       "2        5    (0, 6421)\\t0.04689702090419594\\n  (0, 13519)...\n",
       "3        5    (0, 6421)\\t0.04689702090419594\\n  (0, 13519)...\n",
       "4        5    (0, 6421)\\t0.04689702090419594\\n  (0, 13519)...\n",
       "6        5    (0, 6421)\\t0.04689702090419594\\n  (0, 13519)..."
      ]
     },
     "execution_count": 36,
     "metadata": {},
     "output_type": "execute_result"
    }
   ],
   "source": [
    "train.head()"
   ]
  },
  {
   "cell_type": "code",
   "execution_count": 28,
   "metadata": {},
   "outputs": [
    {
     "data": {
      "text/plain": [
       "(1124717, 2)"
      ]
     },
     "execution_count": 28,
     "metadata": {},
     "output_type": "execute_result"
    }
   ],
   "source": [
    "train.shape"
   ]
  },
  {
   "cell_type": "code",
   "execution_count": 29,
   "metadata": {},
   "outputs": [
    {
     "data": {
      "image/png": "[encoded data removed]",
      "text/plain": [
       "<Figure size 432x288 with 1 Axes>"
      ]
     },
     "metadata": {
      "needs_background": "light"
     },
     "output_type": "display_data"
    }
   ],
   "source": [
    "# display plot showing balanced data for training\n",
    "_ = train.overall.value_counts().sort_index().plot(kind='bar')\n",
    "_ = plt.title('Number of Upsampled Reviews')\n",
    "_ = plt.xlabel('Number of Stars')\n",
    "_ = plt.ylabel('Number of Reviews (upsamped)')\n",
    "_ = plt.xticks(rotation=0)"
   ]
  },
  {
   "cell_type": "code",
   "execution_count": 30,
   "metadata": {},
   "outputs": [],
   "source": [
    "# split training data into X, y\n",
    "X_train = train.review_vector\n",
    "y_train = train.overall.values"
   ]
  },
  {
   "cell_type": "code",
   "execution_count": null,
   "metadata": {},
   "outputs": [],
   "source": []
  },
  {
   "cell_type": "code",
   "execution_count": null,
   "metadata": {},
   "outputs": [],
   "source": [
    "# write a function to get the 10 words that occur the most"
   ]
  },
  {
   "cell_type": "code",
   "execution_count": null,
   "metadata": {},
   "outputs": [],
   "source": []
  },
  {
   "cell_type": "code",
   "execution_count": null,
   "metadata": {},
   "outputs": [],
   "source": []
  },
  {
   "cell_type": "code",
   "execution_count": null,
   "metadata": {},
   "outputs": [],
   "source": []
  },
  {
   "cell_type": "code",
   "execution_count": null,
   "metadata": {},
   "outputs": [],
   "source": []
  },
  {
   "cell_type": "code",
   "execution_count": null,
   "metadata": {},
   "outputs": [],
   "source": []
  },
  {
   "cell_type": "code",
   "execution_count": null,
   "metadata": {},
   "outputs": [],
   "source": []
  },
  {
   "cell_type": "code",
   "execution_count": null,
   "metadata": {},
   "outputs": [],
   "source": []
  }
 ],
 "metadata": {
  "kernelspec": {
   "display_name": "Python 3",
   "language": "python",
   "name": "python3"
  },
  "language_info": {
   "codemirror_mode": {
    "name": "ipython",
    "version": 3
   },
   "file_extension": ".py",
   "mimetype": "text/x-python",
   "name": "python",
   "nbconvert_exporter": "python",
   "pygments_lexer": "ipython3",
   "version": "3.7.3"
  }
 },
 "nbformat": 4,
 "nbformat_minor": 4
}
