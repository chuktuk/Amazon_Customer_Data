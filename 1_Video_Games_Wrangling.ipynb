{
 "cells": [
  {
   "cell_type": "markdown",
   "metadata": {},
   "source": [
    "# Amazon Video Game Data Wrangling"
   ]
  },
  {
   "cell_type": "markdown",
   "metadata": {},
   "source": [
    "Data from\n",
    "> Justifying recommendations using distantly-labeled reviews and fined-grained aspects\n",
    "Jianmo Ni, Jiacheng Li, Julian McAuley\n",
    "Empirical Methods in Natural Language Processing (EMNLP), 2019"
   ]
  },
  {
   "cell_type": "code",
   "execution_count": 59,
   "metadata": {},
   "outputs": [],
   "source": [
    "# import packages\n",
    "import spacy\n",
    "import numpy as np\n",
    "import pandas as pd\n",
    "import matplotlib.pyplot as plt\n",
    "import seaborn as sns\n",
    "from sklearn.model_selection import train_test_split\n",
    "from imblearn.over_sampling import RandomOverSampler\n",
    "%matplotlib inline\n",
    "\n",
    "# load English tokenizer, tagger, parser, NER, and word vectors\n",
    "nlp = spacy.load('en_core_web_sm')\n",
    "import string\n",
    "punctuations = string.punctuation\n",
    "# Creating a Spacy Parser\n",
    "from spacy.lang.en import English"
   ]
  },
  {
   "cell_type": "code",
   "execution_count": null,
   "metadata": {},
   "outputs": [],
   "source": []
  },
  {
   "cell_type": "code",
   "execution_count": 2,
   "metadata": {},
   "outputs": [],
   "source": [
    "vg = pd.read_json('../Amazon_Data/Video_Games_5.json.gz', lines=True, compression='gzip')"
   ]
  },
  {
   "cell_type": "code",
   "execution_count": 3,
   "metadata": {},
   "outputs": [
    {
     "data": {
      "text/html": [
       "<div>\n",
       "<style scoped>\n",
       "    .dataframe tbody tr th:only-of-type {\n",
       "        vertical-align: middle;\n",
       "    }\n",
       "\n",
       "    .dataframe tbody tr th {\n",
       "        vertical-align: top;\n",
       "    }\n",
       "\n",
       "    .dataframe thead th {\n",
       "        text-align: right;\n",
       "    }\n",
       "</style>\n",
       "<table border=\"1\" class=\"dataframe\">\n",
       "  <thead>\n",
       "    <tr style=\"text-align: right;\">\n",
       "      <th></th>\n",
       "      <th>overall</th>\n",
       "      <th>verified</th>\n",
       "      <th>reviewTime</th>\n",
       "      <th>reviewerID</th>\n",
       "      <th>asin</th>\n",
       "      <th>reviewerName</th>\n",
       "      <th>reviewText</th>\n",
       "      <th>summary</th>\n",
       "      <th>unixReviewTime</th>\n",
       "      <th>vote</th>\n",
       "      <th>style</th>\n",
       "      <th>image</th>\n",
       "    </tr>\n",
       "  </thead>\n",
       "  <tbody>\n",
       "    <tr>\n",
       "      <th>0</th>\n",
       "      <td>5</td>\n",
       "      <td>True</td>\n",
       "      <td>10 17, 2015</td>\n",
       "      <td>A1HP7NVNPFMA4N</td>\n",
       "      <td>0700026657</td>\n",
       "      <td>Ambrosia075</td>\n",
       "      <td>This game is a bit hard to get the hang of, bu...</td>\n",
       "      <td>but when you do it's great.</td>\n",
       "      <td>1445040000</td>\n",
       "      <td>NaN</td>\n",
       "      <td>NaN</td>\n",
       "      <td>NaN</td>\n",
       "    </tr>\n",
       "    <tr>\n",
       "      <th>1</th>\n",
       "      <td>4</td>\n",
       "      <td>False</td>\n",
       "      <td>07 27, 2015</td>\n",
       "      <td>A1JGAP0185YJI6</td>\n",
       "      <td>0700026657</td>\n",
       "      <td>travis</td>\n",
       "      <td>I played it a while but it was alright. The st...</td>\n",
       "      <td>But in spite of that it was fun, I liked it</td>\n",
       "      <td>1437955200</td>\n",
       "      <td>NaN</td>\n",
       "      <td>NaN</td>\n",
       "      <td>NaN</td>\n",
       "    </tr>\n",
       "    <tr>\n",
       "      <th>2</th>\n",
       "      <td>3</td>\n",
       "      <td>True</td>\n",
       "      <td>02 23, 2015</td>\n",
       "      <td>A1YJWEXHQBWK2B</td>\n",
       "      <td>0700026657</td>\n",
       "      <td>Vincent G. Mezera</td>\n",
       "      <td>ok game.</td>\n",
       "      <td>Three Stars</td>\n",
       "      <td>1424649600</td>\n",
       "      <td>NaN</td>\n",
       "      <td>NaN</td>\n",
       "      <td>NaN</td>\n",
       "    </tr>\n",
       "    <tr>\n",
       "      <th>3</th>\n",
       "      <td>2</td>\n",
       "      <td>True</td>\n",
       "      <td>02 20, 2015</td>\n",
       "      <td>A2204E1TH211HT</td>\n",
       "      <td>0700026657</td>\n",
       "      <td>Grandma KR</td>\n",
       "      <td>found the game a bit too complicated, not what...</td>\n",
       "      <td>Two Stars</td>\n",
       "      <td>1424390400</td>\n",
       "      <td>NaN</td>\n",
       "      <td>NaN</td>\n",
       "      <td>NaN</td>\n",
       "    </tr>\n",
       "    <tr>\n",
       "      <th>4</th>\n",
       "      <td>5</td>\n",
       "      <td>True</td>\n",
       "      <td>12 25, 2014</td>\n",
       "      <td>A2RF5B5H74JLPE</td>\n",
       "      <td>0700026657</td>\n",
       "      <td>jon</td>\n",
       "      <td>great game, I love it and have played it since...</td>\n",
       "      <td>love this game</td>\n",
       "      <td>1419465600</td>\n",
       "      <td>NaN</td>\n",
       "      <td>NaN</td>\n",
       "      <td>NaN</td>\n",
       "    </tr>\n",
       "  </tbody>\n",
       "</table>\n",
       "</div>"
      ],
      "text/plain": [
       "   overall  verified   reviewTime      reviewerID        asin  \\\n",
       "0        5      True  10 17, 2015  A1HP7NVNPFMA4N  0700026657   \n",
       "1        4     False  07 27, 2015  A1JGAP0185YJI6  0700026657   \n",
       "2        3      True  02 23, 2015  A1YJWEXHQBWK2B  0700026657   \n",
       "3        2      True  02 20, 2015  A2204E1TH211HT  0700026657   \n",
       "4        5      True  12 25, 2014  A2RF5B5H74JLPE  0700026657   \n",
       "\n",
       "        reviewerName                                         reviewText  \\\n",
       "0        Ambrosia075  This game is a bit hard to get the hang of, bu...   \n",
       "1             travis  I played it a while but it was alright. The st...   \n",
       "2  Vincent G. Mezera                                           ok game.   \n",
       "3         Grandma KR  found the game a bit too complicated, not what...   \n",
       "4                jon  great game, I love it and have played it since...   \n",
       "\n",
       "                                       summary  unixReviewTime vote style  \\\n",
       "0                  but when you do it's great.      1445040000  NaN   NaN   \n",
       "1  But in spite of that it was fun, I liked it      1437955200  NaN   NaN   \n",
       "2                                  Three Stars      1424649600  NaN   NaN   \n",
       "3                                    Two Stars      1424390400  NaN   NaN   \n",
       "4                               love this game      1419465600  NaN   NaN   \n",
       "\n",
       "  image  \n",
       "0   NaN  \n",
       "1   NaN  \n",
       "2   NaN  \n",
       "3   NaN  \n",
       "4   NaN  "
      ]
     },
     "execution_count": 3,
     "metadata": {},
     "output_type": "execute_result"
    }
   ],
   "source": [
    "vg.head()"
   ]
  },
  {
   "cell_type": "code",
   "execution_count": 4,
   "metadata": {},
   "outputs": [],
   "source": [
    "vg = vg.loc[:,['overall', 'reviewText']]"
   ]
  },
  {
   "cell_type": "code",
   "execution_count": null,
   "metadata": {},
   "outputs": [],
   "source": []
  },
  {
   "cell_type": "markdown",
   "metadata": {},
   "source": [
    "## Notes\n",
    "- 'asin' = product ID\n",
    "- 'reviewText' = the review text\n",
    "- 'overall' = the star rating"
   ]
  },
  {
   "cell_type": "code",
   "execution_count": 5,
   "metadata": {},
   "outputs": [
    {
     "name": "stdout",
     "output_type": "stream",
     "text": [
      "<class 'pandas.core.frame.DataFrame'>\n",
      "RangeIndex: 497577 entries, 0 to 497576\n",
      "Data columns (total 2 columns):\n",
      "overall       497577 non-null int64\n",
      "reviewText    497419 non-null object\n",
      "dtypes: int64(1), object(1)\n",
      "memory usage: 7.6+ MB\n"
     ]
    }
   ],
   "source": [
    "vg.info()"
   ]
  },
  {
   "cell_type": "code",
   "execution_count": 6,
   "metadata": {},
   "outputs": [],
   "source": [
    "vg = vg.dropna(how='any')"
   ]
  },
  {
   "cell_type": "code",
   "execution_count": 7,
   "metadata": {},
   "outputs": [
    {
     "name": "stdout",
     "output_type": "stream",
     "text": [
      "<class 'pandas.core.frame.DataFrame'>\n",
      "Int64Index: 497419 entries, 0 to 497576\n",
      "Data columns (total 2 columns):\n",
      "overall       497419 non-null int64\n",
      "reviewText    497419 non-null object\n",
      "dtypes: int64(1), object(1)\n",
      "memory usage: 11.4+ MB\n"
     ]
    }
   ],
   "source": [
    "vg.info()"
   ]
  },
  {
   "cell_type": "code",
   "execution_count": 8,
   "metadata": {},
   "outputs": [],
   "source": [
    "# convert datatype to save memory\n",
    "vg.loc[:, 'overall'] = vg.overall.astype('int16')"
   ]
  },
  {
   "cell_type": "code",
   "execution_count": 9,
   "metadata": {},
   "outputs": [
    {
     "data": {
      "text/plain": [
       "(497419, 2)"
      ]
     },
     "execution_count": 9,
     "metadata": {},
     "output_type": "execute_result"
    }
   ],
   "source": [
    "vg.shape"
   ]
  },
  {
   "cell_type": "code",
   "execution_count": 10,
   "metadata": {},
   "outputs": [
    {
     "data": {
      "text/plain": [
       "5    299623\n",
       "4     93644\n",
       "3     49140\n",
       "1     30879\n",
       "2     24133\n",
       "Name: overall, dtype: int64"
      ]
     },
     "execution_count": 10,
     "metadata": {},
     "output_type": "execute_result"
    }
   ],
   "source": [
    "vg.overall.value_counts()"
   ]
  },
  {
   "cell_type": "code",
   "execution_count": 13,
   "metadata": {},
   "outputs": [],
   "source": [
    "# split the data into features and target and train/test split\n",
    "X = vg.reviewText.values\n",
    "y = vg.overall.values\n",
    "X_train, X_test, y_train, y_test = train_test_split(X, y, test_size=0.25, \n",
    "                                                    random_state=42, stratify=y)"
   ]
  },
  {
   "cell_type": "code",
   "execution_count": 14,
   "metadata": {},
   "outputs": [],
   "source": [
    "# upsample the training data\n",
    "train = pd.DataFrame({'overall': y_train, 'reviewText': X_train})"
   ]
  },
  {
   "cell_type": "code",
   "execution_count": 15,
   "metadata": {},
   "outputs": [
    {
     "data": {
      "text/plain": [
       "5    224717\n",
       "4     70233\n",
       "3     36855\n",
       "1     23159\n",
       "2     18100\n",
       "Name: overall, dtype: int64"
      ]
     },
     "execution_count": 15,
     "metadata": {},
     "output_type": "execute_result"
    }
   ],
   "source": [
    "train.overall.value_counts()"
   ]
  },
  {
   "cell_type": "code",
   "execution_count": 16,
   "metadata": {},
   "outputs": [],
   "source": [
    "# keep all of the indexes with a review of 5\n",
    "# generate random samples of the other indexes to equal the value counts of 5\n",
    "train5 = train[train.overall == 5]\n",
    "train4_idxs = np.random.choice(train[train.overall == 4].index, 240000, replace=True)\n",
    "train3_idxs = np.random.choice(train[train.overall == 3].index, 240000, replace=True)\n",
    "train2_idxs = np.random.choice(train[train.overall == 2].index, 240000, replace=True)\n",
    "train1_idxs = np.random.choice(train[train.overall == 1].index, 240000, replace=True)"
   ]
  },
  {
   "cell_type": "code",
   "execution_count": 17,
   "metadata": {},
   "outputs": [
    {
     "data": {
      "text/plain": [
       "5    224717\n",
       "Name: overall, dtype: int64"
      ]
     },
     "execution_count": 17,
     "metadata": {},
     "output_type": "execute_result"
    }
   ],
   "source": [
    "train5.overall.value_counts()"
   ]
  },
  {
   "cell_type": "code",
   "execution_count": 18,
   "metadata": {},
   "outputs": [],
   "source": [
    "# upsample the data\n",
    "train = pd.concat([train5, train.iloc[train1_idxs,:], train.iloc[train2_idxs,:], \n",
    "                   train.iloc[train3_idxs,:], train.iloc[train4_idxs,:]])"
   ]
  },
  {
   "cell_type": "code",
   "execution_count": 19,
   "metadata": {},
   "outputs": [
    {
     "data": {
      "text/plain": [
       "4    240000\n",
       "3    240000\n",
       "2    240000\n",
       "1    240000\n",
       "5    224717\n",
       "Name: overall, dtype: int64"
      ]
     },
     "execution_count": 19,
     "metadata": {},
     "output_type": "execute_result"
    }
   ],
   "source": [
    "train.overall.value_counts()"
   ]
  },
  {
   "cell_type": "code",
   "execution_count": 20,
   "metadata": {},
   "outputs": [
    {
     "data": {
      "text/html": [
       "<div>\n",
       "<style scoped>\n",
       "    .dataframe tbody tr th:only-of-type {\n",
       "        vertical-align: middle;\n",
       "    }\n",
       "\n",
       "    .dataframe tbody tr th {\n",
       "        vertical-align: top;\n",
       "    }\n",
       "\n",
       "    .dataframe thead th {\n",
       "        text-align: right;\n",
       "    }\n",
       "</style>\n",
       "<table border=\"1\" class=\"dataframe\">\n",
       "  <thead>\n",
       "    <tr style=\"text-align: right;\">\n",
       "      <th></th>\n",
       "      <th>overall</th>\n",
       "      <th>reviewText</th>\n",
       "    </tr>\n",
       "  </thead>\n",
       "  <tbody>\n",
       "    <tr>\n",
       "      <th>1</th>\n",
       "      <td>5</td>\n",
       "      <td>Certainly not the best installment of the \"Ass...</td>\n",
       "    </tr>\n",
       "    <tr>\n",
       "      <th>2</th>\n",
       "      <td>5</td>\n",
       "      <td>My son loves this game, especially because its...</td>\n",
       "    </tr>\n",
       "    <tr>\n",
       "      <th>3</th>\n",
       "      <td>5</td>\n",
       "      <td>One of the best consoles available!</td>\n",
       "    </tr>\n",
       "    <tr>\n",
       "      <th>4</th>\n",
       "      <td>5</td>\n",
       "      <td>the game works beautifully...graphics are stun...</td>\n",
       "    </tr>\n",
       "    <tr>\n",
       "      <th>6</th>\n",
       "      <td>5</td>\n",
       "      <td>Overview:  If you like any of the GTA games yo...</td>\n",
       "    </tr>\n",
       "  </tbody>\n",
       "</table>\n",
       "</div>"
      ],
      "text/plain": [
       "   overall                                         reviewText\n",
       "1        5  Certainly not the best installment of the \"Ass...\n",
       "2        5  My son loves this game, especially because its...\n",
       "3        5                One of the best consoles available!\n",
       "4        5  the game works beautifully...graphics are stun...\n",
       "6        5  Overview:  If you like any of the GTA games yo..."
      ]
     },
     "execution_count": 20,
     "metadata": {},
     "output_type": "execute_result"
    }
   ],
   "source": [
    "train.head()"
   ]
  },
  {
   "cell_type": "code",
   "execution_count": 21,
   "metadata": {},
   "outputs": [
    {
     "data": {
      "text/plain": [
       "(1184717, 2)"
      ]
     },
     "execution_count": 21,
     "metadata": {},
     "output_type": "execute_result"
    }
   ],
   "source": [
    "train.shape"
   ]
  },
  {
   "cell_type": "code",
   "execution_count": 31,
   "metadata": {},
   "outputs": [
    {
     "data": {
      "image/png": "[encoded data removed]",
      "text/plain": [
       "<Figure size 432x288 with 1 Axes>"
      ]
     },
     "metadata": {
      "needs_background": "light"
     },
     "output_type": "display_data"
    }
   ],
   "source": [
    "# display plot showing balanced data for training\n",
    "_ = train.overall.value_counts().sort_index().plot(kind='bar')\n",
    "_ = plt.title('Number of Upsampled Reviews')\n",
    "_ = plt.xlabel('Number of Stars')\n",
    "_ = plt.ylabel('Number of Reviews (upsamped)')\n",
    "_ = plt.xticks(rotation=0)"
   ]
  },
  {
   "cell_type": "code",
   "execution_count": 32,
   "metadata": {},
   "outputs": [],
   "source": [
    "# split training data into X, y\n",
    "X_train = train.reviewText.values\n",
    "y_train = train.overall.values"
   ]
  },
  {
   "cell_type": "code",
   "execution_count": 40,
   "metadata": {},
   "outputs": [],
   "source": [
    "def clean_text(data):\n",
    "    data = data.replace('\\\\n','')\n",
    "    data = data.replace('\\\\','')\n",
    "    return data"
   ]
  },
  {
   "cell_type": "code",
   "execution_count": null,
   "metadata": {},
   "outputs": [],
   "source": []
  },
  {
   "cell_type": "code",
   "execution_count": 55,
   "metadata": {},
   "outputs": [
    {
     "data": {
      "text/plain": [
       "'Certainly not the best installment of the \"Assassin\\'s Creed\" series, but all the talk of it being the absolute worst - I didn\\'t see it.First there were complaints of it being full of glitches & bugs. I didn\\'t really come across any in the many hours I played it. Game mechanics felt solid. I didn\\'t experience any panicky button mashing moments trying to get an uncooperative character to do what I wanted. I was able to navigate the game world, which was so beautifully detailed as to make me feel as though I could smell the streets, quite nicely. I\\'ll grant that I may have played \"Unity\" post patches so other experiences may vary. My only complaint about the artistic aspect of the game was that everyone in Paris, France seemed to have an English accent. (???)That said, a game that is considered bad due to glitches & bugs doesn\\'t necessarily make it a \"bad\" game. The meat of any \"Assassin\\'s Creed\" title is the story. \"Unity\\'s\" story was adequate to move you through the game. The French Revolution was an interesting period of history but it didn\\'t make for a really gripping background. I didn\\'t experience any standout memorable moments in the game, even with the franchise\\'s trademark cameos of historical figures (I love that the Marquee de Sade starred here, but Blackbeard in AC4 made for more geektastic moments). The best thing I can really say is that I was able to obtain a Platinum Trophy with this game.All in all, the game is worth a wait until a good price drop occurs. And while it may rank low among other AC titles I feel it\\'s still a must for any AC fan.'"
      ]
     },
     "execution_count": 55,
     "metadata": {},
     "output_type": "execute_result"
    }
   ],
   "source": [
    "X_train[0].replace('\\n', '').replace('\\\\','')"
   ]
  },
  {
   "cell_type": "code",
   "execution_count": 64,
   "metadata": {},
   "outputs": [],
   "source": [
    "parser = English()\n",
    "def my_tokenizer(sentence):\n",
    "    mytokens = parser(sentence)\n",
    "    mytokens = [word.lemma_.lower().strip() if word.lemma_ != \"-PRON-\" \n",
    "                else word.lower_ for word in mytokens]\n",
    "    mytokens = [word for word in mytokens if word not in punctuations]\n",
    "    return mytokens"
   ]
  },
  {
   "cell_type": "code",
   "execution_count": 65,
   "metadata": {},
   "outputs": [
    {
     "data": {
      "text/plain": [
       "['certainly',\n",
       " 'not',\n",
       " 'the',\n",
       " 'well',\n",
       " 'installment',\n",
       " 'of',\n",
       " 'the',\n",
       " 'assassin',\n",
       " 'have',\n",
       " 'creed',\n",
       " 'series',\n",
       " 'but',\n",
       " 'all',\n",
       " 'the',\n",
       " 'talk',\n",
       " 'of',\n",
       " 'it',\n",
       " 'be',\n",
       " 'the',\n",
       " 'absolute',\n",
       " 'wrong',\n",
       " 'i',\n",
       " 'do',\n",
       " 'not',\n",
       " 'see',\n",
       " 'it',\n",
       " 'first',\n",
       " 'there',\n",
       " 'be',\n",
       " 'complaint',\n",
       " 'of',\n",
       " 'it',\n",
       " 'be',\n",
       " 'full',\n",
       " 'of',\n",
       " 'glitches',\n",
       " 'bug',\n",
       " 'i',\n",
       " 'do',\n",
       " 'not',\n",
       " 'really',\n",
       " 'come',\n",
       " 'across',\n",
       " 'any',\n",
       " 'in',\n",
       " 'the',\n",
       " 'many',\n",
       " 'hour',\n",
       " 'i',\n",
       " 'play',\n",
       " 'it',\n",
       " 'game',\n",
       " 'mechanic',\n",
       " 'feel',\n",
       " 'solid',\n",
       " 'i',\n",
       " 'do',\n",
       " 'not',\n",
       " 'experience',\n",
       " 'any',\n",
       " 'panicky',\n",
       " 'button',\n",
       " 'mash',\n",
       " 'moment',\n",
       " 'try',\n",
       " 'to',\n",
       " 'get',\n",
       " 'a',\n",
       " 'uncooperative',\n",
       " 'character',\n",
       " 'to',\n",
       " 'do',\n",
       " 'what',\n",
       " 'i',\n",
       " 'want',\n",
       " 'i',\n",
       " 'be',\n",
       " 'able',\n",
       " 'to',\n",
       " 'navigate',\n",
       " 'the',\n",
       " 'game',\n",
       " 'world',\n",
       " 'which',\n",
       " 'be',\n",
       " 'so',\n",
       " 'beautifully',\n",
       " 'detail',\n",
       " 'a',\n",
       " 'to',\n",
       " 'make',\n",
       " 'me',\n",
       " 'feel',\n",
       " 'a',\n",
       " 'though',\n",
       " 'i',\n",
       " 'can',\n",
       " 'smell',\n",
       " 'the',\n",
       " 'street',\n",
       " 'quite',\n",
       " 'nicely',\n",
       " 'i',\n",
       " 'will',\n",
       " 'grant',\n",
       " 'that',\n",
       " 'i',\n",
       " 'may',\n",
       " 'have',\n",
       " 'play',\n",
       " 'unity',\n",
       " 'post',\n",
       " 'patch',\n",
       " 'so',\n",
       " 'other',\n",
       " 'experience',\n",
       " 'may',\n",
       " 'vary',\n",
       " 'my',\n",
       " 'only',\n",
       " 'complaint',\n",
       " 'about',\n",
       " 'the',\n",
       " 'artistic',\n",
       " 'aspect',\n",
       " 'of',\n",
       " 'the',\n",
       " 'game',\n",
       " 'be',\n",
       " 'that',\n",
       " 'everyone',\n",
       " 'in',\n",
       " 'paris',\n",
       " 'france',\n",
       " 'seem',\n",
       " 'to',\n",
       " 'have',\n",
       " 'a',\n",
       " 'english',\n",
       " 'accent',\n",
       " 'that',\n",
       " 'say',\n",
       " 'a',\n",
       " 'game',\n",
       " 'that',\n",
       " 'be',\n",
       " 'consider',\n",
       " 'bad',\n",
       " 'due',\n",
       " 'to',\n",
       " 'glitches',\n",
       " 'bug',\n",
       " 'do',\n",
       " 'not',\n",
       " 'necessarily',\n",
       " 'make',\n",
       " 'it',\n",
       " 'a',\n",
       " 'bad',\n",
       " 'game',\n",
       " 'the',\n",
       " 'meat',\n",
       " 'of',\n",
       " 'any',\n",
       " 'assassin',\n",
       " 'have',\n",
       " 'creed',\n",
       " 'title',\n",
       " 'be',\n",
       " 'the',\n",
       " 'story',\n",
       " 'unity',\n",
       " 'have',\n",
       " 'story',\n",
       " 'be',\n",
       " 'adequate',\n",
       " 'to',\n",
       " 'move',\n",
       " 'you',\n",
       " 'through',\n",
       " 'the',\n",
       " 'game',\n",
       " 'the',\n",
       " 'french',\n",
       " 'revolution',\n",
       " 'be',\n",
       " 'a',\n",
       " 'interest',\n",
       " 'period',\n",
       " 'of',\n",
       " 'history',\n",
       " 'but',\n",
       " 'it',\n",
       " 'do',\n",
       " 'not',\n",
       " 'make',\n",
       " 'for',\n",
       " 'a',\n",
       " 'really',\n",
       " 'grip',\n",
       " 'background',\n",
       " 'i',\n",
       " 'do',\n",
       " 'not',\n",
       " 'experience',\n",
       " 'any',\n",
       " 'standout',\n",
       " 'memorable',\n",
       " 'moment',\n",
       " 'in',\n",
       " 'the',\n",
       " 'game',\n",
       " 'even',\n",
       " 'with',\n",
       " 'the',\n",
       " 'franchise',\n",
       " 'have',\n",
       " 'trademark',\n",
       " 'cameo',\n",
       " 'of',\n",
       " 'historical',\n",
       " 'figure',\n",
       " 'i',\n",
       " 'love',\n",
       " 'that',\n",
       " 'the',\n",
       " 'marquee',\n",
       " 'de',\n",
       " 'sade',\n",
       " 'star',\n",
       " 'here',\n",
       " 'but',\n",
       " 'blackbeard',\n",
       " 'in',\n",
       " 'ac4',\n",
       " 'make',\n",
       " 'for',\n",
       " 'much',\n",
       " 'geektastic',\n",
       " 'moment',\n",
       " 'the',\n",
       " 'well',\n",
       " 'thing',\n",
       " 'i',\n",
       " 'can',\n",
       " 'really',\n",
       " 'say',\n",
       " 'be',\n",
       " 'that',\n",
       " 'i',\n",
       " 'be',\n",
       " 'able',\n",
       " 'to',\n",
       " 'obtain',\n",
       " 'a',\n",
       " 'platinum',\n",
       " 'trophy',\n",
       " 'with',\n",
       " 'this',\n",
       " 'game',\n",
       " 'all',\n",
       " 'in',\n",
       " 'all',\n",
       " 'the',\n",
       " 'game',\n",
       " 'be',\n",
       " 'worth',\n",
       " 'a',\n",
       " 'wait',\n",
       " 'until',\n",
       " 'a',\n",
       " 'good',\n",
       " 'price',\n",
       " 'drop',\n",
       " 'occur',\n",
       " 'and',\n",
       " 'while',\n",
       " 'it',\n",
       " 'may',\n",
       " 'rank',\n",
       " 'low',\n",
       " 'among',\n",
       " 'other',\n",
       " 'ac',\n",
       " 'title',\n",
       " 'i',\n",
       " 'feel',\n",
       " 'it',\n",
       " 'have',\n",
       " 'still',\n",
       " 'a',\n",
       " 'must',\n",
       " 'for',\n",
       " 'any',\n",
       " 'ac',\n",
       " 'fan']"
      ]
     },
     "execution_count": 65,
     "metadata": {},
     "output_type": "execute_result"
    }
   ],
   "source": [
    "my_tokenizer(X_train[0])"
   ]
  },
  {
   "cell_type": "code",
   "execution_count": null,
   "metadata": {},
   "outputs": [],
   "source": []
  }
 ],
 "metadata": {
  "kernelspec": {
   "display_name": "Python 3",
   "language": "python",
   "name": "python3"
  },
  "language_info": {
   "codemirror_mode": {
    "name": "ipython",
    "version": 3
   },
   "file_extension": ".py",
   "mimetype": "text/x-python",
   "name": "python",
   "nbconvert_exporter": "python",
   "pygments_lexer": "ipython3",
   "version": "3.7.3"
  }
 },
 "nbformat": 4,
 "nbformat_minor": 4
}
