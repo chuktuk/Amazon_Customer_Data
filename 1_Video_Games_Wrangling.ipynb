{
 "cells": [
  {
   "cell_type": "markdown",
   "metadata": {},
   "source": [
    "# Amazon Video Game Data Wrangling"
   ]
  },
  {
   "cell_type": "markdown",
   "metadata": {},
   "source": [
    "Data from\n",
    "> Justifying recommendations using distantly-labeled reviews and fined-grained aspects\n",
    "Jianmo Ni, Jiacheng Li, Julian McAuley\n",
    "Empirical Methods in Natural Language Processing (EMNLP), 2019"
   ]
  },
  {
   "cell_type": "code",
   "execution_count": 1,
   "metadata": {},
   "outputs": [],
   "source": [
    "# import packages\n",
    "import re\n",
    "import spacy\n",
    "import numpy as np\n",
    "import pandas as pd\n",
    "import matplotlib.pyplot as plt\n",
    "import seaborn as sns\n",
    "from collections import Counter, defaultdict, deque\n",
    "from sklearn.model_selection import train_test_split\n",
    "from sklearn.feature_extraction.text import CountVectorizer,TfidfVectorizer\n",
    "from sklearn.metrics import roc_curve, roc_auc_score, confusion_matrix, classification_report\n",
    "from sklearn.metrics import precision_recall_curve\n",
    "%matplotlib inline\n",
    "\n",
    "# load English tokenizer, tagger, parser, NER, and word vectors\n",
    "nlp = spacy.load('en_core_web_sm')\n",
    "import string\n",
    "punctuations = string.punctuation\n",
    "from  spacy.lang.en.stop_words import STOP_WORDS\n",
    "# Creating a Spacy Parser\n",
    "from spacy.lang.en import English\n",
    "from stemming.porter2 import stem\n",
    "from html import unescape\n",
    "import fasttext\n",
    "import emoji"
   ]
  },
  {
   "cell_type": "code",
   "execution_count": 2,
   "metadata": {},
   "outputs": [],
   "source": [
    "# initialize spark and koalas\n",
    "# import findspark\n",
    "# findspark.init()\n",
    "# import pyspark\n",
    "# import databricks.koalas as ks"
   ]
  },
  {
   "cell_type": "code",
   "execution_count": 3,
   "metadata": {},
   "outputs": [],
   "source": [
    "# from pyspark import SparkConf, SparkContext\n",
    "# from pyspark.sql import SQLContext\n",
    "# # set the app and number of cores to use (work comp 2 cores)\n",
    "# # conf = SparkConf().setMaster('local[2]').setAppName('VideoGamesWrangle') # 2 for BB comp\n",
    "# conf = SparkConf().setMaster('local[4]').setAppName('VideoGamesWrangle') # 4 for my laptop\n",
    "# # set the sparkcontext\n",
    "# sc = SparkContext.getOrCreate(conf = conf)\n",
    "# sqlContext = SQLContext(sc)"
   ]
  },
  {
   "cell_type": "code",
   "execution_count": 2,
   "metadata": {},
   "outputs": [],
   "source": [
    "vg = pd.read_json('../Amazon_Data/Video_Games_5.json.gz', lines=True, compression='gzip')"
   ]
  },
  {
   "cell_type": "code",
   "execution_count": 3,
   "metadata": {},
   "outputs": [
    {
     "data": {
      "text/html": [
       "<div>\n",
       "<style scoped>\n",
       "    .dataframe tbody tr th:only-of-type {\n",
       "        vertical-align: middle;\n",
       "    }\n",
       "\n",
       "    .dataframe tbody tr th {\n",
       "        vertical-align: top;\n",
       "    }\n",
       "\n",
       "    .dataframe thead th {\n",
       "        text-align: right;\n",
       "    }\n",
       "</style>\n",
       "<table border=\"1\" class=\"dataframe\">\n",
       "  <thead>\n",
       "    <tr style=\"text-align: right;\">\n",
       "      <th></th>\n",
       "      <th>overall</th>\n",
       "      <th>verified</th>\n",
       "      <th>reviewTime</th>\n",
       "      <th>reviewerID</th>\n",
       "      <th>asin</th>\n",
       "      <th>reviewerName</th>\n",
       "      <th>reviewText</th>\n",
       "      <th>summary</th>\n",
       "      <th>unixReviewTime</th>\n",
       "      <th>vote</th>\n",
       "      <th>style</th>\n",
       "      <th>image</th>\n",
       "    </tr>\n",
       "  </thead>\n",
       "  <tbody>\n",
       "    <tr>\n",
       "      <th>0</th>\n",
       "      <td>5</td>\n",
       "      <td>True</td>\n",
       "      <td>10 17, 2015</td>\n",
       "      <td>A1HP7NVNPFMA4N</td>\n",
       "      <td>0700026657</td>\n",
       "      <td>Ambrosia075</td>\n",
       "      <td>This game is a bit hard to get the hang of, bu...</td>\n",
       "      <td>but when you do it's great.</td>\n",
       "      <td>1445040000</td>\n",
       "      <td>NaN</td>\n",
       "      <td>NaN</td>\n",
       "      <td>NaN</td>\n",
       "    </tr>\n",
       "    <tr>\n",
       "      <th>1</th>\n",
       "      <td>4</td>\n",
       "      <td>False</td>\n",
       "      <td>07 27, 2015</td>\n",
       "      <td>A1JGAP0185YJI6</td>\n",
       "      <td>0700026657</td>\n",
       "      <td>travis</td>\n",
       "      <td>I played it a while but it was alright. The st...</td>\n",
       "      <td>But in spite of that it was fun, I liked it</td>\n",
       "      <td>1437955200</td>\n",
       "      <td>NaN</td>\n",
       "      <td>NaN</td>\n",
       "      <td>NaN</td>\n",
       "    </tr>\n",
       "    <tr>\n",
       "      <th>2</th>\n",
       "      <td>3</td>\n",
       "      <td>True</td>\n",
       "      <td>02 23, 2015</td>\n",
       "      <td>A1YJWEXHQBWK2B</td>\n",
       "      <td>0700026657</td>\n",
       "      <td>Vincent G. Mezera</td>\n",
       "      <td>ok game.</td>\n",
       "      <td>Three Stars</td>\n",
       "      <td>1424649600</td>\n",
       "      <td>NaN</td>\n",
       "      <td>NaN</td>\n",
       "      <td>NaN</td>\n",
       "    </tr>\n",
       "    <tr>\n",
       "      <th>3</th>\n",
       "      <td>2</td>\n",
       "      <td>True</td>\n",
       "      <td>02 20, 2015</td>\n",
       "      <td>A2204E1TH211HT</td>\n",
       "      <td>0700026657</td>\n",
       "      <td>Grandma KR</td>\n",
       "      <td>found the game a bit too complicated, not what...</td>\n",
       "      <td>Two Stars</td>\n",
       "      <td>1424390400</td>\n",
       "      <td>NaN</td>\n",
       "      <td>NaN</td>\n",
       "      <td>NaN</td>\n",
       "    </tr>\n",
       "    <tr>\n",
       "      <th>4</th>\n",
       "      <td>5</td>\n",
       "      <td>True</td>\n",
       "      <td>12 25, 2014</td>\n",
       "      <td>A2RF5B5H74JLPE</td>\n",
       "      <td>0700026657</td>\n",
       "      <td>jon</td>\n",
       "      <td>great game, I love it and have played it since...</td>\n",
       "      <td>love this game</td>\n",
       "      <td>1419465600</td>\n",
       "      <td>NaN</td>\n",
       "      <td>NaN</td>\n",
       "      <td>NaN</td>\n",
       "    </tr>\n",
       "  </tbody>\n",
       "</table>\n",
       "</div>"
      ],
      "text/plain": [
       "   overall  verified   reviewTime      reviewerID        asin  \\\n",
       "0        5      True  10 17, 2015  A1HP7NVNPFMA4N  0700026657   \n",
       "1        4     False  07 27, 2015  A1JGAP0185YJI6  0700026657   \n",
       "2        3      True  02 23, 2015  A1YJWEXHQBWK2B  0700026657   \n",
       "3        2      True  02 20, 2015  A2204E1TH211HT  0700026657   \n",
       "4        5      True  12 25, 2014  A2RF5B5H74JLPE  0700026657   \n",
       "\n",
       "        reviewerName                                         reviewText  \\\n",
       "0        Ambrosia075  This game is a bit hard to get the hang of, bu...   \n",
       "1             travis  I played it a while but it was alright. The st...   \n",
       "2  Vincent G. Mezera                                           ok game.   \n",
       "3         Grandma KR  found the game a bit too complicated, not what...   \n",
       "4                jon  great game, I love it and have played it since...   \n",
       "\n",
       "                                       summary  unixReviewTime vote style  \\\n",
       "0                  but when you do it's great.      1445040000  NaN   NaN   \n",
       "1  But in spite of that it was fun, I liked it      1437955200  NaN   NaN   \n",
       "2                                  Three Stars      1424649600  NaN   NaN   \n",
       "3                                    Two Stars      1424390400  NaN   NaN   \n",
       "4                               love this game      1419465600  NaN   NaN   \n",
       "\n",
       "  image  \n",
       "0   NaN  \n",
       "1   NaN  \n",
       "2   NaN  \n",
       "3   NaN  \n",
       "4   NaN  "
      ]
     },
     "execution_count": 3,
     "metadata": {},
     "output_type": "execute_result"
    }
   ],
   "source": [
    "vg.head()"
   ]
  },
  {
   "cell_type": "code",
   "execution_count": 4,
   "metadata": {},
   "outputs": [],
   "source": [
    "vg = vg.loc[:,['overall', 'reviewText']]"
   ]
  },
  {
   "cell_type": "code",
   "execution_count": null,
   "metadata": {},
   "outputs": [],
   "source": []
  },
  {
   "cell_type": "markdown",
   "metadata": {},
   "source": [
    "## Notes\n",
    "- 'asin' = product ID\n",
    "- 'reviewText' = the review text\n",
    "- 'overall' = the star rating"
   ]
  },
  {
   "cell_type": "code",
   "execution_count": 5,
   "metadata": {},
   "outputs": [
    {
     "name": "stdout",
     "output_type": "stream",
     "text": [
      "<class 'pandas.core.frame.DataFrame'>\n",
      "RangeIndex: 497577 entries, 0 to 497576\n",
      "Data columns (total 2 columns):\n",
      "overall       497577 non-null int64\n",
      "reviewText    497419 non-null object\n",
      "dtypes: int64(1), object(1)\n",
      "memory usage: 7.6+ MB\n"
     ]
    }
   ],
   "source": [
    "vg.info()"
   ]
  },
  {
   "cell_type": "code",
   "execution_count": 6,
   "metadata": {},
   "outputs": [],
   "source": [
    "# clean up nan values and change datatype\n",
    "vg = vg.dropna(how='any')\n",
    "vg.loc[:,'overall'] = vg.overall.astype('int16')"
   ]
  },
  {
   "cell_type": "code",
   "execution_count": 7,
   "metadata": {},
   "outputs": [
    {
     "name": "stdout",
     "output_type": "stream",
     "text": [
      "<class 'pandas.core.frame.DataFrame'>\n",
      "Int64Index: 497419 entries, 0 to 497576\n",
      "Data columns (total 2 columns):\n",
      "overall       497419 non-null int16\n",
      "reviewText    497419 non-null object\n",
      "dtypes: int16(1), object(1)\n",
      "memory usage: 8.5+ MB\n"
     ]
    }
   ],
   "source": [
    "vg.info()"
   ]
  },
  {
   "cell_type": "code",
   "execution_count": null,
   "metadata": {},
   "outputs": [],
   "source": []
  },
  {
   "cell_type": "code",
   "execution_count": 8,
   "metadata": {},
   "outputs": [
    {
     "data": {
      "text/plain": [
       "(497419, 2)"
      ]
     },
     "execution_count": 8,
     "metadata": {},
     "output_type": "execute_result"
    }
   ],
   "source": [
    "vg.shape"
   ]
  },
  {
   "cell_type": "code",
   "execution_count": 9,
   "metadata": {},
   "outputs": [
    {
     "data": {
      "text/plain": [
       "5    299623\n",
       "4     93644\n",
       "3     49140\n",
       "1     30879\n",
       "2     24133\n",
       "Name: overall, dtype: int64"
      ]
     },
     "execution_count": 9,
     "metadata": {},
     "output_type": "execute_result"
    }
   ],
   "source": [
    "vg.overall.value_counts()"
   ]
  },
  {
   "cell_type": "code",
   "execution_count": 10,
   "metadata": {},
   "outputs": [],
   "source": [
    "# map the sentiment\n",
    "vg.loc[:,'sentiment'] = vg.overall.map({1: 1, 2: 1, 3: 2, 4: 3, 5: 3}).astype('category')"
   ]
  },
  {
   "cell_type": "code",
   "execution_count": 11,
   "metadata": {},
   "outputs": [],
   "source": [
    "# map the sentiment\n",
    "vg.loc[:,'ft_sentiment'] = vg.overall.map({1: '__label__1 ', 2: '__label__1 ', 3: '__label__2 ', \n",
    "                                           4: '__label__3 ', 5: '__label__3 '}).astype('category')"
   ]
  },
  {
   "cell_type": "code",
   "execution_count": 12,
   "metadata": {},
   "outputs": [
    {
     "name": "stdout",
     "output_type": "stream",
     "text": [
      "<class 'pandas.core.frame.DataFrame'>\n",
      "Int64Index: 497419 entries, 0 to 497576\n",
      "Data columns (total 4 columns):\n",
      "overall         497419 non-null int16\n",
      "reviewText      497419 non-null object\n",
      "sentiment       497419 non-null category\n",
      "ft_sentiment    497419 non-null category\n",
      "dtypes: category(2), int16(1), object(1)\n",
      "memory usage: 9.5+ MB\n"
     ]
    }
   ],
   "source": [
    "vg.info()"
   ]
  },
  {
   "cell_type": "code",
   "execution_count": 13,
   "metadata": {},
   "outputs": [
    {
     "data": {
      "text/plain": [
       "3    393267\n",
       "1     55012\n",
       "2     49140\n",
       "Name: sentiment, dtype: int64"
      ]
     },
     "execution_count": 13,
     "metadata": {},
     "output_type": "execute_result"
    }
   ],
   "source": [
    "vg.sentiment.value_counts()"
   ]
  },
  {
   "cell_type": "code",
   "execution_count": 14,
   "metadata": {},
   "outputs": [
    {
     "data": {
      "text/plain": [
       "__label__3     393267\n",
       "__label__1      55012\n",
       "__label__2      49140\n",
       "Name: ft_sentiment, dtype: int64"
      ]
     },
     "execution_count": 14,
     "metadata": {},
     "output_type": "execute_result"
    }
   ],
   "source": [
    "vg.ft_sentiment.value_counts()"
   ]
  },
  {
   "cell_type": "code",
   "execution_count": 12,
   "metadata": {},
   "outputs": [],
   "source": [
    "# create a dataframe from the word matrix\n",
    "# def wm2df(wm, feat_names):\n",
    "    \n",
    "#     # create an index for each row\n",
    "#     doc_names = ['Doc{:d}'.format(idx) for idx, _ in enumerate(wm)]\n",
    "#     df = pd.DataFrame(data=wm.toarray(), index=doc_names,\n",
    "#                       columns=feat_names)\n",
    "#     return(df)"
   ]
  },
  {
   "cell_type": "code",
   "execution_count": null,
   "metadata": {},
   "outputs": [],
   "source": []
  },
  {
   "cell_type": "code",
   "execution_count": 15,
   "metadata": {},
   "outputs": [
    {
     "name": "stdout",
     "output_type": "stream",
     "text": [
      "['have', 'both', 'becomes', 'how', 'about', 'here', 'along', 'such', \"'d\", 'everywhere', 'becoming', 'since', 'still', 'make', 'above', 'behind', '’m', 'together', 'could', 'top', 'would', 'while', 'over', 'but', 'nine', 'all', 'which', '’ve', 'if', 'where', 'whereas', 'none', 'to', 'even', 'for', 'beforehand', 'has', 'whole', '‘s', 're', 'namely', 'as', 'us', 'is', 'cannot', 'else', 'his', 'noone', 'nowhere', 'ourselves', 'just', 'its', 'meanwhile', 'show', 'anyway', 'seem', 'this', 'whenever', 'beside', 'yet', 'your', 'fifteen', 'anywhere', 'under', \"'ll\", 'was', 'become', 'down', 'themselves', 'last', 'twelve', 'no', 'only', 'hereby', 'few', 'their', \"'m\", 'must', 'he', 'on', 'then', 'until', 'throughout', 'whereupon', 'out', 'put', 'further', 'you', '‘re', 'otherwise', 'therein', 'during', 'same', 'enough', 'had', 'i', 'one', 'side', 'more', 'thru', 'might', 'former', 'full', 'it', 'seeming', 'fifty', 'hereafter', '‘ll', 'back', 'became', 'however', 'latterly', 'hers', 'quite', 'before', 'bottom', 'nobody', 'less', 'sometimes', 'we', 'never', 'twenty', 'everything', 'hereupon', 'see', 'once', 'within', 'whether', 'least', '’ll', 'than', 'front', 'me', 'what', 'afterwards', 'whither', 'move', 'seemed', 'whoever', 'does', 'via', 'a', 'herself', 'in', 'hundred', 'due', 'mostly', 'anything', 'whom', 'that', 'please', 'sixty', 'off', 'much', 'thereby', 'am', 'him', 'next', 'were', 'or', 'beyond', 'from', 'elsewhere', 'nevertheless', 'unless', 'almost', 'amount', 'done', 'so', 'anyhow', 'besides', 'after', 'should', 'too', 'them', 'of', 'third', 'indeed', 'into', 'itself', '‘ve', 'either', 'most', 'rather', 'ca', 'up', 'because', 'ours', 'whose', 'anyone', 'eight', 'amongst', 'another', 'whatever', 'by', \"'ve\", 'doing', 'may', 'forty', \"'re\", 'wherever', 'sometime', 'somehow', 'formerly', 'across', 'three', 'moreover', 'herein', 'do', 'yourself', 'whence', 'name', 'thus', 'give', 'ever', 'go', 'these', 'always', 'made', 'against', 'neither', 'yourselves', '’re', 'four', 'among', 'himself', 'several', 'first', 'n‘t', 'say', 'call', 'hence', 'onto', 'others', 'she', 'alone', 'take', '‘m', 'without', 'yours', 'nothing', 'really', 'perhaps', 'through', 'between', 'been', 'something', '’d', 'already', 'somewhere', 'five', 'therefore', 'keep', 'being', 'her', 'and', 'below', 'various', 'mine', 'around', 'also', \"'s\", 'everyone', 'regarding', 'someone', 'own', 'toward', 'often', 'be', 'will', 'our', '‘d', 'two', 'serious', 'latter', 'using', 'there', 'at', 'other', 'every', 'thence', 'whereby', 'n’t', 'whereafter', 'those', 'not', 'when', 'very', 'why', 'towards', 'did', 'again', 'except', 'some', 'my', 'each', 'eleven', 'part', 'well', 'can', 'used', 'thereafter', 'get', 'ten', 'though', 'myself', \"n't\", 'now', 'empty', 'with', 'who', 'any', 'they', 'an', 'seems', '’s', 'nor', 'six', 'upon', 'per', 'many', 'wherein', 'the', 'are', 'although', 'thereupon']\n"
     ]
    }
   ],
   "source": [
    "# generate and edit stop words\n",
    "stops = list(STOP_WORDS)\n",
    "print(stops)"
   ]
  },
  {
   "cell_type": "code",
   "execution_count": 16,
   "metadata": {},
   "outputs": [],
   "source": [
    "stop_words = []\n",
    "for word in stops:\n",
    "    if word not in ['not', 'no', 'cannot', 'nothing', 'well', 'never', 'whatever']:\n",
    "        stop_words.append(word)\n",
    "# add additional stopwords\n",
    "issue_words = ['\\ufeff1', '\\x16', '...', '\\x10once']\n",
    "for word in issue_words:\n",
    "    stop_words.append(word)"
   ]
  },
  {
   "cell_type": "code",
   "execution_count": 17,
   "metadata": {},
   "outputs": [
    {
     "name": "stdout",
     "output_type": "stream",
     "text": [
      "['have', 'both', 'becomes', 'how', 'about', 'here', 'along', 'such', \"'d\", 'everywhere', 'becoming', 'since', 'still', 'make', 'above', 'behind', '’m', 'together', 'could', 'top', 'would', 'while', 'over', 'but', 'nine', 'all', 'which', '’ve', 'if', 'where', 'whereas', 'none', 'to', 'even', 'for', 'beforehand', 'has', 'whole', '‘s', 're', 'namely', 'as', 'us', 'is', 'else', 'his', 'noone', 'nowhere', 'ourselves', 'just', 'its', 'meanwhile', 'show', 'anyway', 'seem', 'this', 'whenever', 'beside', 'yet', 'your', 'fifteen', 'anywhere', 'under', \"'ll\", 'was', 'become', 'down', 'themselves', 'last', 'twelve', 'only', 'hereby', 'few', 'their', \"'m\", 'must', 'he', 'on', 'then', 'until', 'throughout', 'whereupon', 'out', 'put', 'further', 'you', '‘re', 'otherwise', 'therein', 'during', 'same', 'enough', 'had', 'i', 'one', 'side', 'more', 'thru', 'might', 'former', 'full', 'it', 'seeming', 'fifty', 'hereafter', '‘ll', 'back', 'became', 'however', 'latterly', 'hers', 'quite', 'before', 'bottom', 'nobody', 'less', 'sometimes', 'we', 'twenty', 'everything', 'hereupon', 'see', 'once', 'within', 'whether', 'least', '’ll', 'than', 'front', 'me', 'what', 'afterwards', 'whither', 'move', 'seemed', 'whoever', 'does', 'via', 'a', 'herself', 'in', 'hundred', 'due', 'mostly', 'anything', 'whom', 'that', 'please', 'sixty', 'off', 'much', 'thereby', 'am', 'him', 'next', 'were', 'or', 'beyond', 'from', 'elsewhere', 'nevertheless', 'unless', 'almost', 'amount', 'done', 'so', 'anyhow', 'besides', 'after', 'should', 'too', 'them', 'of', 'third', 'indeed', 'into', 'itself', '‘ve', 'either', 'most', 'rather', 'ca', 'up', 'because', 'ours', 'whose', 'anyone', 'eight', 'amongst', 'another', 'by', \"'ve\", 'doing', 'may', 'forty', \"'re\", 'wherever', 'sometime', 'somehow', 'formerly', 'across', 'three', 'moreover', 'herein', 'do', 'yourself', 'whence', 'name', 'thus', 'give', 'ever', 'go', 'these', 'always', 'made', 'against', 'neither', 'yourselves', '’re', 'four', 'among', 'himself', 'several', 'first', 'n‘t', 'say', 'call', 'hence', 'onto', 'others', 'she', 'alone', 'take', '‘m', 'without', 'yours', 'really', 'perhaps', 'through', 'between', 'been', 'something', '’d', 'already', 'somewhere', 'five', 'therefore', 'keep', 'being', 'her', 'and', 'below', 'various', 'mine', 'around', 'also', \"'s\", 'everyone', 'regarding', 'someone', 'own', 'toward', 'often', 'be', 'will', 'our', '‘d', 'two', 'serious', 'latter', 'using', 'there', 'at', 'other', 'every', 'thence', 'whereby', 'n’t', 'whereafter', 'those', 'when', 'very', 'why', 'towards', 'did', 'again', 'except', 'some', 'my', 'each', 'eleven', 'part', 'can', 'used', 'thereafter', 'get', 'ten', 'though', 'myself', \"n't\", 'now', 'empty', 'with', 'who', 'any', 'they', 'an', 'seems', '’s', 'nor', 'six', 'upon', 'per', 'many', 'wherein', 'the', 'are', 'although', 'thereupon', '\\ufeff1', '\\x16', '...', '\\x10once']\n"
     ]
    }
   ],
   "source": [
    "print(stop_words)"
   ]
  },
  {
   "cell_type": "code",
   "execution_count": 18,
   "metadata": {},
   "outputs": [],
   "source": [
    "# remove html entities from docs and\n",
    "# set everything to lowercase\n",
    "def my_preprocessor(doc):\n",
    "    return(unescape(doc).lower())"
   ]
  },
  {
   "cell_type": "code",
   "execution_count": 19,
   "metadata": {},
   "outputs": [],
   "source": [
    "# define custom tokenizers\n",
    "parser = English()\n",
    "def my_tokenizer(sentence):\n",
    "    mytokens = parser(sentence)\n",
    "    mytokens = [word.lemma_.lower().strip() if word.lemma_ != \"-PRON-\" \n",
    "                else word.lower_ for word in mytokens]\n",
    "    mytokens = [word for word in mytokens if word not in stop_words and word not in punctuations]\n",
    "    return mytokens"
   ]
  },
  {
   "cell_type": "code",
   "execution_count": 18,
   "metadata": {},
   "outputs": [],
   "source": [
    "# alternate tokenizer using stemming\n",
    "\n",
    "\n",
    "# parser = English()\n",
    "# def my_tokenizer(sentence):\n",
    "#     mytokens = parser(sentence)\n",
    "#     mytokens = [stem(str(word)).lower().strip() for word in mytokens]\n",
    "#     mytokens = [word for word in mytokens if word not in stop_words and word not in punctuations]\n",
    "#     return mytokens"
   ]
  },
  {
   "cell_type": "code",
   "execution_count": 19,
   "metadata": {},
   "outputs": [],
   "source": [
    "# my_tokenizer(vg.reviewText[33])"
   ]
  },
  {
   "cell_type": "code",
   "execution_count": 20,
   "metadata": {},
   "outputs": [],
   "source": [
    "# create word_list function\n",
    "def get_word_list(text, word_list):\n",
    "    for sentence in text:\n",
    "        for word in my_tokenizer(sentence):\n",
    "            word_list.append(word)"
   ]
  },
  {
   "cell_type": "code",
   "execution_count": 20,
   "metadata": {},
   "outputs": [],
   "source": [
    "# get a list of all words each time they occur in the reviews\n",
    "# word_list = []\n",
    "# for text in vg.reviewText:\n",
    "#     for word in my_tokenizer(text):\n",
    "#         word_list.append(word)"
   ]
  },
  {
   "cell_type": "code",
   "execution_count": null,
   "metadata": {},
   "outputs": [],
   "source": [
    "# try using deque\n",
    "# word_deque = deque()\n",
    "# for text in vg.reviewText:\n",
    "#     for word in my_tokenizer(text):\n",
    "#         word_deque.append(word)"
   ]
  },
  {
   "cell_type": "code",
   "execution_count": null,
   "metadata": {},
   "outputs": [],
   "source": [
    "# try using np array\n",
    "# %%timeit\n",
    "# word_array = np.array()\n",
    "# for text in vg.reviewText:\n",
    "#     for word in my_tokenizer(text):\n",
    "#         word_array = np.append(word_array, word)"
   ]
  },
  {
   "cell_type": "code",
   "execution_count": null,
   "metadata": {},
   "outputs": [],
   "source": [
    "# generate word_list\n",
    "word_list = []\n",
    "%timeit get_word_list(vg.reviewText, word_list)"
   ]
  },
  {
   "cell_type": "code",
   "execution_count": 18,
   "metadata": {},
   "outputs": [
    {
     "data": {
      "text/plain": [
       "['game',\n",
       " 'bite',\n",
       " 'hard',\n",
       " 'hang',\n",
       " 'great',\n",
       " 'play',\n",
       " 'alright',\n",
       " 'steam',\n",
       " 'bite',\n",
       " 'trouble',\n",
       " 'game',\n",
       " 'steam',\n",
       " 'hard',\n",
       " 'time',\n",
       " 'activate',\n",
       " 'play',\n",
       " 'game',\n",
       " 'spite',\n",
       " 'fun',\n",
       " 'like']"
      ]
     },
     "execution_count": 18,
     "metadata": {},
     "output_type": "execute_result"
    }
   ],
   "source": [
    "# inspect the results\n",
    "word_list[:20]"
   ]
  },
  {
   "cell_type": "code",
   "execution_count": 19,
   "metadata": {},
   "outputs": [
    {
     "name": "stdout",
     "output_type": "stream",
     "text": [
      "\\/+b\n",
      "\\/+b\n",
      "\\\"water\n",
      "\\/\n",
      "\\\"water\n",
      "\\control\n",
      "\\jameson\n",
      "\\save_game\n",
      "\\save_game\n",
      "\\load_game\n",
      "\\save_game\n",
      "\\the\n",
      "\\/\\/ords\n",
      "\\(^u^)/\n",
      "\\/\n",
      "\\/\n",
      "\\now\n",
      "\\have\n",
      "\\my\n",
      "\\\\\\\n",
      "\\(^0^)/\n",
      "\\|;;|\n",
      "\\and\n",
      "\\|;;|\n",
      "\\and\n",
      "\\program\n",
      "\\.\n",
      "\\much\n",
      "\\.\n",
      "\\m/\n",
      "\\ps3\\update\n",
      "\\ps3\\savedata\n",
      "\\ps3\\export\\psv\n",
      "\\m/\n",
      "\\m/(>_<)\\m/\n",
      "\\m/\\m/\n",
      "\\/.\\/\n",
      "\\so\n",
      "\\\\=()=//\n",
      "\\m/\n",
      "\\m/\n",
      "\\t/\n",
      "\\[t]/\n",
      "\\best\n",
      "\\_()_/.\n",
      "\\o/\n",
      "\\\"water\n",
      "\\\\\n",
      "\\(^u^)/\n"
     ]
    }
   ],
   "source": [
    "# check for anomalous words that start with a randomly chosen special character\n",
    "for word in word_list:\n",
    "    if word.startswith('\\\\'):\n",
    "        print(word)"
   ]
  },
  {
   "cell_type": "code",
   "execution_count": 20,
   "metadata": {},
   "outputs": [
    {
     "name": "stdout",
     "output_type": "stream",
     "text": [
      "\\/+b\n",
      "\\/+b\n",
      "\\\"water\n",
      "\\/\n",
      "\\\"water\n",
      "\\control\n",
      "\\jameson\n",
      "\\save_game\n",
      "\\save_game\n",
      "\\load_game\n",
      "\\save_game\n",
      "\\the\n",
      "\\/\\/ords\n",
      "\\(^u^)/\n",
      "\\/\n",
      "\\/\n",
      "\\now\n",
      "\\have\n",
      "\\my\n",
      "\\\\\\\n",
      "\\(^0^)/\n",
      "\\|;;|\n",
      "\\and\n",
      "\\|;;|\n",
      "\\and\n",
      "\\program\n",
      "\\.\n",
      "\\much\n",
      "\\.\n",
      "\\m/\n",
      "\\ps3\\update\n",
      "\\ps3\\savedata\n",
      "\\ps3\\export\\psv\n",
      "\\m/\n",
      "\\m/(>_<)\\m/\n",
      "\\m/\\m/\n",
      "\\/.\\/\n",
      "\\so\n",
      "\\\\=()=//\n",
      "\\m/\n",
      "\\m/\n",
      "\\t/\n",
      "\\[t]/\n",
      "\\best\n",
      "\\_()_/.\n",
      "\\o/\n",
      "\\\"water\n",
      "\\\\\n",
      "\\(^u^)/\n"
     ]
    }
   ],
   "source": [
    "# check for anomalous words that start with a randomly chosen special character\n",
    "for word in word_list:\n",
    "    if word.startswith('\\\\'):\n",
    "        print(emoji.demojize(word, use_aliases=True))"
   ]
  },
  {
   "cell_type": "code",
   "execution_count": 21,
   "metadata": {},
   "outputs": [],
   "source": [
    "# create function to replace special chars\n",
    "# def strip_spec_chars(word):\n",
    "#     regex = re.compile('[\\\\\\[\\]@_!#$%^&*()<>?/\\|}{~:]')\n",
    "#     if regex.search(word) == None:\n",
    "#         return word\n",
    "#     else:\n",
    "#         word = word.replace('[', '')\n",
    "#         word = word.replace(']', '')\n",
    "#         word = word.replace('@', '')\n",
    "#         word = word.replace('_', '')\n",
    "#         word = word.replace('!', '')\n",
    "#         word = word.replace('#', '')\n",
    "#         word = word.replace('$', '')\n",
    "#         word = word.replace('%', '')\n",
    "#         word = word.replace('^', '')\n",
    "#         word = word.replace('&', '')\n",
    "#         word = word.replace('*', '')\n",
    "#         word = word.replace('(', '')\n",
    "#         word = word.replace(')', '')\n",
    "#         word = word.replace('<', '')\n",
    "#         word = word.replace('>', '')\n",
    "#         word = word.replace('?', '')\n",
    "#         word = word.replace('/', '')\n",
    "#         word = word.replace('\\\\', '')\n",
    "#         word = word.replace('|', '')\n",
    "#         word = word.replace('}', '')\n",
    "#         word = word.replace('{', '')\n",
    "#         word = word.replace('~', '')\n",
    "#         word = word.replace(':', '')\n",
    "#     if word != '':\n",
    "#         return word"
   ]
  },
  {
   "cell_type": "code",
   "execution_count": 21,
   "metadata": {},
   "outputs": [],
   "source": [
    "# alternate remove chars function\n",
    "def rmv_spec_chars(sentence):\n",
    "    sentence = re.sub(\"[\\\\\\[\\]@_!#$%^&*()<>?/\\|}{~:']\", '', sentence)\n",
    "    sentence = re.sub('-', ' ', sentence)\n",
    "    return sentence"
   ]
  },
  {
   "cell_type": "code",
   "execution_count": 22,
   "metadata": {},
   "outputs": [
    {
     "data": {
      "text/plain": [
       "'This is going  to be a test    train test split'"
      ]
     },
     "execution_count": 22,
     "metadata": {},
     "output_type": "execute_result"
    }
   ],
   "source": [
    "rmv_spec_chars(\"This 'is' going * to be! a test \\/(--)\\/ train-test-split\")"
   ]
  },
  {
   "cell_type": "code",
   "execution_count": 22,
   "metadata": {},
   "outputs": [],
   "source": [
    "#[strip_spec_chars(word) for word in vg.reviewText[20]]"
   ]
  },
  {
   "cell_type": "code",
   "execution_count": 23,
   "metadata": {},
   "outputs": [],
   "source": [
    "# edit tokenizer to deal with tokens with special characters\n",
    "def my_tokenizer(sentence):\n",
    "    sentence = rmv_spec_chars(sentence)\n",
    "    mytokens = parser(sentence)\n",
    "    mytokens = [word.lemma_.lower().strip() if word.lemma_ != \"-PRON-\" \n",
    "                else word.lower_ for word in mytokens]\n",
    "    mytokens = [emoji.demojize(word, use_aliases=True) for word in mytokens \n",
    "                if word not in stop_words and word not in punctuations]\n",
    "    #mytokens = [word for word in mytokens if(regex.search(word) == None)]\n",
    "    #mytokens = [strip_spec_chars(word) for word in mytokens if strip_spec_chars(word) != None]\n",
    "    #mytokens = [word for word in mytokens if word != None]#filter(lambda x: x != None, mytokens)\n",
    "    return mytokens"
   ]
  },
  {
   "cell_type": "code",
   "execution_count": 26,
   "metadata": {},
   "outputs": [],
   "source": [
    "# modified alternate tokenizer using stemming\n",
    "# def my_tokenizer(sentence):\n",
    "#     sentence = rmv_spec_chars(sentence)\n",
    "#     mytokens = parser(sentence)\n",
    "#     mytokens = [stem(str(word)).lower().strip() for word in mytokens]\n",
    "#     mytokens = [emoji.demojize(word, use_aliases=True) for word in mytokens \n",
    "#                 if word not in stop_words and word not in punctuations]\n",
    "#     #mytokens = [word for word in mytokens if(regex.search(word) == None)]\n",
    "#     #mytokens = [strip_spec_chars(word) for word in mytokens if strip_spec_chars(word) != None]\n",
    "#     #mytokens = [word for word in mytokens if word != None]#filter(lambda x: x != None, mytokens)\n",
    "#     return mytokens"
   ]
  },
  {
   "cell_type": "code",
   "execution_count": 24,
   "metadata": {},
   "outputs": [],
   "source": [
    "# get a list of all words each time they occur in the reviews\n",
    "word_list = []\n",
    "get_word_list(vg.reviewText, word_list)"
   ]
  },
  {
   "cell_type": "code",
   "execution_count": 25,
   "metadata": {},
   "outputs": [
    {
     "data": {
      "text/plain": [
       "['game',\n",
       " 'bite',\n",
       " 'hard',\n",
       " 'hang',\n",
       " 'great',\n",
       " 'play',\n",
       " 'alright',\n",
       " 'steam',\n",
       " 'bite',\n",
       " 'trouble',\n",
       " 'game',\n",
       " 'steam',\n",
       " 'hard',\n",
       " 'time',\n",
       " 'activate',\n",
       " 'play',\n",
       " 'game',\n",
       " 'spite',\n",
       " 'fun',\n",
       " 'like']"
      ]
     },
     "execution_count": 25,
     "metadata": {},
     "output_type": "execute_result"
    }
   ],
   "source": [
    "# inspect the results\n",
    "word_list[:20]"
   ]
  },
  {
   "cell_type": "code",
   "execution_count": null,
   "metadata": {},
   "outputs": [],
   "source": []
  },
  {
   "cell_type": "code",
   "execution_count": null,
   "metadata": {},
   "outputs": [],
   "source": []
  },
  {
   "cell_type": "code",
   "execution_count": 26,
   "metadata": {},
   "outputs": [
    {
     "name": "stdout",
     "output_type": "stream",
     "text": [
      "No words fitting regular expression \"regex\"\n"
     ]
    }
   ],
   "source": [
    "# search for any anomalous words\n",
    "regex = re.compile('[\\\\\\[\\]@_!#$%^&*()<>?/\\|}{~:]')\n",
    "for word in word_list:\n",
    "    if regex.search(word) != None:\n",
    "        print('Found at least one anomalous word: ' + word)\n",
    "        break\n",
    "else:\n",
    "    print('No words fitting regular expression \"regex\"')"
   ]
  },
  {
   "cell_type": "code",
   "execution_count": 27,
   "metadata": {},
   "outputs": [],
   "source": [
    "# check for anomalous words that start with a randomly chosen special character\n",
    "for word in word_list:\n",
    "    if word.startswith('\\\\'):\n",
    "        print(word)"
   ]
  },
  {
   "cell_type": "code",
   "execution_count": 28,
   "metadata": {},
   "outputs": [
    {
     "name": "stdout",
     "output_type": "stream",
     "text": [
      "The number of words in the reviews is 27846714\n"
     ]
    }
   ],
   "source": [
    "# display the total number of words included in the vocabulary\n",
    "print('The number of words in the reviews is {}'.format(len(word_list)))"
   ]
  },
  {
   "cell_type": "code",
   "execution_count": 29,
   "metadata": {},
   "outputs": [],
   "source": [
    "# get a count of every word\n",
    "token_counts = Counter(word_list)"
   ]
  },
  {
   "cell_type": "code",
   "execution_count": 30,
   "metadata": {},
   "outputs": [
    {
     "data": {
      "text/plain": [
       "collections.Counter"
      ]
     },
     "execution_count": 30,
     "metadata": {},
     "output_type": "execute_result"
    }
   ],
   "source": [
    "type(token_counts)"
   ]
  },
  {
   "cell_type": "code",
   "execution_count": 31,
   "metadata": {},
   "outputs": [
    {
     "data": {
      "text/plain": [
       "0"
      ]
     },
     "execution_count": 31,
     "metadata": {},
     "output_type": "execute_result"
    }
   ],
   "source": [
    "token_counts['\\x10once']"
   ]
  },
  {
   "cell_type": "code",
   "execution_count": 32,
   "metadata": {},
   "outputs": [
    {
     "data": {
      "text/plain": [
       "[('game', 1269540),\n",
       " ('not', 779101),\n",
       " ('play', 392038),\n",
       " ('like', 312056),\n",
       " ('good', 300752),\n",
       " ('time', 210322),\n",
       " ('great', 204217),\n",
       " ('well', 175132),\n",
       " ('use', 163086),\n",
       " ('fun', 157620),\n",
       " ('no', 137469),\n",
       " ('little', 119941),\n",
       " ('character', 119473),\n",
       " ('buy', 118731),\n",
       " ('new', 114251),\n",
       " ('2', 113918),\n",
       " ('look', 112552),\n",
       " ('story', 109687),\n",
       " ('thing', 108672),\n",
       " ('love', 108454)]"
      ]
     },
     "execution_count": 32,
     "metadata": {},
     "output_type": "execute_result"
    }
   ],
   "source": [
    "token_counts.most_common(20)"
   ]
  },
  {
   "cell_type": "code",
   "execution_count": 33,
   "metadata": {},
   "outputs": [
    {
     "name": "stdout",
     "output_type": "stream",
     "text": [
      "The total number of unique words is 252075\n"
     ]
    }
   ],
   "source": [
    "print('The total number of unique words is {}'.format(len(token_counts)))"
   ]
  },
  {
   "cell_type": "code",
   "execution_count": 34,
   "metadata": {},
   "outputs": [
    {
     "data": {
      "image/png": "[encoded data removed]",
      "text/plain": [
       "<Figure size 432x288 with 1 Axes>"
      ]
     },
     "metadata": {
      "needs_background": "light"
     },
     "output_type": "display_data"
    }
   ],
   "source": [
    "# create histogram of word appearances\n",
    "# most words occur infrequently, so threshold for num influences this plot greatly\n",
    "values = []\n",
    "for tup in token_counts.most_common():\n",
    "    word, num = tup\n",
    "    if num > 10000:\n",
    "        values.append(num)\n",
    "_ = plt.hist(values, bins=100)"
   ]
  },
  {
   "cell_type": "code",
   "execution_count": 31,
   "metadata": {},
   "outputs": [],
   "source": [
    "# most words appear very infrequently"
   ]
  },
  {
   "cell_type": "code",
   "execution_count": 35,
   "metadata": {},
   "outputs": [
    {
     "data": {
      "image/png": "[encoded data removed]",
      "text/plain": [
       "<Figure size 432x288 with 1 Axes>"
      ]
     },
     "metadata": {
      "needs_background": "light"
     },
     "output_type": "display_data"
    }
   ],
   "source": [
    "# plot the 20 most common words\n",
    "words = []\n",
    "values = []\n",
    "for tup in token_counts.most_common(20):\n",
    "    word, num = tup\n",
    "    words.append(word)\n",
    "    values.append(num)\n",
    "_ = sns.barplot(words, values, palette='muted')\n",
    "_ = plt.xticks(rotation=90)\n",
    "_ = plt.title('20 Most Common Words')\n",
    "_ = plt.xlabel('Word')\n",
    "_ = plt.ylabel('Occurrences')"
   ]
  },
  {
   "cell_type": "code",
   "execution_count": 36,
   "metadata": {},
   "outputs": [
    {
     "name": "stdout",
     "output_type": "stream",
     "text": [
      "['buy', 'age', 'wonders', 'come', 'game', 'opinion', 'well', 'computer', 'fantasy', 'war', 'game', 'option', 'different', 'race', 'seven', 'different', 'sphere', 'magic', 'definitely', 'plenty', 'diversity', 'replay', 'value', 'game', 'spell', 'effect', 'charm', 'musical', 'score', 'beautiful', 'single', 'player', 'campaign', 'great', 'story', 'line', 'multi', 'player', 'aspect', 'single', 'scenario', 'good', 'develope', 'heroes', 'customizable', 'choose', 'actually', 'hero', 'represent', 'play', 'field', 'good', 'die', 'lose', 'thing', 'change', 'game', 'unit', 'icon', 'honest', 'artwork', 'icon', 'little', 'lack', 'like', 'rush', 'product', 'gate', 'age', 'wonders', 'awesome', 'game', 'definitely', 'look', 'forward', 'age', 'wonders', '2']\n"
     ]
    }
   ],
   "source": [
    "# character decoding issues?\n",
    "# seems to be solved using regex\n",
    "print(my_tokenizer(vg.reviewText[6541]))"
   ]
  },
  {
   "cell_type": "code",
   "execution_count": 37,
   "metadata": {},
   "outputs": [],
   "source": [
    "# add game to stop_words\n",
    "stop_words.append('game')"
   ]
  },
  {
   "cell_type": "code",
   "execution_count": 38,
   "metadata": {},
   "outputs": [],
   "source": [
    "# get a count of the number of reviews where a word appears\n",
    "num_docs = defaultdict(int)\n",
    "for text in vg.reviewText:\n",
    "    ls = []\n",
    "    for word in my_tokenizer(text):\n",
    "        if word not in ls:\n",
    "            ls.append(word)\n",
    "    for x in ls:\n",
    "        num_docs[x] += 1"
   ]
  },
  {
   "cell_type": "code",
   "execution_count": null,
   "metadata": {},
   "outputs": [],
   "source": []
  },
  {
   "cell_type": "code",
   "execution_count": 39,
   "metadata": {},
   "outputs": [],
   "source": [
    "# store a list of the number of appearances for each word\n",
    "apps = []\n",
    "for key, val in num_docs.items():\n",
    "    apps.append(val)"
   ]
  },
  {
   "cell_type": "code",
   "execution_count": 40,
   "metadata": {},
   "outputs": [
    {
     "data": {
      "image/png": "[encoded data removed]",
      "text/plain": [
       "<Figure size 432x288 with 1 Axes>"
      ]
     },
     "metadata": {
      "needs_background": "light"
     },
     "output_type": "display_data"
    }
   ],
   "source": [
    "# plot the cdf for the number of reviews where each word appears\n",
    "_ = plt.hist(apps, cumulative=True, histtype='step', density=True, bins=np.arange(100))\n",
    "_ = plt.xlim(0,25)\n",
    "_ = plt.xlabel('Number of Docs')\n",
    "_ = plt.ylabel('Cumulative Density')\n",
    "_ = plt.title('Density of Words Appearing \\nin at Least X Reviews')"
   ]
  },
  {
   "cell_type": "code",
   "execution_count": null,
   "metadata": {},
   "outputs": [],
   "source": [
    "# choosing 2 for min_df\n",
    "# even though only about 40% of the non-stop words appear in two or more reviews"
   ]
  },
  {
   "cell_type": "code",
   "execution_count": null,
   "metadata": {},
   "outputs": [],
   "source": []
  },
  {
   "cell_type": "code",
   "execution_count": 41,
   "metadata": {},
   "outputs": [],
   "source": [
    "# import wordcloud\n",
    "from wordcloud import WordCloud"
   ]
  },
  {
   "cell_type": "code",
   "execution_count": 42,
   "metadata": {},
   "outputs": [],
   "source": [
    "# initialize wordcloud object\n",
    "wc = WordCloud(background_color='white', stopwords=stop_words, max_words=200, \n",
    "               max_font_size=40, scale=3, random_state=42)"
   ]
  },
  {
   "cell_type": "code",
   "execution_count": 43,
   "metadata": {},
   "outputs": [
    {
     "data": {
      "text/plain": [
       "<wordcloud.wordcloud.WordCloud at 0x2573131e448>"
      ]
     },
     "execution_count": 43,
     "metadata": {},
     "output_type": "execute_result"
    }
   ],
   "source": [
    "# generate the wordcloud\n",
    "wc.generate(' '.join(word_list))"
   ]
  },
  {
   "cell_type": "code",
   "execution_count": 46,
   "metadata": {},
   "outputs": [
    {
     "data": {
      "image/png": "[encoded data removed]",
      "text/plain": [
       "<Figure size 864x864 with 1 Axes>"
      ]
     },
     "metadata": {
      "needs_background": "light"
     },
     "output_type": "display_data"
    }
   ],
   "source": [
    "fig = plt.figure(1, figsize=(12, 12))\n",
    "plt.axis('off')\n",
    "\n",
    "plt.imshow(wc)\n",
    "plt.show()"
   ]
  },
  {
   "cell_type": "code",
   "execution_count": null,
   "metadata": {},
   "outputs": [],
   "source": [
    "def show_wordcloud(data, title = None):\n",
    "    wordcloud = WordCloud(\n",
    "        background_color='white',\n",
    "        stopwords=stop_words,\n",
    "        max_words=200,\n",
    "        max_font_size=40, \n",
    "        scale=3,\n",
    "        random_state=42\n",
    "    ).generate(str(data))\n",
    "\n",
    "    fig = plt.figure(1, figsize=(12, 12))\n",
    "    plt.axis('off')\n",
    "    if title: \n",
    "        fig.suptitle(title, fontsize=20)\n",
    "        fig.subplots_adjust(top=2.3)\n",
    "\n",
    "    plt.imshow(wordcloud)\n",
    "    plt.show()\n",
    "\n",
    "show_wordcloud(word_list)"
   ]
  },
  {
   "cell_type": "code",
   "execution_count": null,
   "metadata": {},
   "outputs": [],
   "source": []
  },
  {
   "cell_type": "code",
   "execution_count": null,
   "metadata": {},
   "outputs": [],
   "source": []
  },
  {
   "cell_type": "code",
   "execution_count": 21,
   "metadata": {},
   "outputs": [],
   "source": [
    "# split the data for fasttext\n",
    "train_text, test_text, train_labels, test_labels = train_test_split(vg.reviewText, \n",
    "                                                                    vg.ft_sentiment, \n",
    "                                                                    test_size=0.25,\n",
    "                                                                    random_state=42, \n",
    "                                                                    stratify=vg.ft_sentiment)"
   ]
  },
  {
   "cell_type": "code",
   "execution_count": 22,
   "metadata": {},
   "outputs": [],
   "source": [
    "# split the training data into train and validation for hyperparameter tuning\n",
    "train_text, valid_text, train_labels, valid_labels = train_test_split(train_text, train_labels, \n",
    "                                                                      test_size=0.25,\n",
    "                                                                      random_state=42, \n",
    "                                                                      stratify=train_labels)"
   ]
  },
  {
   "cell_type": "code",
   "execution_count": 23,
   "metadata": {},
   "outputs": [
    {
     "data": {
      "text/plain": [
       "(279798,)"
      ]
     },
     "execution_count": 23,
     "metadata": {},
     "output_type": "execute_result"
    }
   ],
   "source": [
    "train_text.shape"
   ]
  },
  {
   "cell_type": "code",
   "execution_count": 24,
   "metadata": {},
   "outputs": [
    {
     "data": {
      "text/plain": [
       "pandas.core.series.Series"
      ]
     },
     "execution_count": 24,
     "metadata": {},
     "output_type": "execute_result"
    }
   ],
   "source": [
    "type(train_text)"
   ]
  },
  {
   "cell_type": "code",
   "execution_count": 25,
   "metadata": {},
   "outputs": [
    {
     "data": {
      "text/plain": [
       "Int64Index([218055, 260506, 495846, 446837, 80402], dtype='int64')"
      ]
     },
     "execution_count": 25,
     "metadata": {},
     "output_type": "execute_result"
    }
   ],
   "source": [
    "train_text.index[:5]"
   ]
  },
  {
   "cell_type": "code",
   "execution_count": 26,
   "metadata": {},
   "outputs": [
    {
     "data": {
      "text/plain": [
       "Int64Index([218055, 260506, 495846, 446837, 80402], dtype='int64')"
      ]
     },
     "execution_count": 26,
     "metadata": {},
     "output_type": "execute_result"
    }
   ],
   "source": [
    "train_labels.index[:5]"
   ]
  },
  {
   "cell_type": "code",
   "execution_count": 27,
   "metadata": {},
   "outputs": [
    {
     "data": {
      "text/plain": [
       "'Pretty good helicopter game.  Realistic mode is very challenging even for a pilot like me.  My main chopper was a Huey Cobra, circa 1968 in Viet Nam, but this game is pretty well done.  Sure wish we had Sidewinders & Hellcats back then.'"
      ]
     },
     "execution_count": 27,
     "metadata": {},
     "output_type": "execute_result"
    }
   ],
   "source": [
    "str.replace(train_text[218055], '\\n', ' ')"
   ]
  },
  {
   "cell_type": "code",
   "execution_count": 28,
   "metadata": {},
   "outputs": [
    {
     "data": {
      "text/plain": [
       "'__label__2 '"
      ]
     },
     "execution_count": 28,
     "metadata": {},
     "output_type": "execute_result"
    }
   ],
   "source": [
    "train_labels[218055]"
   ]
  },
  {
   "cell_type": "code",
   "execution_count": 29,
   "metadata": {},
   "outputs": [
    {
     "data": {
      "text/plain": [
       "pandas.core.series.Series"
      ]
     },
     "execution_count": 29,
     "metadata": {},
     "output_type": "execute_result"
    }
   ],
   "source": [
    "type(valid_text)"
   ]
  },
  {
   "cell_type": "code",
   "execution_count": 30,
   "metadata": {},
   "outputs": [
    {
     "data": {
      "text/plain": [
       "(93266,)"
      ]
     },
     "execution_count": 30,
     "metadata": {},
     "output_type": "execute_result"
    }
   ],
   "source": [
    "valid_text.shape"
   ]
  },
  {
   "cell_type": "code",
   "execution_count": null,
   "metadata": {},
   "outputs": [],
   "source": []
  },
  {
   "cell_type": "code",
   "execution_count": null,
   "metadata": {},
   "outputs": [],
   "source": []
  },
  {
   "cell_type": "code",
   "execution_count": null,
   "metadata": {},
   "outputs": [],
   "source": [
    "# process using fasttext\n",
    "# prepare the text and labels for fasttext processing\n",
    "# text = ''\n",
    "# max_idx = max(vg.index.values)\n",
    "# for idx in vg.index.values:\n",
    "#     text += vg.loc[idx, 'ft_sentiment']\n",
    "#     text += vg.loc[idx, 'reviewText']\n",
    "#     text += '\\n'\n",
    "#     #if idx < max_idx:\n",
    "#     #    text += '\\n'"
   ]
  },
  {
   "cell_type": "code",
   "execution_count": 31,
   "metadata": {},
   "outputs": [
    {
     "name": "stdout",
     "output_type": "stream",
     "text": [
      "File already created.\n"
     ]
    }
   ],
   "source": [
    "# write to file instead of to long text string\n",
    "import os.path\n",
    "\n",
    "max_idx = max(train_text.index.values)\n",
    "\n",
    "if os.path.isfile('train.txt'):\n",
    "    print (\"File already created.\")\n",
    "else:\n",
    "    with open('train.txt', 'w') as file:\n",
    "        for idx in train_text.index.values:\n",
    "            line = ''\n",
    "            line += train_labels[idx]\n",
    "            line += str.replace(train_text[idx], '\\n', ' ')\n",
    "            line += '\\n'\n",
    "            file.write(line)"
   ]
  },
  {
   "cell_type": "code",
   "execution_count": 32,
   "metadata": {},
   "outputs": [
    {
     "name": "stdout",
     "output_type": "stream",
     "text": [
      "File already created.\n"
     ]
    }
   ],
   "source": [
    "import os.path\n",
    "\n",
    "max_idx = max(valid_text.index.values)\n",
    "\n",
    "if os.path.isfile('valid.txt'):\n",
    "    print (\"File already created.\")\n",
    "else:\n",
    "    with open('valid.txt', 'w') as file:\n",
    "        for idx in valid_text.index.values:\n",
    "            line = ''\n",
    "            line += valid_labels[idx]\n",
    "            line += str.replace(valid_text[idx], '\\n', ' ')\n",
    "            line += '\\n'\n",
    "            file.write(line)"
   ]
  },
  {
   "cell_type": "code",
   "execution_count": 33,
   "metadata": {},
   "outputs": [
    {
     "name": "stdout",
     "output_type": "stream",
     "text": [
      "File already created.\n"
     ]
    }
   ],
   "source": [
    "# write to file instead of to long text string\n",
    "import os.path\n",
    "\n",
    "max_idx = max(test_text.index.values)\n",
    "\n",
    "if os.path.isfile('test.txt'):\n",
    "    print (\"File already created.\")\n",
    "else:\n",
    "    with open('test.txt', 'w') as file:\n",
    "        for idx in test_text.index.values:\n",
    "            line = ''\n",
    "            line += test_labels[idx]\n",
    "            line += str.replace(test_text[idx], '\\n', ' ')\n",
    "            line += '\\n'\n",
    "            file.write(line)"
   ]
  },
  {
   "cell_type": "code",
   "execution_count": 71,
   "metadata": {},
   "outputs": [
    {
     "name": "stdout",
     "output_type": "stream",
     "text": [
      "Help on package fasttext:\n",
      "\n",
      "NAME\n",
      "    fasttext\n",
      "\n",
      "PACKAGE CONTENTS\n",
      "    fasttext\n",
      "    model\n",
      "\n",
      "FUNCTIONS\n",
      "    cbow(...)\n",
      "    \n",
      "    load_model(...)\n",
      "    \n",
      "    skipgram(...)\n",
      "    \n",
      "    supervised(...)\n",
      "\n",
      "DATA\n",
      "    __VERSION__ = '0.8.3'\n",
      "\n",
      "FILE\n",
      "    c:\\programdata\\anaconda3\\lib\\site-packages\\fasttext\\__init__.py\n",
      "\n",
      "\n"
     ]
    }
   ],
   "source": [
    "help(fasttext)"
   ]
  },
  {
   "cell_type": "code",
   "execution_count": 51,
   "metadata": {},
   "outputs": [],
   "source": [
    "# load the pretrained model\n",
    "#model = fasttext.load_model('model.bin')"
   ]
  },
  {
   "cell_type": "code",
   "execution_count": 38,
   "metadata": {},
   "outputs": [],
   "source": [
    "model = fasttext.supervised('train.txt', 'model', label_prefix='__label__')"
   ]
  },
  {
   "cell_type": "code",
   "execution_count": 52,
   "metadata": {},
   "outputs": [
    {
     "name": "stdout",
     "output_type": "stream",
     "text": [
      "Precision: 0.8444694624261188\n",
      "Recall: 0.8444694624261188\n",
      "Number of examples: 124355\n"
     ]
    }
   ],
   "source": [
    "result = model.test('test.txt')\n",
    "print('Precision:', result.precision)\n",
    "print('Recall:', result.recall)\n",
    "print('Number of examples:', result.nexamples)"
   ]
  },
  {
   "cell_type": "code",
   "execution_count": 49,
   "metadata": {},
   "outputs": [],
   "source": [
    "y_pred = model.predict('This was a horrible game')"
   ]
  },
  {
   "cell_type": "code",
   "execution_count": null,
   "metadata": {},
   "outputs": [],
   "source": []
  },
  {
   "cell_type": "code",
   "execution_count": 43,
   "metadata": {},
   "outputs": [],
   "source": [
    "from sklearn.metrics import roc_curve, roc_auc_score, confusion_matrix, classification_report\n",
    "from sklearn.metrics import precision_recall_curve"
   ]
  },
  {
   "cell_type": "code",
   "execution_count": 46,
   "metadata": {},
   "outputs": [
    {
     "ename": "ValueError",
     "evalue": "Found input variables with inconsistent numbers of samples: [124355, 8]",
     "output_type": "error",
     "traceback": [
      "\u001b[1;31m---------------------------------------------------------------------------\u001b[0m",
      "\u001b[1;31mValueError\u001b[0m                                Traceback (most recent call last)",
      "\u001b[1;32m<ipython-input-46-52e744e8e499>\u001b[0m in \u001b[0;36m<module>\u001b[1;34m()\u001b[0m\n\u001b[0;32m      1\u001b[0m \u001b[1;31m# print the confusion matrix\u001b[0m\u001b[1;33m\u001b[0m\u001b[1;33m\u001b[0m\u001b[1;33m\u001b[0m\u001b[0m\n\u001b[1;32m----> 2\u001b[1;33m \u001b[0mprint\u001b[0m\u001b[1;33m(\u001b[0m\u001b[0mconfusion_matrix\u001b[0m\u001b[1;33m(\u001b[0m\u001b[0mtest_labels\u001b[0m\u001b[1;33m,\u001b[0m \u001b[0my_pred\u001b[0m\u001b[1;33m)\u001b[0m\u001b[1;33m)\u001b[0m\u001b[1;33m\u001b[0m\u001b[1;33m\u001b[0m\u001b[0m\n\u001b[0m\u001b[0;32m      3\u001b[0m \u001b[0mtn\u001b[0m\u001b[1;33m,\u001b[0m \u001b[0mfp\u001b[0m\u001b[1;33m,\u001b[0m \u001b[0mfn\u001b[0m\u001b[1;33m,\u001b[0m \u001b[0mtp\u001b[0m \u001b[1;33m=\u001b[0m \u001b[0mconfusion_matrix\u001b[0m\u001b[1;33m(\u001b[0m\u001b[0mtest_labels\u001b[0m\u001b[1;33m,\u001b[0m \u001b[0my_pred\u001b[0m\u001b[1;33m)\u001b[0m\u001b[1;33m.\u001b[0m\u001b[0mravel\u001b[0m\u001b[1;33m(\u001b[0m\u001b[1;33m)\u001b[0m\u001b[1;33m\u001b[0m\u001b[1;33m\u001b[0m\u001b[0m\n\u001b[0;32m      4\u001b[0m \u001b[0mdr\u001b[0m \u001b[1;33m=\u001b[0m \u001b[0mtp\u001b[0m \u001b[1;33m/\u001b[0m \u001b[1;33m(\u001b[0m\u001b[0mtp\u001b[0m \u001b[1;33m+\u001b[0m \u001b[0mfn\u001b[0m\u001b[1;33m)\u001b[0m\u001b[1;33m\u001b[0m\u001b[1;33m\u001b[0m\u001b[0m\n\u001b[0;32m      5\u001b[0m \u001b[0mfpr\u001b[0m \u001b[1;33m=\u001b[0m \u001b[0mfp\u001b[0m \u001b[1;33m/\u001b[0m \u001b[1;33m(\u001b[0m\u001b[0mfp\u001b[0m \u001b[1;33m+\u001b[0m \u001b[0mtn\u001b[0m\u001b[1;33m)\u001b[0m\u001b[1;33m\u001b[0m\u001b[1;33m\u001b[0m\u001b[0m\n",
      "\u001b[1;32mC:\\ProgramData\\Anaconda3\\lib\\site-packages\\sklearn\\metrics\\classification.py\u001b[0m in \u001b[0;36mconfusion_matrix\u001b[1;34m(y_true, y_pred, labels, sample_weight)\u001b[0m\n\u001b[0;32m    251\u001b[0m \u001b[1;33m\u001b[0m\u001b[0m\n\u001b[0;32m    252\u001b[0m     \"\"\"\n\u001b[1;32m--> 253\u001b[1;33m     \u001b[0my_type\u001b[0m\u001b[1;33m,\u001b[0m \u001b[0my_true\u001b[0m\u001b[1;33m,\u001b[0m \u001b[0my_pred\u001b[0m \u001b[1;33m=\u001b[0m \u001b[0m_check_targets\u001b[0m\u001b[1;33m(\u001b[0m\u001b[0my_true\u001b[0m\u001b[1;33m,\u001b[0m \u001b[0my_pred\u001b[0m\u001b[1;33m)\u001b[0m\u001b[1;33m\u001b[0m\u001b[1;33m\u001b[0m\u001b[0m\n\u001b[0m\u001b[0;32m    254\u001b[0m     \u001b[1;32mif\u001b[0m \u001b[0my_type\u001b[0m \u001b[1;32mnot\u001b[0m \u001b[1;32min\u001b[0m \u001b[1;33m(\u001b[0m\u001b[1;34m\"binary\"\u001b[0m\u001b[1;33m,\u001b[0m \u001b[1;34m\"multiclass\"\u001b[0m\u001b[1;33m)\u001b[0m\u001b[1;33m:\u001b[0m\u001b[1;33m\u001b[0m\u001b[1;33m\u001b[0m\u001b[0m\n\u001b[0;32m    255\u001b[0m         \u001b[1;32mraise\u001b[0m \u001b[0mValueError\u001b[0m\u001b[1;33m(\u001b[0m\u001b[1;34m\"%s is not supported\"\u001b[0m \u001b[1;33m%\u001b[0m \u001b[0my_type\u001b[0m\u001b[1;33m)\u001b[0m\u001b[1;33m\u001b[0m\u001b[1;33m\u001b[0m\u001b[0m\n",
      "\u001b[1;32mC:\\ProgramData\\Anaconda3\\lib\\site-packages\\sklearn\\metrics\\classification.py\u001b[0m in \u001b[0;36m_check_targets\u001b[1;34m(y_true, y_pred)\u001b[0m\n\u001b[0;32m     69\u001b[0m     \u001b[0my_pred\u001b[0m \u001b[1;33m:\u001b[0m \u001b[0marray\u001b[0m \u001b[1;32mor\u001b[0m \u001b[0mindicator\u001b[0m \u001b[0mmatrix\u001b[0m\u001b[1;33m\u001b[0m\u001b[1;33m\u001b[0m\u001b[0m\n\u001b[0;32m     70\u001b[0m     \"\"\"\n\u001b[1;32m---> 71\u001b[1;33m     \u001b[0mcheck_consistent_length\u001b[0m\u001b[1;33m(\u001b[0m\u001b[0my_true\u001b[0m\u001b[1;33m,\u001b[0m \u001b[0my_pred\u001b[0m\u001b[1;33m)\u001b[0m\u001b[1;33m\u001b[0m\u001b[1;33m\u001b[0m\u001b[0m\n\u001b[0m\u001b[0;32m     72\u001b[0m     \u001b[0mtype_true\u001b[0m \u001b[1;33m=\u001b[0m \u001b[0mtype_of_target\u001b[0m\u001b[1;33m(\u001b[0m\u001b[0my_true\u001b[0m\u001b[1;33m)\u001b[0m\u001b[1;33m\u001b[0m\u001b[1;33m\u001b[0m\u001b[0m\n\u001b[0;32m     73\u001b[0m     \u001b[0mtype_pred\u001b[0m \u001b[1;33m=\u001b[0m \u001b[0mtype_of_target\u001b[0m\u001b[1;33m(\u001b[0m\u001b[0my_pred\u001b[0m\u001b[1;33m)\u001b[0m\u001b[1;33m\u001b[0m\u001b[1;33m\u001b[0m\u001b[0m\n",
      "\u001b[1;32mC:\\ProgramData\\Anaconda3\\lib\\site-packages\\sklearn\\utils\\validation.py\u001b[0m in \u001b[0;36mcheck_consistent_length\u001b[1;34m(*arrays)\u001b[0m\n\u001b[0;32m    203\u001b[0m     \u001b[1;32mif\u001b[0m \u001b[0mlen\u001b[0m\u001b[1;33m(\u001b[0m\u001b[0muniques\u001b[0m\u001b[1;33m)\u001b[0m \u001b[1;33m>\u001b[0m \u001b[1;36m1\u001b[0m\u001b[1;33m:\u001b[0m\u001b[1;33m\u001b[0m\u001b[1;33m\u001b[0m\u001b[0m\n\u001b[0;32m    204\u001b[0m         raise ValueError(\"Found input variables with inconsistent numbers of\"\n\u001b[1;32m--> 205\u001b[1;33m                          \" samples: %r\" % [int(l) for l in lengths])\n\u001b[0m\u001b[0;32m    206\u001b[0m \u001b[1;33m\u001b[0m\u001b[0m\n\u001b[0;32m    207\u001b[0m \u001b[1;33m\u001b[0m\u001b[0m\n",
      "\u001b[1;31mValueError\u001b[0m: Found input variables with inconsistent numbers of samples: [124355, 8]"
     ]
    }
   ],
   "source": [
    "# print the confusion matrix\n",
    "print(confusion_matrix(test_labels, y_pred))\n",
    "tn, fp, fn, tp = confusion_matrix(test_labels, y_pred).ravel()\n",
    "dr = tp / (tp + fn)\n",
    "fpr = fp / (fp + tn)\n",
    "print('True Negatives: {}'.format(tn))\n",
    "print('False Positives: {}'.format(fp))\n",
    "print('False Negatives: {}'.format(fn))\n",
    "print('True Positives: {}'.format(tp))\n",
    "print('Detection Rate: {}'.format(dr))\n",
    "print('False Positive Rate: {}'.format(fpr))"
   ]
  },
  {
   "cell_type": "code",
   "execution_count": null,
   "metadata": {},
   "outputs": [],
   "source": []
  },
  {
   "cell_type": "code",
   "execution_count": null,
   "metadata": {},
   "outputs": [],
   "source": []
  },
  {
   "cell_type": "code",
   "execution_count": null,
   "metadata": {},
   "outputs": [],
   "source": []
  },
  {
   "cell_type": "code",
   "execution_count": null,
   "metadata": {},
   "outputs": [],
   "source": []
  },
  {
   "cell_type": "code",
   "execution_count": 71,
   "metadata": {},
   "outputs": [],
   "source": [
    "# create vectorizer\n",
    "vectorizer = CountVectorizer(min_df=2, analyzer='word', decode_error='replace', \n",
    "                             preprocessor=my_preprocessor, tokenizer=my_tokenizer)"
   ]
  },
  {
   "cell_type": "code",
   "execution_count": 72,
   "metadata": {},
   "outputs": [],
   "source": [
    "# fit_transform the data\n",
    "# vectorizer.fit(vg.reviewText.values)\n",
    "# X_vec = vectorizer.transform(vg.reviewText.values)\n",
    "X_vec = vectorizer.fit_transform(vg.reviewText.values)\n",
    "X_vec = X_vec.tocsc()"
   ]
  },
  {
   "cell_type": "code",
   "execution_count": 73,
   "metadata": {},
   "outputs": [
    {
     "name": "stdout",
     "output_type": "stream",
     "text": [
      "The number of words meeting selection criteria in the text data is 95064\n"
     ]
    }
   ],
   "source": [
    "# show the number of words meeting selection criteria\n",
    "print('The number of words meeting selection criteria in the text data is {}'.format(X_vec.shape[1]))"
   ]
  },
  {
   "cell_type": "code",
   "execution_count": 74,
   "metadata": {},
   "outputs": [
    {
     "data": {
      "text/plain": [
       "(497419, 95064)"
      ]
     },
     "execution_count": 74,
     "metadata": {},
     "output_type": "execute_result"
    }
   ],
   "source": [
    "X_vec.shape"
   ]
  },
  {
   "cell_type": "code",
   "execution_count": 75,
   "metadata": {},
   "outputs": [],
   "source": [
    "# get the words from the vocabulary\n",
    "words = np.array(vectorizer.get_feature_names())"
   ]
  },
  {
   "cell_type": "code",
   "execution_count": 76,
   "metadata": {},
   "outputs": [
    {
     "data": {
      "text/plain": [
       "95064"
      ]
     },
     "execution_count": 76,
     "metadata": {},
     "output_type": "execute_result"
    }
   ],
   "source": [
    "len(words)"
   ]
  },
  {
   "cell_type": "code",
   "execution_count": 86,
   "metadata": {},
   "outputs": [
    {
     "name": "stdout",
     "output_type": "stream",
     "text": [
      "\"----nope\n",
      "3-lap\n",
      "majot\n",
      "hovertanks\n",
      "maybeless\n",
      "sinister\n"
     ]
    }
   ],
   "source": [
    "# still some misspellings, but they show up at least twice!\n",
    "print(words[4])\n",
    "print(words[5465])\n",
    "print(words[54545])\n",
    "print(words[44599])\n",
    "print(words[55465])\n",
    "print(words[77121])"
   ]
  },
  {
   "cell_type": "code",
   "execution_count": 81,
   "metadata": {},
   "outputs": [
    {
     "data": {
      "text/plain": [
       "'\\x10once'"
      ]
     },
     "execution_count": 81,
     "metadata": {},
     "output_type": "execute_result"
    }
   ],
   "source": [
    "words[0]"
   ]
  },
  {
   "cell_type": "code",
   "execution_count": 24,
   "metadata": {},
   "outputs": [],
   "source": [
    "# create a dataframe from the X array for summary stats\n",
    "# memory error\n",
    "#df = ks.DataFrame(X_vec.toarray())"
   ]
  },
  {
   "cell_type": "code",
   "execution_count": 25,
   "metadata": {},
   "outputs": [],
   "source": [
    "# create a dataframe to hold the number of reviews a word appears in\n",
    "# num_appear = []\n",
    "# tot = X_vec.shape[0]\n",
    "# for i in range(X_vec.shape[1]):\n",
    "#     num_appear.append(np.sum(X_vec!=0))\n",
    "#     apps = np.array(num_appear)\n",
    "#counts_df = pd.DataFrame({'apps': apps})"
   ]
  },
  {
   "cell_type": "code",
   "execution_count": 37,
   "metadata": {},
   "outputs": [
    {
     "data": {
      "text/plain": [
       "dtype('<U2625')"
      ]
     },
     "execution_count": 37,
     "metadata": {},
     "output_type": "execute_result"
    }
   ],
   "source": [
    "# what is this dtype??\n",
    "words.dtype"
   ]
  },
  {
   "cell_type": "code",
   "execution_count": 26,
   "metadata": {},
   "outputs": [],
   "source": [
    "# I think this will give me the vector I want (the sum of all columns)\n",
    "apps = np.sum(X_vec!=0, axis=0)"
   ]
  },
  {
   "cell_type": "code",
   "execution_count": 27,
   "metadata": {},
   "outputs": [
    {
     "data": {
      "text/plain": [
       "(1, 228890)"
      ]
     },
     "execution_count": 27,
     "metadata": {},
     "output_type": "execute_result"
    }
   ],
   "source": [
    "apps.shape"
   ]
  },
  {
   "cell_type": "code",
   "execution_count": 28,
   "metadata": {},
   "outputs": [
    {
     "data": {
      "text/plain": [
       "matrix([[    1,     2,     1, ...,     1,     3, 75225]])"
      ]
     },
     "execution_count": 28,
     "metadata": {},
     "output_type": "execute_result"
    }
   ],
   "source": [
    "apps[0]"
   ]
  },
  {
   "cell_type": "code",
   "execution_count": null,
   "metadata": {},
   "outputs": [],
   "source": [
    "# testing some np functions below"
   ]
  },
  {
   "cell_type": "code",
   "execution_count": 181,
   "metadata": {},
   "outputs": [],
   "source": [
    "d = np.array([1, 0, 0, 4, 5, 0])"
   ]
  },
  {
   "cell_type": "code",
   "execution_count": null,
   "metadata": {},
   "outputs": [],
   "source": [
    "d!=0"
   ]
  },
  {
   "cell_type": "code",
   "execution_count": null,
   "metadata": {},
   "outputs": [],
   "source": []
  },
  {
   "cell_type": "code",
   "execution_count": 106,
   "metadata": {},
   "outputs": [],
   "source": [
    "# return the indices for the most common words\n",
    "# get the total number of appearances of each word\n",
    "#x = np.eye(X_vec.shape[1])\n",
    "count_vec=X_vec.sum(axis=0)[0, :]\n",
    "idxs = np.argsort(count_vec)"
   ]
  },
  {
   "cell_type": "code",
   "execution_count": null,
   "metadata": {},
   "outputs": [],
   "source": []
  },
  {
   "cell_type": "code",
   "execution_count": null,
   "metadata": {},
   "outputs": [],
   "source": []
  },
  {
   "cell_type": "code",
   "execution_count": null,
   "metadata": {},
   "outputs": [],
   "source": []
  },
  {
   "cell_type": "code",
   "execution_count": null,
   "metadata": {},
   "outputs": [],
   "source": []
  },
  {
   "cell_type": "code",
   "execution_count": null,
   "metadata": {},
   "outputs": [],
   "source": []
  },
  {
   "cell_type": "code",
   "execution_count": 20,
   "metadata": {},
   "outputs": [],
   "source": [
    "# get the total number of appearances of each word\n",
    "count_vec=X_vec.sum(axis=0)"
   ]
  },
  {
   "cell_type": "code",
   "execution_count": 21,
   "metadata": {},
   "outputs": [
    {
     "data": {
      "text/plain": [
       "(1, 231626)"
      ]
     },
     "execution_count": 21,
     "metadata": {},
     "output_type": "execute_result"
    }
   ],
   "source": [
    "count_vec.shape"
   ]
  },
  {
   "cell_type": "code",
   "execution_count": 54,
   "metadata": {},
   "outputs": [
    {
     "data": {
      "text/plain": [
       "231626"
      ]
     },
     "execution_count": 54,
     "metadata": {},
     "output_type": "execute_result"
    }
   ],
   "source": [
    "for key, value in vectorizer.vocabulary_.items():\n",
    "    for i in range(count_vec.shape[1]):\n",
    "        "
   ]
  },
  {
   "cell_type": "code",
   "execution_count": null,
   "metadata": {},
   "outputs": [],
   "source": []
  },
  {
   "cell_type": "code",
   "execution_count": null,
   "metadata": {},
   "outputs": [],
   "source": []
  },
  {
   "cell_type": "code",
   "execution_count": null,
   "metadata": {},
   "outputs": [],
   "source": []
  },
  {
   "cell_type": "code",
   "execution_count": null,
   "metadata": {},
   "outputs": [],
   "source": []
  },
  {
   "cell_type": "code",
   "execution_count": null,
   "metadata": {},
   "outputs": [],
   "source": []
  },
  {
   "cell_type": "code",
   "execution_count": null,
   "metadata": {},
   "outputs": [],
   "source": [
    "# create tfidf vectorizer\n",
    "tfvectorizer = TfidfVectorizer(tokenizer = my_tokenizer)"
   ]
  },
  {
   "cell_type": "code",
   "execution_count": 14,
   "metadata": {},
   "outputs": [],
   "source": [
    "# process the text from the tfidf vectorizer\n",
    "# .vocabulary_ contains the dictionary of indices and words\n",
    "# get_feature_names() also contains vocabulary\n",
    "X_tfvec = tfvectorizer.fit_transform(vg.reviewText)\n",
    "X_tfvec = X_tfvec.tocsc()"
   ]
  },
  {
   "cell_type": "code",
   "execution_count": null,
   "metadata": {},
   "outputs": [],
   "source": []
  },
  {
   "cell_type": "code",
   "execution_count": null,
   "metadata": {},
   "outputs": [],
   "source": []
  },
  {
   "cell_type": "code",
   "execution_count": null,
   "metadata": {},
   "outputs": [],
   "source": []
  },
  {
   "cell_type": "code",
   "execution_count": null,
   "metadata": {},
   "outputs": [],
   "source": []
  },
  {
   "cell_type": "code",
   "execution_count": 20,
   "metadata": {},
   "outputs": [],
   "source": [
    "# split the data into features and target and train/test split\n",
    "# X = vg.reviewText.values\n",
    "y = vg.overall.values\n",
    "X_train, X_test, y_train, y_test = train_test_split(X_tfvec, y, test_size=0.25, \n",
    "                                                    random_state=42, stratify=y)"
   ]
  },
  {
   "cell_type": "code",
   "execution_count": 21,
   "metadata": {},
   "outputs": [],
   "source": [
    "# upsample the training data\n",
    "train = pd.DataFrame({'overall': y_train, 'review_vector': X_train})"
   ]
  },
  {
   "cell_type": "code",
   "execution_count": 22,
   "metadata": {},
   "outputs": [
    {
     "data": {
      "text/plain": [
       "5    224717\n",
       "4     70233\n",
       "3     36855\n",
       "1     23159\n",
       "2     18100\n",
       "Name: overall, dtype: int64"
      ]
     },
     "execution_count": 22,
     "metadata": {},
     "output_type": "execute_result"
    }
   ],
   "source": [
    "train.overall.value_counts()"
   ]
  },
  {
   "cell_type": "code",
   "execution_count": 23,
   "metadata": {},
   "outputs": [],
   "source": [
    "# keep all of the indexes with a review of 5\n",
    "# generate random samples of the other indexes to equal the value counts of 5\n",
    "# break into pos (4,5), neutral (3), negative (1, 2)\n",
    "train5 = train[train.overall == 5]\n",
    "train4_idxs = np.random.choice(train[train.overall == 4].index, 225000, replace=True)\n",
    "train3_idxs = np.random.choice(train[train.overall == 3].index, 550000, replace=True)\n",
    "train2_idxs = np.random.choice(train[train.overall == 2].index, 225000, replace=True)\n",
    "train1_idxs = np.random.choice(train[train.overall == 1].index, 225000, replace=True)"
   ]
  },
  {
   "cell_type": "code",
   "execution_count": 24,
   "metadata": {},
   "outputs": [
    {
     "data": {
      "text/plain": [
       "5    224717\n",
       "Name: overall, dtype: int64"
      ]
     },
     "execution_count": 24,
     "metadata": {},
     "output_type": "execute_result"
    }
   ],
   "source": [
    "train5.overall.value_counts()"
   ]
  },
  {
   "cell_type": "code",
   "execution_count": 25,
   "metadata": {},
   "outputs": [],
   "source": [
    "# upsample the data\n",
    "train = pd.concat([train5, train.iloc[train1_idxs,:], train.iloc[train2_idxs,:], \n",
    "                   train.iloc[train3_idxs,:], train.iloc[train4_idxs,:]])"
   ]
  },
  {
   "cell_type": "code",
   "execution_count": 26,
   "metadata": {},
   "outputs": [
    {
     "data": {
      "text/plain": [
       "4    225000\n",
       "3    225000\n",
       "2    225000\n",
       "1    225000\n",
       "5    224717\n",
       "Name: overall, dtype: int64"
      ]
     },
     "execution_count": 26,
     "metadata": {},
     "output_type": "execute_result"
    }
   ],
   "source": [
    "train.overall.value_counts()"
   ]
  },
  {
   "cell_type": "code",
   "execution_count": 36,
   "metadata": {},
   "outputs": [
    {
     "data": {
      "text/html": [
       "<div>\n",
       "<style scoped>\n",
       "    .dataframe tbody tr th:only-of-type {\n",
       "        vertical-align: middle;\n",
       "    }\n",
       "\n",
       "    .dataframe tbody tr th {\n",
       "        vertical-align: top;\n",
       "    }\n",
       "\n",
       "    .dataframe thead th {\n",
       "        text-align: right;\n",
       "    }\n",
       "</style>\n",
       "<table border=\"1\" class=\"dataframe\">\n",
       "  <thead>\n",
       "    <tr style=\"text-align: right;\">\n",
       "      <th></th>\n",
       "      <th>overall</th>\n",
       "      <th>review_vector</th>\n",
       "    </tr>\n",
       "  </thead>\n",
       "  <tbody>\n",
       "    <tr>\n",
       "      <th>1</th>\n",
       "      <td>5</td>\n",
       "      <td>(0, 6421)\\t0.04689702090419594\\n  (0, 13519)...</td>\n",
       "    </tr>\n",
       "    <tr>\n",
       "      <th>2</th>\n",
       "      <td>5</td>\n",
       "      <td>(0, 6421)\\t0.04689702090419594\\n  (0, 13519)...</td>\n",
       "    </tr>\n",
       "    <tr>\n",
       "      <th>3</th>\n",
       "      <td>5</td>\n",
       "      <td>(0, 6421)\\t0.04689702090419594\\n  (0, 13519)...</td>\n",
       "    </tr>\n",
       "    <tr>\n",
       "      <th>4</th>\n",
       "      <td>5</td>\n",
       "      <td>(0, 6421)\\t0.04689702090419594\\n  (0, 13519)...</td>\n",
       "    </tr>\n",
       "    <tr>\n",
       "      <th>6</th>\n",
       "      <td>5</td>\n",
       "      <td>(0, 6421)\\t0.04689702090419594\\n  (0, 13519)...</td>\n",
       "    </tr>\n",
       "  </tbody>\n",
       "</table>\n",
       "</div>"
      ],
      "text/plain": [
       "   overall                                      review_vector\n",
       "1        5    (0, 6421)\\t0.04689702090419594\\n  (0, 13519)...\n",
       "2        5    (0, 6421)\\t0.04689702090419594\\n  (0, 13519)...\n",
       "3        5    (0, 6421)\\t0.04689702090419594\\n  (0, 13519)...\n",
       "4        5    (0, 6421)\\t0.04689702090419594\\n  (0, 13519)...\n",
       "6        5    (0, 6421)\\t0.04689702090419594\\n  (0, 13519)..."
      ]
     },
     "execution_count": 36,
     "metadata": {},
     "output_type": "execute_result"
    }
   ],
   "source": [
    "train.head()"
   ]
  },
  {
   "cell_type": "code",
   "execution_count": 28,
   "metadata": {},
   "outputs": [
    {
     "data": {
      "text/plain": [
       "(1124717, 2)"
      ]
     },
     "execution_count": 28,
     "metadata": {},
     "output_type": "execute_result"
    }
   ],
   "source": [
    "train.shape"
   ]
  },
  {
   "cell_type": "code",
   "execution_count": 29,
   "metadata": {},
   "outputs": [
    {
     "data": {
      "image/png": "[encoded data removed]",
      "text/plain": [
       "<Figure size 432x288 with 1 Axes>"
      ]
     },
     "metadata": {
      "needs_background": "light"
     },
     "output_type": "display_data"
    }
   ],
   "source": [
    "# display plot showing balanced data for training\n",
    "_ = train.overall.value_counts().sort_index().plot(kind='bar')\n",
    "_ = plt.title('Number of Upsampled Reviews')\n",
    "_ = plt.xlabel('Number of Stars')\n",
    "_ = plt.ylabel('Number of Reviews (upsamped)')\n",
    "_ = plt.xticks(rotation=0)"
   ]
  },
  {
   "cell_type": "code",
   "execution_count": 30,
   "metadata": {},
   "outputs": [],
   "source": [
    "# split training data into X, y\n",
    "X_train = train.review_vector\n",
    "y_train = train.overall.values"
   ]
  },
  {
   "cell_type": "code",
   "execution_count": null,
   "metadata": {},
   "outputs": [],
   "source": []
  },
  {
   "cell_type": "code",
   "execution_count": null,
   "metadata": {},
   "outputs": [],
   "source": [
    "# write a function to get the 10 words that occur the most"
   ]
  },
  {
   "cell_type": "code",
   "execution_count": null,
   "metadata": {},
   "outputs": [],
   "source": []
  },
  {
   "cell_type": "code",
   "execution_count": null,
   "metadata": {},
   "outputs": [],
   "source": []
  },
  {
   "cell_type": "code",
   "execution_count": null,
   "metadata": {},
   "outputs": [],
   "source": []
  },
  {
   "cell_type": "code",
   "execution_count": null,
   "metadata": {},
   "outputs": [],
   "source": []
  },
  {
   "cell_type": "code",
   "execution_count": null,
   "metadata": {},
   "outputs": [],
   "source": []
  },
  {
   "cell_type": "code",
   "execution_count": null,
   "metadata": {},
   "outputs": [],
   "source": []
  },
  {
   "cell_type": "code",
   "execution_count": null,
   "metadata": {},
   "outputs": [],
   "source": []
  }
 ],
 "metadata": {
  "kernelspec": {
   "display_name": "Python 3",
   "language": "python",
   "name": "python3"
  },
  "language_info": {
   "codemirror_mode": {
    "name": "ipython",
    "version": 3
   },
   "file_extension": ".py",
   "mimetype": "text/x-python",
   "name": "python",
   "nbconvert_exporter": "python",
   "pygments_lexer": "ipython3",
   "version": "3.7.3"
  }
 },
 "nbformat": 4,
 "nbformat_minor": 4
}
