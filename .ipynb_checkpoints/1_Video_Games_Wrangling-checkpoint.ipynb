{
 "cells": [
  {
   "cell_type": "markdown",
   "metadata": {},
   "source": [
    "# Amazon Video Game Data Wrangling"
   ]
  },
  {
   "cell_type": "markdown",
   "metadata": {},
   "source": [
    "Data from\n",
    "> Justifying recommendations using distantly-labeled reviews and fined-grained aspects\n",
    "Jianmo Ni, Jiacheng Li, Julian McAuley\n",
    "Empirical Methods in Natural Language Processing (EMNLP), 2019"
   ]
  },
  {
   "cell_type": "code",
   "execution_count": 98,
   "metadata": {},
   "outputs": [],
   "source": [
    "# import packages\n",
    "import re\n",
    "import spacy\n",
    "import numpy as np\n",
    "import pandas as pd\n",
    "import matplotlib.pyplot as plt\n",
    "import seaborn as sns\n",
    "from collections import Counter\n",
    "from sklearn.model_selection import train_test_split\n",
    "from sklearn.feature_extraction.text import CountVectorizer,TfidfVectorizer\n",
    "%matplotlib inline\n",
    "\n",
    "# load English tokenizer, tagger, parser, NER, and word vectors\n",
    "nlp = spacy.load('en_core_web_sm')\n",
    "import string\n",
    "punctuations = string.punctuation\n",
    "from  spacy.lang.en.stop_words import STOP_WORDS\n",
    "# Creating a Spacy Parser\n",
    "from spacy.lang.en import English\n",
    "from html import unescape"
   ]
  },
  {
   "cell_type": "code",
   "execution_count": 2,
   "metadata": {},
   "outputs": [],
   "source": [
    "# initialize spark and koalas\n",
    "import findspark\n",
    "findspark.init()\n",
    "import pyspark\n",
    "import databricks.koalas as ks"
   ]
  },
  {
   "cell_type": "code",
   "execution_count": 3,
   "metadata": {},
   "outputs": [],
   "source": [
    "from pyspark import SparkConf, SparkContext\n",
    "from pyspark.sql import SQLContext\n",
    "# set the app and number of cores to use (work comp 2 cores)\n",
    "# conf = SparkConf().setMaster('local[2]').setAppName('VideoGamesWrangle') # 2 for BB comp\n",
    "conf = SparkConf().setMaster('local[4]').setAppName('VideoGamesWrangle') # 4 for my laptop\n",
    "# set the sparkcontext\n",
    "sc = SparkContext.getOrCreate(conf = conf)\n",
    "sqlContext = SQLContext(sc)"
   ]
  },
  {
   "cell_type": "code",
   "execution_count": 4,
   "metadata": {},
   "outputs": [],
   "source": [
    "vg = pd.read_json('../Amazon_Data/Video_Games_5.json.gz', lines=True, compression='gzip')"
   ]
  },
  {
   "cell_type": "code",
   "execution_count": 5,
   "metadata": {},
   "outputs": [
    {
     "data": {
      "text/html": [
       "<div>\n",
       "<style scoped>\n",
       "    .dataframe tbody tr th:only-of-type {\n",
       "        vertical-align: middle;\n",
       "    }\n",
       "\n",
       "    .dataframe tbody tr th {\n",
       "        vertical-align: top;\n",
       "    }\n",
       "\n",
       "    .dataframe thead th {\n",
       "        text-align: right;\n",
       "    }\n",
       "</style>\n",
       "<table border=\"1\" class=\"dataframe\">\n",
       "  <thead>\n",
       "    <tr style=\"text-align: right;\">\n",
       "      <th></th>\n",
       "      <th>overall</th>\n",
       "      <th>verified</th>\n",
       "      <th>reviewTime</th>\n",
       "      <th>reviewerID</th>\n",
       "      <th>asin</th>\n",
       "      <th>reviewerName</th>\n",
       "      <th>reviewText</th>\n",
       "      <th>summary</th>\n",
       "      <th>unixReviewTime</th>\n",
       "      <th>vote</th>\n",
       "      <th>style</th>\n",
       "      <th>image</th>\n",
       "    </tr>\n",
       "  </thead>\n",
       "  <tbody>\n",
       "    <tr>\n",
       "      <th>0</th>\n",
       "      <td>5</td>\n",
       "      <td>True</td>\n",
       "      <td>10 17, 2015</td>\n",
       "      <td>A1HP7NVNPFMA4N</td>\n",
       "      <td>0700026657</td>\n",
       "      <td>Ambrosia075</td>\n",
       "      <td>This game is a bit hard to get the hang of, bu...</td>\n",
       "      <td>but when you do it's great.</td>\n",
       "      <td>1445040000</td>\n",
       "      <td>NaN</td>\n",
       "      <td>NaN</td>\n",
       "      <td>NaN</td>\n",
       "    </tr>\n",
       "    <tr>\n",
       "      <th>1</th>\n",
       "      <td>4</td>\n",
       "      <td>False</td>\n",
       "      <td>07 27, 2015</td>\n",
       "      <td>A1JGAP0185YJI6</td>\n",
       "      <td>0700026657</td>\n",
       "      <td>travis</td>\n",
       "      <td>I played it a while but it was alright. The st...</td>\n",
       "      <td>But in spite of that it was fun, I liked it</td>\n",
       "      <td>1437955200</td>\n",
       "      <td>NaN</td>\n",
       "      <td>NaN</td>\n",
       "      <td>NaN</td>\n",
       "    </tr>\n",
       "    <tr>\n",
       "      <th>2</th>\n",
       "      <td>3</td>\n",
       "      <td>True</td>\n",
       "      <td>02 23, 2015</td>\n",
       "      <td>A1YJWEXHQBWK2B</td>\n",
       "      <td>0700026657</td>\n",
       "      <td>Vincent G. Mezera</td>\n",
       "      <td>ok game.</td>\n",
       "      <td>Three Stars</td>\n",
       "      <td>1424649600</td>\n",
       "      <td>NaN</td>\n",
       "      <td>NaN</td>\n",
       "      <td>NaN</td>\n",
       "    </tr>\n",
       "    <tr>\n",
       "      <th>3</th>\n",
       "      <td>2</td>\n",
       "      <td>True</td>\n",
       "      <td>02 20, 2015</td>\n",
       "      <td>A2204E1TH211HT</td>\n",
       "      <td>0700026657</td>\n",
       "      <td>Grandma KR</td>\n",
       "      <td>found the game a bit too complicated, not what...</td>\n",
       "      <td>Two Stars</td>\n",
       "      <td>1424390400</td>\n",
       "      <td>NaN</td>\n",
       "      <td>NaN</td>\n",
       "      <td>NaN</td>\n",
       "    </tr>\n",
       "    <tr>\n",
       "      <th>4</th>\n",
       "      <td>5</td>\n",
       "      <td>True</td>\n",
       "      <td>12 25, 2014</td>\n",
       "      <td>A2RF5B5H74JLPE</td>\n",
       "      <td>0700026657</td>\n",
       "      <td>jon</td>\n",
       "      <td>great game, I love it and have played it since...</td>\n",
       "      <td>love this game</td>\n",
       "      <td>1419465600</td>\n",
       "      <td>NaN</td>\n",
       "      <td>NaN</td>\n",
       "      <td>NaN</td>\n",
       "    </tr>\n",
       "  </tbody>\n",
       "</table>\n",
       "</div>"
      ],
      "text/plain": [
       "   overall  verified   reviewTime      reviewerID        asin  \\\n",
       "0        5      True  10 17, 2015  A1HP7NVNPFMA4N  0700026657   \n",
       "1        4     False  07 27, 2015  A1JGAP0185YJI6  0700026657   \n",
       "2        3      True  02 23, 2015  A1YJWEXHQBWK2B  0700026657   \n",
       "3        2      True  02 20, 2015  A2204E1TH211HT  0700026657   \n",
       "4        5      True  12 25, 2014  A2RF5B5H74JLPE  0700026657   \n",
       "\n",
       "        reviewerName                                         reviewText  \\\n",
       "0        Ambrosia075  This game is a bit hard to get the hang of, bu...   \n",
       "1             travis  I played it a while but it was alright. The st...   \n",
       "2  Vincent G. Mezera                                           ok game.   \n",
       "3         Grandma KR  found the game a bit too complicated, not what...   \n",
       "4                jon  great game, I love it and have played it since...   \n",
       "\n",
       "                                       summary  unixReviewTime vote style  \\\n",
       "0                  but when you do it's great.      1445040000  NaN   NaN   \n",
       "1  But in spite of that it was fun, I liked it      1437955200  NaN   NaN   \n",
       "2                                  Three Stars      1424649600  NaN   NaN   \n",
       "3                                    Two Stars      1424390400  NaN   NaN   \n",
       "4                               love this game      1419465600  NaN   NaN   \n",
       "\n",
       "  image  \n",
       "0   NaN  \n",
       "1   NaN  \n",
       "2   NaN  \n",
       "3   NaN  \n",
       "4   NaN  "
      ]
     },
     "execution_count": 5,
     "metadata": {},
     "output_type": "execute_result"
    }
   ],
   "source": [
    "vg.head()"
   ]
  },
  {
   "cell_type": "code",
   "execution_count": 6,
   "metadata": {},
   "outputs": [],
   "source": [
    "vg = vg.loc[:,['overall', 'reviewText']]"
   ]
  },
  {
   "cell_type": "code",
   "execution_count": null,
   "metadata": {},
   "outputs": [],
   "source": []
  },
  {
   "cell_type": "markdown",
   "metadata": {},
   "source": [
    "## Notes\n",
    "- 'asin' = product ID\n",
    "- 'reviewText' = the review text\n",
    "- 'overall' = the star rating"
   ]
  },
  {
   "cell_type": "code",
   "execution_count": 7,
   "metadata": {},
   "outputs": [
    {
     "name": "stdout",
     "output_type": "stream",
     "text": [
      "<class 'pandas.core.frame.DataFrame'>\n",
      "RangeIndex: 497577 entries, 0 to 497576\n",
      "Data columns (total 2 columns):\n",
      "overall       497577 non-null int64\n",
      "reviewText    497419 non-null object\n",
      "dtypes: int64(1), object(1)\n",
      "memory usage: 7.6+ MB\n"
     ]
    }
   ],
   "source": [
    "vg.info()"
   ]
  },
  {
   "cell_type": "code",
   "execution_count": 8,
   "metadata": {},
   "outputs": [],
   "source": [
    "vg = vg.dropna(how='any')"
   ]
  },
  {
   "cell_type": "code",
   "execution_count": 9,
   "metadata": {},
   "outputs": [
    {
     "name": "stdout",
     "output_type": "stream",
     "text": [
      "<class 'pandas.core.frame.DataFrame'>\n",
      "Int64Index: 497419 entries, 0 to 497576\n",
      "Data columns (total 2 columns):\n",
      "overall       497419 non-null int64\n",
      "reviewText    497419 non-null object\n",
      "dtypes: int64(1), object(1)\n",
      "memory usage: 11.4+ MB\n"
     ]
    }
   ],
   "source": [
    "vg.info()"
   ]
  },
  {
   "cell_type": "code",
   "execution_count": 10,
   "metadata": {},
   "outputs": [],
   "source": [
    "# convert datatype to save memory\n",
    "vg.loc[:, 'overall'] = vg.overall.astype('int16')"
   ]
  },
  {
   "cell_type": "code",
   "execution_count": 11,
   "metadata": {},
   "outputs": [
    {
     "data": {
      "text/plain": [
       "(497419, 2)"
      ]
     },
     "execution_count": 11,
     "metadata": {},
     "output_type": "execute_result"
    }
   ],
   "source": [
    "vg.shape"
   ]
  },
  {
   "cell_type": "code",
   "execution_count": 12,
   "metadata": {},
   "outputs": [
    {
     "data": {
      "text/plain": [
       "5    299623\n",
       "4     93644\n",
       "3     49140\n",
       "1     30879\n",
       "2     24133\n",
       "Name: overall, dtype: int64"
      ]
     },
     "execution_count": 12,
     "metadata": {},
     "output_type": "execute_result"
    }
   ],
   "source": [
    "vg.overall.value_counts()"
   ]
  },
  {
   "cell_type": "code",
   "execution_count": null,
   "metadata": {},
   "outputs": [],
   "source": []
  },
  {
   "cell_type": "code",
   "execution_count": null,
   "metadata": {},
   "outputs": [],
   "source": []
  },
  {
   "cell_type": "code",
   "execution_count": null,
   "metadata": {},
   "outputs": [],
   "source": []
  },
  {
   "cell_type": "code",
   "execution_count": null,
   "metadata": {},
   "outputs": [],
   "source": []
  },
  {
   "cell_type": "code",
   "execution_count": 13,
   "metadata": {},
   "outputs": [],
   "source": [
    "# create a dataframe from the word matrix\n",
    "def wm2df(wm, feat_names):\n",
    "    \n",
    "    # create an index for each row\n",
    "    doc_names = ['Doc{:d}'.format(idx) for idx, _ in enumerate(wm)]\n",
    "    df = pd.DataFrame(data=wm.toarray(), index=doc_names,\n",
    "                      columns=feat_names)\n",
    "    return(df)"
   ]
  },
  {
   "cell_type": "code",
   "execution_count": null,
   "metadata": {},
   "outputs": [],
   "source": []
  },
  {
   "cell_type": "code",
   "execution_count": 56,
   "metadata": {},
   "outputs": [
    {
     "name": "stdout",
     "output_type": "stream",
     "text": [
      "['something', 'perhaps', 'mine', 'among', 'anywhere', 'you', 'over', 'same', 'together', '‘m', 'until', 'eleven', 'themselves', 'be', 'afterwards', 'unless', 'forty', 'mostly', 'off', 'seem', '‘re', 'under', 'yourselves', 'due', 'almost', 'everywhere', 'meanwhile', 'doing', 'either', 'might', 'however', 'top', 'an', 'before', 'during', 'please', 'back', 'one', 'bottom', 'former', 'because', 'moreover', 'thence', 'wherever', 'whoever', '’ve', 'everyone', 'nobody', 'below', 'six', '‘ve', 'will', 'front', 'after', \"'ve\", 'show', 'but', 'beside', 'quite', 'sixty', 'thereby', 'against', 'not', 'anyone', 'which', 'thru', \"'re\", 'behind', 'make', 'onto', 'put', 'they', 'hers', 'without', 'she', 'are', 'call', 'besides', '’re', 'serious', 'him', 'two', 'next', 'who', 'hereafter', 'take', 'my', 'ours', 'their', 'or', 'n‘t', 'has', 'should', 'ca', 'more', 'give', 'at', 'beyond', 'become', 'our', 'may', '‘ll', 'again', 'amount', 'nine', 'for', 'had', 'we', '’ll', 'was', 'empty', 'anyhow', 'between', 'can', 'sometime', 'herself', 'her', 'many', 'of', 'the', 'yourself', 'as', 'thereupon', 'could', 'becomes', 're', 'its', 'your', 'twelve', 'within', 'so', 'seeming', 'none', 'those', 'any', 'really', '‘d', '’s', 'all', 'herein', 'each', 'made', 'else', 'four', 'hereby', 'anything', 'it', 'when', 'still', 'do', 'his', 'throughout', 'across', 'with', 'ourselves', 'both', 'ever', 'already', 'ten', \"'d\", 'whose', 'did', 'itself', 'through', 'used', 'only', 'to', 'such', 'have', 'also', 'indeed', 'latter', 'why', 'twenty', 'eight', 'using', 'is', 'being', 'every', 'much', 'seemed', 'would', 'fifty', 'hereupon', 'otherwise', 'five', 'go', 'must', 'first', 'were', 'nor', 'by', 'a', 'therein', 'rather', 'neither', 'another', 'just', 'he', 'along', 'never', 'three', 'whatever', 'been', 'formerly', 'although', 'once', 'very', 'thus', 'regarding', 'anyway', 'then', 'whenever', 'whole', 'myself', 'few', 'everything', 'somewhere', 'here', 'though', \"'s\", 'some', 'beforehand', 'seems', '’d', 'alone', 'since', 'whereupon', 'side', 'per', 'us', 'keep', 'if', 'name', 'noone', 'others', 'i', 'down', 'about', 'nowhere', 'always', 'becoming', 'am', 'yours', 'except', 'yet', 'on', 'now', 'even', 'wherein', 'what', 'move', 'nevertheless', 'whence', 'often', 'and', 'where', 'less', 'became', 'part', 'third', \"n't\", 'towards', 'does', 'upon', 'n’t', 'them', 'whereby', 'into', 'above', 'latterly', 'enough', 'nothing', '’m', 'well', \"'ll\", 'toward', 'somehow', 'whom', 'therefore', 'hundred', 'least', '‘s', 'fifteen', 'that', 'amongst', 'there', 'these', 'via', 'whether', 'around', 'someone', 'various', 'say', 'whereas', 'elsewhere', 'namely', \"'m\", 'whereafter', 'too', 'no', 'cannot', 'get', 'how', 'me', 'himself', 'than', 'hence', 'further', 'this', 'full', 'out', 'sometimes', 'while', 'done', 'last', 'own', 'whither', 'several', 'up', 'other', 'see', 'in', 'from', 'most', 'thereafter']\n"
     ]
    }
   ],
   "source": [
    "# generate and edit stop words\n",
    "stops = list(STOP_WORDS)\n",
    "print(stops)"
   ]
  },
  {
   "cell_type": "code",
   "execution_count": 91,
   "metadata": {},
   "outputs": [],
   "source": [
    "stop_words = []\n",
    "for word in stops:\n",
    "    if word not in ['not', 'no', 'cannot', 'nothing']:\n",
    "        stop_words.append(word)\n",
    "# add additional stopwords\n",
    "issue_words = ['\\ufeff1', '\\x16', '...']\n",
    "for word in issue_words:\n",
    "    stop_words.append(word)"
   ]
  },
  {
   "cell_type": "code",
   "execution_count": 92,
   "metadata": {},
   "outputs": [
    {
     "name": "stdout",
     "output_type": "stream",
     "text": [
      "['something', 'perhaps', 'mine', 'among', 'anywhere', 'you', 'over', 'same', 'together', '‘m', 'until', 'eleven', 'themselves', 'be', 'afterwards', 'unless', 'forty', 'mostly', 'off', 'seem', '‘re', 'under', 'yourselves', 'due', 'almost', 'everywhere', 'meanwhile', 'doing', 'either', 'might', 'however', 'top', 'an', 'before', 'during', 'please', 'back', 'one', 'bottom', 'former', 'because', 'moreover', 'thence', 'wherever', 'whoever', '’ve', 'everyone', 'nobody', 'below', 'six', '‘ve', 'will', 'front', 'after', \"'ve\", 'show', 'but', 'beside', 'quite', 'sixty', 'thereby', 'against', 'anyone', 'which', 'thru', \"'re\", 'behind', 'make', 'onto', 'put', 'they', 'hers', 'without', 'she', 'are', 'call', 'besides', '’re', 'serious', 'him', 'two', 'next', 'who', 'hereafter', 'take', 'my', 'ours', 'their', 'or', 'n‘t', 'has', 'should', 'ca', 'more', 'give', 'at', 'beyond', 'become', 'our', 'may', '‘ll', 'again', 'amount', 'nine', 'for', 'had', 'we', '’ll', 'was', 'empty', 'anyhow', 'between', 'can', 'sometime', 'herself', 'her', 'many', 'of', 'the', 'yourself', 'as', 'thereupon', 'could', 'becomes', 're', 'its', 'your', 'twelve', 'within', 'so', 'seeming', 'none', 'those', 'any', 'really', '‘d', '’s', 'all', 'herein', 'each', 'made', 'else', 'four', 'hereby', 'anything', 'it', 'when', 'still', 'do', 'his', 'throughout', 'across', 'with', 'ourselves', 'both', 'ever', 'already', 'ten', \"'d\", 'whose', 'did', 'itself', 'through', 'used', 'only', 'to', 'such', 'have', 'also', 'indeed', 'latter', 'why', 'twenty', 'eight', 'using', 'is', 'being', 'every', 'much', 'seemed', 'would', 'fifty', 'hereupon', 'otherwise', 'five', 'go', 'must', 'first', 'were', 'nor', 'by', 'a', 'therein', 'rather', 'neither', 'another', 'just', 'he', 'along', 'never', 'three', 'whatever', 'been', 'formerly', 'although', 'once', 'very', 'thus', 'regarding', 'anyway', 'then', 'whenever', 'whole', 'myself', 'few', 'everything', 'somewhere', 'here', 'though', \"'s\", 'some', 'beforehand', 'seems', '’d', 'alone', 'since', 'whereupon', 'side', 'per', 'us', 'keep', 'if', 'name', 'noone', 'others', 'i', 'down', 'about', 'nowhere', 'always', 'becoming', 'am', 'yours', 'except', 'yet', 'on', 'now', 'even', 'wherein', 'what', 'move', 'nevertheless', 'whence', 'often', 'and', 'where', 'less', 'became', 'part', 'third', \"n't\", 'towards', 'does', 'upon', 'n’t', 'them', 'whereby', 'into', 'above', 'latterly', 'enough', '’m', 'well', \"'ll\", 'toward', 'somehow', 'whom', 'therefore', 'hundred', 'least', '‘s', 'fifteen', 'that', 'amongst', 'there', 'these', 'via', 'whether', 'around', 'someone', 'various', 'say', 'whereas', 'elsewhere', 'namely', \"'m\", 'whereafter', 'too', 'get', 'how', 'me', 'himself', 'than', 'hence', 'further', 'this', 'full', 'out', 'sometimes', 'while', 'done', 'last', 'own', 'whither', 'several', 'up', 'other', 'see', 'in', 'from', 'most', 'thereafter', '\\ufeff1', '\\x16']\n"
     ]
    }
   ],
   "source": [
    "print(stop_words)"
   ]
  },
  {
   "cell_type": "code",
   "execution_count": 14,
   "metadata": {},
   "outputs": [],
   "source": [
    "# remove html entities from docs and\n",
    "# set everything to lowercase\n",
    "def my_preprocessor(doc):\n",
    "    return(unescape(doc).lower())"
   ]
  },
  {
   "cell_type": "code",
   "execution_count": 93,
   "metadata": {},
   "outputs": [],
   "source": [
    "# define custom tokenizers\n",
    "parser = English()\n",
    "def my_tokenizer(sentence):\n",
    "    mytokens = parser(sentence)\n",
    "    mytokens = [word.lemma_.lower().strip() if word.lemma_ != \"-PRON-\" \n",
    "                else word.lower_ for word in mytokens]\n",
    "    mytokens = [word for word in mytokens if word not in stop_words and word not in punctuations]\n",
    "    return mytokens"
   ]
  },
  {
   "cell_type": "code",
   "execution_count": 94,
   "metadata": {},
   "outputs": [],
   "source": [
    "# get a list of all words each time they occur in the reviews\n",
    "word_list = []\n",
    "for text in vg.reviewText:\n",
    "    for word in my_tokenizer(text):\n",
    "        word_list.append(word)"
   ]
  },
  {
   "cell_type": "code",
   "execution_count": 95,
   "metadata": {},
   "outputs": [
    {
     "data": {
      "text/plain": [
       "['game',\n",
       " 'bite',\n",
       " 'hard',\n",
       " 'hang',\n",
       " 'great',\n",
       " 'play',\n",
       " 'alright',\n",
       " 'steam',\n",
       " 'bite',\n",
       " 'trouble',\n",
       " 'game',\n",
       " 'steam',\n",
       " 'hard',\n",
       " 'time',\n",
       " 'activate',\n",
       " 'play',\n",
       " 'game',\n",
       " 'spite',\n",
       " 'fun',\n",
       " 'like']"
      ]
     },
     "execution_count": 95,
     "metadata": {},
     "output_type": "execute_result"
    }
   ],
   "source": [
    "# inspect the results\n",
    "word_list[:20]"
   ]
  },
  {
   "cell_type": "code",
   "execution_count": 96,
   "metadata": {},
   "outputs": [
    {
     "name": "stdout",
     "output_type": "stream",
     "text": [
      "\\/+b\n",
      "\\/+b\n",
      "\\\"water\n",
      "\\/\n",
      "\\\"water\n",
      "\\control\n",
      "\\jameson\n",
      "\\save_game\n",
      "\\save_game\n",
      "\\load_game\n",
      "\\save_game\n",
      "\\the\n",
      "\\/\\/ords\n",
      "\\(^u^)/\n",
      "\\/\n",
      "\\/\n",
      "\\now\n",
      "\\have\n",
      "\\my\n",
      "\\\\\\\n",
      "\\(^0^)/\n",
      "\\|;;|\n",
      "\\and\n",
      "\\|;;|\n",
      "\\and\n",
      "\\program\n",
      "\\.\n",
      "\\much\n",
      "\\.\n",
      "\\m/\n",
      "\\ps3\\update\n",
      "\\ps3\\savedata\n",
      "\\ps3\\export\\psv\n",
      "\\m/\n",
      "\\m/(>_<)\\m/\n",
      "\\m/\\m/\n",
      "\\/.\\/\n",
      "\\so\n",
      "\\\\=()=//\n",
      "\\m/\n",
      "\\m/\n",
      "\\t/\n",
      "\\[t]/\n",
      "\\best\n",
      "\\_()_/.\n",
      "\\o/\n",
      "\\\"water\n",
      "\\\\\n",
      "\\(^u^)/\n"
     ]
    }
   ],
   "source": [
    "# check for anomalous words that start with a randomly chosen special character\n",
    "for word in word_list:\n",
    "    if word.startswith('\\\\'):\n",
    "        print(word)"
   ]
  },
  {
   "cell_type": "code",
   "execution_count": 99,
   "metadata": {},
   "outputs": [],
   "source": [
    "# create regular expression to omit words with special characters\n",
    "regex = re.compile('[@_!#$%^&*()<>?/\\|}{~:]')"
   ]
  },
  {
   "cell_type": "code",
   "execution_count": 105,
   "metadata": {},
   "outputs": [],
   "source": [
    "# edit tokenizer to deal with tokens with special characters\n",
    "def my_tokenizer(sentence):\n",
    "    mytokens = parser(sentence)\n",
    "    mytokens = [word.lemma_.lower().strip() if word.lemma_ != \"-PRON-\" \n",
    "                else word.lower_ for word in mytokens]\n",
    "    mytokens = [word for word in mytokens if word not in stop_words and word not in punctuations]\n",
    "    mytokens = [word for word in mytokens if(regex.search(word) == None)]\n",
    "    return mytokens"
   ]
  },
  {
   "cell_type": "code",
   "execution_count": 106,
   "metadata": {},
   "outputs": [],
   "source": [
    "# get a list of all words each time they occur in the reviews\n",
    "word_list = []\n",
    "for text in vg.reviewText:\n",
    "    for word in my_tokenizer(text):\n",
    "        word_list.append(word)"
   ]
  },
  {
   "cell_type": "code",
   "execution_count": 107,
   "metadata": {},
   "outputs": [
    {
     "data": {
      "text/plain": [
       "['game',\n",
       " 'bite',\n",
       " 'hard',\n",
       " 'hang',\n",
       " 'great',\n",
       " 'play',\n",
       " 'alright',\n",
       " 'steam',\n",
       " 'bite',\n",
       " 'trouble',\n",
       " 'game',\n",
       " 'steam',\n",
       " 'hard',\n",
       " 'time',\n",
       " 'activate',\n",
       " 'play',\n",
       " 'game',\n",
       " 'spite',\n",
       " 'fun',\n",
       " 'like']"
      ]
     },
     "execution_count": 107,
     "metadata": {},
     "output_type": "execute_result"
    }
   ],
   "source": [
    "# inspect the results\n",
    "word_list[:20]"
   ]
  },
  {
   "cell_type": "code",
   "execution_count": 109,
   "metadata": {},
   "outputs": [
    {
     "name": "stdout",
     "output_type": "stream",
     "text": [
      "No words fitting regular expression \"regex\"\n"
     ]
    }
   ],
   "source": [
    "# search for any anomalous words\n",
    "for word in word_list:\n",
    "    if regex.search(word) != None:\n",
    "        print('Found at least one anomalous word: ' + word)\n",
    "        break\n",
    "else:\n",
    "    print('No words fitting regular expression \"regex\"')"
   ]
  },
  {
   "cell_type": "code",
   "execution_count": 110,
   "metadata": {},
   "outputs": [],
   "source": [
    "# get a count of every word\n",
    "token_counts = Counter(word_list)"
   ]
  },
  {
   "cell_type": "code",
   "execution_count": 111,
   "metadata": {},
   "outputs": [
    {
     "data": {
      "text/plain": [
       "collections.Counter"
      ]
     },
     "execution_count": 111,
     "metadata": {},
     "output_type": "execute_result"
    }
   ],
   "source": [
    "type(token_counts)"
   ]
  },
  {
   "cell_type": "code",
   "execution_count": 114,
   "metadata": {},
   "outputs": [
    {
     "data": {
      "text/plain": [
       "[('game', 1270045),\n",
       " ('not', 778419),\n",
       " ('play', 392340),\n",
       " ('like', 311992),\n",
       " ('good', 299622),\n",
       " ('time', 210452),\n",
       " ('great', 203755),\n",
       " ('use', 163200),\n",
       " ('fun', 157584),\n",
       " ('no', 136833),\n",
       " ('little', 119939),\n",
       " ('character', 119699),\n",
       " ('buy', 119010),\n",
       " ('new', 114226),\n",
       " ('look', 112645),\n",
       " ('2', 111422),\n",
       " ('story', 110267),\n",
       " ('thing', 108666),\n",
       " ('love', 108567),\n",
       " ('...', 101638),\n",
       " ('work', 100295),\n",
       " ('feel', 100137),\n",
       " ('find', 97464),\n",
       " ('want', 96558),\n",
       " ('way', 96516),\n",
       " ('level', 93500),\n",
       " ('think', 93053),\n",
       " ('graphic', 92046),\n",
       " ('come', 91447),\n",
       " ('lot', 88022),\n",
       " ('player', 80702),\n",
       " ('3', 78321),\n",
       " ('try', 71898),\n",
       " ('need', 70107),\n",
       " ('know', 68466),\n",
       " ('system', 67045),\n",
       " ('control', 66399),\n",
       " ('gameplay', 66366),\n",
       " ('pretty', 66073),\n",
       " ('controller', 64820),\n",
       " ('people', 64361),\n",
       " ('different', 60719),\n",
       " ('long', 60512),\n",
       " ('easy', 59418),\n",
       " ('mode', 59081),\n",
       " ('year', 58753),\n",
       " ('hard', 57824),\n",
       " ('start', 57788),\n",
       " ('old', 57693),\n",
       " ('enemy', 57349),\n",
       " ('sound', 56587),\n",
       " ('far', 54907),\n",
       " ('hour', 54802),\n",
       " ('end', 54346),\n",
       " ('run', 53474),\n",
       " ('bad', 53216),\n",
       " ('right', 53077),\n",
       " ('fan', 52917),\n",
       " ('series', 52382),\n",
       " ('enjoy', 52139),\n",
       " ('version', 51205),\n",
       " ('doe', 50981),\n",
       " ('world', 50785),\n",
       " ('point', 50748),\n",
       " ('fight', 50197),\n",
       " ('bite', 48656),\n",
       " ('weapon', 48515),\n",
       " ('xbox', 48414),\n",
       " ('4', 48157),\n",
       " ('nice', 47661),\n",
       " ('button', 47660),\n",
       " ('review', 47320),\n",
       " ('big', 47227),\n",
       " ('mission', 46020),\n",
       " ('star', 45804),\n",
       " ('problem', 45410),\n",
       " ('wii', 44778),\n",
       " ('actually', 44422),\n",
       " ('set', 43741),\n",
       " ('original', 43598),\n",
       " ('recommend', 43378),\n",
       " ('worth', 42905),\n",
       " ('price', 42819),\n",
       " ('add', 42460),\n",
       " ('overall', 42022),\n",
       " ('experience', 41866),\n",
       " ('day', 41734),\n",
       " ('battle', 41621),\n",
       " ('5', 39799),\n",
       " ('online', 38237),\n",
       " ('1', 37565),\n",
       " ('turn', 37274),\n",
       " ('change', 36425),\n",
       " ('real', 36125),\n",
       " ('awesome', 36063),\n",
       " ('challenge', 35619),\n",
       " ('feature', 35355),\n",
       " ('screen', 35221),\n",
       " ('music', 34891),\n",
       " ('action', 34689)]"
      ]
     },
     "execution_count": 114,
     "metadata": {},
     "output_type": "execute_result"
    }
   ],
   "source": [
    "token_counts.most_common(100)"
   ]
  },
  {
   "cell_type": "code",
   "execution_count": 125,
   "metadata": {},
   "outputs": [
    {
     "data": {
      "image/png": "[encoded data removed]",
      "text/plain": [
       "<Figure size 432x288 with 1 Axes>"
      ]
     },
     "metadata": {
      "needs_background": "light"
     },
     "output_type": "display_data"
    }
   ],
   "source": [
    "# create histogram of word appearances\n",
    "# most words occur infrequently, so threshold for num influences this plot greatly\n",
    "values = []\n",
    "for tup in token_counts.most_common():\n",
    "    word, num = tup\n",
    "    if num > 10000:\n",
    "        values.append(num)\n",
    "_ = plt.hist(values, bins=100)"
   ]
  },
  {
   "cell_type": "code",
   "execution_count": 126,
   "metadata": {},
   "outputs": [],
   "source": [
    "# most words appear very infrequently"
   ]
  },
  {
   "cell_type": "code",
   "execution_count": 135,
   "metadata": {},
   "outputs": [
    {
     "data": {
      "image/png": "[encoded data removed]",
      "text/plain": [
       "<Figure size 432x288 with 1 Axes>"
      ]
     },
     "metadata": {
      "needs_background": "light"
     },
     "output_type": "display_data"
    }
   ],
   "source": [
    "# plot the 20 most common words\n",
    "words = []\n",
    "values = []\n",
    "for tup in token_counts.most_common(20):\n",
    "    word, num = tup\n",
    "    words.append(word)\n",
    "    values.append(num)\n",
    "_ = sns.barplot(words, values, palette='muted')\n",
    "_ = plt.xticks(rotation=90)\n",
    "_ = plt.title('20 Most Common Words')\n",
    "_ = plt.xlabel('Word')\n",
    "_ = plt.ylabel('Occurrences')"
   ]
  },
  {
   "cell_type": "code",
   "execution_count": 115,
   "metadata": {},
   "outputs": [
    {
     "name": "stdout",
     "output_type": "stream",
     "text": [
      "['buy', 'age', 'wonders', 'come', 'game', 'opinion', 'computer', 'fantasy', 'war', 'game', 'option', 'different', 'race', 'seven', 'different', 'sphere', 'magic', 'definitely', 'plenty', 'diversity', 'replay', 'value', 'game', 'spell', 'effect', 'charm', 'musical', 'score', 'beautiful', 'single', 'player', 'campaign', 'great', 'story', 'line', 'multi', 'player', 'aspect', 'single', 'scenario', 'good', 'develope', 'heroes', 'customizable', 'choose', 'actually', 'hero', 'represent', 'play', 'field', 'good', 'die', 'lose', 'thing', 'change', 'game', 'unit', 'icon', 'honest', 'artwork', 'icon', 'little', 'lack', 'like', 'rush', 'product', 'gate', 'age', 'wonders', 'awesome', 'game', 'definitely', 'look', 'forward', 'age', 'wonders', '2']\n"
     ]
    }
   ],
   "source": [
    "# character decoding issues?\n",
    "# seems to be solved using regex\n",
    "print(my_tokenizer(vg.reviewText[6541]))"
   ]
  },
  {
   "cell_type": "code",
   "execution_count": 17,
   "metadata": {},
   "outputs": [],
   "source": [
    "# create vectorizer\n",
    "vectorizer = CountVectorizer(min_df=0, analyzer='word', decode_error='replace', \n",
    "                             preprocessor=my_preprocessor, tokenizer=my_tokenizer)"
   ]
  },
  {
   "cell_type": "code",
   "execution_count": 18,
   "metadata": {},
   "outputs": [],
   "source": [
    "# fit_transform the data\n",
    "# vectorizer.fit(vg.reviewText.values)\n",
    "# X_vec = vectorizer.transform(vg.reviewText.values)\n",
    "X_vec = vectorizer.fit_transform(vg.reviewText.values)\n",
    "X_vec = X_vec.tocsc()"
   ]
  },
  {
   "cell_type": "code",
   "execution_count": 19,
   "metadata": {},
   "outputs": [
    {
     "name": "stdout",
     "output_type": "stream",
     "text": [
      "The number of words in the text data is 228890\n"
     ]
    }
   ],
   "source": [
    "# show the number of words in the text \n",
    "print('The number of words in the text data is {}'.format(X_vec.shape[1]))"
   ]
  },
  {
   "cell_type": "code",
   "execution_count": 20,
   "metadata": {},
   "outputs": [
    {
     "data": {
      "text/plain": [
       "(497419, 228890)"
      ]
     },
     "execution_count": 20,
     "metadata": {},
     "output_type": "execute_result"
    }
   ],
   "source": [
    "X_vec.shape"
   ]
  },
  {
   "cell_type": "code",
   "execution_count": 21,
   "metadata": {},
   "outputs": [],
   "source": [
    "# get the words from the vocabulary\n",
    "words = np.array(vectorizer.get_feature_names())"
   ]
  },
  {
   "cell_type": "code",
   "execution_count": 22,
   "metadata": {},
   "outputs": [
    {
     "data": {
      "text/plain": [
       "228890"
      ]
     },
     "execution_count": 22,
     "metadata": {},
     "output_type": "execute_result"
    }
   ],
   "source": [
    "len(words)"
   ]
  },
  {
   "cell_type": "code",
   "execution_count": 23,
   "metadata": {},
   "outputs": [
    {
     "name": "stdout",
     "output_type": "stream",
     "text": [
      "\u0010once\n",
      "-skills\n",
      "center-40mm\n",
      "belonging\n",
      "charizard\n",
      "duelshock\n",
      "govez\n",
      "them.even\n",
      "wildarms\n"
     ]
    }
   ],
   "source": [
    "# need to do a better job cleaning the words first\n",
    "print(words[1])\n",
    "print(words[5465])\n",
    "print(words[54545])\n",
    "print(words[44599])\n",
    "print(words[55699])\n",
    "print(words[77121])\n",
    "print(words[101010])\n",
    "print(words[202020])\n",
    "print(words[222222])"
   ]
  },
  {
   "cell_type": "code",
   "execution_count": 24,
   "metadata": {},
   "outputs": [],
   "source": [
    "# create a dataframe from the X array for summary stats\n",
    "# memory error\n",
    "#df = ks.DataFrame(X_vec.toarray())"
   ]
  },
  {
   "cell_type": "code",
   "execution_count": 25,
   "metadata": {},
   "outputs": [],
   "source": [
    "# create a dataframe to hold the number of reviews a word appears in\n",
    "# num_appear = []\n",
    "# tot = X_vec.shape[0]\n",
    "# for i in range(X_vec.shape[1]):\n",
    "#     num_appear.append(np.sum(X_vec!=0))\n",
    "#     apps = np.array(num_appear)\n",
    "#counts_df = pd.DataFrame({'apps': apps})"
   ]
  },
  {
   "cell_type": "code",
   "execution_count": 37,
   "metadata": {},
   "outputs": [
    {
     "data": {
      "text/plain": [
       "dtype('<U2625')"
      ]
     },
     "execution_count": 37,
     "metadata": {},
     "output_type": "execute_result"
    }
   ],
   "source": [
    "# what is this dtype??\n",
    "words.dtype"
   ]
  },
  {
   "cell_type": "code",
   "execution_count": 26,
   "metadata": {},
   "outputs": [],
   "source": [
    "# I think this will give me the vector I want (the sum of all columns)\n",
    "apps = np.sum(X_vec!=0, axis=0)"
   ]
  },
  {
   "cell_type": "code",
   "execution_count": 27,
   "metadata": {},
   "outputs": [
    {
     "data": {
      "text/plain": [
       "(1, 228890)"
      ]
     },
     "execution_count": 27,
     "metadata": {},
     "output_type": "execute_result"
    }
   ],
   "source": [
    "apps.shape"
   ]
  },
  {
   "cell_type": "code",
   "execution_count": 28,
   "metadata": {},
   "outputs": [
    {
     "data": {
      "text/plain": [
       "matrix([[    1,     2,     1, ...,     1,     3, 75225]])"
      ]
     },
     "execution_count": 28,
     "metadata": {},
     "output_type": "execute_result"
    }
   ],
   "source": [
    "apps[0]"
   ]
  },
  {
   "cell_type": "code",
   "execution_count": null,
   "metadata": {},
   "outputs": [],
   "source": [
    "# testing some np functions below"
   ]
  },
  {
   "cell_type": "code",
   "execution_count": 181,
   "metadata": {},
   "outputs": [],
   "source": [
    "d = np.array([1, 0, 0, 4, 5, 0])"
   ]
  },
  {
   "cell_type": "code",
   "execution_count": null,
   "metadata": {},
   "outputs": [],
   "source": [
    "d!=0"
   ]
  },
  {
   "cell_type": "code",
   "execution_count": null,
   "metadata": {},
   "outputs": [],
   "source": []
  },
  {
   "cell_type": "code",
   "execution_count": 106,
   "metadata": {},
   "outputs": [],
   "source": [
    "# return the indices for the most common words\n",
    "# get the total number of appearances of each word\n",
    "#x = np.eye(X_vec.shape[1])\n",
    "count_vec=X_vec.sum(axis=0)[0, :]\n",
    "idxs = np.argsort(count_vec)"
   ]
  },
  {
   "cell_type": "code",
   "execution_count": null,
   "metadata": {},
   "outputs": [],
   "source": []
  },
  {
   "cell_type": "code",
   "execution_count": null,
   "metadata": {},
   "outputs": [],
   "source": []
  },
  {
   "cell_type": "code",
   "execution_count": null,
   "metadata": {},
   "outputs": [],
   "source": []
  },
  {
   "cell_type": "code",
   "execution_count": null,
   "metadata": {},
   "outputs": [],
   "source": []
  },
  {
   "cell_type": "code",
   "execution_count": null,
   "metadata": {},
   "outputs": [],
   "source": []
  },
  {
   "cell_type": "code",
   "execution_count": 20,
   "metadata": {},
   "outputs": [],
   "source": [
    "# get the total number of appearances of each word\n",
    "count_vec=X_vec.sum(axis=0)"
   ]
  },
  {
   "cell_type": "code",
   "execution_count": 21,
   "metadata": {},
   "outputs": [
    {
     "data": {
      "text/plain": [
       "(1, 231626)"
      ]
     },
     "execution_count": 21,
     "metadata": {},
     "output_type": "execute_result"
    }
   ],
   "source": [
    "count_vec.shape"
   ]
  },
  {
   "cell_type": "code",
   "execution_count": 54,
   "metadata": {},
   "outputs": [
    {
     "data": {
      "text/plain": [
       "231626"
      ]
     },
     "execution_count": 54,
     "metadata": {},
     "output_type": "execute_result"
    }
   ],
   "source": [
    "for key, value in vectorizer.vocabulary_.items():\n",
    "    for i in range(count_vec.shape[1]):\n",
    "        "
   ]
  },
  {
   "cell_type": "code",
   "execution_count": null,
   "metadata": {},
   "outputs": [],
   "source": []
  },
  {
   "cell_type": "code",
   "execution_count": null,
   "metadata": {},
   "outputs": [],
   "source": []
  },
  {
   "cell_type": "code",
   "execution_count": null,
   "metadata": {},
   "outputs": [],
   "source": []
  },
  {
   "cell_type": "code",
   "execution_count": null,
   "metadata": {},
   "outputs": [],
   "source": []
  },
  {
   "cell_type": "code",
   "execution_count": null,
   "metadata": {},
   "outputs": [],
   "source": []
  },
  {
   "cell_type": "code",
   "execution_count": null,
   "metadata": {},
   "outputs": [],
   "source": [
    "# create tfidf vectorizer\n",
    "tfvectorizer = TfidfVectorizer(tokenizer = my_tokenizer)"
   ]
  },
  {
   "cell_type": "code",
   "execution_count": 14,
   "metadata": {},
   "outputs": [],
   "source": [
    "# process the text from the tfidf vectorizer\n",
    "# .vocabulary_ contains the dictionary of indices and words\n",
    "# get_feature_names() also contains vocabulary\n",
    "X_tfvec = tfvectorizer.fit_transform(vg.reviewText)\n",
    "X_tfvec = X_tfvec.tocsc()"
   ]
  },
  {
   "cell_type": "code",
   "execution_count": null,
   "metadata": {},
   "outputs": [],
   "source": []
  },
  {
   "cell_type": "code",
   "execution_count": null,
   "metadata": {},
   "outputs": [],
   "source": []
  },
  {
   "cell_type": "code",
   "execution_count": null,
   "metadata": {},
   "outputs": [],
   "source": []
  },
  {
   "cell_type": "code",
   "execution_count": null,
   "metadata": {},
   "outputs": [],
   "source": []
  },
  {
   "cell_type": "code",
   "execution_count": 20,
   "metadata": {},
   "outputs": [],
   "source": [
    "# split the data into features and target and train/test split\n",
    "# X = vg.reviewText.values\n",
    "y = vg.overall.values\n",
    "X_train, X_test, y_train, y_test = train_test_split(X_tfvec, y, test_size=0.25, \n",
    "                                                    random_state=42, stratify=y)"
   ]
  },
  {
   "cell_type": "code",
   "execution_count": 21,
   "metadata": {},
   "outputs": [],
   "source": [
    "# upsample the training data\n",
    "train = pd.DataFrame({'overall': y_train, 'review_vector': X_train})"
   ]
  },
  {
   "cell_type": "code",
   "execution_count": 22,
   "metadata": {},
   "outputs": [
    {
     "data": {
      "text/plain": [
       "5    224717\n",
       "4     70233\n",
       "3     36855\n",
       "1     23159\n",
       "2     18100\n",
       "Name: overall, dtype: int64"
      ]
     },
     "execution_count": 22,
     "metadata": {},
     "output_type": "execute_result"
    }
   ],
   "source": [
    "train.overall.value_counts()"
   ]
  },
  {
   "cell_type": "code",
   "execution_count": 23,
   "metadata": {},
   "outputs": [],
   "source": [
    "# keep all of the indexes with a review of 5\n",
    "# generate random samples of the other indexes to equal the value counts of 5\n",
    "train5 = train[train.overall == 5]\n",
    "train4_idxs = np.random.choice(train[train.overall == 4].index, 225000, replace=True)\n",
    "train3_idxs = np.random.choice(train[train.overall == 3].index, 225000, replace=True)\n",
    "train2_idxs = np.random.choice(train[train.overall == 2].index, 225000, replace=True)\n",
    "train1_idxs = np.random.choice(train[train.overall == 1].index, 225000, replace=True)"
   ]
  },
  {
   "cell_type": "code",
   "execution_count": 24,
   "metadata": {},
   "outputs": [
    {
     "data": {
      "text/plain": [
       "5    224717\n",
       "Name: overall, dtype: int64"
      ]
     },
     "execution_count": 24,
     "metadata": {},
     "output_type": "execute_result"
    }
   ],
   "source": [
    "train5.overall.value_counts()"
   ]
  },
  {
   "cell_type": "code",
   "execution_count": 25,
   "metadata": {},
   "outputs": [],
   "source": [
    "# upsample the data\n",
    "train = pd.concat([train5, train.iloc[train1_idxs,:], train.iloc[train2_idxs,:], \n",
    "                   train.iloc[train3_idxs,:], train.iloc[train4_idxs,:]])"
   ]
  },
  {
   "cell_type": "code",
   "execution_count": 26,
   "metadata": {},
   "outputs": [
    {
     "data": {
      "text/plain": [
       "4    225000\n",
       "3    225000\n",
       "2    225000\n",
       "1    225000\n",
       "5    224717\n",
       "Name: overall, dtype: int64"
      ]
     },
     "execution_count": 26,
     "metadata": {},
     "output_type": "execute_result"
    }
   ],
   "source": [
    "train.overall.value_counts()"
   ]
  },
  {
   "cell_type": "code",
   "execution_count": 36,
   "metadata": {},
   "outputs": [
    {
     "data": {
      "text/html": [
       "<div>\n",
       "<style scoped>\n",
       "    .dataframe tbody tr th:only-of-type {\n",
       "        vertical-align: middle;\n",
       "    }\n",
       "\n",
       "    .dataframe tbody tr th {\n",
       "        vertical-align: top;\n",
       "    }\n",
       "\n",
       "    .dataframe thead th {\n",
       "        text-align: right;\n",
       "    }\n",
       "</style>\n",
       "<table border=\"1\" class=\"dataframe\">\n",
       "  <thead>\n",
       "    <tr style=\"text-align: right;\">\n",
       "      <th></th>\n",
       "      <th>overall</th>\n",
       "      <th>review_vector</th>\n",
       "    </tr>\n",
       "  </thead>\n",
       "  <tbody>\n",
       "    <tr>\n",
       "      <th>1</th>\n",
       "      <td>5</td>\n",
       "      <td>(0, 6421)\\t0.04689702090419594\\n  (0, 13519)...</td>\n",
       "    </tr>\n",
       "    <tr>\n",
       "      <th>2</th>\n",
       "      <td>5</td>\n",
       "      <td>(0, 6421)\\t0.04689702090419594\\n  (0, 13519)...</td>\n",
       "    </tr>\n",
       "    <tr>\n",
       "      <th>3</th>\n",
       "      <td>5</td>\n",
       "      <td>(0, 6421)\\t0.04689702090419594\\n  (0, 13519)...</td>\n",
       "    </tr>\n",
       "    <tr>\n",
       "      <th>4</th>\n",
       "      <td>5</td>\n",
       "      <td>(0, 6421)\\t0.04689702090419594\\n  (0, 13519)...</td>\n",
       "    </tr>\n",
       "    <tr>\n",
       "      <th>6</th>\n",
       "      <td>5</td>\n",
       "      <td>(0, 6421)\\t0.04689702090419594\\n  (0, 13519)...</td>\n",
       "    </tr>\n",
       "  </tbody>\n",
       "</table>\n",
       "</div>"
      ],
      "text/plain": [
       "   overall                                      review_vector\n",
       "1        5    (0, 6421)\\t0.04689702090419594\\n  (0, 13519)...\n",
       "2        5    (0, 6421)\\t0.04689702090419594\\n  (0, 13519)...\n",
       "3        5    (0, 6421)\\t0.04689702090419594\\n  (0, 13519)...\n",
       "4        5    (0, 6421)\\t0.04689702090419594\\n  (0, 13519)...\n",
       "6        5    (0, 6421)\\t0.04689702090419594\\n  (0, 13519)..."
      ]
     },
     "execution_count": 36,
     "metadata": {},
     "output_type": "execute_result"
    }
   ],
   "source": [
    "train.head()"
   ]
  },
  {
   "cell_type": "code",
   "execution_count": 28,
   "metadata": {},
   "outputs": [
    {
     "data": {
      "text/plain": [
       "(1124717, 2)"
      ]
     },
     "execution_count": 28,
     "metadata": {},
     "output_type": "execute_result"
    }
   ],
   "source": [
    "train.shape"
   ]
  },
  {
   "cell_type": "code",
   "execution_count": 29,
   "metadata": {},
   "outputs": [
    {
     "data": {
      "image/png": "[encoded data removed]",
      "text/plain": [
       "<Figure size 432x288 with 1 Axes>"
      ]
     },
     "metadata": {
      "needs_background": "light"
     },
     "output_type": "display_data"
    }
   ],
   "source": [
    "# display plot showing balanced data for training\n",
    "_ = train.overall.value_counts().sort_index().plot(kind='bar')\n",
    "_ = plt.title('Number of Upsampled Reviews')\n",
    "_ = plt.xlabel('Number of Stars')\n",
    "_ = plt.ylabel('Number of Reviews (upsamped)')\n",
    "_ = plt.xticks(rotation=0)"
   ]
  },
  {
   "cell_type": "code",
   "execution_count": 30,
   "metadata": {},
   "outputs": [],
   "source": [
    "# split training data into X, y\n",
    "X_train = train.review_vector\n",
    "y_train = train.overall.values"
   ]
  },
  {
   "cell_type": "code",
   "execution_count": null,
   "metadata": {},
   "outputs": [],
   "source": []
  },
  {
   "cell_type": "code",
   "execution_count": null,
   "metadata": {},
   "outputs": [],
   "source": [
    "# write a function to get the 10 words that occur the most"
   ]
  },
  {
   "cell_type": "code",
   "execution_count": null,
   "metadata": {},
   "outputs": [],
   "source": []
  },
  {
   "cell_type": "code",
   "execution_count": null,
   "metadata": {},
   "outputs": [],
   "source": []
  },
  {
   "cell_type": "code",
   "execution_count": null,
   "metadata": {},
   "outputs": [],
   "source": []
  },
  {
   "cell_type": "code",
   "execution_count": null,
   "metadata": {},
   "outputs": [],
   "source": []
  },
  {
   "cell_type": "code",
   "execution_count": null,
   "metadata": {},
   "outputs": [],
   "source": []
  },
  {
   "cell_type": "code",
   "execution_count": null,
   "metadata": {},
   "outputs": [],
   "source": []
  },
  {
   "cell_type": "code",
   "execution_count": null,
   "metadata": {},
   "outputs": [],
   "source": []
  }
 ],
 "metadata": {
  "kernelspec": {
   "display_name": "Python 3",
   "language": "python",
   "name": "python3"
  },
  "language_info": {
   "codemirror_mode": {
    "name": "ipython",
    "version": 3
   },
   "file_extension": ".py",
   "mimetype": "text/x-python",
   "name": "python",
   "nbconvert_exporter": "python",
   "pygments_lexer": "ipython3",
   "version": "3.7.3"
  }
 },
 "nbformat": 4,
 "nbformat_minor": 4
}
