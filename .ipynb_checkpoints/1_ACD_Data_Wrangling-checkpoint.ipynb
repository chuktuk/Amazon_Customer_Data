{
 "cells": [
  {
   "cell_type": "markdown",
   "metadata": {},
   "source": [
    "# Amazon Customer Data Wrangling"
   ]
  },
  {
   "cell_type": "code",
   "execution_count": 69,
   "metadata": {},
   "outputs": [],
   "source": [
    "# import packages\n",
    "import pandas as pd\n",
    "import matplotlib.pyplot as plt\n",
    "import seaborn as sns\n",
    "%matplotlib inline\n",
    "\n",
    "# spark tools\n",
    "from pyspark import SparkConf, SparkContext\n",
    "from pyspark.ml.stat import Summarizer\n",
    "from pyspark.sql import Row, SQLContext\n",
    "from pyspark.sql.functions import isnan, when, count, col, countDistinct"
   ]
  },
  {
   "cell_type": "code",
   "execution_count": 14,
   "metadata": {},
   "outputs": [],
   "source": [
    "# initiate spark context\n",
    "sc = SparkContext.getOrCreate()\n",
    "sqlContext = SQLContext(sc)"
   ]
  },
  {
   "cell_type": "code",
   "execution_count": 6,
   "metadata": {},
   "outputs": [],
   "source": [
    "# read the data into a spark rdd\n",
    "books_rdd = sc.textFile('../Amazon_Data/Books.json.gz')"
   ]
  },
  {
   "cell_type": "code",
   "execution_count": 7,
   "metadata": {},
   "outputs": [
    {
     "data": {
      "text/plain": [
       "['{\"overall\": 5.0, \"verified\": false, \"reviewTime\": \"08 12, 2005\", \"reviewerID\": \"A1C6M8LCIX4M6M\", \"asin\": \"0001713353\", \"style\": {\"Format:\": \" Paperback\"}, \"reviewerName\": \"June Bug\", \"reviewText\": \"This book is a winner with both of my boys.  They really enjoy the pictures and the story.  It\\'s a classic.\", \"summary\": \"Children\\'s favorite\", \"unixReviewTime\": 1123804800}',\n",
       " '{\"overall\": 5.0, \"verified\": false, \"reviewTime\": \"03 30, 2005\", \"reviewerID\": \"A1REUF3A1YCPHM\", \"asin\": \"0001713353\", \"style\": {\"Format:\": \" Hardcover\"}, \"reviewerName\": \"TW Ervin II\", \"reviewText\": \"The King, the Mice and the Cheese by Nancy Gurney is an excellent children\\'s book.  It is one that I well remember from my own childhood and purchased for my daughter who loves it.\\\\n\\\\nIt is about a king who has trouble with rude mice eating his cheese. He consults his wise men and they suggest cats to chase away the mice. The cats become a nuisance, so the wise men recommend the king bring in dogs to chase the cats away.  The cycle goes on until the mice are finally brought back to chase away the elephants, brought in to chase away the lions that\\'d chased away the dogs.\\\\n\\\\nThe story ends in compromise and friendship between the mice and the king.  The story also teaches cause and effect relationships.\\\\n\\\\nThe pictures that accompany the story are humorous and memorable.  I was thrilled to discover that it is back in print.  I *highly* recommend it for children ages 2 to 7.\", \"summary\": \"A story children will love and learn from\", \"unixReviewTime\": 1112140800}',\n",
       " '{\"overall\": 5.0, \"vote\": \"5\", \"verified\": false, \"reviewTime\": \"04 4, 2004\", \"reviewerID\": \"A1YRBRK2XM5D5\", \"asin\": \"0001713353\", \"style\": {\"Format:\": \" Hardcover\"}, \"reviewerName\": \"Rebecca L. Menner\", \"reviewText\": \"My daughter got her first copy from her great-grandmother (it had been my father\\'s when he was a child). She loves it so much that she has worn out two copies now. Colorful pictures, easy to follow words, and wonderful morals (sharing, thinking problems through, and that the easy way isn\\'t always the best way).\", \"summary\": \"Third copy\", \"unixReviewTime\": 1081036800}']"
      ]
     },
     "execution_count": 7,
     "metadata": {},
     "output_type": "execute_result"
    }
   ],
   "source": [
    "# inspect the rdd\n",
    "books_rdd.take(3)"
   ]
  },
  {
   "cell_type": "code",
   "execution_count": null,
   "metadata": {},
   "outputs": [],
   "source": [
    "# get the headers from the json\n",
    "#headers = books_rdd.map()"
   ]
  },
  {
   "cell_type": "code",
   "execution_count": null,
   "metadata": {},
   "outputs": [],
   "source": [
    "\n",
    "\n",
    "# parse the json in the rdd\n",
    "#books_mapped = books_rdd.map()"
   ]
  },
  {
   "cell_type": "code",
   "execution_count": null,
   "metadata": {},
   "outputs": [],
   "source": []
  },
  {
   "cell_type": "code",
   "execution_count": 9,
   "metadata": {},
   "outputs": [],
   "source": [
    "# read in data to spark df\n",
    "books_df = spark.read.json('../Amazon_Data/Books.json.gz')"
   ]
  },
  {
   "cell_type": "code",
   "execution_count": 10,
   "metadata": {},
   "outputs": [
    {
     "name": "stdout",
     "output_type": "stream",
     "text": [
      "root\n",
      " |-- asin: string (nullable = true)\n",
      " |-- image: array (nullable = true)\n",
      " |    |-- element: string (containsNull = true)\n",
      " |-- overall: double (nullable = true)\n",
      " |-- reviewText: string (nullable = true)\n",
      " |-- reviewTime: string (nullable = true)\n",
      " |-- reviewerID: string (nullable = true)\n",
      " |-- reviewerName: string (nullable = true)\n",
      " |-- style: struct (nullable = true)\n",
      " |    |-- Color:: string (nullable = true)\n",
      " |    |-- Format:: string (nullable = true)\n",
      " |    |-- Package Quantity:: string (nullable = true)\n",
      " |    |-- Size:: string (nullable = true)\n",
      " |    |-- Style Name:: string (nullable = true)\n",
      " |    |-- Style:: string (nullable = true)\n",
      " |-- summary: string (nullable = true)\n",
      " |-- unixReviewTime: long (nullable = true)\n",
      " |-- verified: boolean (nullable = true)\n",
      " |-- vote: string (nullable = true)\n",
      "\n"
     ]
    }
   ],
   "source": [
    "books_df.printSchema()"
   ]
  },
  {
   "cell_type": "code",
   "execution_count": 11,
   "metadata": {},
   "outputs": [
    {
     "data": {
      "text/plain": [
       "Row(asin='0001713353', image=None, overall=5.0, reviewText=\"This book is a winner with both of my boys.  They really enjoy the pictures and the story.  It's a classic.\", reviewTime='08 12, 2005', reviewerID='A1C6M8LCIX4M6M', reviewerName='June Bug', style=Row(Color:=None, Format:=' Paperback', Package Quantity:=None, Size:=None, Style Name:=None, Style:=None), summary=\"Children's favorite\", unixReviewTime=1123804800, verified=False, vote=None)"
      ]
     },
     "execution_count": 11,
     "metadata": {},
     "output_type": "execute_result"
    }
   ],
   "source": [
    "books_df.take(5)[0]"
   ]
  },
  {
   "cell_type": "code",
   "execution_count": 12,
   "metadata": {},
   "outputs": [
    {
     "data": {
      "text/plain": [
       "[('asin', 'string'),\n",
       " ('image', 'array<string>'),\n",
       " ('overall', 'double'),\n",
       " ('reviewText', 'string'),\n",
       " ('reviewTime', 'string'),\n",
       " ('reviewerID', 'string'),\n",
       " ('reviewerName', 'string'),\n",
       " ('style',\n",
       "  'struct<Color::string,Format::string,Package Quantity::string,Size::string,Style Name::string,Style::string>'),\n",
       " ('summary', 'string'),\n",
       " ('unixReviewTime', 'bigint'),\n",
       " ('verified', 'boolean'),\n",
       " ('vote', 'string')]"
      ]
     },
     "execution_count": 12,
     "metadata": {},
     "output_type": "execute_result"
    }
   ],
   "source": [
    "# books_df.dtypes"
   ]
  },
  {
   "cell_type": "code",
   "execution_count": 22,
   "metadata": {},
   "outputs": [],
   "source": [
    "# register df as table\n",
    "#sqlContext.registerDataFrameAsTable(books_df, 'books_df')"
   ]
  },
  {
   "cell_type": "code",
   "execution_count": 24,
   "metadata": {},
   "outputs": [],
   "source": []
  },
  {
   "cell_type": "code",
   "execution_count": 30,
   "metadata": {},
   "outputs": [
    {
     "name": "stdout",
     "output_type": "stream",
     "text": [
      "+----------+-------+\n",
      "|reviewText|overall|\n",
      "+----------+-------+\n",
      "|         0|      0|\n",
      "+----------+-------+\n",
      "\n"
     ]
    }
   ],
   "source": [
    "# get count of missing values\n",
    "reviews_ratings = books_df.select('reviewText', 'overall')\n",
    "reviews_ratings.select([count(when(isnan(c), c)).alias(c) for c in reviews_ratings.columns]).show()"
   ]
  },
  {
   "cell_type": "code",
   "execution_count": 31,
   "metadata": {},
   "outputs": [],
   "source": [
    "# split into labels and features\n",
    "reviews = reviews_ratings.select('reviewText')\n",
    "ratings = reviews_ratings.select('overall')"
   ]
  },
  {
   "cell_type": "code",
   "execution_count": 33,
   "metadata": {},
   "outputs": [
    {
     "data": {
      "text/plain": [
       "[Row(reviewText=\"This book is a winner with both of my boys.  They really enjoy the pictures and the story.  It's a classic.\"),\n",
       " Row(reviewText=\"The King, the Mice and the Cheese by Nancy Gurney is an excellent children's book.  It is one that I well remember from my own childhood and purchased for my daughter who loves it.\\n\\nIt is about a king who has trouble with rude mice eating his cheese. He consults his wise men and they suggest cats to chase away the mice. The cats become a nuisance, so the wise men recommend the king bring in dogs to chase the cats away.  The cycle goes on until the mice are finally brought back to chase away the elephants, brought in to chase away the lions that'd chased away the dogs.\\n\\nThe story ends in compromise and friendship between the mice and the king.  The story also teaches cause and effect relationships.\\n\\nThe pictures that accompany the story are humorous and memorable.  I was thrilled to discover that it is back in print.  I *highly* recommend it for children ages 2 to 7.\")]"
      ]
     },
     "execution_count": 33,
     "metadata": {},
     "output_type": "execute_result"
    }
   ],
   "source": [
    "# inspect the reviews\n",
    "reviews.take(2)"
   ]
  },
  {
   "cell_type": "code",
   "execution_count": 34,
   "metadata": {},
   "outputs": [
    {
     "data": {
      "text/plain": [
       "[Row(overall=5.0), Row(overall=5.0)]"
      ]
     },
     "execution_count": 34,
     "metadata": {},
     "output_type": "execute_result"
    }
   ],
   "source": [
    "# inspect the ratings\n",
    "ratings.take(2)"
   ]
  },
  {
   "cell_type": "code",
   "execution_count": 36,
   "metadata": {},
   "outputs": [
    {
     "data": {
      "text/plain": [
       "51311621"
      ]
     },
     "execution_count": 36,
     "metadata": {},
     "output_type": "execute_result"
    }
   ],
   "source": [
    "# display the number of ratings\n",
    "ratings.count()"
   ]
  },
  {
   "cell_type": "code",
   "execution_count": 37,
   "metadata": {},
   "outputs": [
    {
     "data": {
      "text/plain": [
       "51311621"
      ]
     },
     "execution_count": 37,
     "metadata": {},
     "output_type": "execute_result"
    }
   ],
   "source": [
    "# display the number of reviews\n",
    "reviews.count()"
   ]
  },
  {
   "cell_type": "code",
   "execution_count": 51,
   "metadata": {},
   "outputs": [
    {
     "name": "stdout",
     "output_type": "stream",
     "text": [
      "+-------+--------+\n",
      "|overall|   count|\n",
      "+-------+--------+\n",
      "|    0.0|       8|\n",
      "|    1.0| 2088314|\n",
      "|    2.0| 1850688|\n",
      "|    3.0| 3835225|\n",
      "|    4.0| 9557650|\n",
      "|    5.0|33979736|\n",
      "+-------+--------+\n",
      "\n"
     ]
    }
   ],
   "source": [
    "# store counts of ratings by number of stars and show\n",
    "ratings_df = reviews_ratings.groupby('overall').count().sort(col('overall'))\n",
    "ratings_df.show()"
   ]
  },
  {
   "cell_type": "code",
   "execution_count": 52,
   "metadata": {},
   "outputs": [],
   "source": [
    "# convert to pandas df for easy plotting\n",
    "ratings_hist = ratings_df.toPandas()"
   ]
  },
  {
   "cell_type": "code",
   "execution_count": 74,
   "metadata": {},
   "outputs": [
    {
     "data": {
      "image/png": "[encoded data removed]",
      "text/plain": [
       "<Figure size 432x288 with 1 Axes>"
      ]
     },
     "metadata": {
      "needs_background": "light"
     },
     "output_type": "display_data"
    }
   ],
   "source": [
    "_ = sns.barplot(ratings_hist['overall'], ratings_hist['count'], color='blue')\n",
    "_ = plt.title('Number of Reviews by Star Rating')\n",
    "_ = plt.xlabel('Number of Stars')\n",
    "_ = plt.ylabel('Number of Occurrences (Tens of Millions)')"
   ]
  },
  {
   "cell_type": "code",
   "execution_count": null,
   "metadata": {},
   "outputs": [],
   "source": []
  }
 ],
 "metadata": {
  "kernelspec": {
   "display_name": "Python 3",
   "language": "python",
   "name": "python3"
  },
  "language_info": {
   "codemirror_mode": {
    "name": "ipython",
    "version": 3
   },
   "file_extension": ".py",
   "mimetype": "text/x-python",
   "name": "python",
   "nbconvert_exporter": "python",
   "pygments_lexer": "ipython3",
   "version": "3.7.3"
  }
 },
 "nbformat": 4,
 "nbformat_minor": 4
}
