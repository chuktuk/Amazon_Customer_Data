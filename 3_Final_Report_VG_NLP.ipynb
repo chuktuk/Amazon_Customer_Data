{
 "cells": [
  {
   "cell_type": "markdown",
   "metadata": {},
   "source": [
    "# Capstone Final Report\n",
    "## Amazon Video Game Reviews NLP\n",
    "Chuck Tucker"
   ]
  },
  {
   "cell_type": "markdown",
   "metadata": {},
   "source": [
    "#### Problem - Text Data!\n",
    "\n",
    "Text data is collected for many purposes. This could include chats where a customer/client has a concern and reviews of products/services are some of the most common. Other times, text that has been published needs to be analyed to create summaries or extract key topics. Natural Langauge Processing (NLP) is a processes that provides methods for cleaning text data, breaking it down into manageable chunks, and extracting meaningful insights.\n",
    "\n",
    "This analysis focuses on reviews collected by Amazon for video game purchases between 1996-2004. The data include a star rating and text written by the customer describing how they feel about the game. It is very useful to be able to predict a customer or client's positive or negative opinion from text. This information can be used to help make decisions for certain products, create recommendations, or provide areas for improvement on products.\n",
    "\n",
    "The primary goal is to analyze a subset of the text reviews and use the star rating (converted to positive or negative) to create a model capable of predicting whether a video game review is positive or negative. The first approach for this is to use a pre-trained model, that has already analyzed text data for positive or negative sentiment. If this model is successful, then it can be deployed without having to create a custom model. This would save time and resources from a business perspective.\n",
    "\n",
    "If the pre-trained model isn't accurate or fails to predict the correct label, a model will be trained on the data of interest. There are several reasons why a pre-trained model could be unsuccessful. One ver yimportant reason is that no model is trained on every possible combination of features. In other words, a pre-trained model may use data for training that is very dissimilar to the data for which predictions are desired. Training of a model in this case would be supervised learning, where pre-labeled data are used to train a model. The effectiveness of the model will be assessed on hold-out test data that the model was not exposed to during training."
   ]
  },
  {
   "cell_type": "markdown",
   "metadata": {},
   "source": [
    "#### The Data\n",
    "- The data for this analysis were obtained from the following source:\n",
    "> Justifying recommendations using distantly-labeled reviews and fined-grained aspects\n",
    "Jianmo Ni, Jiacheng Li, Julian McAuley\n",
    "Empirical Methods in Natural Language Processing (EMNLP), 2019\n",
    "[https://nijianmo.github.io/amazon/index.html#files](https://nijianmo.github.io/amazon/index.html#files)\n",
    "- The specific file used was the Video Games data with at least 5 reviews per game."
   ]
  },
  {
   "cell_type": "markdown",
   "metadata": {},
   "source": [
    "#### Exploratory Data Analysis\n",
    "Several steps were taken to explore the data:\n",
    "1. Parse the JSON file using pandas built-in JSON reader\n",
    "2. Use basic pandas functions to explore the data structure\n",
    "3. Isolate the text data (features) and the ratings (target) and remove any missing values from the data\n",
    "4. Explore the text data for interesting features \n",
    "    - Word frequencies (most common words)\n",
    "    - Anomalous words\n",
    "    - Number of reviews in which a word appears\n",
    "    - Generate summary plots and a word cloud to visualize the data"
   ]
  },
  {
   "cell_type": "markdown",
   "metadata": {},
   "source": [
    "More details on the exploratory analysis can be found in `1_Video_Games_Exploratory_NLP.ipynb` file. The summary plots and descriptions are displayed here.\n",
    "\n",
    "The comments in each cell explain the purpose of the code."
   ]
  },
  {
   "cell_type": "code",
   "execution_count": 2,
   "metadata": {},
   "outputs": [],
   "source": [
    "# import packages\n",
    "import numpy as np\n",
    "import pandas as pd"
   ]
  },
  {
   "cell_type": "code",
   "execution_count": 2,
   "metadata": {},
   "outputs": [],
   "source": [
    "# read in data and clean the dataframe for missing values\n",
    "# extract only the relevant columns\n",
    "vg = pd.read_json('../Amazon_Data/Video_Games_5.json.gz', lines=True, compression='gzip')\n",
    "vg = vg.loc[:,['overall', 'reviewText']]\n",
    "vg = vg.dropna(how='any')\n",
    "vg.loc[:,'overall'] = vg.overall.astype('int16')"
   ]
  },
  {
   "cell_type": "code",
   "execution_count": 3,
   "metadata": {},
   "outputs": [],
   "source": [
    "# import stop words from spacy and add some additional words identified during data exploration\n",
    "from  spacy.lang.en.stop_words import STOP_WORDS\n",
    "stops = list(STOP_WORDS)\n",
    "issue_words = ['\\ufeff1', '\\x16', '...', '\\x10once', 's', '1', '2', '3', '4', '5']\n",
    "stops.extend(issue_words)"
   ]
  },
  {
   "cell_type": "code",
   "execution_count": 4,
   "metadata": {},
   "outputs": [],
   "source": [
    "# import additional nlp tools\n",
    "import string\n",
    "import spacy\n",
    "from spacy.lang.en import English\n",
    "\n",
    "# generate puntuations string\n",
    "punctuations = string.punctuation"
   ]
  },
  {
   "cell_type": "code",
   "execution_count": 6,
   "metadata": {},
   "outputs": [],
   "source": [
    "# define remove chars function to remove special characters\n",
    "import re\n",
    "\n",
    "def rmv_spec_chars(sentence):\n",
    "    # completely remove most punctuation\n",
    "    sentence = re.sub(\"[\\\\\\[\\]@_!#$%^&*()<>?/\\|}{~:']\", '', sentence)\n",
    "    \n",
    "    # replace hypens with spaces to split those words\n",
    "    sentence = re.sub('-', ' ', sentence)\n",
    "    \n",
    "    return sentence"
   ]
  },
  {
   "cell_type": "code",
   "execution_count": 10,
   "metadata": {},
   "outputs": [],
   "source": [
    "# create tokenizer to parse text into tokens with special characters removed\n",
    "parser = English()\n",
    "def my_tokenizer(sentence):\n",
    "    sentence = rmv_spec_chars(sentence)\n",
    "    mytokens = parser(sentence)\n",
    "    mytokens = [word.lemma_.lower().strip() if word.lemma_ != \"-PRON-\" \n",
    "                else word.lower_ for word in mytokens]\n",
    "    mytokens = [word for word in mytokens if word not in stops and word not in punctuations]\n",
    "    return mytokens"
   ]
  },
  {
   "cell_type": "code",
   "execution_count": 11,
   "metadata": {},
   "outputs": [],
   "source": [
    "# create word_list function to generate a list of words in the text\n",
    "def get_word_list(text, word_list):\n",
    "    for sentence in text:\n",
    "        for word in my_tokenizer(sentence):\n",
    "            word_list.append(word)"
   ]
  },
  {
   "cell_type": "code",
   "execution_count": 12,
   "metadata": {},
   "outputs": [],
   "source": [
    "# get a list of all words each time they occur in the reviews\n",
    "# using tokenizer and the get_word_list function\n",
    "word_list = []\n",
    "get_word_list(vg.reviewText, word_list)"
   ]
  },
  {
   "cell_type": "markdown",
   "metadata": {},
   "source": [
    "#### Generating summary stats for the words and appearances"
   ]
  },
  {
   "cell_type": "code",
   "execution_count": 13,
   "metadata": {},
   "outputs": [],
   "source": [
    "from collections import Counter, defaultdict\n",
    "\n",
    "# get a count of every word\n",
    "token_counts = Counter(word_list)"
   ]
  },
  {
   "cell_type": "code",
   "execution_count": 14,
   "metadata": {},
   "outputs": [
    {
     "name": "stdout",
     "output_type": "stream",
     "text": [
      "The total number of unique words is 252062\n"
     ]
    }
   ],
   "source": [
    "# find the number of unique words in the reviews\n",
    "# stop words excluded\n",
    "print('The total number of unique words is {}'.format(len(token_counts)))"
   ]
  },
  {
   "cell_type": "markdown",
   "metadata": {},
   "source": [
    "#### Generate some basic visualizations for the number of word appearances"
   ]
  },
  {
   "cell_type": "code",
   "execution_count": 16,
   "metadata": {},
   "outputs": [
    {
     "data": {
      "image/png": "[encoded data removed]",
      "text/plain": [
       "<Figure size 432x288 with 1 Axes>"
      ]
     },
     "metadata": {
      "needs_background": "light"
     },
     "output_type": "display_data"
    }
   ],
   "source": [
    "import matplotlib.pyplot as plt\n",
    "\n",
    "# create histogram of word appearances\n",
    "# most words occur infrequently, so threshold for num influences this plot greatly\n",
    "values = []\n",
    "for tup in token_counts.most_common():\n",
    "    word, num = tup\n",
    "    if num > 10000:\n",
    "        values.append(num)\n",
    "_ = plt.hist(values, bins=100)\n",
    "_ = plt.title('Histogram for Number of Appearances')\n",
    "_ = plt.xlabel('Number of Times a Word Appears')\n",
    "_ = plt.ylabel('Number of Words')"
   ]
  },
  {
   "cell_type": "markdown",
   "metadata": {},
   "source": [
    "This histogram shows that most words appear infrequently, but there are a few words that appear way more than the others."
   ]
  },
  {
   "cell_type": "code",
   "execution_count": 17,
   "metadata": {},
   "outputs": [
    {
     "data": {
      "image/png": "[encoded data removed]",
      "text/plain": [
       "<Figure size 432x288 with 1 Axes>"
      ]
     },
     "metadata": {
      "needs_background": "light"
     },
     "output_type": "display_data"
    }
   ],
   "source": [
    "import seaborn as sns\n",
    "\n",
    "# plot the 20 most common words\n",
    "words = []\n",
    "values = []\n",
    "for tup in token_counts.most_common(20):\n",
    "    word, num = tup\n",
    "    words.append(word)\n",
    "    values.append(num)\n",
    "_ = sns.barplot(words, values, palette='muted')\n",
    "_ = plt.xticks(rotation=90)\n",
    "_ = plt.title('20 Most Common Words')\n",
    "_ = plt.xlabel('Word')\n",
    "_ = plt.ylabel('Occurrences')"
   ]
  },
  {
   "cell_type": "markdown",
   "metadata": {},
   "source": [
    "Unsurprisingly, the word that appears the most is 'game'. The other most common words are also displayed here with their number of total appearances. Also of interest is the number of reviews in which a word appears. If a word only appears once, then it may make sense to exclude it from analysis."
   ]
  },
  {
   "cell_type": "code",
   "execution_count": 18,
   "metadata": {},
   "outputs": [],
   "source": [
    "# get a count of the number of reviews where a word appears\n",
    "\n",
    "def get_num_docs(text_series):\n",
    "    \"\"\"Take a text series and and return a default dict.\"\"\"\n",
    "    \n",
    "    # initialize default dict\n",
    "    num_docs = defaultdict(int)\n",
    "    \n",
    "    # iterate through and populate the default dict\n",
    "    for text in text_series:\n",
    "        ls = []\n",
    "        for word in my_tokenizer(text):\n",
    "            if word not in ls:\n",
    "                ls.append(word)\n",
    "        for x in ls:\n",
    "            num_docs[x] += 1\n",
    "            \n",
    "    # return the default dict\n",
    "    return num_docs"
   ]
  },
  {
   "cell_type": "code",
   "execution_count": 19,
   "metadata": {},
   "outputs": [],
   "source": [
    "# get the number of docs in which each word appears\n",
    "num_docs = get_num_docs(vg.reviewText)"
   ]
  },
  {
   "cell_type": "code",
   "execution_count": 20,
   "metadata": {},
   "outputs": [],
   "source": [
    "# store a list of the number of appearances for each word\n",
    "apps = []\n",
    "for key, val in num_docs.items():\n",
    "    apps.append(val)"
   ]
  },
  {
   "cell_type": "code",
   "execution_count": 21,
   "metadata": {},
   "outputs": [
    {
     "data": {
      "image/png": "[encoded data removed]",
      "text/plain": [
       "<Figure size 432x288 with 1 Axes>"
      ]
     },
     "metadata": {
      "needs_background": "light"
     },
     "output_type": "display_data"
    }
   ],
   "source": [
    "# plot the cdf for the number of reviews where each word appears\n",
    "_ = plt.hist(apps, cumulative=True, histtype='step', density=True, bins=np.arange(100))\n",
    "_ = plt.xlim(0,25)\n",
    "_ = plt.xlabel('Number of Docs')\n",
    "_ = plt.ylabel('Cumulative Density')\n",
    "_ = plt.title('Density of Words Appearing \\nin at Least X Reviews')"
   ]
  },
  {
   "cell_type": "markdown",
   "metadata": {},
   "source": [
    "So about 60% of the words in the vocabulary appear in only one review! When creating the sentiment analysis model, it could be useful to set a minimum appearance of 2."
   ]
  },
  {
   "cell_type": "markdown",
   "metadata": {},
   "source": [
    "The next visualization for the words will be a wordcloud using the WordCloud class."
   ]
  },
  {
   "cell_type": "code",
   "execution_count": 22,
   "metadata": {},
   "outputs": [],
   "source": [
    "# import wordcloud\n",
    "from wordcloud import WordCloud"
   ]
  },
  {
   "cell_type": "code",
   "execution_count": 23,
   "metadata": {},
   "outputs": [],
   "source": [
    "# initialize wordcloud object\n",
    "wc = WordCloud(background_color='white', stopwords=stops, max_words=200, \n",
    "               max_font_size=40, scale=3, random_state=42)"
   ]
  },
  {
   "cell_type": "code",
   "execution_count": 24,
   "metadata": {},
   "outputs": [
    {
     "data": {
      "text/plain": [
       "<wordcloud.wordcloud.WordCloud at 0x1c289183748>"
      ]
     },
     "execution_count": 24,
     "metadata": {},
     "output_type": "execute_result"
    }
   ],
   "source": [
    "# generate the wordcloud\n",
    "wc.generate(' '.join(word_list))"
   ]
  },
  {
   "cell_type": "code",
   "execution_count": 25,
   "metadata": {},
   "outputs": [
    {
     "data": {
      "image/png": "[encoded data removed]",
      "text/plain": [
       "<Figure size 864x864 with 1 Axes>"
      ]
     },
     "metadata": {
      "needs_background": "light"
     },
     "output_type": "display_data"
    }
   ],
   "source": [
    "# show the wordcloud\n",
    "fig = plt.figure(1, figsize=(12, 12))\n",
    "plt.axis('off')\n",
    "\n",
    "plt.imshow(wc)\n",
    "plt.show()"
   ]
  },
  {
   "cell_type": "markdown",
   "metadata": {},
   "source": [
    "## Summary of Exploratory Analysis"
   ]
  },
  {
   "cell_type": "markdown",
   "metadata": {},
   "source": [
    "The text data had some very interesting features. It was surprising to find many special characters and emojis in the data. For this analysis, these were removed, and the analysis was performed on the clean text. I think this is a very important result, given that this was not much of an issue when I was originally working with book reviews. \n",
    "\n",
    "This shows the importance of understanding the particular dataset for the problem. While the book reviews came from the same source (Amazon for the years 1996-2014), the content was different enough to require different preprocessing techniques. \n",
    "\n",
    "Plotting word counts showed that over half of the words only appeared in one review. The most common words were plotted, and unsurprisingly, the most common word was game. If using standard models to predict sentiment of reviews, it would be recommended to include only words that appear in two or more reviews.\n",
    "\n",
    "The next step was to use the Flair package for sentiment analysis."
   ]
  },
  {
   "cell_type": "code",
   "execution_count": null,
   "metadata": {},
   "outputs": [],
   "source": []
  },
  {
   "cell_type": "markdown",
   "metadata": {},
   "source": [
    "## Sentiment Analysis of Video Game Reviews"
   ]
  },
  {
   "cell_type": "markdown",
   "metadata": {},
   "source": [
    "The primary goal here is to obtain a model capable of predicting positive or negative sentiment by analyzing the text of a video game review. The first approach is to use a pre-trained model from the Flair package. It should be noted that this model was trained on IMDB reviews, so the model must be assessed for usefulness with a different data set.\n",
    "\n",
    "The pre-trained model did fail, so a model was trained. To see the results of the pre-trained model, see `2_Video_Games_Flair_Model.ipynb`. Only the training of the model is displayed here."
   ]
  },
  {
   "cell_type": "markdown",
   "metadata": {},
   "source": [
    "### Important\n",
    "This recurrent neural network employed with the Flair model uses a substantial amount of resources. It tooks a couple of weeks of trial and error before the model finally completed using a GPU and high RAM instance on Google Colab. Only the output is copied here."
   ]
  },
  {
   "cell_type": "code",
   "execution_count": null,
   "metadata": {
    "colab": {
     "base_uri": "https://localhost:8080/",
     "height": 80
    },
    "colab_type": "code",
    "id": "e21SkqIDWQCY",
    "outputId": "492d1ee7-3386-450f-85df-ff9d63bae72d"
   },
   "outputs": [
    {
     "data": {
      "text/html": [
       "<p style=\"color: red;\">\n",
       "The default version of TensorFlow in Colab will soon switch to TensorFlow 2.x.<br>\n",
       "We recommend you <a href=\"https://www.tensorflow.org/guide/migrate\" target=\"_blank\">upgrade</a> now \n",
       "or ensure your notebook will continue to use TensorFlow 1.x via the <code>%tensorflow_version 1.x</code> magic:\n",
       "<a href=\"https://colab.research.google.com/notebooks/tensorflow_version.ipynb\" target=\"_blank\">more info</a>.</p>\n"
      ],
      "text/plain": [
       "<IPython.core.display.HTML object>"
      ]
     },
     "metadata": {
      "tags": []
     },
     "output_type": "display_data"
    }
   ],
   "source": [
    "# import flair\n",
    "from flair.models import TextClassifier\n",
    "from flair.data import Sentence"
   ]
  },
  {
   "cell_type": "code",
   "execution_count": null,
   "metadata": {
    "colab": {},
    "colab_type": "code",
    "id": "JZB1HRYWXrnv"
   },
   "outputs": [],
   "source": [
    "# map sentiment for two-class model\n",
    "vg.loc[:,'pt_sentiment'] = vg.overall.map({1: 0, 2: 0, 3: 1, 4: 1, 5: 1}).astype('int16')"
   ]
  },
  {
   "cell_type": "code",
   "execution_count": null,
   "metadata": {
    "colab": {
     "base_uri": "https://localhost:8080/",
     "height": 51
    },
    "colab_type": "code",
    "id": "lFqtjP64X87p",
    "outputId": "8538ae68-bae7-48a4-a2f6-cdf8a6243617"
   },
   "outputs": [
    {
     "name": "stdout",
     "output_type": "stream",
     "text": [
      "Positive counts 442407\n",
      "Negative counts 55012\n"
     ]
    }
   ],
   "source": [
    "# get sentiment counts\n",
    "class1_counts = vg.pt_sentiment.value_counts()[1]\n",
    "class0_counts = vg.pt_sentiment.value_counts()[0]\n",
    "print('Positive counts {}'.format(class1_counts))\n",
    "print('Negative counts {}'.format(class0_counts))"
   ]
  },
  {
   "cell_type": "markdown",
   "metadata": {
    "colab_type": "text",
    "id": "BRUqFQgmcTu5"
   },
   "source": [
    "Because the samples were imbalanced, the majority class was downsampled to even out the classes and improve performance of model training."
   ]
  },
  {
   "cell_type": "code",
   "execution_count": null,
   "metadata": {
    "colab": {},
    "colab_type": "code",
    "id": "1gkLoV3pOTqR"
   },
   "outputs": [],
   "source": [
    "# import resample\n",
    "from sklearn.utils import resample\n",
    "\n",
    "# down-sample to balance classes\n",
    "vg_class1 = vg[vg.pt_sentiment == 1]\n",
    "vg_class0 = vg[vg.pt_sentiment == 0]\n",
    "\n",
    "# downsample majority class\n",
    "vg_class1_down = resample(vg_class1, replace=False, n_samples=vg_class0.shape[0], random_state=42)"
   ]
  },
  {
   "cell_type": "code",
   "execution_count": null,
   "metadata": {
    "colab": {
     "base_uri": "https://localhost:8080/",
     "height": 68
    },
    "colab_type": "code",
    "id": "dygdNkWLRKoj",
    "outputId": "fb02c2d4-4470-4d12-e62e-95f8f00c1651"
   },
   "outputs": [
    {
     "data": {
      "text/plain": [
       "1    55012\n",
       "0    55012\n",
       "Name: pt_sentiment, dtype: int64"
      ]
     },
     "execution_count": 14,
     "metadata": {
      "tags": []
     },
     "output_type": "execute_result"
    }
   ],
   "source": [
    "# concat the dfs back together\n",
    "vg_down = pd.concat([vg_class1_down, vg_class0])\n",
    "vg_down.pt_sentiment.value_counts()"
   ]
  },
  {
   "cell_type": "markdown",
   "metadata": {
    "colab_type": "text",
    "id": "MYtY2iuLceJF"
   },
   "source": [
    "Previous exploratory analysis revealed the presence of many special characters. These will be removed from the text prior to training."
   ]
  },
  {
   "cell_type": "code",
   "execution_count": null,
   "metadata": {
    "colab": {},
    "colab_type": "code",
    "id": "8FCZaeCAp1g4"
   },
   "outputs": [],
   "source": [
    "# clean the text\n",
    "vg_down.loc[:,'clean_text'] = vg_down.reviewText.apply(rmv_spec_chars)"
   ]
  },
  {
   "cell_type": "code",
   "execution_count": null,
   "metadata": {
    "colab": {
     "base_uri": "https://localhost:8080/",
     "height": 68
    },
    "colab_type": "code",
    "id": "m1V4Jy0lqKol",
    "outputId": "68100d71-f45e-486c-9c70-a6e2434501bb"
   },
   "outputs": [
    {
     "data": {
      "text/plain": [
       "False    110020\n",
       "True          4\n",
       "Name: invalid, dtype: int64"
      ]
     },
     "execution_count": 18,
     "metadata": {
      "tags": []
     },
     "output_type": "execute_result"
    }
   ],
   "source": [
    "# indicate which text fields are now invalid due to entries that only contain\n",
    "# white space after removal of special characters\n",
    "vg_down.loc[:,'invalid'] = vg_down.clean_text.apply(lambda x: bool(re.match('^\\s+$', x)))\n",
    "vg_down.invalid.value_counts()"
   ]
  },
  {
   "cell_type": "code",
   "execution_count": null,
   "metadata": {
    "colab": {},
    "colab_type": "code",
    "id": "IG17vF6MlxBw"
   },
   "outputs": [],
   "source": [
    "# remove these from the dataset\n",
    "vg_down = vg_down[vg_down.invalid == False]"
   ]
  },
  {
   "cell_type": "code",
   "execution_count": null,
   "metadata": {
    "colab": {},
    "colab_type": "code",
    "id": "CFBtUFOWtwYR"
   },
   "outputs": [],
   "source": [
    "# identify additional invalid entries that have had every character removed\n",
    "# by the cleaning function (entry was entirely special characters)\n",
    "vg_down.loc[:,'invalid'] = vg_down.clean_text.apply(lambda x: len(x) == 0)"
   ]
  },
  {
   "cell_type": "code",
   "execution_count": null,
   "metadata": {
    "colab": {
     "base_uri": "https://localhost:8080/",
     "height": 68
    },
    "colab_type": "code",
    "id": "5kXb9pAKuMF1",
    "outputId": "6c763de7-01cc-400f-c9b7-08900d69c61f"
   },
   "outputs": [
    {
     "data": {
      "text/plain": [
       "False    109987\n",
       "True         33\n",
       "Name: invalid, dtype: int64"
      ]
     },
     "execution_count": 21,
     "metadata": {
      "tags": []
     },
     "output_type": "execute_result"
    }
   ],
   "source": [
    "# inspect the number of invalid entries that are empty\n",
    "vg_down.invalid.value_counts()"
   ]
  },
  {
   "cell_type": "code",
   "execution_count": null,
   "metadata": {
    "colab": {},
    "colab_type": "code",
    "id": "zaqK7A9JuUvF"
   },
   "outputs": [],
   "source": [
    "# remove additional invalid text entries\n",
    "vg_down = vg_down[vg_down.invalid == False]"
   ]
  },
  {
   "cell_type": "code",
   "execution_count": null,
   "metadata": {
    "colab": {
     "base_uri": "https://localhost:8080/",
     "height": 68
    },
    "colab_type": "code",
    "id": "LLiwIhAIlxGw",
    "outputId": "b50eebc7-bc04-498f-eecf-d2f40998a442"
   },
   "outputs": [
    {
     "data": {
      "text/plain": [
       "0    55003\n",
       "1    54984\n",
       "Name: pt_sentiment, dtype: int64"
      ]
     },
     "execution_count": 23,
     "metadata": {
      "tags": []
     },
     "output_type": "execute_result"
    }
   ],
   "source": [
    "# classes are still approximately balanced\n",
    "vg_down.pt_sentiment.value_counts()"
   ]
  },
  {
   "cell_type": "code",
   "execution_count": null,
   "metadata": {
    "colab": {},
    "colab_type": "code",
    "id": "7oHi_MVyYEUG"
   },
   "outputs": [],
   "source": [
    "# split the data into train/validation\n",
    "train_text, test_text, train_labels, test_labels = train_test_split(vg_down.clean_text, \n",
    "                                                                    vg_down.pt_sentiment, \n",
    "                                                                    test_size=0.20,\n",
    "                                                                    random_state=42, \n",
    "                                                                    stratify=vg_down.pt_sentiment)"
   ]
  },
  {
   "cell_type": "code",
   "execution_count": null,
   "metadata": {
    "colab": {},
    "colab_type": "code",
    "id": "RuYATGB-nUrL"
   },
   "outputs": [],
   "source": [
    "# split the test data into test/valid\n",
    "valid_text, test_text, valid_labels, test_labels = train_test_split(test_text, test_labels, \n",
    "                                                                      test_size=0.50,\n",
    "                                                                      random_state=42, \n",
    "                                                                      stratify=test_labels)"
   ]
  },
  {
   "cell_type": "markdown",
   "metadata": {
    "colab_type": "text",
    "id": "T2fKmBvpgb1N"
   },
   "source": [
    "### Manual model training\n",
    "\n",
    "A model was trained using the video games data to try and increase model effectiveness."
   ]
  },
  {
   "cell_type": "code",
   "execution_count": null,
   "metadata": {
    "colab": {},
    "colab_type": "code",
    "id": "uQPZBUb6dQ9T"
   },
   "outputs": [],
   "source": [
    "# manual model training"
   ]
  },
  {
   "cell_type": "code",
   "execution_count": null,
   "metadata": {
    "colab": {},
    "colab_type": "code",
    "id": "V179PtJZdQ64"
   },
   "outputs": [],
   "source": [
    "# write trianing data to file\n",
    "# format for flair is below\n",
    "# '__label__X Here is the text for the review'\n",
    "# where 'X' is the label for the review (0 is negative, 1 is positive)\n",
    "import os.path\n",
    "\n",
    "idxs = train_text.index.values\n",
    "max_idx = max(idxs)\n",
    "\n",
    "if os.path.isfile('train.txt'):\n",
    "    print (\"File already created.\")\n",
    "else:\n",
    "    with open('train.txt', 'w') as file:\n",
    "        for idx in idxs:\n",
    "            line = '__label__'\n",
    "            line += str(train_labels[idx]) + ' '\n",
    "            line += str.replace(train_text[idx], '\\n', ' ')\n",
    "            line += '\\n'\n",
    "            file.write(line)"
   ]
  },
  {
   "cell_type": "code",
   "execution_count": null,
   "metadata": {
    "colab": {},
    "colab_type": "code",
    "id": "G4AOGzDnempD"
   },
   "outputs": [],
   "source": [
    "# write dev.txt\n",
    "max_idx = max(valid_text.index.values)\n",
    "\n",
    "if os.path.isfile('dev.txt'):\n",
    "    print (\"File already created.\")\n",
    "else:\n",
    "    with open('dev.txt', 'w') as file:\n",
    "        for idx in valid_text.index.values:\n",
    "            line = '__label__'\n",
    "            line += str(valid_labels[idx]) + ' '\n",
    "            line += str.replace(valid_text[idx], '\\n', ' ')\n",
    "            line += '\\n'\n",
    "            file.write(line)"
   ]
  },
  {
   "cell_type": "code",
   "execution_count": null,
   "metadata": {
    "colab": {},
    "colab_type": "code",
    "id": "zzYWvHfPduhj"
   },
   "outputs": [],
   "source": [
    "# write test.txt\n",
    "import os.path\n",
    "\n",
    "max_idx = max(test_text.index.values)\n",
    "\n",
    "if os.path.isfile('test.txt'):\n",
    "    print (\"File already created.\")\n",
    "else:\n",
    "    with open('test.txt', 'w') as file:\n",
    "        for idx in test_text.index.values:\n",
    "            line = '__label__'\n",
    "            line += str(test_labels[idx]) + ' '\n",
    "            line += str.replace(test_text[idx], '\\n', ' ')\n",
    "            line += '\\n'\n",
    "            file.write(line)"
   ]
  },
  {
   "cell_type": "code",
   "execution_count": null,
   "metadata": {
    "colab": {},
    "colab_type": "code",
    "id": "8zs1wk8GkbOb"
   },
   "outputs": [],
   "source": [
    "# import necessary packages\n",
    "from flair.data import Corpus\n",
    "from flair.datasets import ClassificationCorpus\n",
    "from flair.trainers import ModelTrainer\n",
    "from pathlib import Path"
   ]
  },
  {
   "cell_type": "code",
   "execution_count": null,
   "metadata": {
    "colab": {
     "base_uri": "https://localhost:8080/",
     "height": 34
    },
    "colab_type": "code",
    "id": "EJoxUVFTQTtP",
    "outputId": "79747810-7ac7-490f-9438-5afe3d9609e6"
   },
   "outputs": [
    {
     "data": {
      "text/plain": [
       "True"
      ]
     },
     "execution_count": 30,
     "metadata": {
      "tags": []
     },
     "output_type": "execute_result"
    }
   ],
   "source": [
    "# check for GPU availability\n",
    "import torch\n",
    "torch.cuda.is_available()"
   ]
  },
  {
   "cell_type": "code",
   "execution_count": null,
   "metadata": {
    "colab": {},
    "colab_type": "code",
    "id": "Yx_H5-TWQAR0"
   },
   "outputs": [],
   "source": [
    "# set storage and GPU usage\n",
    "import flair\n",
    "device = torch.device('cuda:0')\n",
    "map_location=lambda storage, loc: storage.cuda()"
   ]
  },
  {
   "cell_type": "code",
   "execution_count": null,
   "metadata": {
    "colab": {
     "base_uri": "https://localhost:8080/",
     "height": 85
    },
    "colab_type": "code",
    "id": "1kFH0vcdkiSZ",
    "outputId": "e2c800e9-cd15-4153-fb1c-3c13f240ba7b"
   },
   "outputs": [
    {
     "name": "stdout",
     "output_type": "stream",
     "text": [
      "2020-03-06 12:04:04,963 Reading data from .\n",
      "2020-03-06 12:04:04,964 Train: train.txt\n",
      "2020-03-06 12:04:04,965 Dev: dev.txt\n",
      "2020-03-06 12:04:04,966 Test: test.txt\n"
     ]
    }
   ],
   "source": [
    "# create corpus containing training, test and dev data\n",
    "corpus: Corpus = ClassificationCorpus('./',\n",
    "                                      test_file='test.txt',\n",
    "                                      dev_file='dev.txt',\n",
    "                                      train_file='train.txt')"
   ]
  },
  {
   "cell_type": "code",
   "execution_count": null,
   "metadata": {
    "colab": {
     "base_uri": "https://localhost:8080/",
     "height": 34
    },
    "colab_type": "code",
    "id": "JbH84dyYoaf4",
    "outputId": "f36f8a28-415a-41fa-e540-4d61139d61fa"
   },
   "outputs": [
    {
     "data": {
      "text/plain": [
       "flair.datasets.ClassificationCorpus"
      ]
     },
     "execution_count": 33,
     "metadata": {
      "tags": []
     },
     "output_type": "execute_result"
    }
   ],
   "source": [
    "type(corpus)"
   ]
  },
  {
   "cell_type": "code",
   "execution_count": null,
   "metadata": {
    "colab": {},
    "colab_type": "code",
    "id": "B58JDz5LodEa"
   },
   "outputs": [],
   "source": []
  },
  {
   "cell_type": "code",
   "execution_count": null,
   "metadata": {
    "colab": {
     "base_uri": "https://localhost:8080/",
     "height": 68
    },
    "colab_type": "code",
    "id": "ouF7bUX3oieE",
    "outputId": "55738b51-7b26-4910-fc85-70a5f79474af"
   },
   "outputs": [
    {
     "name": "stdout",
     "output_type": "stream",
     "text": [
      "2020-03-06 12:04:08,825 Computing label dictionary. Progress:\n"
     ]
    },
    {
     "name": "stderr",
     "output_type": "stream",
     "text": [
      "100%|██████████| 87989/87989 [02:00<00:00, 728.54it/s]"
     ]
    },
    {
     "name": "stdout",
     "output_type": "stream",
     "text": [
      "2020-03-06 12:06:09,856 [b'0', b'1']\n"
     ]
    },
    {
     "name": "stderr",
     "output_type": "stream",
     "text": [
      "\n"
     ]
    }
   ],
   "source": [
    "# generate label dictionary\n",
    "# fails if there are text entries that are invalid\n",
    "# (see removal of invalid entries above)\n",
    "label_dictionary=corpus.make_label_dictionary()"
   ]
  },
  {
   "cell_type": "code",
   "execution_count": null,
   "metadata": {
    "colab": {},
    "colab_type": "code",
    "id": "MAp1sAmSkxB3"
   },
   "outputs": [],
   "source": [
    "# import embeddings\n",
    "from flair.embeddings import TokenEmbeddings, WordEmbeddings, StackedEmbeddings\n",
    "from flair.embeddings import FlairEmbeddings, DocumentRNNEmbeddings\n",
    "from typing import List"
   ]
  },
  {
   "cell_type": "code",
   "execution_count": null,
   "metadata": {
    "colab": {
     "base_uri": "https://localhost:8080/",
     "height": 343
    },
    "colab_type": "code",
    "id": "41HWFz33k85h",
    "outputId": "e5c2b8d5-8050-443c-e877-3c66953adc29"
   },
   "outputs": [
    {
     "name": "stdout",
     "output_type": "stream",
     "text": [
      "2020-03-06 12:06:42,392 https://s3.eu-central-1.amazonaws.com/alan-nlp/resources/embeddings/glove.gensim.vectors.npy not found in cache, downloading to /tmp/tmps22mmdnm\n"
     ]
    },
    {
     "name": "stderr",
     "output_type": "stream",
     "text": [
      "100%|██████████| 160000128/160000128 [00:07<00:00, 21643320.42B/s]"
     ]
    },
    {
     "name": "stdout",
     "output_type": "stream",
     "text": [
      "2020-03-06 12:06:50,340 copying /tmp/tmps22mmdnm to cache at /root/.flair/embeddings/glove.gensim.vectors.npy\n"
     ]
    },
    {
     "name": "stderr",
     "output_type": "stream",
     "text": [
      "\n"
     ]
    },
    {
     "name": "stdout",
     "output_type": "stream",
     "text": [
      "2020-03-06 12:06:50,474 removing temp file /tmp/tmps22mmdnm\n",
      "2020-03-06 12:06:53,690 https://s3.eu-central-1.amazonaws.com/alan-nlp/resources/embeddings/glove.gensim not found in cache, downloading to /tmp/tmpocvo3o07\n"
     ]
    },
    {
     "name": "stderr",
     "output_type": "stream",
     "text": [
      "100%|██████████| 21494764/21494764 [00:01<00:00, 13293235.60B/s]"
     ]
    },
    {
     "name": "stdout",
     "output_type": "stream",
     "text": [
      "2020-03-06 12:06:55,850 copying /tmp/tmpocvo3o07 to cache at /root/.flair/embeddings/glove.gensim\n",
      "2020-03-06 12:06:55,876 removing temp file /tmp/tmpocvo3o07\n"
     ]
    },
    {
     "name": "stderr",
     "output_type": "stream",
     "text": [
      "\n",
      "/usr/local/lib/python3.6/dist-packages/smart_open/smart_open_lib.py:402: UserWarning: This function is deprecated, use smart_open.open instead. See the migration notes for details: https://github.com/RaRe-Technologies/smart_open/blob/master/README.rst#migrating-to-the-new-open-function\n",
      "  'See the migration notes for details: %s' % _MIGRATION_NOTES_URL\n"
     ]
    },
    {
     "name": "stdout",
     "output_type": "stream",
     "text": [
      "2020-03-06 12:06:58,037 https://s3.eu-central-1.amazonaws.com/alan-nlp/resources/embeddings/lm-news-english-forward-1024-v0.2rc.pt not found in cache, downloading to /tmp/tmpb0n2u7n5\n"
     ]
    },
    {
     "name": "stderr",
     "output_type": "stream",
     "text": [
      "100%|██████████| 19689779/19689779 [00:01<00:00, 13768414.46B/s]"
     ]
    },
    {
     "name": "stdout",
     "output_type": "stream",
     "text": [
      "2020-03-06 12:07:00,036 copying /tmp/tmpb0n2u7n5 to cache at /root/.flair/embeddings/lm-news-english-forward-1024-v0.2rc.pt\n",
      "2020-03-06 12:07:00,053 removing temp file /tmp/tmpb0n2u7n5\n"
     ]
    },
    {
     "name": "stderr",
     "output_type": "stream",
     "text": [
      "\n"
     ]
    },
    {
     "name": "stdout",
     "output_type": "stream",
     "text": [
      "2020-03-06 12:07:10,278 https://s3.eu-central-1.amazonaws.com/alan-nlp/resources/embeddings/lm-news-english-backward-1024-v0.2rc.pt not found in cache, downloading to /tmp/tmp5or7bv9h\n"
     ]
    },
    {
     "name": "stderr",
     "output_type": "stream",
     "text": [
      "100%|██████████| 19689779/19689779 [00:01<00:00, 12988348.27B/s]"
     ]
    },
    {
     "name": "stdout",
     "output_type": "stream",
     "text": [
      "2020-03-06 12:07:12,300 copying /tmp/tmp5or7bv9h to cache at /root/.flair/embeddings/lm-news-english-backward-1024-v0.2rc.pt\n",
      "2020-03-06 12:07:12,320 removing temp file /tmp/tmp5or7bv9h\n"
     ]
    },
    {
     "name": "stderr",
     "output_type": "stream",
     "text": [
      "\n"
     ]
    }
   ],
   "source": [
    "# create word embeddings\n",
    "word_embeddings = [WordEmbeddings('glove'), FlairEmbeddings('news-forward-fast'), \n",
    "                   FlairEmbeddings('news-backward-fast')]"
   ]
  },
  {
   "cell_type": "code",
   "execution_count": null,
   "metadata": {
    "colab": {},
    "colab_type": "code",
    "id": "08e0-1TglAoi"
   },
   "outputs": [],
   "source": [
    "# build the RNN document embeddings\n",
    "document_embeddings = DocumentRNNEmbeddings(word_embeddings, hidden_size=512, \n",
    "                                            reproject_words=True, reproject_words_dimension=256,\n",
    "                                            rnn_type='LSTM')"
   ]
  },
  {
   "cell_type": "code",
   "execution_count": null,
   "metadata": {
    "colab": {},
    "colab_type": "code",
    "id": "hrMGol1-lHBz"
   },
   "outputs": [],
   "source": [
    "# create the classifier\n",
    "classifier = TextClassifier(document_embeddings, \n",
    "                            label_dictionary=label_dictionary, \n",
    "                            multi_label=False)"
   ]
  },
  {
   "cell_type": "code",
   "execution_count": null,
   "metadata": {
    "colab": {},
    "colab_type": "code",
    "id": "GLKUNdNSlLBQ"
   },
   "outputs": [],
   "source": [
    "# create a model trainer\n",
    "trainer = ModelTrainer(classifier, corpus)"
   ]
  },
  {
   "cell_type": "code",
   "execution_count": null,
   "metadata": {
    "colab": {
     "base_uri": "https://localhost:8080/",
     "height": 1000
    },
    "colab_type": "code",
    "id": "AkaWGTe7lO9w",
    "outputId": "d4af82b9-fc03-40c9-b2a5-4be57587ab1c"
   },
   "outputs": [
    {
     "name": "stdout",
     "output_type": "stream",
     "text": [
      "2020-03-06 12:07:23,458 ----------------------------------------------------------------------------------------------------\n",
      "2020-03-06 12:07:23,459 Model: \"TextClassifier(\n",
      "  (document_embeddings): DocumentRNNEmbeddings(\n",
      "    (embeddings): StackedEmbeddings(\n",
      "      (list_embedding_0): WordEmbeddings('glove')\n",
      "      (list_embedding_1): FlairEmbeddings(\n",
      "        (lm): LanguageModel(\n",
      "          (drop): Dropout(p=0.25, inplace=False)\n",
      "          (encoder): Embedding(275, 100)\n",
      "          (rnn): LSTM(100, 1024)\n",
      "          (decoder): Linear(in_features=1024, out_features=275, bias=True)\n",
      "        )\n",
      "      )\n",
      "      (list_embedding_2): FlairEmbeddings(\n",
      "        (lm): LanguageModel(\n",
      "          (drop): Dropout(p=0.25, inplace=False)\n",
      "          (encoder): Embedding(275, 100)\n",
      "          (rnn): LSTM(100, 1024)\n",
      "          (decoder): Linear(in_features=1024, out_features=275, bias=True)\n",
      "        )\n",
      "      )\n",
      "    )\n",
      "    (word_reprojection_map): Linear(in_features=2148, out_features=256, bias=True)\n",
      "    (rnn): LSTM(256, 512, batch_first=True)\n",
      "    (dropout): Dropout(p=0.5, inplace=False)\n",
      "  )\n",
      "  (decoder): Linear(in_features=512, out_features=2, bias=True)\n",
      "  (loss_function): CrossEntropyLoss()\n",
      "  (beta): 1.0\n",
      "  (weights): None\n",
      "  (weight_tensor) None\n",
      ")\"\n",
      "2020-03-06 12:07:23,462 ----------------------------------------------------------------------------------------------------\n",
      "2020-03-06 12:07:23,463 Corpus: \"Corpus: 87989 train + 10999 dev + 10999 test sentences\"\n",
      "2020-03-06 12:07:23,464 ----------------------------------------------------------------------------------------------------\n",
      "2020-03-06 12:07:23,465 Parameters:\n",
      "2020-03-06 12:07:23,465  - learning_rate: \"0.1\"\n",
      "2020-03-06 12:07:23,466  - mini_batch_size: \"32\"\n",
      "2020-03-06 12:07:23,467  - patience: \"3\"\n",
      "2020-03-06 12:07:23,468  - anneal_factor: \"0.5\"\n",
      "2020-03-06 12:07:23,469  - max_epochs: \"10\"\n",
      "2020-03-06 12:07:23,470  - shuffle: \"True\"\n",
      "2020-03-06 12:07:23,471  - train_with_dev: \"False\"\n",
      "2020-03-06 12:07:23,472  - batch_growth_annealing: \"False\"\n",
      "2020-03-06 12:07:23,472 ----------------------------------------------------------------------------------------------------\n",
      "2020-03-06 12:07:23,473 Model training base path: \".\"\n",
      "2020-03-06 12:07:23,474 ----------------------------------------------------------------------------------------------------\n",
      "2020-03-06 12:07:23,474 Device: cuda:0\n",
      "2020-03-06 12:07:23,475 ----------------------------------------------------------------------------------------------------\n",
      "2020-03-06 12:07:23,476 Embeddings storage mode: gpu\n",
      "2020-03-06 12:07:23,477 ----------------------------------------------------------------------------------------------------\n",
      "2020-03-06 12:13:44,190 epoch 1 - iter 275/2750 - loss 0.66566965 - samples/sec: 23.96\n",
      "2020-03-06 12:20:30,629 epoch 1 - iter 550/2750 - loss 0.65452393 - samples/sec: 22.36\n",
      "2020-03-06 12:27:07,126 epoch 1 - iter 825/2750 - loss 0.64385663 - samples/sec: 22.99\n",
      "2020-03-06 12:33:28,559 epoch 1 - iter 1100/2750 - loss 0.63625566 - samples/sec: 23.90\n",
      "2020-03-06 12:39:38,366 epoch 1 - iter 1375/2750 - loss 0.62994053 - samples/sec: 24.75\n",
      "2020-03-06 12:45:43,649 epoch 1 - iter 1650/2750 - loss 0.62482286 - samples/sec: 25.00\n",
      "2020-03-06 12:51:46,546 epoch 1 - iter 1925/2750 - loss 0.61980767 - samples/sec: 25.21\n",
      "2020-03-06 12:58:07,475 epoch 1 - iter 2200/2750 - loss 0.61622284 - samples/sec: 24.01\n",
      "2020-03-06 13:04:25,410 epoch 1 - iter 2475/2750 - loss 0.61324672 - samples/sec: 24.12\n",
      "2020-03-06 13:10:42,196 epoch 1 - iter 2750/2750 - loss 0.60989976 - samples/sec: 24.11\n",
      "2020-03-06 13:10:42,337 ----------------------------------------------------------------------------------------------------\n",
      "2020-03-06 13:10:42,338 EPOCH 1 done: loss 0.6099 - lr 0.1000\n",
      "2020-03-06 13:18:31,287 DEV : loss 0.5848524570465088 - score 0.7052\n",
      "2020-03-06 13:25:57,318 TEST : loss 0.5844477415084839 - score 0.7115\n",
      "2020-03-06 13:26:04,701 BAD EPOCHS (no improvement): 0\n",
      "2020-03-06 13:26:07,481 ----------------------------------------------------------------------------------------------------\n",
      "2020-03-06 13:32:21,394 epoch 2 - iter 275/2750 - loss 0.57263743 - samples/sec: 24.35\n",
      "2020-03-06 13:38:54,499 epoch 2 - iter 550/2750 - loss 0.57209893 - samples/sec: 23.18\n",
      "2020-03-06 13:45:02,111 epoch 2 - iter 825/2750 - loss 0.56993982 - samples/sec: 24.66\n",
      "2020-03-06 13:51:49,999 epoch 2 - iter 1100/2750 - loss 0.56610347 - samples/sec: 22.38\n",
      "2020-03-06 13:58:10,677 epoch 2 - iter 1375/2750 - loss 0.56562912 - samples/sec: 23.94\n",
      "2020-03-06 14:04:26,170 epoch 2 - iter 1650/2750 - loss 0.56145454 - samples/sec: 24.30\n",
      "2020-03-06 14:10:42,591 epoch 2 - iter 1925/2750 - loss 0.55970724 - samples/sec: 24.21\n",
      "2020-03-06 14:17:09,330 epoch 2 - iter 2200/2750 - loss 0.56047132 - samples/sec: 23.57\n",
      "2020-03-06 14:23:44,258 epoch 2 - iter 2475/2750 - loss 0.55787197 - samples/sec: 23.18\n",
      "2020-03-06 14:30:21,029 epoch 2 - iter 2750/2750 - loss 0.55767002 - samples/sec: 22.98\n",
      "2020-03-06 14:30:21,216 ----------------------------------------------------------------------------------------------------\n",
      "2020-03-06 14:30:21,217 EPOCH 2 done: loss 0.5577 - lr 0.1000\n",
      "2020-03-06 14:38:17,699 DEV : loss 0.4969259202480316 - score 0.7824\n",
      "2020-03-06 14:45:45,318 TEST : loss 0.4989779591560364 - score 0.7786\n",
      "2020-03-06 14:45:52,705 BAD EPOCHS (no improvement): 0\n",
      "2020-03-06 14:45:55,478 ----------------------------------------------------------------------------------------------------\n",
      "2020-03-06 14:52:17,300 epoch 3 - iter 275/2750 - loss 0.52962901 - samples/sec: 23.89\n",
      "2020-03-06 14:58:46,376 epoch 3 - iter 550/2750 - loss 0.53025690 - samples/sec: 23.61\n",
      "2020-03-06 15:05:36,433 epoch 3 - iter 825/2750 - loss 0.52949374 - samples/sec: 22.13\n",
      "2020-03-06 15:12:05,092 epoch 3 - iter 1100/2750 - loss 0.53032441 - samples/sec: 23.38\n",
      "2020-03-06 15:18:32,259 epoch 3 - iter 1375/2750 - loss 0.52912843 - samples/sec: 23.50\n",
      "2020-03-06 15:24:59,395 epoch 3 - iter 1650/2750 - loss 0.52387075 - samples/sec: 23.59\n",
      "2020-03-06 15:31:33,602 epoch 3 - iter 1925/2750 - loss 0.52210276 - samples/sec: 23.11\n",
      "2020-03-06 15:37:51,316 epoch 3 - iter 2200/2750 - loss 0.52088904 - samples/sec: 24.19\n",
      "2020-03-06 15:43:59,444 epoch 3 - iter 2475/2750 - loss 0.51851891 - samples/sec: 24.82\n",
      "2020-03-06 15:50:19,993 epoch 3 - iter 2750/2750 - loss 0.51868849 - samples/sec: 24.05\n",
      "2020-03-06 15:50:20,169 ----------------------------------------------------------------------------------------------------\n",
      "2020-03-06 15:50:20,170 EPOCH 3 done: loss 0.5187 - lr 0.1000\n",
      "2020-03-06 15:58:14,473 DEV : loss 0.47617119550704956 - score 0.7925\n",
      "2020-03-06 16:05:44,632 TEST : loss 0.48619160056114197 - score 0.7887\n",
      "2020-03-06 16:05:52,227 BAD EPOCHS (no improvement): 0\n",
      "2020-03-06 16:05:55,093 ----------------------------------------------------------------------------------------------------\n",
      "2020-03-06 16:12:23,345 epoch 4 - iter 275/2750 - loss 0.49113322 - samples/sec: 23.47\n",
      "2020-03-06 16:19:20,952 epoch 4 - iter 550/2750 - loss 0.48562555 - samples/sec: 21.90\n",
      "2020-03-06 16:25:40,508 epoch 4 - iter 825/2750 - loss 0.48821102 - samples/sec: 24.01\n",
      "2020-03-06 16:31:53,642 epoch 4 - iter 1100/2750 - loss 0.49131934 - samples/sec: 24.54\n",
      "2020-03-06 16:38:18,512 epoch 4 - iter 1375/2750 - loss 0.49443614 - samples/sec: 23.87\n",
      "2020-03-06 16:44:39,742 epoch 4 - iter 1650/2750 - loss 0.49269107 - samples/sec: 24.03\n",
      "2020-03-06 16:50:59,496 epoch 4 - iter 1925/2750 - loss 0.49037990 - samples/sec: 24.11\n",
      "2020-03-06 16:57:48,166 epoch 4 - iter 2200/2750 - loss 0.48799069 - samples/sec: 22.28\n",
      "2020-03-06 17:04:09,589 epoch 4 - iter 2475/2750 - loss 0.48651532 - samples/sec: 23.82\n",
      "2020-03-06 17:10:10,989 epoch 4 - iter 2750/2750 - loss 0.48364262 - samples/sec: 25.30\n",
      "2020-03-06 17:10:11,172 ----------------------------------------------------------------------------------------------------\n",
      "2020-03-06 17:10:11,173 EPOCH 4 done: loss 0.4836 - lr 0.1000\n",
      "2020-03-06 17:18:00,497 DEV : loss 0.3954060971736908 - score 0.8242\n",
      "2020-03-06 17:25:27,184 TEST : loss 0.4098884165287018 - score 0.8175\n",
      "2020-03-06 17:25:34,458 BAD EPOCHS (no improvement): 0\n",
      "2020-03-06 17:25:37,215 ----------------------------------------------------------------------------------------------------\n",
      "2020-03-06 17:31:44,354 epoch 5 - iter 275/2750 - loss 0.45379276 - samples/sec: 24.93\n",
      "2020-03-06 17:38:27,272 epoch 5 - iter 550/2750 - loss 0.44910069 - samples/sec: 22.75\n",
      "2020-03-06 17:44:36,580 epoch 5 - iter 825/2750 - loss 0.44836385 - samples/sec: 24.76\n",
      "2020-03-06 17:50:59,816 epoch 5 - iter 1100/2750 - loss 0.44470936 - samples/sec: 23.86\n",
      "2020-03-06 17:57:31,259 epoch 5 - iter 1375/2750 - loss 0.44365263 - samples/sec: 23.33\n",
      "2020-03-06 18:04:08,303 epoch 5 - iter 1650/2750 - loss 0.43905195 - samples/sec: 22.96\n",
      "2020-03-06 18:10:30,231 epoch 5 - iter 1925/2750 - loss 0.43653536 - samples/sec: 23.85\n",
      "2020-03-06 18:17:02,456 epoch 5 - iter 2200/2750 - loss 0.43439710 - samples/sec: 23.34\n",
      "2020-03-06 18:23:13,845 epoch 5 - iter 2475/2750 - loss 0.43411271 - samples/sec: 24.69\n",
      "2020-03-06 18:29:28,164 epoch 5 - iter 2750/2750 - loss 0.43293249 - samples/sec: 24.28\n",
      "2020-03-06 18:29:28,349 ----------------------------------------------------------------------------------------------------\n",
      "2020-03-06 18:29:28,350 EPOCH 5 done: loss 0.4329 - lr 0.1000\n",
      "2020-03-06 18:37:16,905 DEV : loss 0.3654356300830841 - score 0.8434\n",
      "2020-03-06 18:44:42,063 TEST : loss 0.3764975368976593 - score 0.8358\n",
      "2020-03-06 18:44:49,402 BAD EPOCHS (no improvement): 0\n",
      "2020-03-06 18:44:52,121 ----------------------------------------------------------------------------------------------------\n",
      "2020-03-06 18:51:13,446 epoch 6 - iter 275/2750 - loss 0.41669655 - samples/sec: 23.96\n",
      "2020-03-06 18:57:47,009 epoch 6 - iter 550/2750 - loss 0.41830936 - samples/sec: 23.14\n",
      "2020-03-06 19:03:59,276 epoch 6 - iter 825/2750 - loss 0.41443238 - samples/sec: 24.56\n",
      "2020-03-06 19:10:27,858 epoch 6 - iter 1100/2750 - loss 0.41480508 - samples/sec: 23.43\n",
      "2020-03-06 19:16:51,211 epoch 6 - iter 1375/2750 - loss 0.41327860 - samples/sec: 23.67\n",
      "2020-03-06 19:23:15,915 epoch 6 - iter 1650/2750 - loss 0.41087509 - samples/sec: 23.69\n",
      "2020-03-06 19:29:21,858 epoch 6 - iter 1925/2750 - loss 0.40883910 - samples/sec: 24.88\n",
      "2020-03-06 19:35:39,124 epoch 6 - iter 2200/2750 - loss 0.40843446 - samples/sec: 24.08\n",
      "2020-03-06 19:42:01,973 epoch 6 - iter 2475/2750 - loss 0.40746684 - samples/sec: 23.80\n",
      "2020-03-06 19:48:12,709 epoch 6 - iter 2750/2750 - loss 0.40748177 - samples/sec: 24.78\n",
      "2020-03-06 19:48:12,896 ----------------------------------------------------------------------------------------------------\n",
      "2020-03-06 19:48:12,898 EPOCH 6 done: loss 0.4075 - lr 0.1000\n",
      "2020-03-06 19:56:00,566 DEV : loss 0.36571887135505676 - score 0.8413\n",
      "2020-03-06 20:03:26,202 TEST : loss 0.37518227100372314 - score 0.8321\n",
      "2020-03-06 20:03:33,140 BAD EPOCHS (no improvement): 1\n",
      "2020-03-06 20:03:33,141 ----------------------------------------------------------------------------------------------------\n",
      "2020-03-06 20:10:02,589 epoch 7 - iter 275/2750 - loss 0.39887658 - samples/sec: 23.60\n",
      "2020-03-06 20:16:30,874 epoch 7 - iter 550/2750 - loss 0.39608066 - samples/sec: 23.44\n",
      "2020-03-06 20:23:01,229 epoch 7 - iter 825/2750 - loss 0.39570045 - samples/sec: 23.36\n",
      "2020-03-06 20:29:33,166 epoch 7 - iter 1100/2750 - loss 0.39543992 - samples/sec: 23.15\n",
      "2020-03-06 20:35:45,491 epoch 7 - iter 1375/2750 - loss 0.39489273 - samples/sec: 24.61\n",
      "2020-03-06 20:42:03,756 epoch 7 - iter 1650/2750 - loss 0.39517156 - samples/sec: 24.28\n",
      "2020-03-06 20:48:21,325 epoch 7 - iter 1925/2750 - loss 0.39458086 - samples/sec: 24.38\n",
      "2020-03-06 20:54:32,258 epoch 7 - iter 2200/2750 - loss 0.39499466 - samples/sec: 24.58\n",
      "2020-03-06 21:00:51,616 epoch 7 - iter 2475/2750 - loss 0.39348681 - samples/sec: 24.05\n",
      "2020-03-06 21:07:12,684 epoch 7 - iter 2750/2750 - loss 0.39356247 - samples/sec: 23.97\n",
      "2020-03-06 21:07:12,879 ----------------------------------------------------------------------------------------------------\n",
      "2020-03-06 21:07:12,881 EPOCH 7 done: loss 0.3936 - lr 0.1000\n",
      "2020-03-06 21:15:02,901 DEV : loss 0.3485885262489319 - score 0.8472\n",
      "2020-03-06 21:22:28,930 TEST : loss 0.3561328947544098 - score 0.8418\n",
      "2020-03-06 21:22:36,300 BAD EPOCHS (no improvement): 0\n",
      "2020-03-06 21:22:39,039 ----------------------------------------------------------------------------------------------------\n",
      "2020-03-06 21:28:54,244 epoch 8 - iter 275/2750 - loss 0.38214110 - samples/sec: 24.38\n",
      "2020-03-06 21:35:11,437 epoch 8 - iter 550/2750 - loss 0.37953768 - samples/sec: 24.14\n",
      "2020-03-06 21:41:33,153 epoch 8 - iter 825/2750 - loss 0.38233982 - samples/sec: 23.77\n",
      "2020-03-06 21:47:53,397 epoch 8 - iter 1100/2750 - loss 0.38349245 - samples/sec: 24.01\n",
      "2020-03-06 21:54:19,094 epoch 8 - iter 1375/2750 - loss 0.38440107 - samples/sec: 23.59\n",
      "2020-03-06 22:00:31,794 epoch 8 - iter 1650/2750 - loss 0.38365548 - samples/sec: 24.47\n",
      "2020-03-06 22:07:04,823 epoch 8 - iter 1925/2750 - loss 0.38309529 - samples/sec: 23.13\n",
      "2020-03-06 22:13:20,362 epoch 8 - iter 2200/2750 - loss 0.38212403 - samples/sec: 24.38\n",
      "2020-03-06 22:19:41,362 epoch 8 - iter 2475/2750 - loss 0.38131225 - samples/sec: 24.06\n",
      "2020-03-06 22:26:18,059 epoch 8 - iter 2750/2750 - loss 0.38131629 - samples/sec: 22.97\n",
      "2020-03-06 22:26:18,252 ----------------------------------------------------------------------------------------------------\n",
      "2020-03-06 22:26:18,254 EPOCH 8 done: loss 0.3813 - lr 0.1000\n",
      "2020-03-06 22:34:06,269 DEV : loss 0.34102949500083923 - score 0.8493\n",
      "2020-03-06 22:41:30,837 TEST : loss 0.3550140857696533 - score 0.8404\n",
      "2020-03-06 22:41:38,192 BAD EPOCHS (no improvement): 0\n",
      "2020-03-06 22:41:40,956 ----------------------------------------------------------------------------------------------------\n",
      "2020-03-06 22:47:54,098 epoch 9 - iter 275/2750 - loss 0.37412553 - samples/sec: 24.53\n",
      "2020-03-06 22:54:31,641 epoch 9 - iter 550/2750 - loss 0.37228632 - samples/sec: 22.92\n",
      "2020-03-06 23:00:59,206 epoch 9 - iter 825/2750 - loss 0.37254596 - samples/sec: 23.64\n",
      "2020-03-06 23:07:07,273 epoch 9 - iter 1100/2750 - loss 0.37281096 - samples/sec: 24.88\n",
      "2020-03-06 23:13:21,990 epoch 9 - iter 1375/2750 - loss 0.37452904 - samples/sec: 24.42\n",
      "2020-03-06 23:20:09,137 epoch 9 - iter 1650/2750 - loss 0.37435261 - samples/sec: 22.35\n",
      "2020-03-06 23:26:12,781 epoch 9 - iter 1925/2750 - loss 0.37471364 - samples/sec: 25.10\n",
      "2020-03-06 23:32:23,146 epoch 9 - iter 2200/2750 - loss 0.37479148 - samples/sec: 24.62\n",
      "2020-03-06 23:39:03,531 epoch 9 - iter 2475/2750 - loss 0.37406010 - samples/sec: 22.74\n",
      "2020-03-06 23:45:13,502 epoch 9 - iter 2750/2750 - loss 0.37357333 - samples/sec: 24.73\n",
      "2020-03-06 23:45:13,679 ----------------------------------------------------------------------------------------------------\n",
      "2020-03-06 23:45:13,682 EPOCH 9 done: loss 0.3736 - lr 0.1000\n",
      "2020-03-06 23:53:01,542 DEV : loss 0.31357282400131226 - score 0.8677\n",
      "2020-03-07 00:00:25,667 TEST : loss 0.32247284054756165 - score 0.8611\n",
      "2020-03-07 00:00:32,896 BAD EPOCHS (no improvement): 0\n",
      "2020-03-07 00:00:35,589 ----------------------------------------------------------------------------------------------------\n",
      "2020-03-07 00:06:40,404 epoch 10 - iter 275/2750 - loss 0.37292337 - samples/sec: 25.08\n",
      "2020-03-07 00:13:18,859 epoch 10 - iter 550/2750 - loss 0.36621408 - samples/sec: 22.85\n",
      "2020-03-07 00:19:31,256 epoch 10 - iter 825/2750 - loss 0.36060549 - samples/sec: 24.50\n",
      "2020-03-07 00:26:00,221 epoch 10 - iter 1100/2750 - loss 0.36270235 - samples/sec: 23.39\n",
      "2020-03-07 00:32:32,852 epoch 10 - iter 1375/2750 - loss 0.36135359 - samples/sec: 23.21\n",
      "2020-03-07 00:39:06,420 epoch 10 - iter 1650/2750 - loss 0.36142052 - samples/sec: 23.16\n",
      "2020-03-07 00:45:20,522 epoch 10 - iter 1925/2750 - loss 0.36372587 - samples/sec: 24.39\n",
      "2020-03-07 00:51:43,098 epoch 10 - iter 2200/2750 - loss 0.36492146 - samples/sec: 23.94\n",
      "2020-03-07 00:58:10,637 epoch 10 - iter 2475/2750 - loss 0.36354161 - samples/sec: 23.50\n",
      "2020-03-07 01:04:25,226 epoch 10 - iter 2750/2750 - loss 0.36221177 - samples/sec: 24.33\n",
      "2020-03-07 01:04:25,411 ----------------------------------------------------------------------------------------------------\n",
      "2020-03-07 01:04:25,412 EPOCH 10 done: loss 0.3622 - lr 0.1000\n",
      "2020-03-07 01:12:14,425 DEV : loss 0.30910471081733704 - score 0.8698\n",
      "2020-03-07 01:19:41,438 TEST : loss 0.32370784878730774 - score 0.8612\n",
      "2020-03-07 01:19:48,363 BAD EPOCHS (no improvement): 0\n",
      "2020-03-07 01:19:53,911 ----------------------------------------------------------------------------------------------------\n",
      "2020-03-07 01:19:53,912 Testing using best model ...\n",
      "2020-03-07 01:19:53,918 loading file best-model.pt\n",
      "2020-03-07 01:26:04,030 0.8612\t0.8612\t0.8612\n",
      "2020-03-07 01:26:04,032 \n",
      "MICRO_AVG: acc 0.7562 - f1-score 0.8612\n",
      "MACRO_AVG: acc 0.7562 - f1-score 0.8611500000000001\n",
      "0          tp: 4746 - fp: 772 - fn: 755 - tn: 4726 - precision: 0.8601 - recall: 0.8628 - accuracy: 0.7566 - f1-score: 0.8614\n",
      "1          tp: 4726 - fp: 755 - fn: 772 - tn: 4746 - precision: 0.8623 - recall: 0.8596 - accuracy: 0.7558 - f1-score: 0.8609\n",
      "2020-03-07 01:26:04,032 ----------------------------------------------------------------------------------------------------\n"
     ]
    },
    {
     "data": {
      "text/plain": [
       "{'dev_loss_history': [tensor(0.5849, device='cuda:0'),\n",
       "  tensor(0.4969, device='cuda:0'),\n",
       "  tensor(0.4762, device='cuda:0'),\n",
       "  tensor(0.3954, device='cuda:0'),\n",
       "  tensor(0.3654, device='cuda:0'),\n",
       "  tensor(0.3657, device='cuda:0'),\n",
       "  tensor(0.3486, device='cuda:0'),\n",
       "  tensor(0.3410, device='cuda:0'),\n",
       "  tensor(0.3136, device='cuda:0'),\n",
       "  tensor(0.3091, device='cuda:0')],\n",
       " 'dev_score_history': [0.7052,\n",
       "  0.7824,\n",
       "  0.7925,\n",
       "  0.8242,\n",
       "  0.8434,\n",
       "  0.8413,\n",
       "  0.8472,\n",
       "  0.8493,\n",
       "  0.8677,\n",
       "  0.8698],\n",
       " 'test_score': 0.8612,\n",
       " 'train_loss_history': [0.6098997605605558,\n",
       "  0.5576700229536403,\n",
       "  0.5186884905262427,\n",
       "  0.48364262035218153,\n",
       "  0.43293248575925825,\n",
       "  0.407481773996895,\n",
       "  0.39356247357346796,\n",
       "  0.38131629062782635,\n",
       "  0.37357332828099077,\n",
       "  0.3622117653489113]}"
      ]
     },
     "execution_count": 40,
     "metadata": {
      "tags": []
     },
     "output_type": "execute_result"
    }
   ],
   "source": [
    "# train the model\n",
    "# takes approx 12.5 hours to train on Google Colab using Pro GPU\n",
    "trainer.train('./', max_epochs=10, monitor_test=True, embeddings_storage_mode='gpu')"
   ]
  },
  {
   "cell_type": "markdown",
   "metadata": {
    "colab_type": "text",
    "id": "2WP2ZAnYh4M9"
   },
   "source": [
    "### Results of model training\n",
    "\n",
    "There are several files created during model training, which will need to be saved/downloaded. The most important is 'best-model.pt' which actually contained the trained model.\n",
    "\n",
    "The final model f1 scores were around 86% for both classes on the dev and test data, which is much better than using the pretrained model. "
   ]
  },
  {
   "cell_type": "code",
   "execution_count": 10,
   "metadata": {},
   "outputs": [
    {
     "data": {
      "image/png": "[encoded data removed]",
      "text/plain": [
       "<Figure size 432x288 with 1 Axes>"
      ]
     },
     "metadata": {
      "needs_background": "light"
     },
     "output_type": "display_data"
    }
   ],
   "source": [
    "# create a plot comparing the two models' performances\n",
    "df = pd.DataFrame({'Model': ['Pre-Trained', 'Custom', 'Pre-Trained', 'Custom', \n",
    "                             'Pre-Trained', 'Custom', 'Pre-Trained', 'Custom', \n",
    "                             'Pre-Trained', 'Custom', 'Pre-Trained', 'Custom'], \n",
    "                   'Metric': ['Negative Precision', 'Negative Precision',\n",
    "                              'Positive Precision', 'Positive Precision',\n",
    "                              'Negative Recall', 'Negative Recall',\n",
    "                              'Positive Recall', 'Positive Recall',\n",
    "                              'Negative F1', 'Negative F1',\n",
    "                              'Positive F1', 'Positive F1'],\n",
    "                   'Value': [0.28, 0.86, 0.96, 0.86, 0.75, 0.86, 0.76, 0.86, 0.41, 0.86, 0.85, 0.86]})\n",
    "ax = sns.barplot(x='Metric', y='Value', hue='Model', data=df)\n",
    "_ = plt.xlabel('Performance Metric')\n",
    "_ = plt.xticks(rotation=45)\n",
    "_ = plt.ylabel('Score')\n",
    "_ = plt.title('Pre-Trained vs. Custom Model Comparison')\n",
    "_ = ax.legend(loc='center left', bbox_to_anchor=(1, 0.5))"
   ]
  },
  {
   "cell_type": "markdown",
   "metadata": {},
   "source": [
    "## Final Report Summary\n",
    "\n",
    "This analysis found some interesting features in the data. One of the most interesting is that this data showed it was very different than the Amazon books data that was used in the very early stages of this project. The failure of the pre-trained model to perform well also showed that this data was very different than the IMDB data that model used for training. The lesson here, is that it is a bad assumption that a model trained on text data from one source are automatically going to generalize to other types of text data.\n",
    "\n",
    "This analysis provides examples of several tools used to work with text data. These include parsing the data into tokens or individual words, getting summary statistics on the data including total word counts, number of word appearances, and the number of documents in which a word appears. Visualizations were used to help communicate this information in a clear way.\n",
    "\n",
    "The process to create a sentiment classifier for text data using Flair was also displayed, and some challenges in doing so were also documented. This was a challenging project, but the applications for many different businesses make these tools very valuable.\n",
    "\n",
    "Running text data through sentiment analysis can help to identify pleased customers/clients and those that are angry or disappointed. This can help to prioritize responses or generate actions that can lead to better outcomes for the business. Additional NLP tools like providing text summaries, can also be very useful for classifying text input to help direct customers to the right department/agent or to sort articles or other text data into categories.\n",
    "\n",
    "Future analysis on this data set could try to identify categories of reviews or use the items, customers, and their ratings to create a recommendation model for suggesting video games to customers using similarities in customer choices or suggestions based on similar items."
   ]
  },
  {
   "cell_type": "code",
   "execution_count": null,
   "metadata": {},
   "outputs": [],
   "source": []
  }
 ],
 "metadata": {
  "kernelspec": {
   "display_name": "Python 3",
   "language": "python",
   "name": "python3"
  },
  "language_info": {
   "codemirror_mode": {
    "name": "ipython",
    "version": 3
   },
   "file_extension": ".py",
   "mimetype": "text/x-python",
   "name": "python",
   "nbconvert_exporter": "python",
   "pygments_lexer": "ipython3",
   "version": "3.7.4"
  }
 },
 "nbformat": 4,
 "nbformat_minor": 4
}
