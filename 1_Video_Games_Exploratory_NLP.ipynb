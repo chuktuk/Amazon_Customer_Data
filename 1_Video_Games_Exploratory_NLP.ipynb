{
 "cells": [
  {
   "cell_type": "markdown",
   "metadata": {},
   "source": [
    "# Video Games NLP Exploratory Analysis"
   ]
  },
  {
   "cell_type": "markdown",
   "metadata": {},
   "source": [
    "Data from\n",
    "> Justifying recommendations using distantly-labeled reviews and fined-grained aspects\n",
    "Jianmo Ni, Jiacheng Li, Julian McAuley\n",
    "Empirical Methods in Natural Language Processing (EMNLP), 2019\n",
    "[https://nijianmo.github.io/amazon/index.html#files](https://nijianmo.github.io/amazon/index.html#files)"
   ]
  },
  {
   "cell_type": "markdown",
   "metadata": {},
   "source": [
    "## Purpose\n",
    "\n",
    "The purpose of this notebook is to read in and explore text reviews for video games from Amazon.com. These reviews were collected from 1996-2014. The dataset is labeled with star ratings and contains text reviews for purchased video games.\n",
    "\n",
    "This particular analysis will explore the data, look for interesting features about the text, and describe basic properties of it."
   ]
  },
  {
   "cell_type": "code",
   "execution_count": 1,
   "metadata": {},
   "outputs": [],
   "source": [
    "# import packages\n",
    "import numpy as np\n",
    "import pandas as pd\n",
    "import matplotlib.pyplot as plt"
   ]
  },
  {
   "cell_type": "code",
   "execution_count": 2,
   "metadata": {},
   "outputs": [
    {
     "data": {
      "text/html": [
       "<div>\n",
       "<style scoped>\n",
       "    .dataframe tbody tr th:only-of-type {\n",
       "        vertical-align: middle;\n",
       "    }\n",
       "\n",
       "    .dataframe tbody tr th {\n",
       "        vertical-align: top;\n",
       "    }\n",
       "\n",
       "    .dataframe thead th {\n",
       "        text-align: right;\n",
       "    }\n",
       "</style>\n",
       "<table border=\"1\" class=\"dataframe\">\n",
       "  <thead>\n",
       "    <tr style=\"text-align: right;\">\n",
       "      <th></th>\n",
       "      <th>overall</th>\n",
       "      <th>verified</th>\n",
       "      <th>reviewTime</th>\n",
       "      <th>reviewerID</th>\n",
       "      <th>asin</th>\n",
       "      <th>reviewerName</th>\n",
       "      <th>reviewText</th>\n",
       "      <th>summary</th>\n",
       "      <th>unixReviewTime</th>\n",
       "      <th>vote</th>\n",
       "      <th>style</th>\n",
       "      <th>image</th>\n",
       "    </tr>\n",
       "  </thead>\n",
       "  <tbody>\n",
       "    <tr>\n",
       "      <th>0</th>\n",
       "      <td>5</td>\n",
       "      <td>True</td>\n",
       "      <td>10 17, 2015</td>\n",
       "      <td>A1HP7NVNPFMA4N</td>\n",
       "      <td>0700026657</td>\n",
       "      <td>Ambrosia075</td>\n",
       "      <td>This game is a bit hard to get the hang of, bu...</td>\n",
       "      <td>but when you do it's great.</td>\n",
       "      <td>1445040000</td>\n",
       "      <td>NaN</td>\n",
       "      <td>NaN</td>\n",
       "      <td>NaN</td>\n",
       "    </tr>\n",
       "    <tr>\n",
       "      <th>1</th>\n",
       "      <td>4</td>\n",
       "      <td>False</td>\n",
       "      <td>07 27, 2015</td>\n",
       "      <td>A1JGAP0185YJI6</td>\n",
       "      <td>0700026657</td>\n",
       "      <td>travis</td>\n",
       "      <td>I played it a while but it was alright. The st...</td>\n",
       "      <td>But in spite of that it was fun, I liked it</td>\n",
       "      <td>1437955200</td>\n",
       "      <td>NaN</td>\n",
       "      <td>NaN</td>\n",
       "      <td>NaN</td>\n",
       "    </tr>\n",
       "    <tr>\n",
       "      <th>2</th>\n",
       "      <td>3</td>\n",
       "      <td>True</td>\n",
       "      <td>02 23, 2015</td>\n",
       "      <td>A1YJWEXHQBWK2B</td>\n",
       "      <td>0700026657</td>\n",
       "      <td>Vincent G. Mezera</td>\n",
       "      <td>ok game.</td>\n",
       "      <td>Three Stars</td>\n",
       "      <td>1424649600</td>\n",
       "      <td>NaN</td>\n",
       "      <td>NaN</td>\n",
       "      <td>NaN</td>\n",
       "    </tr>\n",
       "    <tr>\n",
       "      <th>3</th>\n",
       "      <td>2</td>\n",
       "      <td>True</td>\n",
       "      <td>02 20, 2015</td>\n",
       "      <td>A2204E1TH211HT</td>\n",
       "      <td>0700026657</td>\n",
       "      <td>Grandma KR</td>\n",
       "      <td>found the game a bit too complicated, not what...</td>\n",
       "      <td>Two Stars</td>\n",
       "      <td>1424390400</td>\n",
       "      <td>NaN</td>\n",
       "      <td>NaN</td>\n",
       "      <td>NaN</td>\n",
       "    </tr>\n",
       "    <tr>\n",
       "      <th>4</th>\n",
       "      <td>5</td>\n",
       "      <td>True</td>\n",
       "      <td>12 25, 2014</td>\n",
       "      <td>A2RF5B5H74JLPE</td>\n",
       "      <td>0700026657</td>\n",
       "      <td>jon</td>\n",
       "      <td>great game, I love it and have played it since...</td>\n",
       "      <td>love this game</td>\n",
       "      <td>1419465600</td>\n",
       "      <td>NaN</td>\n",
       "      <td>NaN</td>\n",
       "      <td>NaN</td>\n",
       "    </tr>\n",
       "  </tbody>\n",
       "</table>\n",
       "</div>"
      ],
      "text/plain": [
       "   overall  verified   reviewTime      reviewerID        asin  \\\n",
       "0        5      True  10 17, 2015  A1HP7NVNPFMA4N  0700026657   \n",
       "1        4     False  07 27, 2015  A1JGAP0185YJI6  0700026657   \n",
       "2        3      True  02 23, 2015  A1YJWEXHQBWK2B  0700026657   \n",
       "3        2      True  02 20, 2015  A2204E1TH211HT  0700026657   \n",
       "4        5      True  12 25, 2014  A2RF5B5H74JLPE  0700026657   \n",
       "\n",
       "        reviewerName                                         reviewText  \\\n",
       "0        Ambrosia075  This game is a bit hard to get the hang of, bu...   \n",
       "1             travis  I played it a while but it was alright. The st...   \n",
       "2  Vincent G. Mezera                                           ok game.   \n",
       "3         Grandma KR  found the game a bit too complicated, not what...   \n",
       "4                jon  great game, I love it and have played it since...   \n",
       "\n",
       "                                       summary  unixReviewTime vote style  \\\n",
       "0                  but when you do it's great.      1445040000  NaN   NaN   \n",
       "1  But in spite of that it was fun, I liked it      1437955200  NaN   NaN   \n",
       "2                                  Three Stars      1424649600  NaN   NaN   \n",
       "3                                    Two Stars      1424390400  NaN   NaN   \n",
       "4                               love this game      1419465600  NaN   NaN   \n",
       "\n",
       "  image  \n",
       "0   NaN  \n",
       "1   NaN  \n",
       "2   NaN  \n",
       "3   NaN  \n",
       "4   NaN  "
      ]
     },
     "execution_count": 2,
     "metadata": {},
     "output_type": "execute_result"
    }
   ],
   "source": [
    "# read in data\n",
    "vg = pd.read_json('../Amazon_Data/Video_Games_5.json.gz', lines=True, compression='gzip')\n",
    "vg.head()"
   ]
  },
  {
   "cell_type": "code",
   "execution_count": 3,
   "metadata": {},
   "outputs": [],
   "source": [
    "# choose only select columns and clean up the datatypes and missing values\n",
    "vg = vg.loc[:,['overall', 'reviewText']]\n",
    "vg = vg.dropna(how='any')\n",
    "vg.loc[:,'overall'] = vg.overall.astype('int16')"
   ]
  },
  {
   "cell_type": "code",
   "execution_count": 4,
   "metadata": {},
   "outputs": [
    {
     "name": "stdout",
     "output_type": "stream",
     "text": [
      "<class 'pandas.core.frame.DataFrame'>\n",
      "Int64Index: 497419 entries, 0 to 497576\n",
      "Data columns (total 2 columns):\n",
      "overall       497419 non-null int16\n",
      "reviewText    497419 non-null object\n",
      "dtypes: int16(1), object(1)\n",
      "memory usage: 8.5+ MB\n"
     ]
    }
   ],
   "source": [
    "# inspect the df info\n",
    "vg.info()"
   ]
  },
  {
   "cell_type": "code",
   "execution_count": 5,
   "metadata": {},
   "outputs": [
    {
     "data": {
      "text/plain": [
       "5    299623\n",
       "4     93644\n",
       "3     49140\n",
       "1     30879\n",
       "2     24133\n",
       "Name: overall, dtype: int64"
      ]
     },
     "execution_count": 5,
     "metadata": {},
     "output_type": "execute_result"
    }
   ],
   "source": [
    "# check out the distribution of ratings\n",
    "vg.overall.value_counts()"
   ]
  },
  {
   "cell_type": "code",
   "execution_count": null,
   "metadata": {},
   "outputs": [],
   "source": []
  },
  {
   "cell_type": "markdown",
   "metadata": {},
   "source": [
    "The classes are heavily imbalanced, with far more positive ratings than negative. This analysis is not seeking to predict sentiment, therefore, the data will not be upsampled/downsampled right now.\n",
    "\n",
    "The entire text data will be analyzed for interesting properties."
   ]
  },
  {
   "cell_type": "code",
   "execution_count": null,
   "metadata": {},
   "outputs": [],
   "source": []
  },
  {
   "cell_type": "markdown",
   "metadata": {},
   "source": [
    "### Text Exploration"
   ]
  },
  {
   "cell_type": "code",
   "execution_count": 7,
   "metadata": {},
   "outputs": [],
   "source": [
    "# import stop words from spacy\n",
    "from  spacy.lang.en.stop_words import STOP_WORDS"
   ]
  },
  {
   "cell_type": "code",
   "execution_count": 8,
   "metadata": {},
   "outputs": [
    {
     "name": "stdout",
     "output_type": "stream",
     "text": [
      "['amongst', 'take', 'then', 'again', 'anyhow', 'much', 'out', 'first', 'make', 'after', 'move', 'front', 'over', 'thereby', 'throughout', \"'s\", 'being', 'through', 'three', 'below', 'in', '’ll', 'made', 'part', 'quite', 'really', 'becomes', 'this', \"n't\", '‘ve', 'for', 'regarding', 'the', 'themselves', 'my', 'while', 'within', 'hereafter', 'somewhere', 'seemed', 'too', 'they', 'would', 'serious', 'further', 'became', 'though', 'above', 'amount', 'eight', 'yet', 'hundred', 'get', 'done', 'almost', 'must', 'of', 'nothing', 'once', 'doing', '’s', 'do', 'us', 'could', 'does', 'because', 'such', 'twelve', \"'m\", 'two', 'n’t', 'afterwards', 'had', 'fifty', 'twenty', 'yours', 'her', 'using', 'seems', 'few', 'ours', 'those', 'me', 'put', 'enough', 'them', 'eleven', 'meanwhile', 'thus', 'else', 'via', 'when', 'whereafter', 'why', 'whenever', 'besides', 'among', 'five', 'that', 'by', 'whoever', 'someone', 'hereupon', 'whom', 'ten', 'never', 'who', 'off', 'several', 'very', '’m', 'and', 'between', 'whatever', 'namely', 'whither', 'elsewhere', '’re', 'his', 'whole', 'hereby', 'whereas', 'ever', 'except', 'many', 'other', 'whereby', 'i', 'yourselves', 'anyway', 'used', 'beyond', 'rather', 'if', 'are', 'same', 'forty', 'however', 'less', 'a', 'was', 'formerly', 'everything', 'next', 'without', 'say', 'former', \"'ve\", '’ve', 'have', 'about', 'will', 'it', 'its', 'here', 'may', 'than', 'name', 'some', 'anywhere', 'perhaps', 'into', 'onto', 'am', 'last', 'sixty', 'there', 'nowhere', 'nine', 'become', 'see', 'least', 'myself', 'both', 'thereafter', 'give', 'she', 'were', 'what', 'one', 'along', \"'re\", '‘ll', 'be', 'around', 'please', 'should', 'wherein', 'hers', 'on', 'might', 'due', 'full', 'anything', 'your', 'no', \"'d\", 'latterly', 'already', 'at', 'either', 'go', 'nor', 'per', 'thence', '‘d', 'various', 'is', 'now', 'call', 'him', 'side', 'empty', 'before', 'always', 'against', 'from', 'none', 'these', 'bottom', 'towards', 'yourself', '‘m', 'ca', 'our', 'ourselves', 'otherwise', 'seeming', 'any', 'nevertheless', 'nobody', 'therefore', 'thereupon', 'we', 'something', 'as', 'whether', 'everyone', 'seem', 'show', 'anyone', '‘re', 'not', 'indeed', 'becoming', 'behind', 'cannot', 'down', 'itself', 're', 'where', 'upon', 'beside', 'their', 'together', 'mine', 'hence', 'often', 'n‘t', 'moreover', 'alone', 'sometimes', 'did', 'during', 'how', 'across', 'can', 'four', 'each', 'only', 'just', 'sometime', 'beforehand', 'back', 'fifteen', 'keep', 'under', 'with', 'has', 'until', 'although', 'everywhere', 'whence', 'whereupon', 'you', \"'ll\", 'latter', 'to', 'all', 'wherever', 'he', 'which', 'unless', '‘s', 'most', 'noone', 'so', 'also', 'but', 'himself', 'every', 'herein', 'mostly', 'been', 'herself', 'own', 'third', 'up', 'or', 'more', 'six', 'others', 'top', 'therein', 'somehow', 'another', 'still', 'toward', 'even', 'thru', 'neither', 'well', '’d', 'an', 'since', 'whose']\n"
     ]
    }
   ],
   "source": [
    "# generate and edit stop words\n",
    "stops = list(STOP_WORDS)\n",
    "print(stops)"
   ]
  },
  {
   "cell_type": "code",
   "execution_count": null,
   "metadata": {},
   "outputs": [],
   "source": []
  }
 ],
 "metadata": {
  "kernelspec": {
   "display_name": "Python 3",
   "language": "python",
   "name": "python3"
  },
  "language_info": {
   "codemirror_mode": {
    "name": "ipython",
    "version": 3
   },
   "file_extension": ".py",
   "mimetype": "text/x-python",
   "name": "python",
   "nbconvert_exporter": "python",
   "pygments_lexer": "ipython3",
   "version": "3.6.9"
  }
 },
 "nbformat": 4,
 "nbformat_minor": 4
}
